{
  "nbformat": 4,
  "nbformat_minor": 0,
  "metadata": {
    "colab": {
      "provenance": [],
      "collapsed_sections": [
        "uZU1mklqbEil",
        "YVAeVZkCa5na",
        "cUfPsyMbbJSG",
        "Nug_uEHHbMip"
      ],
      "include_colab_link": true
    },
    "kernelspec": {
      "name": "python3",
      "display_name": "Python 3"
    },
    "language_info": {
      "name": "python"
    }
  },
  "cells": [
    {
      "cell_type": "markdown",
      "metadata": {
        "id": "view-in-github",
        "colab_type": "text"
      },
      "source": [
        "<a href=\"https://colab.research.google.com/github/abdel2ty/IntenseAI_Notebooks_v1/blob/main/oop_exercises.ipynb\" target=\"_parent\"><img src=\"https://colab.research.google.com/assets/colab-badge.svg\" alt=\"Open In Colab\"/></a>"
      ]
    },
    {
      "cell_type": "markdown",
      "source": [
        "\n",
        "<a href=\"https://www.zero-grad.com/\">\n",
        "         <img alt=\"Zero Grad\" src=\"https://lh3.googleusercontent.com/oEMY-qk_B2HW_Fponz1a3u1fLfo3NpO0VFjQKnVW8fH0v93NAWala5Kgp0nN2ubiyZdEMpwhv3Ynv7bXsB0RZ28YfEd_ZlRum75OHEu0-z7XwHfcD3sin7_SORLzg1gz52MsxD3b1WbxQWX1RdR4HP3jpbJTOuCiddl92UBcQH_x-Llx7_XuZuwb9ekN9vYnKsw6U1yL2df4IVrJEDySttzab9qlHvMO7sSekgS64jPVAmATjqXqlvrwM026dhrad-7nX-hfr2uKlUGPuo9xKzVo4EhbUP1-pKBQNPNHO6P0KcReg3NxbtKmWXRyg9LPX0xO-wwXWt9GhCcPXFV_BoY5eQXabCjR3mlr9SO01VgWplas-XF4337_JOm-bVkiaQjQca_N4Gg0hy26TvIGRnHEMIPSgudYPqhMnatoN4xAC715rP82r1svC0_qadXMZHu6D40YqWnY9ZE-iujr2p1_CetxmG-uY94UATy7o-SnxuPchG4QfZkiUgRMr8xNg86bQMuBxbCS_lOyVMwfqwbt2IunlDcZ8yyN_3SJFzFHuFOOjQolgGQrytI0mP1oTwba7je0RtBtCuTck1UCMMsZvMnJhCtWgMmuLoYTkSCzxMXbz0T3L2AClDouA_3dwM7z1gdm8Gq4v06T1KWFUs1adGNH5fuj-pUHEfW4drzzXgolPH5SehqhaNsqdMttCPUzNPIIEjwfULyQi7nlP-w-qydK82mdhdmjQhrprfoGtsPckJkI1Tur60uZI7nLkES5cE3tQrGualSNArRkkU8KN4tStZ0CkmqZNkAlMbfAJSYBD7tDxhGSg922AdLevSLJMTUyg6KuHoY30r7zH1Z8fE0R8aFZL2LJl54OU_tkXEdlFlSnZTOdB-PVTj-yagpt99SetLnQIX5SS_Vxc0BNPKjUZG0oEHYbIxkbZN1O7Rg78xe-thytngS0byfuaeP2X4NYjg29FIffnn72bAUs9Ii0N2mOpABLg1uQMN4MyAa1Mbd_=w1300-h200-no?authuser=1\" >\n",
        "      </a>"
      ],
      "metadata": {
        "id": "hMV-7TpxbEDG"
      }
    },
    {
      "cell_type": "markdown",
      "source": [
        "# Exercise (1):\n"
      ],
      "metadata": {
        "id": "uZU1mklqbEil"
      }
    },
    {
      "cell_type": "markdown",
      "metadata": {
        "id": "3FJ_twBA3nr0"
      },
      "source": [
        "\n",
        "1. Create `Employee` class with `name`,  `age` and `salary` (annual) attributes and Set a default value for Salary = 5000\n",
        "2. Define `set_salary` method to set new_salary (must be greater than existing salary)\n",
        "\n",
        "         if new salary < existing salary: display error message\n",
        "\n",
        "3. Define `give_raise` method (by percentage)\n",
        "4. Define `monthly_salary` method that returns 1/12th of salary attribute."
      ]
    },
    {
      "cell_type": "markdown",
      "source": [
        "# Exercise 1 Solution"
      ],
      "metadata": {
        "id": "YVAeVZkCa5na"
      }
    },
    {
      "cell_type": "code",
      "execution_count": null,
      "metadata": {
        "id": "sR1tI_ph3nr0"
      },
      "outputs": [],
      "source": [
        "class Employee():\n",
        "    def __init__(self , name, age, salary=5000):\n",
        "        self.name = name\n",
        "        self.age = age\n",
        "        self.salary = salary\n",
        "\n",
        "    def set_salary(self, new_salary):\n",
        "        if new_salary >= self.salary :\n",
        "            self.salary = new_salary\n",
        "        else:\n",
        "            return \"New Salary cannot be smaller than existing salary\"\n",
        "\n",
        "    def give_raise(self, percentage):\n",
        "        self.salary = (1+percentage/100) * self.salary\n",
        "        return self.salary\n",
        "\n",
        "\n",
        "    def monthly_salary(self):\n",
        "        return self.salary / 12"
      ]
    },
    {
      "cell_type": "code",
      "execution_count": null,
      "metadata": {
        "id": "PHkkuBCt3nr0",
        "outputId": "7d6f7bb3-6d8d-4b83-8525-a06b9eb3c8f3",
        "colab": {
          "base_uri": "https://localhost:8080/"
        }
      },
      "outputs": [
        {
          "output_type": "stream",
          "name": "stdout",
          "text": [
            "10000\n"
          ]
        }
      ],
      "source": [
        "e1 = Employee(\"Omar\", 30, 10000)\n",
        "print(e1.salary)"
      ]
    },
    {
      "cell_type": "code",
      "source": [
        "e1.set_salary(20000)"
      ],
      "metadata": {
        "id": "4J_LFKkjcb4t"
      },
      "execution_count": null,
      "outputs": []
    },
    {
      "cell_type": "code",
      "source": [
        "print(e1.salary)"
      ],
      "metadata": {
        "colab": {
          "base_uri": "https://localhost:8080/"
        },
        "id": "2ksA_vFqDaPy",
        "outputId": "f9ba2f55-1471-423d-c7ea-43c3c44e1687"
      },
      "execution_count": null,
      "outputs": [
        {
          "output_type": "stream",
          "name": "stdout",
          "text": [
            "20000\n"
          ]
        }
      ]
    },
    {
      "cell_type": "code",
      "source": [
        "e2 = Employee(\"Amal\", 25)\n",
        "print(e2.salary)"
      ],
      "metadata": {
        "colab": {
          "base_uri": "https://localhost:8080/"
        },
        "id": "ypYQF20OceAz",
        "outputId": "cbea720b-4d4d-4d4c-8fc4-edb9b3cd2eaf"
      },
      "execution_count": null,
      "outputs": [
        {
          "output_type": "stream",
          "name": "stdout",
          "text": [
            "5000\n"
          ]
        }
      ]
    },
    {
      "cell_type": "code",
      "source": [
        "e2.set_salary(20000)"
      ],
      "metadata": {
        "id": "2JDFM__2ckB0"
      },
      "execution_count": null,
      "outputs": []
    },
    {
      "cell_type": "code",
      "source": [
        "print(e2.salary)"
      ],
      "metadata": {
        "colab": {
          "base_uri": "https://localhost:8080/"
        },
        "id": "t-pOX7ZgckE8",
        "outputId": "cfa1d1d6-53b5-4788-c460-39d317b2d8a8"
      },
      "execution_count": null,
      "outputs": [
        {
          "output_type": "stream",
          "name": "stdout",
          "text": [
            "20000\n"
          ]
        }
      ]
    },
    {
      "cell_type": "markdown",
      "source": [
        "# Exercise (2):\n"
      ],
      "metadata": {
        "id": "cUfPsyMbbJSG"
      }
    },
    {
      "cell_type": "markdown",
      "metadata": {
        "id": "JhV2D42f3nr0"
      },
      "source": [
        "\n",
        "Define the class `Point` that has:\n",
        "\n",
        "* Two attributes, `x` and `y` - the coordinates of the point on the plane;\n",
        "A constructor that accepts two arguments, `x` and `y`, that initialize the corresponding attributes. These arguments should have default value of `0.0`;\n",
        "* A method `distance_to_origin()` that returns the distance from the point to the origin. The formula for that is .\n",
        "* Define A method `distance_to(self, other)` to return the distance between 2 points"
      ]
    },
    {
      "cell_type": "markdown",
      "source": [
        "# Exercise 2 Solution"
      ],
      "metadata": {
        "id": "Nug_uEHHbMip"
      }
    },
    {
      "cell_type": "code",
      "execution_count": null,
      "metadata": {
        "id": "c_Wigv3A3nr0"
      },
      "outputs": [],
      "source": [
        "# Write the class Point as outlined in the instructions\n",
        "import math\n",
        "\n",
        "class Point:\n",
        "    def __init__(self, x=0, y=0):\n",
        "        self.x = x\n",
        "        self.y =y\n",
        "\n",
        "    def distance_to_origin(self):\n",
        "        return math.sqrt(self.x**2 + self.y**2)\n",
        "\n",
        "    def distance_to(self, other):\n",
        "        x_diff = self.x - other.x\n",
        "        y_diff = self.y - other.y\n",
        "        return math.sqrt(x_diff**2 + y_diff**2)\n",
        "\n",
        "# New Method to display the class in a specified format using print function\n",
        "    def __str__(self):\n",
        "        return f\"({self.x}, {self.y})\""
      ]
    },
    {
      "cell_type": "code",
      "source": [
        "pt = Point(3,4)\n",
        "print(pt)\n",
        "print(pt.distance_to_origin())"
      ],
      "metadata": {
        "colab": {
          "base_uri": "https://localhost:8080/"
        },
        "id": "Ef6dmNIViqYo",
        "outputId": "75346908-ce8b-42ee-a5d4-e5f8275902ed"
      },
      "execution_count": null,
      "outputs": [
        {
          "output_type": "stream",
          "name": "stdout",
          "text": [
            "(3, 4)\n",
            "5.0\n"
          ]
        }
      ]
    },
    {
      "cell_type": "code",
      "source": [
        "p1 = Point(2, 3)\n",
        "p2 = Point(6, 3)\n",
        "p1.distance_to(p2)"
      ],
      "metadata": {
        "id": "Rj1onRYN0Gt6",
        "colab": {
          "base_uri": "https://localhost:8080/"
        },
        "outputId": "23337560-1a34-4aad-d01d-d3b136d92090"
      },
      "execution_count": null,
      "outputs": [
        {
          "output_type": "execute_result",
          "data": {
            "text/plain": [
              "4.0"
            ]
          },
          "metadata": {},
          "execution_count": 23
        }
      ]
    }
  ]
}