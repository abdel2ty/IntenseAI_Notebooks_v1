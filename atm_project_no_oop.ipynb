{
  "cells": [
    {
      "cell_type": "markdown",
      "metadata": {
        "id": "view-in-github",
        "colab_type": "text"
      },
      "source": [
        "<a href=\"https://colab.research.google.com/github/abdel2ty/IntenseAI_Notebooks_v1/blob/main/atm_project_no_oop.ipynb\" target=\"_parent\"><img src=\"https://colab.research.google.com/assets/colab-badge.svg\" alt=\"Open In Colab\"/></a>"
      ]
    },
    {
      "cell_type": "markdown",
      "id": "7721118c",
      "metadata": {
        "id": "7721118c"
      },
      "source": [
        "# ATM Project (Python, No OOP)\n"
      ]
    },
    {
      "cell_type": "markdown",
      "id": "406b5e63",
      "metadata": {
        "id": "406b5e63"
      },
      "source": [
        "\n",
        "A simple ATM simulation project written in Python, using only **functions and global variables** (no Object-Oriented Programming).\n",
        "\n",
        "## Features\n",
        "\n",
        "- **User Authentication:**  \n",
        "  User enters a PIN (default: `1234`). Up to 3 attempts are allowed.\n",
        "\n",
        "- **Balance Inquiry:**  \n",
        "  Displays the current account balance.\n",
        "\n",
        "- **Deposit:**  \n",
        "  User can deposit money. Validates positive amounts and updates balance.\n",
        "\n",
        "- **Withdraw:**  \n",
        "  User can withdraw money if sufficient funds are available.\n",
        "\n",
        "- **Mini Statement:**  \n",
        "  Shows the last 5 transactions (deposits/withdrawals).\n",
        "\n",
        "- **Exit:**  \n",
        "  Ends the ATM session safely.\n",
        "\n",
        "## How It Works\n",
        "\n",
        "- When you run the notebook, it will prompt you for your PIN.\n",
        "- After successful authentication, you’ll see a menu of actions.\n",
        "- The account starts with a balance of `$1000`.\n",
        "- Each deposit or withdrawal is logged in a transaction list.\n",
        "- The program uses simple `input()`/`print()` statements for interaction.\n",
        "\n",
        "\n",
        "## Notes\n",
        "\n",
        "- This project does not use OOP or persistent storage (all data resets when restarted).\n",
        "- Designed for educational purposes and as a beginner Python project template.\n",
        "\n",
        "\n"
      ]
    },
    {
      "cell_type": "markdown",
      "id": "6890129b",
      "metadata": {
        "id": "6890129b"
      },
      "source": [
        "# Solution"
      ]
    },
    {
      "cell_type": "code",
      "execution_count": null,
      "id": "8134f4c0",
      "metadata": {
        "id": "8134f4c0"
      },
      "outputs": [],
      "source": [
        "\n",
        "PIN = \"1234\"                # Default user PIN\n",
        "balance = 1000.0            # Default account balance (USD)\n",
        "transactions = []           # List to store last transactions\n"
      ]
    },
    {
      "cell_type": "markdown",
      "id": "f09ee2ce",
      "metadata": {
        "id": "f09ee2ce"
      },
      "source": [
        "\n",
        "## 2. Authentication Function\n",
        "\n",
        "This function asks the user to input the PIN.  \n",
        "- The user gets 3 tries.\n",
        "- On correct PIN, the user is authenticated.\n",
        "- On 3 wrong tries, the program exits.\n"
      ]
    },
    {
      "cell_type": "code",
      "execution_count": null,
      "id": "cad51252",
      "metadata": {
        "id": "cad51252"
      },
      "outputs": [],
      "source": [
        "\n",
        "def authenticate():\n",
        "    '''\n",
        "    Requests user to enter the PIN up to 3 times.\n",
        "    Returns True if successful, False otherwise.\n",
        "    '''\n",
        "    for _ in range(3):\n",
        "        entered = input(\"Enter your 4-digit PIN: \")\n",
        "        if entered == PIN:\n",
        "            print(\"Login successful!\\n\")\n",
        "            return True\n",
        "        else:\n",
        "            print(\"Incorrect PIN.\")\n",
        "    print(\"Too many failed attempts. Exiting.\")\n",
        "    return False\n"
      ]
    },
    {
      "cell_type": "markdown",
      "id": "c931d921",
      "metadata": {
        "id": "c931d921"
      },
      "source": [
        "\n",
        "## 3. Show ATM Menu\n",
        "\n",
        "Prints the available options for the user.\n"
      ]
    },
    {
      "cell_type": "code",
      "execution_count": null,
      "id": "b08c13db",
      "metadata": {
        "id": "b08c13db"
      },
      "outputs": [],
      "source": [
        "\n",
        "def show_menu():\n",
        "    '''\n",
        "    Shows the ATM options to the user.\n",
        "    '''\n",
        "    print(\"\"\"\\n========== ATM MENU ==========\n",
        "1. Balance Inquiry\n",
        "2. Deposit Money\n",
        "3. Withdraw Money\n",
        "4. Mini Statement\n",
        "5. Exit\n",
        "==============================\\n\"\"\")\n"
      ]
    },
    {
      "cell_type": "markdown",
      "id": "118c9e78",
      "metadata": {
        "id": "118c9e78"
      },
      "source": [
        "\n",
        "## 4. Balance Inquiry\n",
        "\n",
        "Displays the user's current balance.\n"
      ]
    },
    {
      "cell_type": "code",
      "execution_count": null,
      "id": "f2bd049e",
      "metadata": {
        "id": "f2bd049e"
      },
      "outputs": [],
      "source": [
        "\n",
        "def balance_inquiry():\n",
        "    '''\n",
        "    Prints the current balance.\n",
        "    '''\n",
        "    print(f\"Your current balance is: ${balance:.2f}\")\n"
      ]
    },
    {
      "cell_type": "markdown",
      "id": "fd8d11fb",
      "metadata": {
        "id": "fd8d11fb"
      },
      "source": [
        "\n",
        "## 5. Deposit Money\n",
        "\n",
        "Lets the user add money to their balance.  \n",
        "- The amount is validated.\n",
        "- The transaction is recorded.\n"
      ]
    },
    {
      "cell_type": "code",
      "execution_count": null,
      "id": "ff2b32cd",
      "metadata": {
        "id": "ff2b32cd"
      },
      "outputs": [],
      "source": [
        "\n",
        "def deposit():\n",
        "    '''\n",
        "    Lets the user deposit an amount.\n",
        "    Updates balance and transaction history.\n",
        "    '''\n",
        "    global balance\n",
        "    try:\n",
        "        amount = float(input(\"Enter amount to deposit: $\"))\n",
        "        if amount > 0:\n",
        "            balance += amount\n",
        "            transactions.append(f\"Deposited: ${amount:.2f}\")\n",
        "            print(f\"${amount:.2f} deposited successfully!\")\n",
        "        else:\n",
        "            print(\"Invalid amount!\")\n",
        "    except:\n",
        "        print(\"Please enter a valid number!\")\n"
      ]
    },
    {
      "cell_type": "markdown",
      "id": "6eec407c",
      "metadata": {
        "id": "6eec407c"
      },
      "source": [
        "\n",
        "## 6. Withdraw Money\n",
        "\n",
        "Lets the user withdraw money if the balance is sufficient.  \n",
        "- The withdrawal is validated.\n",
        "- The transaction is recorded.\n"
      ]
    },
    {
      "cell_type": "code",
      "execution_count": null,
      "id": "a3bfcfcc",
      "metadata": {
        "id": "a3bfcfcc"
      },
      "outputs": [],
      "source": [
        "\n",
        "def withdraw():\n",
        "    '''\n",
        "    Lets the user withdraw an amount.\n",
        "    Checks for valid and sufficient balance.\n",
        "    Updates transaction history.\n",
        "    '''\n",
        "    global balance\n",
        "    try:\n",
        "        amount = float(input(\"Enter amount to withdraw: $\"))\n",
        "        if amount <= 0:\n",
        "            print(\"Invalid amount!\")\n",
        "        elif amount > balance:\n",
        "            print(\"Insufficient balance!\")\n",
        "        else:\n",
        "            balance -= amount\n",
        "            transactions.append(f\"Withdrew: ${amount:.2f}\")\n",
        "            print(f\"${amount:.2f} withdrawn successfully!\")\n",
        "    except:\n",
        "        print(\"Please enter a valid number!\")\n"
      ]
    },
    {
      "cell_type": "markdown",
      "id": "caa8928e",
      "metadata": {
        "id": "caa8928e"
      },
      "source": [
        "\n",
        "## 7. Mini Statement\n",
        "\n",
        "Displays the last 5 transactions.\n"
      ]
    },
    {
      "cell_type": "code",
      "execution_count": null,
      "id": "e41cb337",
      "metadata": {
        "id": "e41cb337"
      },
      "outputs": [],
      "source": [
        "\n",
        "def mini_statement():\n",
        "    '''\n",
        "    Prints the last 5 transactions.\n",
        "    '''\n",
        "    print(\"\\n==== Last 5 Transactions ====\")\n",
        "    if not transactions:\n",
        "        print(\"No transactions yet.\")\n",
        "    else:\n",
        "        for t in transactions[-5:]:\n",
        "            print(t)\n",
        "    print(\"============================\\n\")\n"
      ]
    },
    {
      "cell_type": "markdown",
      "id": "39b605d6",
      "metadata": {
        "id": "39b605d6"
      },
      "source": [
        "\n",
        "## 8. Main Program Loop\n",
        "\n",
        "Handles the full ATM workflow:  \n",
        "- Authenticates the user  \n",
        "- Shows the menu in a loop  \n",
        "- Calls the correct function for each option  \n",
        "- Exits on user request\n"
      ]
    },
    {
      "cell_type": "code",
      "execution_count": null,
      "id": "b9ed2598",
      "metadata": {
        "id": "b9ed2598"
      },
      "outputs": [],
      "source": [
        "\n",
        "import time\n",
        "\n",
        "def main():\n",
        "    '''\n",
        "    Main program loop: authentication and operations.\n",
        "    '''\n",
        "    if not authenticate():\n",
        "        return\n",
        "\n",
        "    while True:\n",
        "        show_menu()\n",
        "        choice = input(\"Choose an option (1-5): \")\n",
        "\n",
        "        if choice == '1':\n",
        "            balance_inquiry()\n",
        "        elif choice == '2':\n",
        "            deposit()\n",
        "        elif choice == '3':\n",
        "            withdraw()\n",
        "        elif choice == '4':\n",
        "            mini_statement()\n",
        "        elif choice == '5':\n",
        "            print(\"Thank you for using our ATM. Goodbye!\")\n",
        "            break\n",
        "        else:\n",
        "            print(\"Invalid choice! Please select between 1-5.\")\n",
        "        time.sleep(1.2)\n",
        "        print(\"\\n\" + \"=\"*32 + \"\\n\")\n"
      ]
    },
    {
      "cell_type": "markdown",
      "id": "0647e6bf",
      "metadata": {
        "id": "0647e6bf"
      },
      "source": [
        "\n",
        "## 9. Run the ATM Program\n",
        "\n",
        "Execute this cell to start the ATM session.\n"
      ]
    },
    {
      "cell_type": "code",
      "execution_count": null,
      "id": "aa3f6a30",
      "metadata": {
        "id": "aa3f6a30",
        "outputId": "15fd03b5-878c-4990-8a5b-9b0efc03eb83"
      },
      "outputs": [
        {
          "name": "stdout",
          "output_type": "stream",
          "text": [
            "Login successful!\n",
            "\n",
            "\n",
            "========== ATM MENU ==========\n",
            "1. Balance Inquiry\n",
            "2. Deposit Money\n",
            "3. Withdraw Money\n",
            "4. Mini Statement\n",
            "5. Exit\n",
            "==============================\n",
            "\n",
            "Your current balance is: $1000.00\n",
            "\n",
            "================================\n",
            "\n",
            "\n",
            "========== ATM MENU ==========\n",
            "1. Balance Inquiry\n",
            "2. Deposit Money\n",
            "3. Withdraw Money\n",
            "4. Mini Statement\n",
            "5. Exit\n",
            "==============================\n",
            "\n",
            "$500.00 deposited successfully!\n",
            "\n",
            "================================\n",
            "\n",
            "\n",
            "========== ATM MENU ==========\n",
            "1. Balance Inquiry\n",
            "2. Deposit Money\n",
            "3. Withdraw Money\n",
            "4. Mini Statement\n",
            "5. Exit\n",
            "==============================\n",
            "\n",
            "Your current balance is: $1500.00\n",
            "\n",
            "================================\n",
            "\n",
            "\n",
            "========== ATM MENU ==========\n",
            "1. Balance Inquiry\n",
            "2. Deposit Money\n",
            "3. Withdraw Money\n",
            "4. Mini Statement\n",
            "5. Exit\n",
            "==============================\n",
            "\n",
            "\n",
            "==== Last 5 Transactions ====\n",
            "Deposited: $500.00\n",
            "============================\n",
            "\n",
            "\n",
            "================================\n",
            "\n",
            "\n",
            "========== ATM MENU ==========\n",
            "1. Balance Inquiry\n",
            "2. Deposit Money\n",
            "3. Withdraw Money\n",
            "4. Mini Statement\n",
            "5. Exit\n",
            "==============================\n",
            "\n",
            "$2.00 withdrawn successfully!\n",
            "\n",
            "================================\n",
            "\n",
            "\n",
            "========== ATM MENU ==========\n",
            "1. Balance Inquiry\n",
            "2. Deposit Money\n",
            "3. Withdraw Money\n",
            "4. Mini Statement\n",
            "5. Exit\n",
            "==============================\n",
            "\n",
            "\n",
            "==== Last 5 Transactions ====\n",
            "Deposited: $500.00\n",
            "Withdrew: $2.00\n",
            "============================\n",
            "\n",
            "\n",
            "================================\n",
            "\n",
            "\n",
            "========== ATM MENU ==========\n",
            "1. Balance Inquiry\n",
            "2. Deposit Money\n",
            "3. Withdraw Money\n",
            "4. Mini Statement\n",
            "5. Exit\n",
            "==============================\n",
            "\n",
            "$900.00 withdrawn successfully!\n",
            "\n",
            "================================\n",
            "\n",
            "\n",
            "========== ATM MENU ==========\n",
            "1. Balance Inquiry\n",
            "2. Deposit Money\n",
            "3. Withdraw Money\n",
            "4. Mini Statement\n",
            "5. Exit\n",
            "==============================\n",
            "\n",
            "Your current balance is: $598.00\n",
            "\n",
            "================================\n",
            "\n",
            "\n",
            "========== ATM MENU ==========\n",
            "1. Balance Inquiry\n",
            "2. Deposit Money\n",
            "3. Withdraw Money\n",
            "4. Mini Statement\n",
            "5. Exit\n",
            "==============================\n",
            "\n",
            "Invalid choice! Please select between 1-5.\n",
            "\n",
            "================================\n",
            "\n",
            "\n",
            "========== ATM MENU ==========\n",
            "1. Balance Inquiry\n",
            "2. Deposit Money\n",
            "3. Withdraw Money\n",
            "4. Mini Statement\n",
            "5. Exit\n",
            "==============================\n",
            "\n",
            "Thank you for using our ATM. Goodbye!\n"
          ]
        }
      ],
      "source": [
        "\n",
        "main()\n"
      ]
    }
  ],
  "metadata": {
    "kernelspec": {
      "display_name": "base",
      "language": "python",
      "name": "python3"
    },
    "language_info": {
      "codemirror_mode": {
        "name": "ipython",
        "version": 3
      },
      "file_extension": ".py",
      "mimetype": "text/x-python",
      "name": "python",
      "nbconvert_exporter": "python",
      "pygments_lexer": "ipython3",
      "version": "3.12.7"
    },
    "colab": {
      "provenance": [],
      "include_colab_link": true
    }
  },
  "nbformat": 4,
  "nbformat_minor": 5
}