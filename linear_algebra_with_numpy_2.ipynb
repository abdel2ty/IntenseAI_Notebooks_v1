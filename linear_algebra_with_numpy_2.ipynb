{
  "cells": [
    {
      "cell_type": "markdown",
      "metadata": {
        "id": "view-in-github",
        "colab_type": "text"
      },
      "source": [
        "<a href=\"https://colab.research.google.com/github/abdel2ty/IntenseAI_Notebooks_v1/blob/main/linear_algebra_with_numpy_2.ipynb\" target=\"_parent\"><img src=\"https://colab.research.google.com/assets/colab-badge.svg\" alt=\"Open In Colab\"/></a>"
      ]
    },
    {
      "cell_type": "markdown",
      "metadata": {
        "id": "OVbJ-EMHMJf9"
      },
      "source": [
        "\n",
        "<a href=\"https://www.zero-grad.com/\">\n",
        "         <img alt=\"Zero Grad\" src=\"https://i.postimg.cc/y8LZ0CM6/linear-Algebra.png\" >\n",
        "      </a>"
      ]
    },
    {
      "cell_type": "markdown",
      "metadata": {
        "id": "QO1kDV3Zhov4"
      },
      "source": [
        "# Matrix Operations (Element by Element)"
      ]
    },
    {
      "cell_type": "code",
      "execution_count": null,
      "metadata": {
        "id": "GsUqxtS2ge6-"
      },
      "outputs": [],
      "source": [
        "import numpy as np"
      ]
    },
    {
      "cell_type": "markdown",
      "metadata": {
        "id": "BMQmEjaxbOxf"
      },
      "source": [
        "###Addition"
      ]
    },
    {
      "cell_type": "code",
      "execution_count": null,
      "metadata": {
        "colab": {
          "base_uri": "https://localhost:8080/"
        },
        "id": "GOLyWYSAunt0",
        "outputId": "b2c1f9c2-f514-4bb1-eb4c-c94e75571610"
      },
      "outputs": [
        {
          "data": {
            "text/plain": [
              "(2, 3)"
            ]
          },
          "execution_count": 2,
          "metadata": {},
          "output_type": "execute_result"
        }
      ],
      "source": [
        "A = np.array([[10, 20, 30],\n",
        "              [15, 25, 35]])\n",
        "A.shape"
      ]
    },
    {
      "cell_type": "code",
      "execution_count": null,
      "metadata": {
        "id": "0CHuafdcadR-"
      },
      "outputs": [],
      "source": [
        "B = np.array([[-10, 5, -1],\n",
        "              [100, 4, 88]])"
      ]
    },
    {
      "cell_type": "code",
      "execution_count": null,
      "metadata": {
        "colab": {
          "base_uri": "https://localhost:8080/"
        },
        "id": "g2vT8eELadUt",
        "outputId": "523b8c5e-8a86-4e63-f89b-c68ff7300d1d"
      },
      "outputs": [
        {
          "data": {
            "text/plain": [
              "array([[  0,  25,  29],\n",
              "       [115,  29, 123]])"
            ]
          },
          "execution_count": 4,
          "metadata": {},
          "output_type": "execute_result"
        }
      ],
      "source": [
        "C = A + B\n",
        "C"
      ]
    },
    {
      "cell_type": "code",
      "execution_count": null,
      "metadata": {
        "colab": {
          "base_uri": "https://localhost:8080/"
        },
        "id": "p-J3EIcWmlvg",
        "outputId": "425326a6-6e7c-4fd7-b903-6ee3a55b050c"
      },
      "outputs": [
        {
          "data": {
            "text/plain": [
              "array([[  0,  25,  29],\n",
              "       [115,  29, 123]])"
            ]
          },
          "execution_count": 5,
          "metadata": {},
          "output_type": "execute_result"
        }
      ],
      "source": [
        "A +=B\n",
        "A"
      ]
    },
    {
      "cell_type": "code",
      "execution_count": null,
      "metadata": {
        "colab": {
          "base_uri": "https://localhost:8080/"
        },
        "id": "W-34ek7nadXd",
        "outputId": "cbbbe4e9-290e-47cf-f2f1-f2277ed231b6"
      },
      "outputs": [
        {
          "data": {
            "text/plain": [
              "array([[-20,  35,  27],\n",
              "       [315,  37, 299]])"
            ]
          },
          "execution_count": 6,
          "metadata": {},
          "output_type": "execute_result"
        }
      ],
      "source": [
        "A +=B\n",
        "np.add(A,B,A)"
      ]
    },
    {
      "cell_type": "code",
      "execution_count": null,
      "metadata": {
        "colab": {
          "base_uri": "https://localhost:8080/"
        },
        "id": "2_wMB7aIpMEZ",
        "outputId": "12c7ec0c-8b37-4434-f09e-ec4249ebdd65"
      },
      "outputs": [
        {
          "data": {
            "text/plain": [
              "array([[-20,  35,  27],\n",
              "       [315,  37, 299]])"
            ]
          },
          "execution_count": 7,
          "metadata": {},
          "output_type": "execute_result"
        }
      ],
      "source": [
        "A"
      ]
    },
    {
      "cell_type": "code",
      "execution_count": null,
      "metadata": {
        "colab": {
          "base_uri": "https://localhost:8080/"
        },
        "id": "9YEGc4K7pCyC",
        "outputId": "0cfed545-a586-4f45-9068-f399f76f3f3e"
      },
      "outputs": [
        {
          "data": {
            "text/plain": [
              "array([-20,  35,  27])"
            ]
          },
          "execution_count": 8,
          "metadata": {},
          "output_type": "execute_result"
        }
      ],
      "source": [
        "A[0]"
      ]
    },
    {
      "cell_type": "code",
      "execution_count": null,
      "metadata": {
        "colab": {
          "base_uri": "https://localhost:8080/"
        },
        "id": "T_87wG0lbf1k",
        "outputId": "fe8d1162-57f9-4693-d2b5-5e5238b45cea"
      },
      "outputs": [
        {
          "data": {
            "text/plain": [
              "array([ 80,  39, 115])"
            ]
          },
          "execution_count": 9,
          "metadata": {},
          "output_type": "execute_result"
        }
      ],
      "source": [
        "# Adding Vectors\n",
        "A[0] + B[1]"
      ]
    },
    {
      "cell_type": "code",
      "execution_count": null,
      "metadata": {
        "colab": {
          "base_uri": "https://localhost:8080/"
        },
        "id": "rtFRFjyWcKfP",
        "outputId": "52663a72-b8d1-4c92-f6b0-e1e2c39c5f02"
      },
      "outputs": [
        {
          "data": {
            "text/plain": [
              "array([[0.21089324, 0.41670339, 0.50548132],\n",
              "       [0.43544887, 0.73477798, 0.36061936],\n",
              "       [0.97889696, 0.01760578, 0.96285742]])"
            ]
          },
          "execution_count": 10,
          "metadata": {},
          "output_type": "execute_result"
        }
      ],
      "source": [
        "# Random Array\n",
        "E = np.random.rand(3,3)\n",
        "E"
      ]
    },
    {
      "cell_type": "code",
      "execution_count": null,
      "metadata": {
        "id": "4Z0U7wO7cg7e"
      },
      "outputs": [],
      "source": [
        "#C + E"
      ]
    },
    {
      "cell_type": "code",
      "execution_count": null,
      "metadata": {
        "id": "4Rahko6icsmN"
      },
      "outputs": [],
      "source": [
        "#C[:,0] + E[:,0]"
      ]
    },
    {
      "cell_type": "code",
      "execution_count": null,
      "metadata": {
        "colab": {
          "base_uri": "https://localhost:8080/"
        },
        "id": "t57hjHhDmyoR",
        "outputId": "0796379a-0f95-42df-9891-0a09117f6671"
      },
      "outputs": [
        {
          "data": {
            "text/plain": [
              "array([[  0,  25,  29],\n",
              "       [115,  29, 123]])"
            ]
          },
          "execution_count": 13,
          "metadata": {},
          "output_type": "execute_result"
        }
      ],
      "source": [
        "C"
      ]
    },
    {
      "cell_type": "code",
      "execution_count": null,
      "metadata": {
        "colab": {
          "base_uri": "https://localhost:8080/"
        },
        "id": "sV769c7Tc8YN",
        "outputId": "4af94c82-3e74-4b37-d490-d248910874e8"
      },
      "outputs": [
        {
          "data": {
            "text/plain": [
              "array([[ 10,  35,  39],\n",
              "       [125,  39, 133]])"
            ]
          },
          "execution_count": 14,
          "metadata": {},
          "output_type": "execute_result"
        }
      ],
      "source": [
        "# With Scalar\n",
        "C + 10"
      ]
    },
    {
      "cell_type": "code",
      "execution_count": null,
      "metadata": {
        "colab": {
          "base_uri": "https://localhost:8080/"
        },
        "id": "Fqql5ao3dUkI",
        "outputId": "0838c69f-ec13-4a02-e6b6-694a3d677509"
      },
      "outputs": [
        {
          "data": {
            "text/plain": [
              "array([[ 10,  35,  39],\n",
              "       [125,  39, 133]])"
            ]
          },
          "execution_count": 15,
          "metadata": {},
          "output_type": "execute_result"
        }
      ],
      "source": [
        "C + np.array([[10, 10, 10],\n",
        "             [10, 10, 10]])"
      ]
    },
    {
      "cell_type": "markdown",
      "metadata": {
        "id": "pJOuFFBibUNd"
      },
      "source": [
        "### Subtraction"
      ]
    },
    {
      "cell_type": "code",
      "execution_count": null,
      "metadata": {
        "colab": {
          "base_uri": "https://localhost:8080/"
        },
        "id": "5vb9FEQvadZ0",
        "outputId": "8cc993ac-3fb5-4157-867d-9a11d08c1776"
      },
      "outputs": [
        {
          "data": {
            "text/plain": [
              "array([[-10,  30,  28],\n",
              "       [215,  33, 211]])"
            ]
          },
          "execution_count": 16,
          "metadata": {},
          "output_type": "execute_result"
        }
      ],
      "source": [
        "D = A - B\n",
        "D"
      ]
    },
    {
      "cell_type": "code",
      "execution_count": null,
      "metadata": {
        "colab": {
          "base_uri": "https://localhost:8080/"
        },
        "id": "vDeACbhgbYGF",
        "outputId": "11dd75ad-0a23-444d-d5ed-9a7f351bc55a"
      },
      "outputs": [
        {
          "data": {
            "text/plain": [
              "array([[-10,  30,  28],\n",
              "       [215,  33, 211]])"
            ]
          },
          "execution_count": 17,
          "metadata": {},
          "output_type": "execute_result"
        }
      ],
      "source": [
        "np.subtract(A,B)"
      ]
    },
    {
      "cell_type": "code",
      "execution_count": null,
      "metadata": {
        "colab": {
          "base_uri": "https://localhost:8080/"
        },
        "id": "8kC8214LbYC9",
        "outputId": "7e12340f-06c6-4cef-8053-d61ed62a1bca"
      },
      "outputs": [
        {
          "data": {
            "text/plain": [
              "array([-120,   31,  -61])"
            ]
          },
          "execution_count": 18,
          "metadata": {},
          "output_type": "execute_result"
        }
      ],
      "source": [
        "# Subtrating Vectors\n",
        "A[0] - B[1]"
      ]
    },
    {
      "cell_type": "code",
      "execution_count": null,
      "metadata": {
        "colab": {
          "base_uri": "https://localhost:8080/"
        },
        "id": "gsycLcQwdnn3",
        "outputId": "f02f5de1-68ad-4aca-8978-07a2bf39f72f"
      },
      "outputs": [
        {
          "data": {
            "text/plain": [
              "array([-25,  30,  22])"
            ]
          },
          "execution_count": 19,
          "metadata": {},
          "output_type": "execute_result"
        }
      ],
      "source": [
        "# With Scalar\n",
        "A[0] - 5"
      ]
    },
    {
      "cell_type": "markdown",
      "metadata": {
        "id": "ZBO0R5eieTMl"
      },
      "source": [
        "### Multiplication and Division (Element by Element)"
      ]
    },
    {
      "cell_type": "code",
      "execution_count": null,
      "metadata": {
        "colab": {
          "base_uri": "https://localhost:8080/"
        },
        "id": "745ih12XegcG",
        "outputId": "f0df0084-e8fe-4c59-84af-a78bebd54888"
      },
      "outputs": [
        {
          "data": {
            "text/plain": [
              "array([[  200,   175,   -27],\n",
              "       [31500,   148, 26312]])"
            ]
          },
          "execution_count": 20,
          "metadata": {},
          "output_type": "execute_result"
        }
      ],
      "source": [
        "A * B"
      ]
    },
    {
      "cell_type": "code",
      "execution_count": null,
      "metadata": {
        "colab": {
          "base_uri": "https://localhost:8080/"
        },
        "id": "LIFA6JhzeR1O",
        "outputId": "689b0dd5-8b11-457b-f1b1-61bf40346113"
      },
      "outputs": [
        {
          "data": {
            "text/plain": [
              "array([[  200,   175,   -27],\n",
              "       [31500,   148, 26312]])"
            ]
          },
          "execution_count": 21,
          "metadata": {},
          "output_type": "execute_result"
        }
      ],
      "source": [
        "np.multiply(A,B)"
      ]
    },
    {
      "cell_type": "code",
      "execution_count": null,
      "metadata": {
        "colab": {
          "base_uri": "https://localhost:8080/"
        },
        "id": "J9-JYVsHeR4W",
        "outputId": "624c0be9-654e-4092-8730-49f789943058"
      },
      "outputs": [
        {
          "data": {
            "text/plain": [
              "array([[-40,  70,  54],\n",
              "       [630,  74, 598]])"
            ]
          },
          "execution_count": 22,
          "metadata": {},
          "output_type": "execute_result"
        }
      ],
      "source": [
        "# With Scalar\n",
        "A * 2"
      ]
    },
    {
      "cell_type": "code",
      "execution_count": null,
      "metadata": {
        "colab": {
          "base_uri": "https://localhost:8080/"
        },
        "id": "l1Wv2CO3eR7D",
        "outputId": "e281bd42-692b-460c-fede-c8f32af33002"
      },
      "outputs": [
        {
          "data": {
            "text/plain": [
              "array([[  2.        ,   7.        , -27.        ],\n",
              "       [  3.15      ,   9.25      ,   3.39772727]])"
            ]
          },
          "execution_count": 23,
          "metadata": {},
          "output_type": "execute_result"
        }
      ],
      "source": [
        "A/B"
      ]
    },
    {
      "cell_type": "code",
      "execution_count": null,
      "metadata": {
        "colab": {
          "base_uri": "https://localhost:8080/"
        },
        "id": "ADlIF32reSE1",
        "outputId": "b2d7bf13-7f9f-4dba-fbfd-7688a331d9c3"
      },
      "outputs": [
        {
          "data": {
            "text/plain": [
              "array([[  2.        ,   7.        , -27.        ],\n",
              "       [  3.15      ,   9.25      ,   3.39772727]])"
            ]
          },
          "execution_count": 24,
          "metadata": {},
          "output_type": "execute_result"
        }
      ],
      "source": [
        "np.divide(A,B)"
      ]
    },
    {
      "cell_type": "code",
      "execution_count": null,
      "metadata": {
        "colab": {
          "base_uri": "https://localhost:8080/"
        },
        "id": "Mmj2GKBUeSNB",
        "outputId": "18b379ff-d3d5-4c02-a30d-5c9bfbd43dce"
      },
      "outputs": [
        {
          "data": {
            "text/plain": [
              "array([[-10. ,  17.5,  13.5],\n",
              "       [157.5,  18.5, 149.5]])"
            ]
          },
          "execution_count": 25,
          "metadata": {},
          "output_type": "execute_result"
        }
      ],
      "source": [
        "A / 2"
      ]
    },
    {
      "cell_type": "markdown",
      "metadata": {
        "id": "dKAAY4p8_hNt"
      },
      "source": [
        "# Other Element by Element Operations"
      ]
    },
    {
      "cell_type": "code",
      "execution_count": null,
      "metadata": {
        "id": "SROjdHuF_kp7"
      },
      "outputs": [],
      "source": [
        "A = np.array([[20,  35,  27],\n",
        "             [315,  37, 299]])"
      ]
    },
    {
      "cell_type": "code",
      "execution_count": null,
      "metadata": {
        "colab": {
          "base_uri": "https://localhost:8080/"
        },
        "id": "-zjJFknT_q-N",
        "outputId": "4e7787ed-99d8-4c55-dcde-f29775bc7eda"
      },
      "outputs": [
        {
          "data": {
            "text/plain": [
              "array([[ 4.47213595,  5.91607978,  5.19615242],\n",
              "       [17.74823935,  6.08276253, 17.29161647]])"
            ]
          },
          "execution_count": 29,
          "metadata": {},
          "output_type": "execute_result"
        }
      ],
      "source": [
        "np.sqrt(A)"
      ]
    },
    {
      "cell_type": "code",
      "execution_count": null,
      "metadata": {
        "colab": {
          "base_uri": "https://localhost:8080/"
        },
        "id": "7vZOwIF4_tD0",
        "outputId": "4063824a-3639-4a56-d056-7828232ae869"
      },
      "outputs": [
        {
          "data": {
            "text/plain": [
              "array([[4.85165195e+008, 1.58601345e+015, 5.32048241e+011],\n",
              "       [6.34982563e+136, 1.17191424e+016, 7.14578737e+129]])"
            ]
          },
          "execution_count": 30,
          "metadata": {},
          "output_type": "execute_result"
        }
      ],
      "source": [
        "np.exp(A)"
      ]
    },
    {
      "cell_type": "code",
      "execution_count": null,
      "metadata": {
        "colab": {
          "base_uri": "https://localhost:8080/"
        },
        "id": "VKH-zVMN_5Jk",
        "outputId": "77885289-b85d-4840-cf3b-4e1ca2d0d214"
      },
      "outputs": [
        {
          "data": {
            "text/plain": [
              "array([[2.99573227, 3.55534806, 3.29583687],\n",
              "       [5.75257264, 3.61091791, 5.70044357]])"
            ]
          },
          "execution_count": 31,
          "metadata": {},
          "output_type": "execute_result"
        }
      ],
      "source": [
        "np.log(A)"
      ]
    },
    {
      "cell_type": "code",
      "execution_count": null,
      "metadata": {
        "id": "EhVVF-5S_6mM"
      },
      "outputs": [],
      "source": []
    }
  ],
  "metadata": {
    "colab": {
      "provenance": [],
      "include_colab_link": true
    },
    "kernelspec": {
      "display_name": "Python 3",
      "name": "python3"
    },
    "language_info": {
      "name": "python"
    }
  },
  "nbformat": 4,
  "nbformat_minor": 0
}