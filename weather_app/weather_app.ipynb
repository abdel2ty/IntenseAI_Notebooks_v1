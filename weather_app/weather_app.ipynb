{
 "cells": [
  {
   "cell_type": "code",
   "execution_count": 19,
   "metadata": {},
   "outputs": [],
   "source": [
    "import requests\n",
    "\n",
    "my_key = '84bece80722d0f3248e42cf34198d2e5'\n",
    "city = 'xzz'\n",
    "url = f'https://api.openweathermap.org/data/2.5/weather?q={city}&units=metric&appid={my_key}'\n",
    "\n",
    "response = requests.get(url)"
   ]
  },
  {
   "cell_type": "code",
   "execution_count": 20,
   "metadata": {},
   "outputs": [
    {
     "data": {
      "text/plain": [
       "<Response [404]>"
      ]
     },
     "execution_count": 20,
     "metadata": {},
     "output_type": "execute_result"
    }
   ],
   "source": [
    "response   # status code"
   ]
  },
  {
   "cell_type": "code",
   "execution_count": 21,
   "metadata": {},
   "outputs": [
    {
     "data": {
      "text/plain": [
       "{'cod': '404', 'message': 'city not found'}"
      ]
     },
     "execution_count": 21,
     "metadata": {},
     "output_type": "execute_result"
    }
   ],
   "source": [
    "response.json()"
   ]
  },
  {
   "cell_type": "code",
   "execution_count": 4,
   "metadata": {},
   "outputs": [],
   "source": [
    "data = response.json()"
   ]
  },
  {
   "cell_type": "code",
   "execution_count": 5,
   "metadata": {},
   "outputs": [
    {
     "data": {
      "text/plain": [
       "{'temp': 31.42,\n",
       " 'feels_like': 32.33,\n",
       " 'temp_min': 30.79,\n",
       " 'temp_max': 31.42,\n",
       " 'pressure': 1007,\n",
       " 'humidity': 45,\n",
       " 'sea_level': 1007,\n",
       " 'grnd_level': 1001}"
      ]
     },
     "execution_count": 5,
     "metadata": {},
     "output_type": "execute_result"
    }
   ],
   "source": [
    "data['main']"
   ]
  },
  {
   "cell_type": "code",
   "execution_count": 6,
   "metadata": {},
   "outputs": [
    {
     "data": {
      "text/plain": [
       "31.42"
      ]
     },
     "execution_count": 6,
     "metadata": {},
     "output_type": "execute_result"
    }
   ],
   "source": [
    "data['main']['temp']"
   ]
  },
  {
   "cell_type": "code",
   "execution_count": 22,
   "metadata": {},
   "outputs": [],
   "source": [
    "def display_weather(data_dic):\n",
    "    for key, value in data_dic.items():\n",
    "        print(f'{key.title()} : {value}')\n",
    "\n",
    "def get_weather_data(city):\n",
    "    my_key = '2e5256639905e8614ccd1c761d197435'\n",
    "    url = f'https://api.openweathermap.org/data/2.5/weather?q={city}&units=metric&appid={my_key}'\n",
    "    response = requests.get(url)\n",
    "    data = response.json()\n",
    "    if data['cod'] != 200:\n",
    "        return 'City is not Found'\n",
    "    else:\n",
    "        print(f'## Weather in {data[\"name\"]} ##')\n",
    "        return display_weather(data['main'])"
   ]
  },
  {
   "cell_type": "code",
   "execution_count": 27,
   "metadata": {},
   "outputs": [
    {
     "name": "stdout",
     "output_type": "stream",
     "text": [
      "## Weather in Amsterdam ##\n",
      "Temp : 17.22\n",
      "Feels_Like : 16.77\n",
      "Temp_Min : 16.59\n",
      "Temp_Max : 18.27\n",
      "Pressure : 1012\n",
      "Humidity : 68\n",
      "Sea_Level : 1012\n",
      "Grnd_Level : 1012\n"
     ]
    }
   ],
   "source": [
    "get_weather_data('Amsterdam')"
   ]
  },
  {
   "cell_type": "code",
   "execution_count": 29,
   "metadata": {},
   "outputs": [
    {
     "name": "stdout",
     "output_type": "stream",
     "text": [
      "Overwriting Weather_App.py\n"
     ]
    }
   ],
   "source": [
    "%%writefile Weather_App.py\n",
    "\n",
    "import requests\n",
    "def display_weather(data_dic):\n",
    "    for key, value in data_dic.items():\n",
    "        print(f'{key.title()} : {value}')\n",
    "\n",
    "def get_weather_data(city):\n",
    "    my_key = '2e5256639905e8614ccd1c761d197435'\n",
    "    url = f'https://api.openweathermap.org/data/2.5/weather?q={city}&units=metric&appid={my_key}'\n",
    "    response = requests.get(url)\n",
    "    data = response.json()\n",
    "    if data['cod'] != 200:\n",
    "        return 'City is not Found'\n",
    "    else:\n",
    "        print(f'## Weather in {data[\"name\"]} ##')\n",
    "        return display_weather(data['main'])\n"
   ]
  }
 ],
 "metadata": {
  "kernelspec": {
   "display_name": "base",
   "language": "python",
   "name": "python3"
  },
  "language_info": {
   "codemirror_mode": {
    "name": "ipython",
    "version": 3
   },
   "file_extension": ".py",
   "mimetype": "text/x-python",
   "name": "python",
   "nbconvert_exporter": "python",
   "pygments_lexer": "ipython3",
   "version": "3.11.7"
  }
 },
 "nbformat": 4,
 "nbformat_minor": 2
}
