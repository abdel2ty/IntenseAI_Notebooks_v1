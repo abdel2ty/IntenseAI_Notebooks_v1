{
  "nbformat": 4,
  "nbformat_minor": 0,
  "metadata": {
    "colab": {
      "provenance": [],
      "include_colab_link": true
    },
    "kernelspec": {
      "name": "python3",
      "display_name": "Python 3"
    },
    "language_info": {
      "name": "python"
    }
  },
  "cells": [
    {
      "cell_type": "markdown",
      "metadata": {
        "id": "view-in-github",
        "colab_type": "text"
      },
      "source": [
        "<a href=\"https://colab.research.google.com/github/abdel2ty/IntenseAI_Notebooks_v1/blob/main/14_functions.ipynb\" target=\"_parent\"><img src=\"https://colab.research.google.com/assets/colab-badge.svg\" alt=\"Open In Colab\"/></a>"
      ]
    },
    {
      "cell_type": "markdown",
      "source": [
        "\n",
        "<a href=\"https://www.zero-grad.com/\">\n",
        "         <img alt=\"Zero Grad\" src=\"https://lh3.googleusercontent.com/oEMY-qk_B2HW_Fponz1a3u1fLfo3NpO0VFjQKnVW8fH0v93NAWala5Kgp0nN2ubiyZdEMpwhv3Ynv7bXsB0RZ28YfEd_ZlRum75OHEu0-z7XwHfcD3sin7_SORLzg1gz52MsxD3b1WbxQWX1RdR4HP3jpbJTOuCiddl92UBcQH_x-Llx7_XuZuwb9ekN9vYnKsw6U1yL2df4IVrJEDySttzab9qlHvMO7sSekgS64jPVAmATjqXqlvrwM026dhrad-7nX-hfr2uKlUGPuo9xKzVo4EhbUP1-pKBQNPNHO6P0KcReg3NxbtKmWXRyg9LPX0xO-wwXWt9GhCcPXFV_BoY5eQXabCjR3mlr9SO01VgWplas-XF4337_JOm-bVkiaQjQca_N4Gg0hy26TvIGRnHEMIPSgudYPqhMnatoN4xAC715rP82r1svC0_qadXMZHu6D40YqWnY9ZE-iujr2p1_CetxmG-uY94UATy7o-SnxuPchG4QfZkiUgRMr8xNg86bQMuBxbCS_lOyVMwfqwbt2IunlDcZ8yyN_3SJFzFHuFOOjQolgGQrytI0mP1oTwba7je0RtBtCuTck1UCMMsZvMnJhCtWgMmuLoYTkSCzxMXbz0T3L2AClDouA_3dwM7z1gdm8Gq4v06T1KWFUs1adGNH5fuj-pUHEfW4drzzXgolPH5SehqhaNsqdMttCPUzNPIIEjwfULyQi7nlP-w-qydK82mdhdmjQhrprfoGtsPckJkI1Tur60uZI7nLkES5cE3tQrGualSNArRkkU8KN4tStZ0CkmqZNkAlMbfAJSYBD7tDxhGSg922AdLevSLJMTUyg6KuHoY30r7zH1Z8fE0R8aFZL2LJl54OU_tkXEdlFlSnZTOdB-PVTj-yagpt99SetLnQIX5SS_Vxc0BNPKjUZG0oEHYbIxkbZN1O7Rg78xe-thytngS0byfuaeP2X4NYjg29FIffnn72bAUs9Ii0N2mOpABLg1uQMN4MyAa1Mbd_=w1300-h200-no?authuser=1\" >\n",
        "      </a>"
      ],
      "metadata": {
        "id": "hMV-7TpxbEDG"
      }
    },
    {
      "cell_type": "markdown",
      "metadata": {
        "id": "2ET_u9K9-frJ"
      },
      "source": [
        "# Part (3): Functions and Modules"
      ]
    },
    {
      "cell_type": "markdown",
      "metadata": {
        "id": "8uGcGQVdFe-Y"
      },
      "source": [
        "### Built-in Functions"
      ]
    },
    {
      "cell_type": "code",
      "execution_count": null,
      "metadata": {
        "id": "nHjfzktgrV8V",
        "outputId": "8d92c53c-b7f7-4c3c-c578-7564018f5d0c"
      },
      "outputs": [
        {
          "data": {
            "text/plain": [
              "['A', 'L', 'i']"
            ]
          },
          "execution_count": 45,
          "metadata": {},
          "output_type": "execute_result"
        }
      ],
      "source": [
        "list('ALi')"
      ]
    },
    {
      "cell_type": "code",
      "execution_count": null,
      "metadata": {
        "id": "3602-9RBrV_K",
        "outputId": "8e220182-b788-48d7-8476-50ddaff543fe"
      },
      "outputs": [
        {
          "data": {
            "text/plain": [
              "3"
            ]
          },
          "execution_count": 1,
          "metadata": {},
          "output_type": "execute_result"
        }
      ],
      "source": [
        "int(3.4)"
      ]
    },
    {
      "cell_type": "code",
      "execution_count": null,
      "metadata": {
        "id": "4UH8BK-rFbTZ",
        "outputId": "605534fb-2efb-4a67-aa25-2d5dea8dc438"
      },
      "outputs": [
        {
          "data": {
            "text/plain": [
              "float"
            ]
          },
          "execution_count": 2,
          "metadata": {},
          "output_type": "execute_result"
        }
      ],
      "source": [
        "type(4.5)"
      ]
    },
    {
      "cell_type": "markdown",
      "metadata": {
        "id": "GYGHOEGLrWJn"
      },
      "source": [
        "### Methods"
      ]
    },
    {
      "cell_type": "code",
      "execution_count": null,
      "metadata": {
        "id": "yHn32VznrWY-",
        "outputId": "5c1540d8-b8bc-43ae-a867-7ba9d43e136a"
      },
      "outputs": [
        {
          "data": {
            "text/plain": [
              "[1, 4, 5, 8, 10]"
            ]
          },
          "execution_count": 3,
          "metadata": {},
          "output_type": "execute_result"
        }
      ],
      "source": [
        "l=[1,4,5,10,8]\n",
        "l.sort()   # Method\n",
        "l"
      ]
    },
    {
      "cell_type": "code",
      "execution_count": null,
      "metadata": {
        "id": "U-UkGK99F2kq",
        "outputId": "3ce6854f-4d48-42f0-a0ac-da68870e239a"
      },
      "outputs": [
        {
          "data": {
            "text/plain": [
              "[1, 4, 5, 8, 10]"
            ]
          },
          "execution_count": 4,
          "metadata": {},
          "output_type": "execute_result"
        }
      ],
      "source": [
        "sorted(l)  # Function"
      ]
    },
    {
      "cell_type": "markdown",
      "metadata": {
        "id": "v15rJOphrVxF"
      },
      "source": [
        "**Function** :A block of code that is used more than once."
      ]
    },
    {
      "cell_type": "code",
      "execution_count": null,
      "metadata": {
        "id": "lUKRctuV-cYT"
      },
      "outputs": [],
      "source": [
        "def greet(name):\n",
        "    return('Hello ' + name)"
      ]
    },
    {
      "cell_type": "code",
      "execution_count": null,
      "metadata": {
        "id": "G0hr9jpfrV5l"
      },
      "outputs": [],
      "source": [
        "v = greet('SSSS')"
      ]
    },
    {
      "cell_type": "code",
      "execution_count": null,
      "metadata": {
        "id": "4fRUofxfgvCZ",
        "outputId": "a91eb6ea-412d-4250-874b-fb555ef71bf3"
      },
      "outputs": [
        {
          "data": {
            "text/plain": [
              "'Hello SSSS'"
            ]
          },
          "execution_count": 7,
          "metadata": {},
          "output_type": "execute_result"
        }
      ],
      "source": [
        "v"
      ]
    },
    {
      "cell_type": "markdown",
      "metadata": {
        "id": "qsT0ydNkFsrK"
      },
      "source": [
        "### User-defined Functions"
      ]
    },
    {
      "cell_type": "code",
      "execution_count": null,
      "metadata": {
        "id": "4FQnPHFI-dTq"
      },
      "outputs": [],
      "source": [
        "# Function Definition\n",
        "def absolute(num):   # num : Parameter\n",
        "    if num >= 0:\n",
        "        return num\n",
        "    else:\n",
        "        return -num"
      ]
    },
    {
      "cell_type": "code",
      "execution_count": null,
      "metadata": {
        "id": "2awSkuCkGxYO",
        "outputId": "a9160cf3-56fb-4c55-f3a5-7f5022946416"
      },
      "outputs": [
        {
          "data": {
            "text/plain": [
              "4"
            ]
          },
          "execution_count": 9,
          "metadata": {},
          "output_type": "execute_result"
        }
      ],
      "source": [
        "# Function Calling\n",
        "absolute(4)   # 4: Argument"
      ]
    },
    {
      "cell_type": "code",
      "execution_count": null,
      "metadata": {
        "id": "O4TjOfLbGzdY",
        "outputId": "58b4ab59-d5d9-412c-d723-8bd4d94fc254"
      },
      "outputs": [
        {
          "data": {
            "text/plain": [
              "5"
            ]
          },
          "execution_count": 10,
          "metadata": {},
          "output_type": "execute_result"
        }
      ],
      "source": [
        "absolute(-5)"
      ]
    },
    {
      "cell_type": "code",
      "execution_count": null,
      "metadata": {
        "id": "bGNb0_eaG1y5"
      },
      "outputs": [],
      "source": [
        "def circle_area(radius):\n",
        "    \"\"\"\n",
        "    Function circle_area : calculates the area of circle\n",
        "    Input: radius: the radius of circle\n",
        "    Return: the area of circle\n",
        "    \"\"\"\n",
        "    return 3.14 * (radius**2)"
      ]
    },
    {
      "cell_type": "code",
      "execution_count": null,
      "metadata": {
        "id": "dX2Ubw0cHcwo",
        "outputId": "708d4c81-f0e6-417d-92ef-529aec20c936"
      },
      "outputs": [
        {
          "data": {
            "text/plain": [
              "314.0"
            ]
          },
          "execution_count": 12,
          "metadata": {},
          "output_type": "execute_result"
        }
      ],
      "source": [
        "circle_area(10)"
      ]
    },
    {
      "cell_type": "code",
      "execution_count": null,
      "metadata": {
        "id": "ibze8_I94Wav"
      },
      "outputs": [],
      "source": [
        "def circle_area(radius, PI = 3.14):\n",
        "    \"\"\"\n",
        "    Function circle_area : calculates the area of circle\n",
        "    Input: radius: the radius of circle\n",
        "    Return: the area of circle\n",
        "    \"\"\"\n",
        "    return PI * (radius**2)"
      ]
    },
    {
      "cell_type": "code",
      "execution_count": null,
      "metadata": {
        "id": "zQTB9HBIHfGf",
        "outputId": "1c5e3d44-b095-4bf8-a886-05101727bd37"
      },
      "outputs": [
        {
          "name": "stdout",
          "output_type": "stream",
          "text": [
            "\n",
            "    Function circle_area : calculates the area of circle\n",
            "    Input: radius: the radius of circle\n",
            "    Return: the area of circle\n",
            "    \n"
          ]
        }
      ],
      "source": [
        "print(circle_area.__doc__)"
      ]
    },
    {
      "cell_type": "code",
      "execution_count": null,
      "metadata": {
        "id": "qmKJIoVXH0nJ",
        "outputId": "67499cd2-2b06-4dc5-b4ed-529438a10c32"
      },
      "outputs": [
        {
          "name": "stdout",
          "output_type": "stream",
          "text": [
            "print(value, ..., sep=' ', end='\\n', file=sys.stdout, flush=False)\n",
            "\n",
            "Prints the values to a stream, or to sys.stdout by default.\n",
            "Optional keyword arguments:\n",
            "file:  a file-like object (stream); defaults to the current sys.stdout.\n",
            "sep:   string inserted between values, default a space.\n",
            "end:   string appended after the last value, default a newline.\n",
            "flush: whether to forcibly flush the stream.\n"
          ]
        }
      ],
      "source": [
        "print(print.__doc__)"
      ]
    },
    {
      "cell_type": "markdown",
      "metadata": {
        "id": "Qc473bJxJMYA"
      },
      "source": [
        "### Sample Calculator:"
      ]
    },
    {
      "cell_type": "code",
      "execution_count": null,
      "metadata": {
        "id": "7_tcBaGGIGxC"
      },
      "outputs": [],
      "source": [
        "def calculate(num1,num2,operator):\n",
        "    \"\"\"\n",
        "    Simple Calculator\n",
        "    Input: num1: First Number\n",
        "           num2: Second Number\n",
        "           operator: one of the following mathematical operations: '+', '-', '*', '/'\n",
        "    Return: the result of thwe mathematical operation\n",
        "    \"\"\"\n",
        "    if operator =='+':\n",
        "        result = num1 + num2\n",
        "    elif operator =='-':\n",
        "        result = num1 - num2\n",
        "    elif operator =='*':\n",
        "        result = num1 * num2\n",
        "    elif operator =='/':\n",
        "        result = num1 / num2\n",
        "    else:\n",
        "        result = 'False operation'\n",
        "\n",
        "    return(result)"
      ]
    },
    {
      "cell_type": "code",
      "execution_count": null,
      "metadata": {
        "id": "rsBf1QEJJBCp",
        "outputId": "894faacf-26ad-4448-b832-39bd079d8d4b"
      },
      "outputs": [
        {
          "data": {
            "text/plain": [
              "50"
            ]
          },
          "execution_count": 17,
          "metadata": {},
          "output_type": "execute_result"
        }
      ],
      "source": [
        "calculate(5,10,'*')"
      ]
    },
    {
      "cell_type": "code",
      "execution_count": null,
      "metadata": {
        "id": "vyUC41vUJHmR",
        "outputId": "495f625d-be91-4a31-b31f-072cee064ba8"
      },
      "outputs": [
        {
          "data": {
            "text/plain": [
              "1.9166666666666667"
            ]
          },
          "execution_count": 18,
          "metadata": {},
          "output_type": "execute_result"
        }
      ],
      "source": [
        "calculate(23,12,'/')"
      ]
    }
  ]
}