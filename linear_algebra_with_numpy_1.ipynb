{
  "cells": [
    {
      "cell_type": "markdown",
      "metadata": {
        "id": "view-in-github",
        "colab_type": "text"
      },
      "source": [
        "<a href=\"https://colab.research.google.com/github/abdel2ty/IntenseAI_Notebooks_v1/blob/main/linear_algebra_with_numpy_1.ipynb\" target=\"_parent\"><img src=\"https://colab.research.google.com/assets/colab-badge.svg\" alt=\"Open In Colab\"/></a>"
      ]
    },
    {
      "cell_type": "markdown",
      "metadata": {
        "id": "OVbJ-EMHMJf9"
      },
      "source": [
        "\n",
        "<a href=\"https://www.zero-grad.com/\">\n",
        "         <img alt=\"Zero Grad\" src=\"https://i.postimg.cc/y8LZ0CM6/linear-Algebra.png\" >\n",
        "      </a>"
      ]
    },
    {
      "cell_type": "markdown",
      "metadata": {
        "id": "oWdWI5pvfFQP"
      },
      "source": [
        "# Scalars, Vectors and Matrices"
      ]
    },
    {
      "cell_type": "markdown",
      "metadata": {
        "id": "N8Xom8cnhmZJ"
      },
      "source": [
        "## The Basics"
      ]
    },
    {
      "cell_type": "code",
      "execution_count": null,
      "metadata": {
        "id": "Y8mqsx6ue7MF"
      },
      "outputs": [],
      "source": [
        "# Scalar\n",
        "x=5"
      ]
    },
    {
      "cell_type": "code",
      "execution_count": null,
      "metadata": {
        "id": "ZU43xoWbfLT_"
      },
      "outputs": [],
      "source": [
        "# Vector\n",
        "y= [1,2,3,4]  # row or column"
      ]
    },
    {
      "cell_type": "code",
      "execution_count": null,
      "metadata": {
        "colab": {
          "base_uri": "https://localhost:8080/"
        },
        "id": "umfJhCAHfPLv",
        "outputId": "fa9172d8-29bb-4467-b4b9-ac9ad154d066"
      },
      "outputs": [
        {
          "data": {
            "text/plain": [
              "[[11, 12, 13], [21, 22, 23], [31, 32, 33]]"
            ]
          },
          "execution_count": 3,
          "metadata": {},
          "output_type": "execute_result"
        }
      ],
      "source": [
        "# Matrix\n",
        "z= [[11, 12, 13],  # row 1\n",
        "    [21, 22, 23],  # row 2\n",
        "    [31, 32, 33]]  # row 3\n",
        "#    c1  c2  c3    -----> Columns\n",
        "z"
      ]
    },
    {
      "cell_type": "code",
      "execution_count": null,
      "metadata": {
        "id": "JxsKm82hEcfY",
        "outputId": "e920b432-7c8b-4ae2-f7d4-4b0fda3069f7"
      },
      "outputs": [
        {
          "data": {
            "text/plain": [
              "list"
            ]
          },
          "execution_count": 7,
          "metadata": {},
          "output_type": "execute_result"
        }
      ],
      "source": [
        "type(z)"
      ]
    },
    {
      "cell_type": "code",
      "execution_count": null,
      "metadata": {
        "colab": {
          "base_uri": "https://localhost:8080/"
        },
        "id": "2EX6zI_9fmk_",
        "outputId": "4fdc0a6b-8747-430c-d4f9-228d6b371de8"
      },
      "outputs": [
        {
          "data": {
            "text/plain": [
              "11"
            ]
          },
          "execution_count": 4,
          "metadata": {},
          "output_type": "execute_result"
        }
      ],
      "source": [
        "# Indexing\n",
        "z[0][0]   # Indexing start at 0"
      ]
    },
    {
      "cell_type": "code",
      "execution_count": null,
      "metadata": {
        "id": "bL66sZ97VB68"
      },
      "outputs": [],
      "source": [
        "import numpy as np"
      ]
    },
    {
      "cell_type": "markdown",
      "metadata": {
        "id": "PHKptJyFVmhc"
      },
      "source": [
        "## Scalar"
      ]
    },
    {
      "cell_type": "code",
      "execution_count": null,
      "metadata": {
        "colab": {
          "base_uri": "https://localhost:8080/"
        },
        "id": "VgvTd3hzVFAL",
        "outputId": "0ef55ca6-19cd-4160-ee8d-de1442f73e78"
      },
      "outputs": [
        {
          "data": {
            "text/plain": [
              "float"
            ]
          },
          "execution_count": 6,
          "metadata": {},
          "output_type": "execute_result"
        }
      ],
      "source": [
        "s = 5.25\n",
        "type(s)"
      ]
    },
    {
      "cell_type": "code",
      "execution_count": null,
      "metadata": {
        "colab": {
          "base_uri": "https://localhost:8080/"
        },
        "id": "zxYs96xyVFCy",
        "outputId": "afa6e787-4ff4-4a70-f219-616b1dcd47fc"
      },
      "outputs": [
        {
          "name": "stdout",
          "output_type": "stream",
          "text": [
            "<class 'numpy.ndarray'>\n",
            "float64\n",
            "()\n",
            "0\n"
          ]
        }
      ],
      "source": [
        "s_arr = np.array(5.5)\n",
        "print(type(s_arr))\n",
        "print(s_arr.dtype)\n",
        "print(s_arr.shape)\n",
        "print(s_arr.ndim)"
      ]
    },
    {
      "cell_type": "code",
      "execution_count": null,
      "metadata": {
        "colab": {
          "base_uri": "https://localhost:8080/"
        },
        "id": "2wDgeffWHLom",
        "outputId": "4a0ae08f-4590-43b9-ba89-03e6ca061c66"
      },
      "outputs": [
        {
          "name": "stdout",
          "output_type": "stream",
          "text": [
            "<class 'numpy.ndarray'>\n",
            "int32\n",
            "(1,)\n",
            "1\n"
          ]
        }
      ],
      "source": [
        "s_arr = np.array([5])\n",
        "print(type(s_arr))\n",
        "print(s_arr.dtype)\n",
        "print(s_arr.shape)\n",
        "print(s_arr.ndim)"
      ]
    },
    {
      "cell_type": "code",
      "execution_count": null,
      "metadata": {
        "colab": {
          "base_uri": "https://localhost:8080/"
        },
        "id": "bsjtLk2qHSAG",
        "outputId": "d94f28c3-9230-4659-eed7-5c334603372c"
      },
      "outputs": [
        {
          "name": "stdout",
          "output_type": "stream",
          "text": [
            "<class 'numpy.ndarray'>\n",
            "int32\n",
            "(1, 1)\n",
            "2\n"
          ]
        }
      ],
      "source": [
        "s_arr = np.array([[5]])\n",
        "print(type(s_arr))\n",
        "print(s_arr.dtype)\n",
        "print(s_arr.shape)\n",
        "print(s_arr.ndim)"
      ]
    },
    {
      "cell_type": "markdown",
      "metadata": {
        "id": "9KRzK_0bVrFi"
      },
      "source": [
        "## Vector"
      ]
    },
    {
      "cell_type": "code",
      "execution_count": null,
      "metadata": {
        "colab": {
          "base_uri": "https://localhost:8080/"
        },
        "id": "Lqf91nXjVFIC",
        "outputId": "1d9276ca-7657-4269-9618-5f2860b89647"
      },
      "outputs": [
        {
          "name": "stdout",
          "output_type": "stream",
          "text": [
            "[1 2 3]\n",
            "<class 'numpy.ndarray'>\n",
            "int32\n",
            "(3,)\n",
            "1\n"
          ]
        }
      ],
      "source": [
        "v = np.array([1,2,3])\n",
        "print(v)\n",
        "print(type(v))\n",
        "print(v.dtype)\n",
        "print(v.shape)\n",
        "print(v.ndim)"
      ]
    },
    {
      "cell_type": "code",
      "execution_count": null,
      "metadata": {
        "colab": {
          "base_uri": "https://localhost:8080/"
        },
        "id": "f22HYE3EHX2I",
        "outputId": "66b910e8-e448-4e45-bff1-04a2eef623d1"
      },
      "outputs": [
        {
          "name": "stdout",
          "output_type": "stream",
          "text": [
            "[[1. 2. 3.]]\n",
            "<class 'numpy.ndarray'>\n",
            "float64\n",
            "(1, 3)\n",
            "2\n"
          ]
        }
      ],
      "source": [
        "v = np.array([[1,2,3]], dtype = float)\n",
        "print(v)\n",
        "print(type(v))\n",
        "print(v.dtype)\n",
        "print(v.shape)\n",
        "print(v.ndim)"
      ]
    },
    {
      "cell_type": "code",
      "execution_count": null,
      "metadata": {
        "colab": {
          "base_uri": "https://localhost:8080/"
        },
        "id": "UNlwcFDfVFK6",
        "outputId": "37f05aae-83bb-4f71-aa76-85e6ca138063"
      },
      "outputs": [
        {
          "name": "stdout",
          "output_type": "stream",
          "text": [
            "[[1.]\n",
            " [2.]\n",
            " [3.]]\n",
            "<class 'numpy.ndarray'>\n",
            "float64\n",
            "(3, 1)\n",
            "2\n"
          ]
        }
      ],
      "source": [
        "v2 = v.reshape(3,1)\n",
        "print(v2)\n",
        "print(type(v2))\n",
        "print(v2.dtype)\n",
        "print(v2.shape)\n",
        "print(v2.ndim)"
      ]
    },
    {
      "cell_type": "markdown",
      "metadata": {
        "id": "qEMR6fojWRe7"
      },
      "source": [
        "## Matrix"
      ]
    },
    {
      "cell_type": "code",
      "execution_count": null,
      "metadata": {
        "id": "LQL9DXf0Ecfc",
        "outputId": "db39efce-3a12-42ec-d3cb-23d84c396384"
      },
      "outputs": [
        {
          "data": {
            "text/plain": [
              "[[11, 12, 13], [21, 22, 23], [31, 32, 33]]"
            ]
          },
          "execution_count": 21,
          "metadata": {},
          "output_type": "execute_result"
        }
      ],
      "source": [
        "z"
      ]
    },
    {
      "cell_type": "code",
      "execution_count": null,
      "metadata": {
        "id": "BgDxikArWQ3D"
      },
      "outputs": [],
      "source": [
        "m = np.array(z)"
      ]
    },
    {
      "cell_type": "code",
      "execution_count": null,
      "metadata": {
        "colab": {
          "base_uri": "https://localhost:8080/"
        },
        "id": "idOnTMfTVFNk",
        "outputId": "513a037e-d918-49e2-f2c3-a9915ae10643"
      },
      "outputs": [
        {
          "name": "stdout",
          "output_type": "stream",
          "text": [
            "[[11 12 13]\n",
            " [21 22 23]\n",
            " [31 32 33]]\n",
            "<class 'numpy.ndarray'>\n",
            "int32\n",
            "(3, 3)\n",
            "2\n"
          ]
        }
      ],
      "source": [
        "print(m)\n",
        "print(type(m))\n",
        "print(m.dtype)\n",
        "print(m.shape)\n",
        "print(m.ndim)"
      ]
    },
    {
      "cell_type": "code",
      "execution_count": null,
      "metadata": {
        "colab": {
          "base_uri": "https://localhost:8080/"
        },
        "id": "a4wFCnHRVFQL",
        "outputId": "cb442434-cf20-48e3-934e-f2bf7727a43b"
      },
      "outputs": [
        {
          "data": {
            "text/plain": [
              "3"
            ]
          },
          "execution_count": 24,
          "metadata": {},
          "output_type": "execute_result"
        }
      ],
      "source": [
        "len(v2)"
      ]
    },
    {
      "cell_type": "code",
      "execution_count": null,
      "metadata": {
        "colab": {
          "base_uri": "https://localhost:8080/"
        },
        "id": "AdCGKGy4VFTD",
        "outputId": "f32db4ef-4148-42c0-f784-ab0632aafe93"
      },
      "outputs": [
        {
          "data": {
            "text/plain": [
              "3"
            ]
          },
          "execution_count": 25,
          "metadata": {},
          "output_type": "execute_result"
        }
      ],
      "source": [
        "len(m)"
      ]
    },
    {
      "cell_type": "code",
      "execution_count": null,
      "metadata": {
        "id": "vYGhJazTEcfd",
        "outputId": "4eb29c7e-f90f-477a-a3fb-86ee5ec27d4a"
      },
      "outputs": [
        {
          "data": {
            "text/plain": [
              "(3, 3)"
            ]
          },
          "execution_count": 26,
          "metadata": {},
          "output_type": "execute_result"
        }
      ],
      "source": [
        "m.shape"
      ]
    },
    {
      "cell_type": "code",
      "execution_count": null,
      "metadata": {
        "colab": {
          "base_uri": "https://localhost:8080/"
        },
        "id": "L0eLDKT0VFV6",
        "outputId": "adef8829-240d-43f0-84a7-9f68436603eb"
      },
      "outputs": [
        {
          "data": {
            "text/plain": [
              "3"
            ]
          },
          "execution_count": 27,
          "metadata": {},
          "output_type": "execute_result"
        }
      ],
      "source": [
        "m.shape[0]"
      ]
    },
    {
      "cell_type": "code",
      "execution_count": null,
      "metadata": {
        "colab": {
          "base_uri": "https://localhost:8080/"
        },
        "id": "9stBqre0VFY9",
        "outputId": "79db5d0d-d80d-4b23-e3a6-a480e61fae00"
      },
      "outputs": [
        {
          "data": {
            "text/plain": [
              "3"
            ]
          },
          "execution_count": 28,
          "metadata": {},
          "output_type": "execute_result"
        }
      ],
      "source": [
        "m.shape[1]"
      ]
    },
    {
      "cell_type": "code",
      "execution_count": null,
      "metadata": {
        "id": "j6rh9jpwEcfe"
      },
      "outputs": [],
      "source": []
    }
  ],
  "metadata": {
    "colab": {
      "collapsed_sections": [
        "N8Xom8cnhmZJ",
        "QO1kDV3Zhov4"
      ],
      "provenance": [],
      "include_colab_link": true
    },
    "kernelspec": {
      "display_name": "Python 3",
      "name": "python3"
    },
    "language_info": {
      "codemirror_mode": {
        "name": "ipython",
        "version": 3
      },
      "file_extension": ".py",
      "mimetype": "text/x-python",
      "name": "python",
      "nbconvert_exporter": "python",
      "pygments_lexer": "ipython3",
      "version": "3.9.12"
    }
  },
  "nbformat": 4,
  "nbformat_minor": 0
}