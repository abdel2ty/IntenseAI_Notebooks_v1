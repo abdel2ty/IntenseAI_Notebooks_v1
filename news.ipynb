{
 "cells": [
  {
   "cell_type": "code",
   "execution_count": 54,
   "id": "156941bd",
   "metadata": {},
   "outputs": [
    {
     "name": "stdout",
     "output_type": "stream",
     "text": [
      "API Key loaded successfully.\n"
     ]
    }
   ],
   "source": [
    "import os\n",
    "from dotenv import load_dotenv\n",
    "\n",
    "load_dotenv()  \n",
    "api_key = os.getenv(\"API_KEY\")\n",
    "if api_key:\n",
    "    print(\"API Key loaded successfully.\")\n",
    "else:\n",
    "    print(\"Failed to load API Key. Please check your .env file.\")"
   ]
  },
  {
   "cell_type": "code",
   "execution_count": 87,
   "id": "c4285ca0",
   "metadata": {},
   "outputs": [
    {
     "data": {
      "text/plain": [
       "200"
      ]
     },
     "execution_count": 87,
     "metadata": {},
     "output_type": "execute_result"
    }
   ],
   "source": [
    "import requests\n",
    "\n",
    "keyword = 'AI'\n",
    "country = 'us'\n",
    "url = f\"https://newsapi.org/v2/top-headlines?q={keyword}&country={country}&apiKey={api_key}\"\n",
    "response = requests.get(url)\n",
    "response.status_code"
   ]
  },
  {
   "cell_type": "code",
   "execution_count": 88,
   "id": "5f25d19a",
   "metadata": {},
   "outputs": [],
   "source": [
    "import requests\n",
    "\n",
    "def get_top_headlines(api_key, keyword=\"technology\", country=\"us\"):\n",
    "    url = \"https://newsapi.org/v2/top-headlines\"\n",
    "    params = {\n",
    "        \"q\": keyword,\n",
    "        \"country\": country,\n",
    "        \"apiKey\": api_key\n",
    "    }\n",
    "\n",
    "    response = requests.get(url, params=params)\n",
    "\n",
    "    if response.status_code == 200:\n",
    "        data = response.json()\n",
    "        articles = data.get(\"articles\", [])\n",
    "        \n",
    "        if not articles:\n",
    "            print(\"No articles found.\")\n",
    "            return\n",
    "\n",
    "        for i, article in enumerate(articles[:10], start=1):  # Show top 10\n",
    "            print(f\"\\n📰 Headline {i}\")\n",
    "            print(\"Title:\", article[\"title\"])\n",
    "            print(\"Source:\", article[\"source\"][\"name\"])\n",
    "            print(\"URL:\", article[\"url\"])\n",
    "    else:\n",
    "        print(\"Error:\", response.status_code)"
   ]
  },
  {
   "cell_type": "code",
   "execution_count": 89,
   "id": "865a30bd",
   "metadata": {},
   "outputs": [
    {
     "name": "stdout",
     "output_type": "stream",
     "text": [
      "\n",
      "📰 Headline 1\n",
      "Title: Katy Perry nearly plummets from floating butterfly as giant prop malfunctions during her show - CNN\n",
      "Source: CNN\n",
      "URL: https://www.cnn.com/2025/07/19/entertainment/katy-perry-butterfly-prop-malfunctions\n",
      "\n",
      "📰 Headline 2\n",
      "Title: Dozens killed after tourist boat capsizes in Vietnam - CNN\n",
      "Source: CNN\n",
      "URL: https://www.cnn.com/2025/07/19/asia/boat-capsize-halong-bay-vietnam-intl\n",
      "\n",
      "📰 Headline 3\n",
      "Title: ‘I Know What You Did Last Summer’ Twists & Cameos Revealed — Who Is The Fisherman? - Deadline\n",
      "Source: Deadline\n",
      "URL: http://deadline.com/2025/07/i-know-what-you-did-last-summer-twists-cameos-revealed-1236462871/\n",
      "\n",
      "📰 Headline 4\n",
      "Title: ‘Fantastic Four’ First Reactions Say Film Is One of the ‘Best Things Marvel Has Ever Made’ With ‘Stunning Visuals’ and ‘Excellent’ Performances From Leading Cast - Variety\n",
      "Source: Variety\n",
      "URL: https://variety.com/2025/film/news/fantastic-four-first-reactions-pedro-pascal-marvel-1236465177/\n",
      "\n",
      "📰 Headline 5\n",
      "Title: Gabbard threatens Obama officials with criminal referral over 2016 election assessment - CNN\n",
      "Source: CNN\n",
      "URL: https://www.cnn.com/2025/07/19/politics/gabbard-threatens-obama-officials-2016-election\n",
      "\n",
      "📰 Headline 6\n",
      "Title: Man dies after large chain necklace pulls him into MRI machine - AP News\n",
      "Source: Associated Press\n",
      "URL: https://apnews.com/article/mri-machine-long-island-chain-necklace-4126620d358e3d6b73d145d32ab72852\n",
      "\n",
      "📰 Headline 7\n",
      "Title: Trump sues Wall Street Journal and Rupert Murdoch over story reporting on Epstein ties - PBS\n",
      "Source: PBS\n",
      "URL: https://www.pbs.org/newshour/politics/trump-sues-wall-street-journal-and-rupert-murdoch-over-story-reporting-on-epstein-ties\n",
      "\n",
      "📰 Headline 8\n",
      "Title: Why the Federal Reserve’s Building Renovation Costs $2.5 Billion - Bloomberg.com\n",
      "Source: Bloomberg\n",
      "URL: https://www.bloomberg.com/news/articles/2025-07-19/trump-s-attacking-powell-over-fed-renovation-here-s-why-it-costs-2-5-billion\n",
      "\n",
      "📰 Headline 9\n",
      "Title: How the Colbert-Trump relationship tracked the downfall of late-night TV - The Washington Post\n",
      "Source: The Washington Post\n",
      "URL: https://www.washingtonpost.com/entertainment/2025/07/19/trump-colbert-cancel-late-night/\n",
      "\n",
      "📰 Headline 10\n",
      "Title: ‘I didn’t see it move’: Shane Lowry accepts controversial two-shot Open penalty to avoid social media ‘slaughter’ - CNN\n",
      "Source: CNN\n",
      "URL: https://www.cnn.com/2025/07/19/sport/shane-lowry-two-shot-open-penalty-spt\n"
     ]
    }
   ],
   "source": [
    "# Example usage\n",
    "keyword = input(\"Enter a keyword (e.g., AI, sports, economy): \")\n",
    "get_top_headlines(api_key, keyword)"
   ]
  },
  {
   "cell_type": "code",
   "execution_count": 90,
   "id": "ba8cec5f",
   "metadata": {},
   "outputs": [
    {
     "name": "stdout",
     "output_type": "stream",
     "text": [
      "\n",
      "📰 Headline 1\n",
      "Title: Katy Perry nearly plummets from floating butterfly as giant prop malfunctions during her show - CNN\n",
      "Source: CNN\n",
      "URL: https://www.cnn.com/2025/07/19/entertainment/katy-perry-butterfly-prop-malfunctions\n",
      "\n",
      "📰 Headline 2\n",
      "Title: Dozens killed after tourist boat capsizes in Vietnam - CNN\n",
      "Source: CNN\n",
      "URL: https://www.cnn.com/2025/07/19/asia/boat-capsize-halong-bay-vietnam-intl\n",
      "\n",
      "📰 Headline 3\n",
      "Title: ‘I Know What You Did Last Summer’ Twists & Cameos Revealed — Who Is The Fisherman? - Deadline\n",
      "Source: Deadline\n",
      "URL: http://deadline.com/2025/07/i-know-what-you-did-last-summer-twists-cameos-revealed-1236462871/\n",
      "\n",
      "📰 Headline 4\n",
      "Title: ‘Fantastic Four’ First Reactions Say Film Is One of the ‘Best Things Marvel Has Ever Made’ With ‘Stunning Visuals’ and ‘Excellent’ Performances From Leading Cast - Variety\n",
      "Source: Variety\n",
      "URL: https://variety.com/2025/film/news/fantastic-four-first-reactions-pedro-pascal-marvel-1236465177/\n",
      "\n",
      "📰 Headline 5\n",
      "Title: Gabbard threatens Obama officials with criminal referral over 2016 election assessment - CNN\n",
      "Source: CNN\n",
      "URL: https://www.cnn.com/2025/07/19/politics/gabbard-threatens-obama-officials-2016-election\n",
      "\n",
      "📰 Headline 6\n",
      "Title: Man dies after large chain necklace pulls him into MRI machine - AP News\n",
      "Source: Associated Press\n",
      "URL: https://apnews.com/article/mri-machine-long-island-chain-necklace-4126620d358e3d6b73d145d32ab72852\n",
      "\n",
      "📰 Headline 7\n",
      "Title: Trump sues Wall Street Journal and Rupert Murdoch over story reporting on Epstein ties - PBS\n",
      "Source: PBS\n",
      "URL: https://www.pbs.org/newshour/politics/trump-sues-wall-street-journal-and-rupert-murdoch-over-story-reporting-on-epstein-ties\n",
      "\n",
      "📰 Headline 8\n",
      "Title: Why the Federal Reserve’s Building Renovation Costs $2.5 Billion - Bloomberg.com\n",
      "Source: Bloomberg\n",
      "URL: https://www.bloomberg.com/news/articles/2025-07-19/trump-s-attacking-powell-over-fed-renovation-here-s-why-it-costs-2-5-billion\n",
      "\n",
      "📰 Headline 9\n",
      "Title: How the Colbert-Trump relationship tracked the downfall of late-night TV - The Washington Post\n",
      "Source: The Washington Post\n",
      "URL: https://www.washingtonpost.com/entertainment/2025/07/19/trump-colbert-cancel-late-night/\n",
      "\n",
      "📰 Headline 10\n",
      "Title: ‘I didn’t see it move’: Shane Lowry accepts controversial two-shot Open penalty to avoid social media ‘slaughter’ - CNN\n",
      "Source: CNN\n",
      "URL: https://www.cnn.com/2025/07/19/sport/shane-lowry-two-shot-open-penalty-spt\n"
     ]
    }
   ],
   "source": [
    "# Example usage\n",
    "country = input(\"Enter a country code (e.g., us, gb, in): \")\n",
    "get_top_headlines(api_key, country)"
   ]
  },
  {
   "cell_type": "code",
   "execution_count": 91,
   "id": "440c8312",
   "metadata": {},
   "outputs": [
    {
     "name": "stdout",
     "output_type": "stream",
     "text": [
      "No articles found.\n"
     ]
    }
   ],
   "source": [
    "# Example usage\n",
    "keyword = input(\"Enter a keyword (e.g., AI, sports, economy): \")\n",
    "country = input(\"Enter a country code (e.g., us, gb, in): \")\n",
    "get_top_headlines(api_key, keyword, country)"
   ]
  },
  {
   "cell_type": "code",
   "execution_count": null,
   "id": "ed56d007",
   "metadata": {},
   "outputs": [],
   "source": []
  }
 ],
 "metadata": {
  "kernelspec": {
   "display_name": "base",
   "language": "python",
   "name": "python3"
  },
  "language_info": {
   "codemirror_mode": {
    "name": "ipython",
    "version": 3
   },
   "file_extension": ".py",
   "mimetype": "text/x-python",
   "name": "python",
   "nbconvert_exporter": "python",
   "pygments_lexer": "ipython3",
   "version": "3.12.7"
  }
 },
 "nbformat": 4,
 "nbformat_minor": 5
}
