{
  "cells": [
    {
      "cell_type": "markdown",
      "metadata": {
        "id": "view-in-github",
        "colab_type": "text"
      },
      "source": [
        "<a href=\"https://colab.research.google.com/github/abdel2ty/IntenseAI_Notebooks_v1/blob/main/more_from_numpy.ipynb\" target=\"_parent\"><img src=\"https://colab.research.google.com/assets/colab-badge.svg\" alt=\"Open In Colab\"/></a>"
      ]
    },
    {
      "cell_type": "markdown",
      "metadata": {
        "id": "Ie7lnVo77Twa"
      },
      "source": [
        "\n",
        "<a href=\"https://www.zero-grad.com/\">\n",
        "         <img alt=\"Zero Grad\" src=\"https://i.postimg.cc/y8LZ0CM6/linear-Algebra.png\" >\n",
        "      </a>"
      ]
    },
    {
      "cell_type": "markdown",
      "metadata": {
        "id": "1K6ZyVlI3KPB"
      },
      "source": [
        "# More From Numpy"
      ]
    },
    {
      "cell_type": "code",
      "execution_count": null,
      "metadata": {
        "id": "6jTJdy-cfk4o"
      },
      "outputs": [],
      "source": [
        "import numpy as np"
      ]
    },
    {
      "cell_type": "markdown",
      "metadata": {
        "id": "RhgmIpky4ICg"
      },
      "source": [
        "## Zeros"
      ]
    },
    {
      "cell_type": "code",
      "execution_count": null,
      "metadata": {
        "colab": {
          "base_uri": "https://localhost:8080/"
        },
        "id": "MF2A5ldgfk7l",
        "outputId": "299be6e1-cddd-4678-be85-04b93f122f53"
      },
      "outputs": [
        {
          "data": {
            "text/plain": [
              "array([0., 0., 0., 0., 0.])"
            ]
          },
          "execution_count": 2,
          "metadata": {},
          "output_type": "execute_result"
        }
      ],
      "source": [
        "np.zeros(5)"
      ]
    },
    {
      "cell_type": "code",
      "execution_count": null,
      "metadata": {
        "colab": {
          "base_uri": "https://localhost:8080/"
        },
        "id": "j10zzbHIfk-s",
        "outputId": "a3daf4c2-e984-4106-fc36-6352ee15b3d7"
      },
      "outputs": [
        {
          "data": {
            "text/plain": [
              "array([[0, 0],\n",
              "       [0, 0],\n",
              "       [0, 0],\n",
              "       [0, 0],\n",
              "       [0, 0]])"
            ]
          },
          "execution_count": 3,
          "metadata": {},
          "output_type": "execute_result"
        }
      ],
      "source": [
        "np.zeros((5, 2), dtype=int)"
      ]
    },
    {
      "cell_type": "code",
      "execution_count": null,
      "metadata": {
        "colab": {
          "base_uri": "https://localhost:8080/"
        },
        "id": "U4UC8Rbi-cYR",
        "outputId": "1e910fcc-e7e7-47df-8cdd-a14a1bfd3e2c"
      },
      "outputs": [
        {
          "data": {
            "text/plain": [
              "array([[[0., 0., 0.],\n",
              "        [0., 0., 0.]],\n",
              "\n",
              "       [[0., 0., 0.],\n",
              "        [0., 0., 0.]]])"
            ]
          },
          "execution_count": 4,
          "metadata": {},
          "output_type": "execute_result"
        }
      ],
      "source": [
        "np.zeros((2, 2, 3))"
      ]
    },
    {
      "cell_type": "code",
      "execution_count": null,
      "metadata": {
        "id": "ljirMfrt-1xI"
      },
      "outputs": [],
      "source": [
        "A = np.array([[10, 20, 30],\n",
        "              [15, 25, 35]])"
      ]
    },
    {
      "cell_type": "code",
      "execution_count": null,
      "metadata": {
        "id": "iYdHN465VDR9",
        "outputId": "87b26f9e-589b-4999-fae9-cb6c955cf5a9"
      },
      "outputs": [
        {
          "data": {
            "text/plain": [
              "array([10, 15])"
            ]
          },
          "execution_count": 8,
          "metadata": {},
          "output_type": "execute_result"
        }
      ],
      "source": [
        "np.min(A, axis=1)"
      ]
    },
    {
      "cell_type": "code",
      "execution_count": null,
      "metadata": {
        "colab": {
          "base_uri": "https://localhost:8080/"
        },
        "id": "SbkZt8z4-8Ub",
        "outputId": "feaec258-aac8-4c0a-c038-e2a8196b0bbb"
      },
      "outputs": [
        {
          "data": {
            "text/plain": [
              "array([[0, 0, 0],\n",
              "       [0, 0, 0]])"
            ]
          },
          "execution_count": 6,
          "metadata": {},
          "output_type": "execute_result"
        }
      ],
      "source": [
        "np.zeros_like(A)"
      ]
    },
    {
      "cell_type": "markdown",
      "metadata": {
        "id": "Q8p_vqiA-p2J"
      },
      "source": [
        "## Ones"
      ]
    },
    {
      "cell_type": "code",
      "execution_count": null,
      "metadata": {
        "colab": {
          "base_uri": "https://localhost:8080/"
        },
        "id": "9CsD6eZJdnzG",
        "outputId": "b9dac604-5a32-4a3a-9457-7130446a0c3b"
      },
      "outputs": [
        {
          "data": {
            "text/plain": [
              "array([[1., 1., 1., 1.],\n",
              "       [1., 1., 1., 1.],\n",
              "       [1., 1., 1., 1.]])"
            ]
          },
          "execution_count": 7,
          "metadata": {},
          "output_type": "execute_result"
        }
      ],
      "source": [
        "np.ones((3,4))"
      ]
    },
    {
      "cell_type": "code",
      "execution_count": null,
      "metadata": {
        "colab": {
          "base_uri": "https://localhost:8080/"
        },
        "id": "f1Gauh-V-cbg",
        "outputId": "cbe93882-6f90-4997-f4f7-53cb27a48b8e"
      },
      "outputs": [
        {
          "data": {
            "text/plain": [
              "array([[1, 1, 1],\n",
              "       [1, 1, 1]])"
            ]
          },
          "execution_count": 8,
          "metadata": {},
          "output_type": "execute_result"
        }
      ],
      "source": [
        "np.ones_like(A)"
      ]
    },
    {
      "cell_type": "code",
      "execution_count": null,
      "metadata": {
        "colab": {
          "base_uri": "https://localhost:8080/"
        },
        "id": "5ndqdw_T-ceS",
        "outputId": "9f62d6ed-a57c-454b-ffcb-ed23d8110a8e"
      },
      "outputs": [
        {
          "data": {
            "text/plain": [
              "array([[5., 5., 5., 5.],\n",
              "       [5., 5., 5., 5.],\n",
              "       [5., 5., 5., 5.]])"
            ]
          },
          "execution_count": 9,
          "metadata": {},
          "output_type": "execute_result"
        }
      ],
      "source": [
        "np.ones((3,4)) * 5"
      ]
    },
    {
      "cell_type": "markdown",
      "metadata": {
        "id": "eGHvBKGw_Wx5"
      },
      "source": [
        "## Full"
      ]
    },
    {
      "cell_type": "code",
      "execution_count": null,
      "metadata": {
        "colab": {
          "base_uri": "https://localhost:8080/"
        },
        "id": "WWOfoirsdn2B",
        "outputId": "4130cb10-1de5-434f-8149-26e0cc3056d8"
      },
      "outputs": [
        {
          "data": {
            "text/plain": [
              "array([[5, 5, 5, 5],\n",
              "       [5, 5, 5, 5],\n",
              "       [5, 5, 5, 5]])"
            ]
          },
          "execution_count": 10,
          "metadata": {},
          "output_type": "execute_result"
        }
      ],
      "source": [
        "np.full((3,4), 5)"
      ]
    },
    {
      "cell_type": "code",
      "execution_count": null,
      "metadata": {
        "colab": {
          "base_uri": "https://localhost:8080/"
        },
        "id": "xzPL--EdAqph",
        "outputId": "743e0510-07fb-44d8-cc87-3176d44b2df8"
      },
      "outputs": [
        {
          "data": {
            "text/plain": [
              "array([[2, 2, 2],\n",
              "       [2, 2, 2]])"
            ]
          },
          "execution_count": 11,
          "metadata": {},
          "output_type": "execute_result"
        }
      ],
      "source": [
        "np.full_like(A, 2.1)"
      ]
    },
    {
      "cell_type": "code",
      "execution_count": null,
      "metadata": {
        "colab": {
          "base_uri": "https://localhost:8080/"
        },
        "id": "Mx2MaQwBAtjB",
        "outputId": "16016d40-5c4c-46ab-83e1-bedd74beb9d6"
      },
      "outputs": [
        {
          "data": {
            "text/plain": [
              "array([[5, 5, 5],\n",
              "       [5, 5, 5]])"
            ]
          },
          "execution_count": 12,
          "metadata": {},
          "output_type": "execute_result"
        }
      ],
      "source": [
        "np.full_like(A, 5)"
      ]
    },
    {
      "cell_type": "markdown",
      "metadata": {
        "id": "nOp_BS-g_1do"
      },
      "source": [
        "## Empty"
      ]
    },
    {
      "cell_type": "code",
      "execution_count": null,
      "metadata": {
        "colab": {
          "base_uri": "https://localhost:8080/"
        },
        "id": "wJUGa_kx-crg",
        "outputId": "0ab98539-f900-423f-f539-1823dcc7890a"
      },
      "outputs": [
        {
          "data": {
            "text/plain": [
              "array([[5.e-324, 5.e-324],\n",
              "       [5.e-324, 0.e+000]])"
            ]
          },
          "execution_count": 13,
          "metadata": {},
          "output_type": "execute_result"
        }
      ],
      "source": [
        "np.empty([2, 2])"
      ]
    },
    {
      "cell_type": "code",
      "execution_count": null,
      "metadata": {
        "colab": {
          "base_uri": "https://localhost:8080/"
        },
        "id": "6PkHQ96DA0z4",
        "outputId": "5d515ab0-e73a-4af7-cfab-49f0fb9a418b"
      },
      "outputs": [
        {
          "data": {
            "text/plain": [
              "array([[47244176,        0,        0],\n",
              "       [       0,        0,        0]])"
            ]
          },
          "execution_count": 14,
          "metadata": {},
          "output_type": "execute_result"
        }
      ],
      "source": [
        "np.empty_like(A)"
      ]
    },
    {
      "cell_type": "markdown",
      "metadata": {
        "id": "J3SXxL2OAQQB"
      },
      "source": [
        "## Identity"
      ]
    },
    {
      "cell_type": "code",
      "execution_count": null,
      "metadata": {
        "colab": {
          "base_uri": "https://localhost:8080/"
        },
        "id": "6XpGRREsAQWS",
        "outputId": "e34b0b43-4a58-45ca-d579-382c71e69a85"
      },
      "outputs": [
        {
          "data": {
            "text/plain": [
              "array([[1., 0., 0., 0., 0.],\n",
              "       [0., 1., 0., 0., 0.],\n",
              "       [0., 0., 1., 0., 0.],\n",
              "       [0., 0., 0., 1., 0.],\n",
              "       [0., 0., 0., 0., 1.]])"
            ]
          },
          "execution_count": 15,
          "metadata": {},
          "output_type": "execute_result"
        }
      ],
      "source": [
        "np.eye(5)"
      ]
    },
    {
      "cell_type": "code",
      "execution_count": null,
      "metadata": {
        "colab": {
          "base_uri": "https://localhost:8080/"
        },
        "id": "SR-G3KxIBWmR",
        "outputId": "1ed771ab-272b-41e3-f406-7d97c4bea676"
      },
      "outputs": [
        {
          "data": {
            "text/plain": [
              "array([[1., 0., 0., 0., 0.],\n",
              "       [0., 1., 0., 0., 0.],\n",
              "       [0., 0., 1., 0., 0.],\n",
              "       [0., 0., 0., 1., 0.],\n",
              "       [0., 0., 0., 0., 1.]])"
            ]
          },
          "execution_count": 16,
          "metadata": {},
          "output_type": "execute_result"
        }
      ],
      "source": [
        "np.identity(5)"
      ]
    },
    {
      "cell_type": "code",
      "execution_count": null,
      "metadata": {
        "colab": {
          "base_uri": "https://localhost:8080/"
        },
        "id": "zGU0A6aaB8UR",
        "outputId": "7f392311-5b0a-42e4-83ab-946bffc6df5d"
      },
      "outputs": [
        {
          "data": {
            "text/plain": [
              "array([[0., 1., 0., 0., 0.],\n",
              "       [0., 0., 1., 0., 0.],\n",
              "       [0., 0., 0., 1., 0.],\n",
              "       [0., 0., 0., 0., 1.],\n",
              "       [0., 0., 0., 0., 0.]])"
            ]
          },
          "execution_count": 17,
          "metadata": {},
          "output_type": "execute_result"
        }
      ],
      "source": [
        "np.eye(5, k=1)"
      ]
    },
    {
      "cell_type": "code",
      "execution_count": null,
      "metadata": {
        "colab": {
          "base_uri": "https://localhost:8080/"
        },
        "id": "U84M4jeDeRwv",
        "outputId": "18a33a91-e519-41ad-d43c-123a0f91ffab"
      },
      "outputs": [
        {
          "data": {
            "text/plain": [
              "array([[0., 0., 0., 0., 0.],\n",
              "       [1., 0., 0., 0., 0.],\n",
              "       [0., 1., 0., 0., 0.],\n",
              "       [0., 0., 1., 0., 0.],\n",
              "       [0., 0., 0., 1., 0.]])"
            ]
          },
          "execution_count": 18,
          "metadata": {},
          "output_type": "execute_result"
        }
      ],
      "source": [
        "np.eye(5, k=-1)"
      ]
    },
    {
      "cell_type": "markdown",
      "metadata": {
        "id": "VnsivI9wClH-"
      },
      "source": [
        "## Range"
      ]
    },
    {
      "cell_type": "code",
      "execution_count": null,
      "metadata": {
        "colab": {
          "base_uri": "https://localhost:8080/"
        },
        "id": "0mXzMSULClN4",
        "outputId": "81d5f9de-5d89-4940-bb8b-8ab59e9fc5b9"
      },
      "outputs": [
        {
          "data": {
            "text/plain": [
              "array([0, 1, 2])"
            ]
          },
          "execution_count": 19,
          "metadata": {},
          "output_type": "execute_result"
        }
      ],
      "source": [
        "np.arange(3)"
      ]
    },
    {
      "cell_type": "code",
      "execution_count": null,
      "metadata": {
        "colab": {
          "base_uri": "https://localhost:8080/"
        },
        "id": "QwtQqEcICv_Q",
        "outputId": "c5fc4c8a-f1a9-4ef8-903f-d7bbd1604ad5"
      },
      "outputs": [
        {
          "data": {
            "text/plain": [
              "array([0., 1., 2.])"
            ]
          },
          "execution_count": 20,
          "metadata": {},
          "output_type": "execute_result"
        }
      ],
      "source": [
        "np.arange(3.0)"
      ]
    },
    {
      "cell_type": "code",
      "execution_count": null,
      "metadata": {
        "colab": {
          "base_uri": "https://localhost:8080/"
        },
        "id": "7RfYEpGaCwB5",
        "outputId": "9de441d4-9188-4834-c388-4dd14c38a1af"
      },
      "outputs": [
        {
          "data": {
            "text/plain": [
              "array([3, 4, 5, 6])"
            ]
          },
          "execution_count": 21,
          "metadata": {},
          "output_type": "execute_result"
        }
      ],
      "source": [
        "np.arange(3,7)"
      ]
    },
    {
      "cell_type": "code",
      "execution_count": null,
      "metadata": {
        "colab": {
          "base_uri": "https://localhost:8080/"
        },
        "id": "Qd7n_-drCwES",
        "outputId": "00c423cd-3cff-46eb-931e-b130de799442"
      },
      "outputs": [
        {
          "data": {
            "text/plain": [
              "array([3, 5, 7, 9])"
            ]
          },
          "execution_count": 22,
          "metadata": {},
          "output_type": "execute_result"
        }
      ],
      "source": [
        "np.arange(3,10,2)"
      ]
    },
    {
      "cell_type": "markdown",
      "metadata": {
        "id": "lysevS-yDEqL"
      },
      "source": [
        "## Linspace"
      ]
    },
    {
      "cell_type": "code",
      "execution_count": null,
      "metadata": {
        "colab": {
          "base_uri": "https://localhost:8080/"
        },
        "id": "G5J6Szs_CwHB",
        "outputId": "2092f3e9-3b31-42e0-f6ac-da5ed1e746e6"
      },
      "outputs": [
        {
          "data": {
            "text/plain": [
              "array([2.  , 2.25, 2.5 , 2.75, 3.  ])"
            ]
          },
          "execution_count": 23,
          "metadata": {},
          "output_type": "execute_result"
        }
      ],
      "source": [
        "np.linspace(2.0, 3.0, num=5)"
      ]
    },
    {
      "cell_type": "code",
      "execution_count": null,
      "metadata": {
        "colab": {
          "base_uri": "https://localhost:8080/"
        },
        "id": "OTnxeK-zDDEb",
        "outputId": "e5a239d5-7a04-46f7-a208-019dafded292"
      },
      "outputs": [
        {
          "data": {
            "text/plain": [
              "array([2. , 2.2, 2.4, 2.6, 2.8])"
            ]
          },
          "execution_count": 24,
          "metadata": {},
          "output_type": "execute_result"
        }
      ],
      "source": [
        "np.linspace(2.0, 3.0, num=5, endpoint=False)"
      ]
    },
    {
      "cell_type": "code",
      "execution_count": null,
      "metadata": {
        "colab": {
          "base_uri": "https://localhost:8080/"
        },
        "id": "j_MPv0BXDDKK",
        "outputId": "e35f8567-6d95-4555-97d8-4d2bdfeaff77"
      },
      "outputs": [
        {
          "data": {
            "text/plain": [
              "array([2.        , 2.02040816, 2.04081633, 2.06122449, 2.08163265,\n",
              "       2.10204082, 2.12244898, 2.14285714, 2.16326531, 2.18367347,\n",
              "       2.20408163, 2.2244898 , 2.24489796, 2.26530612, 2.28571429,\n",
              "       2.30612245, 2.32653061, 2.34693878, 2.36734694, 2.3877551 ,\n",
              "       2.40816327, 2.42857143, 2.44897959, 2.46938776, 2.48979592,\n",
              "       2.51020408, 2.53061224, 2.55102041, 2.57142857, 2.59183673,\n",
              "       2.6122449 , 2.63265306, 2.65306122, 2.67346939, 2.69387755,\n",
              "       2.71428571, 2.73469388, 2.75510204, 2.7755102 , 2.79591837,\n",
              "       2.81632653, 2.83673469, 2.85714286, 2.87755102, 2.89795918,\n",
              "       2.91836735, 2.93877551, 2.95918367, 2.97959184, 3.        ])"
            ]
          },
          "execution_count": 25,
          "metadata": {},
          "output_type": "execute_result"
        }
      ],
      "source": [
        "np.linspace(2.0, 3.0)  # num = 50 (default)"
      ]
    },
    {
      "cell_type": "markdown",
      "metadata": {
        "id": "X1TTWIldAQiI"
      },
      "source": [
        "## Random\n"
      ]
    },
    {
      "cell_type": "markdown",
      "metadata": {
        "id": "ppQwTFA6P4mT"
      },
      "source": [
        "> Return random floats in the half-open interval [0.0, 1.0)"
      ]
    },
    {
      "cell_type": "code",
      "execution_count": null,
      "metadata": {
        "colab": {
          "base_uri": "https://localhost:8080/"
        },
        "id": "0E3y3_klPN_6",
        "outputId": "6e4aaf9e-e5ea-4fa6-d3e3-1d4f1f9d01bd"
      },
      "outputs": [
        {
          "data": {
            "text/plain": [
              "array([[0.85630653, 0.98031005, 0.00572769],\n",
              "       [0.41299289, 0.3440461 , 0.28514077],\n",
              "       [0.69148162, 0.71152593, 0.62814152],\n",
              "       [0.352887  , 0.77344188, 0.04296074],\n",
              "       [0.76415545, 0.09226768, 0.24408213]])"
            ]
          },
          "execution_count": 3,
          "metadata": {},
          "output_type": "execute_result"
        }
      ],
      "source": [
        "np.random.random((5,3))"
      ]
    },
    {
      "cell_type": "markdown",
      "metadata": {
        "id": "-3hNMWxdPmS6"
      },
      "source": [
        " ### Uniform Distribution\n",
        " > Create an array of the given shape and populate it with random samples from a uniform distribution over [0, 1)."
      ]
    },
    {
      "cell_type": "code",
      "execution_count": null,
      "metadata": {
        "colab": {
          "base_uri": "https://localhost:8080/"
        },
        "id": "h_20oQ2VPmvc",
        "outputId": "29e6ca90-b96a-4e31-f3fb-6fe64a509aa8"
      },
      "outputs": [
        {
          "data": {
            "text/plain": [
              "array([[[0.15115447, 0.24695536],\n",
              "        [0.47437519, 0.16353076]],\n",
              "\n",
              "       [[0.26170909, 0.60601585],\n",
              "        [0.80113122, 0.41000066]],\n",
              "\n",
              "       [[0.27986726, 0.12100981],\n",
              "        [0.79040915, 0.15102978]]])"
            ]
          },
          "execution_count": 7,
          "metadata": {},
          "output_type": "execute_result"
        }
      ],
      "source": [
        "np.random.rand(3,2,2)"
      ]
    },
    {
      "cell_type": "markdown",
      "metadata": {
        "id": "h3bkKoxNNClq"
      },
      "source": [
        "### Normal Distribution\n",
        "> Return a sample (or samples) from the “standard normal” distribution."
      ]
    },
    {
      "cell_type": "code",
      "execution_count": null,
      "metadata": {
        "colab": {
          "base_uri": "https://localhost:8080/"
        },
        "id": "24KsTWWIWISb",
        "outputId": "770b8d43-ccd8-494e-a2fb-2f113b135f12"
      },
      "outputs": [
        {
          "data": {
            "text/plain": [
              "array([[-0.98376226, -0.07246478,  0.61890584, -1.053693  ],\n",
              "       [ 1.16923157, -2.97086274, -0.47781536, -0.4609783 ]])"
            ]
          },
          "execution_count": 28,
          "metadata": {},
          "output_type": "execute_result"
        }
      ],
      "source": [
        "np.random.randn(2, 4)"
      ]
    },
    {
      "cell_type": "code",
      "execution_count": null,
      "metadata": {
        "colab": {
          "base_uri": "https://localhost:8080/"
        },
        "id": "1oucGQmSN4GK",
        "outputId": "021a8888-cca9-4f22-b3cb-a6ffb0e7bd68"
      },
      "outputs": [
        {
          "data": {
            "text/plain": [
              "array([[ 1.76405235,  0.40015721,  0.97873798,  2.2408932 ],\n",
              "       [ 1.86755799, -0.97727788,  0.95008842, -0.15135721]])"
            ]
          },
          "execution_count": 29,
          "metadata": {},
          "output_type": "execute_result"
        }
      ],
      "source": [
        "np.random.seed(0)\n",
        "np.random.randn(2, 4)"
      ]
    },
    {
      "cell_type": "code",
      "execution_count": null,
      "metadata": {
        "colab": {
          "base_uri": "https://localhost:8080/"
        },
        "id": "Mc8W4LeEgMhl",
        "outputId": "cfcf1587-e43e-4bd0-dc26-36470bdfa08e"
      },
      "outputs": [
        {
          "data": {
            "text/plain": [
              "array([[ 1.76405235,  0.40015721,  0.97873798,  2.2408932 ],\n",
              "       [ 1.86755799, -0.97727788,  0.95008842, -0.15135721]])"
            ]
          },
          "execution_count": 30,
          "metadata": {},
          "output_type": "execute_result"
        }
      ],
      "source": [
        "np.random.seed(0)\n",
        "np.random.randn(2, 4)"
      ]
    },
    {
      "cell_type": "code",
      "execution_count": null,
      "metadata": {
        "colab": {
          "base_uri": "https://localhost:8080/"
        },
        "id": "255TDqbQAQoT",
        "outputId": "c71e5b48-bf80-44d2-9bc8-60167b4fc0f4"
      },
      "outputs": [
        {
          "data": {
            "text/plain": [
              "array([-0.01032189,  0.04105985,  0.01440436,  0.14542735,  0.07610377,\n",
              "        0.0121675 ,  0.04438632,  0.03336743,  0.14940791, -0.02051583,\n",
              "        0.03130677, -0.08540957, -0.25529898,  0.06536186,  0.08644362,\n",
              "       -0.0742165 ,  0.22697546, -0.14543657,  0.00457585, -0.01871839,\n",
              "        0.15327792,  0.14693588,  0.01549474,  0.03781625, -0.08877857,\n",
              "       -0.19807965, -0.03479121,  0.0156349 ,  0.12302907,  0.12023798,\n",
              "       -0.03873268, -0.03023028, -0.1048553 , -0.14200179, -0.17062702,\n",
              "        0.19507754, -0.05096522, -0.04380743, -0.12527954,  0.07774904,\n",
              "       -0.16138978, -0.02127403, -0.08954666,  0.03869025, -0.05108051,\n",
              "       -0.11806322, -0.00281822,  0.04283319,  0.00665172,  0.03024719,\n",
              "       -0.06343221, -0.03627412, -0.06724604, -0.03595532, -0.08131463,\n",
              "       -0.17262826,  0.01774261, -0.04017809, -0.16301983,  0.04627823,\n",
              "       -0.09072984,  0.00519454,  0.07290906,  0.01289829,  0.11394007,\n",
              "       -0.12348258,  0.04023416, -0.06848101, -0.08707971, -0.05788497,\n",
              "       -0.03115525,  0.00561653, -0.11651498,  0.09008265,  0.04656624,\n",
              "       -0.15362437,  0.14882522,  0.18958892,  0.11787796, -0.01799248,\n",
              "       -0.10707526,  0.10544517, -0.04031769,  0.12224451,  0.0208275 ,\n",
              "        0.0976639 ,  0.03563664,  0.07065732,  0.00105   ,  0.17858705,\n",
              "        0.01269121,  0.04019894,  0.18831507, -0.13477591, -0.1270485 ,\n",
              "        0.09693967, -0.11731234,  0.19436212, -0.0413619 , -0.07474548])"
            ]
          },
          "execution_count": 31,
          "metadata": {},
          "output_type": "execute_result"
        }
      ],
      "source": [
        "mu, sigma = 0, 0.1\n",
        "np.random.normal(mu, sigma, 100)"
      ]
    },
    {
      "cell_type": "code",
      "execution_count": null,
      "metadata": {
        "colab": {
          "base_uri": "https://localhost:8080/"
        },
        "id": "HyBnDj6BNVcS",
        "outputId": "d8df3ffb-7179-42ab-cf6a-b1f229d07883"
      },
      "outputs": [
        {
          "data": {
            "text/plain": [
              "array([[7.80735507, 6.70128698, 7.6688974 , 5.26511165],\n",
              "       [0.84693579, 7.77516238, 2.32999157, 5.00614099]])"
            ]
          },
          "execution_count": 32,
          "metadata": {},
          "output_type": "execute_result"
        }
      ],
      "source": [
        "np.random.normal(3, 2.5, size=(2, 4))"
      ]
    },
    {
      "cell_type": "code",
      "execution_count": null,
      "metadata": {
        "colab": {
          "base_uri": "https://localhost:8080/"
        },
        "id": "mElESOpcNdEj",
        "outputId": "7470e211-6ee4-4745-80eb-68b7f067a4b0"
      },
      "outputs": [
        {
          "data": {
            "text/plain": [
              "array([[ 0.94725197, -0.15501009,  0.61407937,  0.92220667],\n",
              "       [ 0.37642553, -1.09940079,  0.29823817,  1.3263859 ]])"
            ]
          },
          "execution_count": 33,
          "metadata": {},
          "output_type": "execute_result"
        }
      ],
      "source": [
        "np.random.normal(size=(2, 4))  # mean = 0, std = 0.1 (default)"
      ]
    },
    {
      "cell_type": "markdown",
      "metadata": {
        "id": "u3f94hhcAbZK"
      },
      "source": [
        "### Integer Random\n",
        "\n",
        "> Return random integers from the “discrete uniform” distribution of the specified dtype in the “half-open” interval [low, high). If high is None (the default), then results are from [0, low).\n"
      ]
    },
    {
      "cell_type": "code",
      "execution_count": null,
      "metadata": {
        "colab": {
          "base_uri": "https://localhost:8080/"
        },
        "id": "sbcogvVoAbgJ",
        "outputId": "6e593a52-395d-4b30-c5df-ccab9787dc69"
      },
      "outputs": [
        {
          "data": {
            "text/plain": [
              "array([[ 8, 12, 14, 14],\n",
              "       [14, 12,  8, 19]])"
            ]
          },
          "execution_count": 34,
          "metadata": {},
          "output_type": "execute_result"
        }
      ],
      "source": [
        "np.random.randint(low = 5, high= 20, size=(2, 4))"
      ]
    },
    {
      "cell_type": "markdown",
      "metadata": {
        "id": "1wWgGvHRAbnZ"
      },
      "source": [
        "### Seed"
      ]
    },
    {
      "cell_type": "code",
      "execution_count": null,
      "metadata": {
        "colab": {
          "base_uri": "https://localhost:8080/"
        },
        "id": "GpeKCXbnO9q5",
        "outputId": "073a463c-d73d-4112-c72b-938a6fd75060"
      },
      "outputs": [
        {
          "name": "stdout",
          "output_type": "stream",
          "text": [
            "[8 9 7 9 9 6 7 7 7 9 8 7]\n",
            "[[0.02058449 0.96990985]\n",
            " [0.83244264 0.21233911]\n",
            " [0.18182497 0.18340451]]\n",
            "[[0.30424224 0.52475643]\n",
            " [0.43194502 0.29122914]\n",
            " [0.61185289 0.13949386]]\n",
            "***********\n",
            "[8 9 7 9 9 6 7 7 7 9 8 7]\n",
            "[[0.02058449 0.96990985]\n",
            " [0.83244264 0.21233911]\n",
            " [0.18182497 0.18340451]]\n",
            "[[0.30424224 0.52475643]\n",
            " [0.43194502 0.29122914]\n",
            " [0.61185289 0.13949386]]\n",
            "***********\n",
            "[8 9 7 9 9 6 7 7 7 9 8 7]\n",
            "[[0.02058449 0.96990985]\n",
            " [0.83244264 0.21233911]\n",
            " [0.18182497 0.18340451]]\n",
            "[[0.30424224 0.52475643]\n",
            " [0.43194502 0.29122914]\n",
            " [0.61185289 0.13949386]]\n",
            "***********\n",
            "[8 9 7 9 9 6 7 7 7 9 8 7]\n",
            "[[0.02058449 0.96990985]\n",
            " [0.83244264 0.21233911]\n",
            " [0.18182497 0.18340451]]\n",
            "[[0.30424224 0.52475643]\n",
            " [0.43194502 0.29122914]\n",
            " [0.61185289 0.13949386]]\n",
            "***********\n",
            "[8 9 7 9 9 6 7 7 7 9 8 7]\n",
            "[[0.02058449 0.96990985]\n",
            " [0.83244264 0.21233911]\n",
            " [0.18182497 0.18340451]]\n",
            "[[0.30424224 0.52475643]\n",
            " [0.43194502 0.29122914]\n",
            " [0.61185289 0.13949386]]\n",
            "***********\n"
          ]
        }
      ],
      "source": [
        "import numpy as np\n",
        "\n",
        "for i in range(5):\n",
        "    np.random.seed(42)\n",
        "    print(np.random.randint(5,10,12))\n",
        "    print(np.random.rand(3,2))\n",
        "    print(np.random.random((3,2)))\n",
        "    print ('***********')"
      ]
    },
    {
      "cell_type": "code",
      "execution_count": null,
      "metadata": {
        "id": "9S98zrHqVDTW"
      },
      "outputs": [],
      "source": []
    }
  ],
  "metadata": {
    "colab": {
      "collapsed_sections": [
        "N8Xom8cnhmZJ",
        "QO1kDV3Zhov4"
      ],
      "provenance": [],
      "include_colab_link": true
    },
    "kernelspec": {
      "display_name": "base",
      "language": "python",
      "name": "python3"
    },
    "language_info": {
      "codemirror_mode": {
        "name": "ipython",
        "version": 3
      },
      "file_extension": ".py",
      "mimetype": "text/x-python",
      "name": "python",
      "nbconvert_exporter": "python",
      "pygments_lexer": "ipython3",
      "version": "3.9.12"
    },
    "vscode": {
      "interpreter": {
        "hash": "cf09db7c5a43ebc020488360be383d2a4c3a085f9fc26d5b11b1a561cf0ad7de"
      }
    }
  },
  "nbformat": 4,
  "nbformat_minor": 0
}