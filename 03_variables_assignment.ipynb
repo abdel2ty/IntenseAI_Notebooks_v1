{
  "cells": [
    {
      "cell_type": "markdown",
      "metadata": {
        "id": "view-in-github",
        "colab_type": "text"
      },
      "source": [
        "<a href=\"https://colab.research.google.com/github/abdel2ty/IntenseAI_Notebooks_v1/blob/main/3_variables_assignment.ipynb\" target=\"_parent\"><img src=\"https://colab.research.google.com/assets/colab-badge.svg\" alt=\"Open In Colab\"/></a>"
      ]
    },
    {
      "cell_type": "markdown",
      "metadata": {
        "id": "LslwSWXg_kgx"
      },
      "source": [
        "\n",
        "<a href=\"https://www.zero-grad.com/\">\n",
        "         <img alt=\"Zero Grad\" src=\"https://lh3.googleusercontent.com/oEMY-qk_B2HW_Fponz1a3u1fLfo3NpO0VFjQKnVW8fH0v93NAWala5Kgp0nN2ubiyZdEMpwhv3Ynv7bXsB0RZ28YfEd_ZlRum75OHEu0-z7XwHfcD3sin7_SORLzg1gz52MsxD3b1WbxQWX1RdR4HP3jpbJTOuCiddl92UBcQH_x-Llx7_XuZuwb9ekN9vYnKsw6U1yL2df4IVrJEDySttzab9qlHvMO7sSekgS64jPVAmATjqXqlvrwM026dhrad-7nX-hfr2uKlUGPuo9xKzVo4EhbUP1-pKBQNPNHO6P0KcReg3NxbtKmWXRyg9LPX0xO-wwXWt9GhCcPXFV_BoY5eQXabCjR3mlr9SO01VgWplas-XF4337_JOm-bVkiaQjQca_N4Gg0hy26TvIGRnHEMIPSgudYPqhMnatoN4xAC715rP82r1svC0_qadXMZHu6D40YqWnY9ZE-iujr2p1_CetxmG-uY94UATy7o-SnxuPchG4QfZkiUgRMr8xNg86bQMuBxbCS_lOyVMwfqwbt2IunlDcZ8yyN_3SJFzFHuFOOjQolgGQrytI0mP1oTwba7je0RtBtCuTck1UCMMsZvMnJhCtWgMmuLoYTkSCzxMXbz0T3L2AClDouA_3dwM7z1gdm8Gq4v06T1KWFUs1adGNH5fuj-pUHEfW4drzzXgolPH5SehqhaNsqdMttCPUzNPIIEjwfULyQi7nlP-w-qydK82mdhdmjQhrprfoGtsPckJkI1Tur60uZI7nLkES5cE3tQrGualSNArRkkU8KN4tStZ0CkmqZNkAlMbfAJSYBD7tDxhGSg922AdLevSLJMTUyg6KuHoY30r7zH1Z8fE0R8aFZL2LJl54OU_tkXEdlFlSnZTOdB-PVTj-yagpt99SetLnQIX5SS_Vxc0BNPKjUZG0oEHYbIxkbZN1O7Rg78xe-thytngS0byfuaeP2X4NYjg29FIffnn72bAUs9Ii0N2mOpABLg1uQMN4MyAa1Mbd_=w1300-h200-no?authuser=1\" >\n",
        "      </a>"
      ]
    },
    {
      "cell_type": "markdown",
      "metadata": {
        "id": "DZINwaGFAaSo"
      },
      "source": [
        "## (3) Variables Assignment"
      ]
    },
    {
      "cell_type": "markdown",
      "metadata": {
        "id": "aZ8_lbIwAe4u"
      },
      "source": [
        " **Why give names to values of expressions?**\n",
        "* to reuse names instead of values\n",
        "* easier to change code later"
      ]
    },
    {
      "cell_type": "code",
      "execution_count": null,
      "metadata": {
        "colab": {
          "base_uri": "https://localhost:8080/"
        },
        "id": "S2Ga9SI3_URv",
        "outputId": "005feed6-0e7a-4070-a52e-72e4efd7df82"
      },
      "outputs": [
        {
          "data": {
            "text/plain": [
              "15.197600000000003"
            ]
          },
          "execution_count": 1,
          "metadata": {},
          "output_type": "execute_result"
        }
      ],
      "source": [
        "3.14 * 2.2**2"
      ]
    },
    {
      "cell_type": "code",
      "execution_count": null,
      "metadata": {
        "id": "vJGuNzRkAhnw"
      },
      "outputs": [],
      "source": [
        "# Area of a circle\n",
        "pi = 3.14159\n",
        "radius = 2.2 / 2\n",
        "area = pi*(radius**2)"
      ]
    },
    {
      "cell_type": "code",
      "execution_count": null,
      "metadata": {
        "colab": {
          "base_uri": "https://localhost:8080/"
        },
        "id": "M3KIQ6InAjI5",
        "outputId": "2e075895-44e9-4766-9581-a30629800250"
      },
      "outputs": [
        {
          "data": {
            "text/plain": [
              "3.8013239000000003"
            ]
          },
          "execution_count": 3,
          "metadata": {},
          "output_type": "execute_result"
        }
      ],
      "source": [
        "area"
      ]
    },
    {
      "cell_type": "markdown",
      "metadata": {
        "id": "eiQ13wMfAmCg"
      },
      "source": [
        "\n",
        ">equal sign (=) is an __assignment__ of a value to a variable name\n",
        "* Remember (==) is a check (is question)\n",
        "\n",
        "\n",
        " > **Rules for variable names**\n",
        "* names can not start with a number\n",
        "* names can not contain spaces, use _ intead\n",
        "* names can not contain any of these symbols:\n",
        "            :'\",<>/?|\\!@#%^&*~-+\n",
        "* it's considered best practice (PEP8) that names are lowercase with underscores\n",
        "* avoid using Python built-in keywords like list and str\n",
        "* avoid using the single characters l (lowercase letter el), O (uppercase letter oh) and I (uppercase letter eye) as they can be confused with 1 and 0"
      ]
    },
    {
      "cell_type": "code",
      "execution_count": null,
      "metadata": {
        "id": "qYJDonQZAk1J"
      },
      "outputs": [],
      "source": [
        "a = 5 # Assignment"
      ]
    },
    {
      "cell_type": "code",
      "execution_count": null,
      "metadata": {
        "colab": {
          "base_uri": "https://localhost:8080/"
        },
        "id": "xsrFlHSxAo5A",
        "outputId": "ac7064af-b413-4ffb-f91d-2d5a973f0041"
      },
      "outputs": [
        {
          "data": {
            "text/plain": [
              "5"
            ]
          },
          "execution_count": 5,
          "metadata": {},
          "output_type": "execute_result"
        }
      ],
      "source": [
        "a"
      ]
    },
    {
      "cell_type": "code",
      "execution_count": null,
      "metadata": {
        "colab": {
          "base_uri": "https://localhost:8080/",
          "height": 165
        },
        "id": "c0bke8IQArSH",
        "outputId": "977ad454-6935-4b50-dca7-014da4b78371"
      },
      "outputs": [
        {
          "ename": "NameError",
          "evalue": "ignored",
          "output_type": "error",
          "traceback": [
            "\u001b[0;31m---------------------------------------------------------------------------\u001b[0m",
            "\u001b[0;31mNameError\u001b[0m                                 Traceback (most recent call last)",
            "\u001b[0;32m<ipython-input-6-59f770aa955f>\u001b[0m in \u001b[0;36m<module>\u001b[0;34m\u001b[0m\n\u001b[0;32m----> 1\u001b[0;31m \u001b[0mB\u001b[0m \u001b[0;34m==\u001b[0m \u001b[0;36m4\u001b[0m \u001b[0;31m# check\u001b[0m\u001b[0;34m\u001b[0m\u001b[0;34m\u001b[0m\u001b[0m\n\u001b[0m",
            "\u001b[0;31mNameError\u001b[0m: name 'B' is not defined"
          ]
        }
      ],
      "source": [
        "B == 4 # check"
      ]
    },
    {
      "cell_type": "markdown",
      "metadata": {
        "id": "aieM0-_fAv4Z"
      },
      "source": [
        "### Changing Assignment\n",
        ">We can __re-assign__ variable names using new assignment statements\n",
        " * previous value may still stored in memory but lost the handle for it\n",
        " * value for area does not change until you tell the computer to do the calculation again"
      ]
    },
    {
      "cell_type": "code",
      "execution_count": null,
      "metadata": {
        "id": "qrkp-4VHAwMA"
      },
      "outputs": [],
      "source": [
        "radius = 3.2 /2"
      ]
    },
    {
      "cell_type": "code",
      "execution_count": null,
      "metadata": {
        "colab": {
          "base_uri": "https://localhost:8080/"
        },
        "id": "hMTrLFoHAx1h",
        "outputId": "c49b3a62-b18b-4e34-f349-44b601e96176"
      },
      "outputs": [
        {
          "data": {
            "text/plain": [
              "3.8013239000000003"
            ]
          },
          "execution_count": 8,
          "metadata": {},
          "output_type": "execute_result"
        }
      ],
      "source": [
        "area"
      ]
    },
    {
      "cell_type": "code",
      "execution_count": null,
      "metadata": {
        "colab": {
          "base_uri": "https://localhost:8080/"
        },
        "id": "xXEVd6csAzCY",
        "outputId": "1bf42baf-19eb-40cb-acc5-c839d0342594"
      },
      "outputs": [
        {
          "data": {
            "text/plain": [
              "8.042470400000001"
            ]
          },
          "execution_count": 9,
          "metadata": {},
          "output_type": "execute_result"
        }
      ],
      "source": [
        "area = pi*(radius**2)\n",
        "area"
      ]
    },
    {
      "cell_type": "markdown",
      "metadata": {
        "id": "47eTpllqA2Fx"
      },
      "source": [
        "### Dynamic Typing"
      ]
    },
    {
      "cell_type": "code",
      "execution_count": null,
      "metadata": {
        "colab": {
          "base_uri": "https://localhost:8080/"
        },
        "id": "nVkD_BGCA0So",
        "outputId": "e73cb2ca-4a96-4d72-9bb2-1235b7496245"
      },
      "outputs": [
        {
          "name": "stdout",
          "output_type": "stream",
          "text": [
            "5\n",
            "Hello\n"
          ]
        }
      ],
      "source": [
        "a= 5\n",
        "print(a)\n",
        "a= 'Hello'\n",
        "print(a)"
      ]
    },
    {
      "cell_type": "markdown",
      "metadata": {
        "id": "tLRKkDAoA55x"
      },
      "source": [
        "### In-Place Operators\n"
      ]
    },
    {
      "cell_type": "code",
      "execution_count": null,
      "metadata": {
        "id": "IvaJH696A4GB"
      },
      "outputs": [],
      "source": [
        "radius = radius + 1\n",
        "# it is legal in programming because (=) is just an assignment not equal"
      ]
    },
    {
      "cell_type": "code",
      "execution_count": null,
      "metadata": {
        "colab": {
          "base_uri": "https://localhost:8080/"
        },
        "id": "mvOgewOsA9W5",
        "outputId": "da0f3dc0-9e3b-443d-dd14-8b9e877e8d59"
      },
      "outputs": [
        {
          "data": {
            "text/plain": [
              "2.6"
            ]
          },
          "execution_count": 13,
          "metadata": {},
          "output_type": "execute_result"
        }
      ],
      "source": [
        "radius"
      ]
    },
    {
      "cell_type": "code",
      "execution_count": null,
      "metadata": {
        "colab": {
          "base_uri": "https://localhost:8080/"
        },
        "id": "ztmBpIRCA9uh",
        "outputId": "3dd4f0d9-b38d-4c8c-ce53-9d3e3a506471"
      },
      "outputs": [
        {
          "data": {
            "text/plain": [
              "2.6"
            ]
          },
          "execution_count": 14,
          "metadata": {},
          "output_type": "execute_result"
        }
      ],
      "source": [
        "radius += 1\n",
        "radius"
      ]
    },
    {
      "cell_type": "code",
      "execution_count": null,
      "metadata": {
        "colab": {
          "base_uri": "https://localhost:8080/"
        },
        "id": "80dkytCIBA5n",
        "outputId": "6a5122ea-db80-4f61-e332-fb474c23288f"
      },
      "outputs": [
        {
          "data": {
            "text/plain": [
              "8.042470400000001"
            ]
          },
          "execution_count": 15,
          "metadata": {},
          "output_type": "execute_result"
        }
      ],
      "source": [
        "area"
      ]
    },
    {
      "cell_type": "code",
      "execution_count": null,
      "metadata": {
        "colab": {
          "base_uri": "https://localhost:8080/"
        },
        "id": "rYRqmzCTBA23",
        "outputId": "09efafd0-3a2c-4a27-e4c7-9c5518f73e8d"
      },
      "outputs": [
        {
          "data": {
            "text/plain": [
              "21.237148400000002"
            ]
          },
          "execution_count": 16,
          "metadata": {},
          "output_type": "execute_result"
        }
      ],
      "source": [
        "area = pi*(radius**2)\n",
        "area"
      ]
    }
  ],
  "metadata": {
    "colab": {
      "provenance": [],
      "include_colab_link": true
    },
    "kernelspec": {
      "display_name": "Python 3",
      "name": "python3"
    },
    "language_info": {
      "name": "python"
    }
  },
  "nbformat": 4,
  "nbformat_minor": 0
}
