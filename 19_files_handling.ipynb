{
  "cells": [
    {
      "cell_type": "markdown",
      "metadata": {
        "id": "view-in-github",
        "colab_type": "text"
      },
      "source": [
        "<a href=\"https://colab.research.google.com/github/abdel2ty/IntenseAI_Notebooks_v1/blob/main/19_files_handling.ipynb\" target=\"_parent\"><img src=\"https://colab.research.google.com/assets/colab-badge.svg\" alt=\"Open In Colab\"/></a>"
      ]
    },
    {
      "cell_type": "markdown",
      "metadata": {
        "id": "hMV-7TpxbEDG"
      },
      "source": [
        "\n",
        "<a href=\"https://www.zero-grad.com/\">\n",
        "         <img alt=\"Zero Grad\" src=\"https://lh3.googleusercontent.com/oEMY-qk_B2HW_Fponz1a3u1fLfo3NpO0VFjQKnVW8fH0v93NAWala5Kgp0nN2ubiyZdEMpwhv3Ynv7bXsB0RZ28YfEd_ZlRum75OHEu0-z7XwHfcD3sin7_SORLzg1gz52MsxD3b1WbxQWX1RdR4HP3jpbJTOuCiddl92UBcQH_x-Llx7_XuZuwb9ekN9vYnKsw6U1yL2df4IVrJEDySttzab9qlHvMO7sSekgS64jPVAmATjqXqlvrwM026dhrad-7nX-hfr2uKlUGPuo9xKzVo4EhbUP1-pKBQNPNHO6P0KcReg3NxbtKmWXRyg9LPX0xO-wwXWt9GhCcPXFV_BoY5eQXabCjR3mlr9SO01VgWplas-XF4337_JOm-bVkiaQjQca_N4Gg0hy26TvIGRnHEMIPSgudYPqhMnatoN4xAC715rP82r1svC0_qadXMZHu6D40YqWnY9ZE-iujr2p1_CetxmG-uY94UATy7o-SnxuPchG4QfZkiUgRMr8xNg86bQMuBxbCS_lOyVMwfqwbt2IunlDcZ8yyN_3SJFzFHuFOOjQolgGQrytI0mP1oTwba7je0RtBtCuTck1UCMMsZvMnJhCtWgMmuLoYTkSCzxMXbz0T3L2AClDouA_3dwM7z1gdm8Gq4v06T1KWFUs1adGNH5fuj-pUHEfW4drzzXgolPH5SehqhaNsqdMttCPUzNPIIEjwfULyQi7nlP-w-qydK82mdhdmjQhrprfoGtsPckJkI1Tur60uZI7nLkES5cE3tQrGualSNArRkkU8KN4tStZ0CkmqZNkAlMbfAJSYBD7tDxhGSg922AdLevSLJMTUyg6KuHoY30r7zH1Z8fE0R8aFZL2LJl54OU_tkXEdlFlSnZTOdB-PVTj-yagpt99SetLnQIX5SS_Vxc0BNPKjUZG0oEHYbIxkbZN1O7Rg78xe-thytngS0byfuaeP2X4NYjg29FIffnn72bAUs9Ii0N2mOpABLg1uQMN4MyAa1Mbd_=w1300-h200-no?authuser=1\" >\n",
        "      </a>"
      ]
    },
    {
      "cell_type": "markdown",
      "metadata": {
        "id": "L6ReU9ff6Rku"
      },
      "source": [
        "# Part (4): Beyond the basics"
      ]
    },
    {
      "cell_type": "markdown",
      "metadata": {
        "id": "3_nCnK7wBSjP"
      },
      "source": [
        "## Files Handling"
      ]
    },
    {
      "cell_type": "markdown",
      "metadata": {
        "id": "kVXSQfcdCZRS"
      },
      "source": [
        "### Read Files"
      ]
    },
    {
      "cell_type": "code",
      "execution_count": null,
      "metadata": {
        "colab": {
          "base_uri": "https://localhost:8080/",
          "height": 322
        },
        "id": "eMyIeIuPvx3c",
        "outputId": "0c42cd2f-01a2-405c-e5a9-f6c76b8a817b"
      },
      "outputs": [
        {
          "name": "stdout",
          "output_type": "stream",
          "text": [
            "Hello World\n",
            "Hi Friends\n",
            "Welcome\n"
          ]
        }
      ],
      "source": [
        "my_file = open('test.txt')\n",
        "print(my_file.read())"
      ]
    },
    {
      "cell_type": "code",
      "execution_count": null,
      "metadata": {
        "id": "hskdz8uwv8ei",
        "outputId": "c081bfdf-3ab1-4b3a-e56c-ed65124634c9"
      },
      "outputs": [
        {
          "name": "stdout",
          "output_type": "stream",
          "text": [
            "\n"
          ]
        }
      ],
      "source": [
        "print(my_file.read())"
      ]
    },
    {
      "cell_type": "code",
      "execution_count": null,
      "metadata": {
        "id": "skTOSRQyBTR2",
        "outputId": "07de5f46-7f35-4bac-b1e7-190fa83f6633"
      },
      "outputs": [
        {
          "name": "stdout",
          "output_type": "stream",
          "text": [
            "<_io.TextIOWrapper name='test.txt' mode='r' encoding='UTF-8'>\n",
            "Hello World\n",
            "Hi Friends\n",
            "Welcome\n",
            "\n",
            "Seek 0\n",
            "Hello World\n",
            "Hi Friends\n",
            "Welcome\n"
          ]
        }
      ],
      "source": [
        "my_file = open('test.txt')\n",
        "print(my_file)\n",
        "print(my_file.read())\n",
        "\n",
        "print(my_file.read())   # it won't be printing anything. because the cursor is at the end of the file.\n",
        "\n",
        "print(\"Seek 0\")\n",
        "my_file.seek(0)     # we reset the cursor to the initial position.\n",
        "print(my_file.read())   # and so we can now read the file from the initial position till end."
      ]
    },
    {
      "cell_type": "code",
      "execution_count": null,
      "metadata": {
        "id": "_W7q85ZdBcG3",
        "outputId": "9bb06062-d77e-401a-9bff-e65a55eab89d"
      },
      "outputs": [
        {
          "name": "stdout",
          "output_type": "stream",
          "text": [
            "Hello World\n",
            "\n",
            "Hi Friends\n",
            "\n",
            "Welcome\n",
            "\n",
            "Seek 0\n",
            "Hello World\n",
            "\n",
            "Hi Friends\n",
            "\n",
            "Welcome\n"
          ]
        }
      ],
      "source": [
        "my_file = open('test.txt')\n",
        "print(my_file.readline())   # reads a line and stop the cursor\n",
        "print(my_file.readline())\n",
        "print(my_file.readline())\n",
        "print(my_file.readline())\n",
        "\n",
        "\n",
        "print(\"Seek 0\")\n",
        "my_file.seek(0)\n",
        "print(my_file.readline())\n",
        "print(my_file.readline())\n",
        "print(my_file.readline())\n"
      ]
    },
    {
      "cell_type": "code",
      "execution_count": null,
      "metadata": {
        "id": "CjlPaeGv8taV",
        "outputId": "b5d323f0-9df8-4ea1-d745-a93e68f77d72"
      },
      "outputs": [
        {
          "name": "stdout",
          "output_type": "stream",
          "text": [
            "['Hello World\\n', 'Hi Friends\\n', 'Welcome']\n",
            "[]\n"
          ]
        }
      ],
      "source": [
        "my_file = open('test.txt')\n",
        "print(my_file.readlines()) # store all the lines in a list\n",
        "print(my_file.readlines())\n",
        "\n",
        "my_file.close()"
      ]
    },
    {
      "cell_type": "code",
      "execution_count": null,
      "metadata": {
        "id": "DLtTJY7dAQDa",
        "outputId": "15f832ee-fa32-4ec0-c48b-e9c6bcb0ce5b"
      },
      "outputs": [
        {
          "name": "stdout",
          "output_type": "stream",
          "text": [
            "['Hello World\\n', 'Hi Friends\\n', 'Welcome']\n"
          ]
        }
      ],
      "source": [
        "with open ('test.txt') as my_file:\n",
        "    lines = my_file.readlines()\n",
        "print(lines)"
      ]
    },
    {
      "cell_type": "code",
      "execution_count": null,
      "metadata": {
        "id": "Wj48TEADqTQl",
        "outputId": "1ba9d711-e957-4e2b-e1f0-822cd58fa44d"
      },
      "outputs": [
        {
          "name": "stdout",
          "output_type": "stream",
          "text": [
            "Hello World\n",
            "\n",
            "Hi Friends\n",
            "\n",
            "Welcome\n"
          ]
        }
      ],
      "source": [
        "with open ('test.txt') as my_file:\n",
        "    lines = my_file.readlines()\n",
        "\n",
        "for line in lines:\n",
        "    print(line)"
      ]
    },
    {
      "cell_type": "code",
      "execution_count": null,
      "metadata": {
        "id": "TuKgR8UpqTQl",
        "outputId": "a8378d9a-9892-4c03-8714-480b7fb9d89f"
      },
      "outputs": [
        {
          "name": "stdout",
          "output_type": "stream",
          "text": [
            "Hello World\n",
            "Hi Friends\n",
            "Welcome\n"
          ]
        }
      ],
      "source": [
        "with open ('test.txt') as my_file:\n",
        "    lines = my_file.readlines()\n",
        "\n",
        "for line in lines:\n",
        "    print(line.strip())"
      ]
    },
    {
      "cell_type": "code",
      "execution_count": null,
      "metadata": {
        "id": "tMGjWldqAQGP",
        "outputId": "46c6c876-4308-4bce-85c8-ae9381e3c170"
      },
      "outputs": [
        {
          "name": "stdout",
          "output_type": "stream",
          "text": [
            "Hello World\n",
            "Hi Friends\n",
            "Welcome\n"
          ]
        }
      ],
      "source": [
        "with open(\"test.txt\", mode = 'r') as my_file:     # default mode = 'r' ---> read\n",
        "    print(my_file.read())"
      ]
    },
    {
      "cell_type": "markdown",
      "metadata": {
        "id": "-wDqxkClCUL1"
      },
      "source": [
        "### Write and Append"
      ]
    },
    {
      "cell_type": "code",
      "execution_count": null,
      "metadata": {
        "id": "VuyWsN7gAQJh",
        "outputId": "a95754bf-bda9-4d18-e5a9-b8dd6aa0a89d"
      },
      "outputs": [
        {
          "name": "stdout",
          "output_type": "stream",
          "text": [
            "11\n"
          ]
        }
      ],
      "source": [
        "with open(\"test.txt\", mode = 'w') as my_file:\n",
        "    text = my_file.write(\"I am HAPPY!\")\n",
        "    print(text)     # it prints the no. of letters written into the file\n",
        ""
      ]
    },
    {
      "cell_type": "code",
      "execution_count": null,
      "metadata": {
        "id": "PPCJ9kMFBzAD",
        "outputId": "8aa0b946-8fe4-4848-e920-b14b75a3b588"
      },
      "outputs": [
        {
          "name": "stdout",
          "output_type": "stream",
          "text": [
            "I am HAPPY!\n"
          ]
        }
      ],
      "source": [
        "with open(\"test.txt\", mode = 'r') as my_file:     # default mode = 'r' ---> read\n",
        "    print(my_file.read())"
      ]
    },
    {
      "cell_type": "code",
      "execution_count": null,
      "metadata": {
        "id": "YnL6TTqKBzEB",
        "outputId": "ff0cccd8-f661-44da-f036-caf56a3bae34"
      },
      "outputs": [
        {
          "name": "stdout",
          "output_type": "stream",
          "text": [
            "18\n"
          ]
        }
      ],
      "source": [
        "with open(\"test.txt\", mode = 'a') as my_file:    # 'a' mode ----> append\n",
        "    text = my_file.write(\"\\nI am HAPPY! again\")\n",
        "    print(text)     # it prints the no. of letters written into the file\n",
        ""
      ]
    },
    {
      "cell_type": "code",
      "execution_count": null,
      "metadata": {
        "id": "CahxJqb4BzGp",
        "outputId": "f5d3b4eb-26c2-4ba0-ba5d-19d53b8f752f"
      },
      "outputs": [
        {
          "name": "stdout",
          "output_type": "stream",
          "text": [
            "I am HAPPY!\n",
            "I am HAPPY! again\n"
          ]
        }
      ],
      "source": [
        "with open(\"test.txt\", mode = 'r') as my_file:     # default mode = 'r' ---> read\n",
        "    print(my_file.read())"
      ]
    },
    {
      "cell_type": "markdown",
      "metadata": {
        "id": "JaAlZGaLCQND"
      },
      "source": [
        "### Notes\n"
      ]
    },
    {
      "cell_type": "markdown",
      "metadata": {
        "id": "3TjiwAorCBBB"
      },
      "source": [
        "\n",
        "\n",
        "* mode = 'w' : it creates a new file and write into it. If there is an exiting file with the same name, it replaces it.\n",
        "* mode = 'r' : it is used to read the file\n",
        "* mode = 'r+' : it is used to read and write into the file. but it writes from position 0, which might replace some existing text.\n",
        "* mode = 'a' : it appends to the existing file. meaning writing to the file keeping the old content intact. if the file doesn't exist, it creates a new one.\n",
        "* if we don't mention the mode, by default it will be considered 'r' mode.\n",
        "* with `with` we don't need to close the file manually.\n",
        "\n",
        "\n"
      ]
    },
    {
      "cell_type": "markdown",
      "metadata": {
        "id": "cWY7L6_-8taZ"
      },
      "source": []
    }
  ],
  "metadata": {
    "colab": {
      "provenance": [],
      "include_colab_link": true
    },
    "kernelspec": {
      "display_name": "Python 3",
      "name": "python3"
    },
    "language_info": {
      "codemirror_mode": {
        "name": "ipython",
        "version": 3
      },
      "file_extension": ".py",
      "mimetype": "text/x-python",
      "name": "python",
      "nbconvert_exporter": "python",
      "pygments_lexer": "ipython3",
      "version": "3.9.12"
    }
  },
  "nbformat": 4,
  "nbformat_minor": 0
}