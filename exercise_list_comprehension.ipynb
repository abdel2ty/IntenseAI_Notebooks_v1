{
  "cells": [
    {
      "cell_type": "markdown",
      "metadata": {
        "id": "view-in-github",
        "colab_type": "text"
      },
      "source": [
        "<a href=\"https://colab.research.google.com/github/abdel2ty/IntenseAI_Notebooks_v1/blob/main/exercise_list_comprehension.ipynb\" target=\"_parent\"><img src=\"https://colab.research.google.com/assets/colab-badge.svg\" alt=\"Open In Colab\"/></a>"
      ]
    },
    {
      "cell_type": "markdown",
      "metadata": {
        "id": "hMV-7TpxbEDG"
      },
      "source": [
        "\n",
        "<a href=\"https://www.zero-grad.com/\">\n",
        "         <img alt=\"Zero Grad\" src=\"https://lh3.googleusercontent.com/oEMY-qk_B2HW_Fponz1a3u1fLfo3NpO0VFjQKnVW8fH0v93NAWala5Kgp0nN2ubiyZdEMpwhv3Ynv7bXsB0RZ28YfEd_ZlRum75OHEu0-z7XwHfcD3sin7_SORLzg1gz52MsxD3b1WbxQWX1RdR4HP3jpbJTOuCiddl92UBcQH_x-Llx7_XuZuwb9ekN9vYnKsw6U1yL2df4IVrJEDySttzab9qlHvMO7sSekgS64jPVAmATjqXqlvrwM026dhrad-7nX-hfr2uKlUGPuo9xKzVo4EhbUP1-pKBQNPNHO6P0KcReg3NxbtKmWXRyg9LPX0xO-wwXWt9GhCcPXFV_BoY5eQXabCjR3mlr9SO01VgWplas-XF4337_JOm-bVkiaQjQca_N4Gg0hy26TvIGRnHEMIPSgudYPqhMnatoN4xAC715rP82r1svC0_qadXMZHu6D40YqWnY9ZE-iujr2p1_CetxmG-uY94UATy7o-SnxuPchG4QfZkiUgRMr8xNg86bQMuBxbCS_lOyVMwfqwbt2IunlDcZ8yyN_3SJFzFHuFOOjQolgGQrytI0mP1oTwba7je0RtBtCuTck1UCMMsZvMnJhCtWgMmuLoYTkSCzxMXbz0T3L2AClDouA_3dwM7z1gdm8Gq4v06T1KWFUs1adGNH5fuj-pUHEfW4drzzXgolPH5SehqhaNsqdMttCPUzNPIIEjwfULyQi7nlP-w-qydK82mdhdmjQhrprfoGtsPckJkI1Tur60uZI7nLkES5cE3tQrGualSNArRkkU8KN4tStZ0CkmqZNkAlMbfAJSYBD7tDxhGSg922AdLevSLJMTUyg6KuHoY30r7zH1Z8fE0R8aFZL2LJl54OU_tkXEdlFlSnZTOdB-PVTj-yagpt99SetLnQIX5SS_Vxc0BNPKjUZG0oEHYbIxkbZN1O7Rg78xe-thytngS0byfuaeP2X4NYjg29FIffnn72bAUs9Ii0N2mOpABLg1uQMN4MyAa1Mbd_=w1300-h200-no?authuser=1\" >\n",
        "      </a>"
      ]
    },
    {
      "cell_type": "markdown",
      "metadata": {
        "id": "tTEyBAJdssYE"
      },
      "source": [
        "# Exercise\n",
        "**Using List Comprehension: : Return a list of words that starts with \"a\"**\n",
        "\n",
        "\n",
        "```\n",
        "Input : \"I am Ali. I agree with you. Your aid is appreciated\"\n",
        "Output: ['am', 'agree', 'aid', 'appreciated']\n",
        "```\n"
      ]
    },
    {
      "cell_type": "code",
      "execution_count": null,
      "metadata": {
        "id": "4OQyQzq7TwPk"
      },
      "outputs": [],
      "source": [
        "# Try Here\n",
        "s = \"I am Ali. I agree with you. Your aid is appreciated\"\n"
      ]
    },
    {
      "cell_type": "markdown",
      "metadata": {
        "id": "ZlBmfoKrTxOd"
      },
      "source": [
        "# Solution"
      ]
    },
    {
      "cell_type": "code",
      "execution_count": null,
      "metadata": {
        "colab": {
          "base_uri": "https://localhost:8080/"
        },
        "id": "gd-QnZJsTzyi",
        "outputId": "c268f78e-c75c-4e29-eb30-eda018009904"
      },
      "outputs": [
        {
          "data": {
            "text/plain": [
              "['am', 'agree', 'aid', 'appreciated']"
            ]
          },
          "execution_count": 5,
          "metadata": {},
          "output_type": "execute_result"
        }
      ],
      "source": [
        "s= \"I am Ali. I agree with you. Your aid is appreciated\"\n",
        "[word for word in s.split() if word.startswith(\"a\") ]"
      ]
    },
    {
      "cell_type": "markdown",
      "metadata": {
        "id": "JUCL2LAJX8S8"
      },
      "source": [
        "# Another Solution"
      ]
    },
    {
      "cell_type": "code",
      "execution_count": null,
      "metadata": {
        "colab": {
          "base_uri": "https://localhost:8080/"
        },
        "id": "8xC8oc7-X1KA",
        "outputId": "b121dc32-01f1-4e32-ee28-85701559bbba"
      },
      "outputs": [
        {
          "data": {
            "text/plain": [
              "['am', 'agree', 'aid', 'appreciated']"
            ]
          },
          "execution_count": 6,
          "metadata": {},
          "output_type": "execute_result"
        }
      ],
      "source": [
        "s= \"I am Ali. I agree with you. Your aid is appreciated\"\n",
        "[word for word in s.split() if word[0]== \"a\" ]"
      ]
    },
    {
      "cell_type": "code",
      "execution_count": null,
      "metadata": {
        "id": "k008lPecKe_w",
        "outputId": "6dae759e-e991-4321-ec4b-1e4eaa5b20cb"
      },
      "outputs": [
        {
          "data": {
            "text/plain": [
              "['I',\n",
              " 'am',\n",
              " 'Ali.',\n",
              " 'I',\n",
              " 'agree',\n",
              " 'with',\n",
              " 'you.',\n",
              " 'Your',\n",
              " 'aid',\n",
              " 'is',\n",
              " 'appreciated']"
            ]
          },
          "execution_count": 1,
          "metadata": {},
          "output_type": "execute_result"
        }
      ],
      "source": [
        "s= \"I am Ali. I agree with you. Your aid is appreciated\"\n",
        "s.split()"
      ]
    },
    {
      "cell_type": "code",
      "execution_count": null,
      "metadata": {
        "id": "4qm7wAYPKe_w"
      },
      "outputs": [],
      "source": [
        "x =5\n",
        "\n",
        "if x == 5:\n",
        "    print(\"x is 5\")\n",
        "print('Hello')\n"
      ]
    },
    {
      "cell_type": "code",
      "execution_count": null,
      "metadata": {
        "id": "jhFviYdGKe_w"
      },
      "outputs": [],
      "source": [
        "x ='easy'\n",
        "\n",
        "if 'easy':\n",
        "    print(\"x is easy\")\n",
        "\n",
        "while 'easy':\n"
      ]
    }
  ],
  "metadata": {
    "colab": {
      "collapsed_sections": [
        "tTEyBAJdssYE",
        "ZlBmfoKrTxOd",
        "JUCL2LAJX8S8"
      ],
      "provenance": [],
      "include_colab_link": true
    },
    "kernelspec": {
      "display_name": "Python 3",
      "name": "python3"
    },
    "language_info": {
      "codemirror_mode": {
        "name": "ipython",
        "version": 3
      },
      "file_extension": ".py",
      "mimetype": "text/x-python",
      "name": "python",
      "nbconvert_exporter": "python",
      "pygments_lexer": "ipython3",
      "version": "3.9.12"
    }
  },
  "nbformat": 4,
  "nbformat_minor": 0
}