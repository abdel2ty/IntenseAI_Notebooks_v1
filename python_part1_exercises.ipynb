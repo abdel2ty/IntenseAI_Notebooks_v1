{
  "cells": [
    {
      "cell_type": "markdown",
      "metadata": {
        "id": "view-in-github",
        "colab_type": "text"
      },
      "source": [
        "<a href=\"https://colab.research.google.com/github/abdel2ty/IntenseAI_Notebooks_v1/blob/main/python_part1_exercises.ipynb\" target=\"_parent\"><img src=\"https://colab.research.google.com/assets/colab-badge.svg\" alt=\"Open In Colab\"/></a>"
      ]
    },
    {
      "cell_type": "markdown",
      "metadata": {
        "id": "hMV-7TpxbEDG"
      },
      "source": [
        "\n",
        "<a href=\"https://www.zero-grad.com/\">\n",
        "         <img alt=\"Zero Grad\" src=\"https://lh3.googleusercontent.com/oEMY-qk_B2HW_Fponz1a3u1fLfo3NpO0VFjQKnVW8fH0v93NAWala5Kgp0nN2ubiyZdEMpwhv3Ynv7bXsB0RZ28YfEd_ZlRum75OHEu0-z7XwHfcD3sin7_SORLzg1gz52MsxD3b1WbxQWX1RdR4HP3jpbJTOuCiddl92UBcQH_x-Llx7_XuZuwb9ekN9vYnKsw6U1yL2df4IVrJEDySttzab9qlHvMO7sSekgS64jPVAmATjqXqlvrwM026dhrad-7nX-hfr2uKlUGPuo9xKzVo4EhbUP1-pKBQNPNHO6P0KcReg3NxbtKmWXRyg9LPX0xO-wwXWt9GhCcPXFV_BoY5eQXabCjR3mlr9SO01VgWplas-XF4337_JOm-bVkiaQjQca_N4Gg0hy26TvIGRnHEMIPSgudYPqhMnatoN4xAC715rP82r1svC0_qadXMZHu6D40YqWnY9ZE-iujr2p1_CetxmG-uY94UATy7o-SnxuPchG4QfZkiUgRMr8xNg86bQMuBxbCS_lOyVMwfqwbt2IunlDcZ8yyN_3SJFzFHuFOOjQolgGQrytI0mP1oTwba7je0RtBtCuTck1UCMMsZvMnJhCtWgMmuLoYTkSCzxMXbz0T3L2AClDouA_3dwM7z1gdm8Gq4v06T1KWFUs1adGNH5fuj-pUHEfW4drzzXgolPH5SehqhaNsqdMttCPUzNPIIEjwfULyQi7nlP-w-qydK82mdhdmjQhrprfoGtsPckJkI1Tur60uZI7nLkES5cE3tQrGualSNArRkkU8KN4tStZ0CkmqZNkAlMbfAJSYBD7tDxhGSg922AdLevSLJMTUyg6KuHoY30r7zH1Z8fE0R8aFZL2LJl54OU_tkXEdlFlSnZTOdB-PVTj-yagpt99SetLnQIX5SS_Vxc0BNPKjUZG0oEHYbIxkbZN1O7Rg78xe-thytngS0byfuaeP2X4NYjg29FIffnn72bAUs9Ii0N2mOpABLg1uQMN4MyAa1Mbd_=w1300-h200-no?authuser=1\" >\n",
        "      </a>"
      ]
    },
    {
      "cell_type": "markdown",
      "metadata": {
        "id": "aZ8_lbIwAe4u"
      },
      "source": [
        "**Exercise 1:**\n",
        "\n",
        "Write a program to accept two numbers from the user and print:\n",
        "Summation, Subtraction, multiplication and division"
      ]
    },
    {
      "cell_type": "code",
      "execution_count": null,
      "metadata": {
        "colab": {
          "base_uri": "https://localhost:8080/"
        },
        "id": "B8e7akObjdO3",
        "outputId": "6d67725a-2fc5-4352-bc67-0b9448adb2ce"
      },
      "outputs": [
        {
          "name": "stdout",
          "output_type": "stream",
          "text": [
            "what is the first number?  4.4547\n",
            "what is the second number?  4\n",
            "the summation of both numbers is 8.45\n",
            "the subtraction of both numbers is 0.45\n",
            "the multiplication of both numbers is 17.82\n",
            "the division of both numbers is  1.11\n"
          ]
        }
      ],
      "source": [
        "a = float(input(\"what is the first number?  \"))\n",
        "b = float(input(\"what is the second number?  \"))\n",
        "\n",
        "sum = a+b\n",
        "subt = a-b\n",
        "mult = a*b\n",
        "div = a/b\n",
        "print(f\"the summation of both numbers is {sum:0.2f}\")\n",
        "print (f\"the subtraction of both numbers is {subt:0.2f}\")\n",
        "print (f\"the multiplication of both numbers is {mult:0.2f}\")\n",
        "print (f\"the division of both numbers is  {div:0.2f}\")"
      ]
    },
    {
      "cell_type": "code",
      "execution_count": null,
      "metadata": {
        "colab": {
          "base_uri": "https://localhost:8080/"
        },
        "id": "xSaGcDVaj6QZ",
        "outputId": "6ab536be-cb65-4c02-e2e6-656129729ebe"
      },
      "outputs": [
        {
          "name": "stdout",
          "output_type": "stream",
          "text": [
            "Enter 2 numbers separated by space  8,6\n",
            "the summation of both numbers is 14.00\n",
            "the subtraction of both numbers is 2.00\n",
            "the multiplication of both numbers is 48.00\n",
            "the division of both numbers is  1.33\n"
          ]
        }
      ],
      "source": [
        "a, b = input(\"Enter 2 numbers separated by space  \").split(',')\n",
        "a, b = float(a), float(b)\n",
        "\n",
        "sum = a+b\n",
        "subt = a-b\n",
        "mult = a*b\n",
        "div = a/b\n",
        "print(f\"the summation of both numbers is {sum:0.2f}\")\n",
        "print (f\"the subtraction of both numbers is {subt:0.2f}\")\n",
        "print (f\"the multiplication of both numbers is {mult:0.2f}\")\n",
        "print (f\"the division of both numbers is  {div:0.2f}\")\n",
        "print (f\"the division of both numbers is  %0.2f\" %div)\n"
      ]
    },
    {
      "cell_type": "markdown",
      "metadata": {
        "id": "nTILOQqED5j7"
      },
      "source": [
        "**Exercise 2:**\n",
        "\n",
        "Write a program to accept three numbers from the user and print:\n",
        "Min. Number and Max. Number"
      ]
    },
    {
      "cell_type": "code",
      "execution_count": null,
      "metadata": {
        "colab": {
          "base_uri": "https://localhost:8080/"
        },
        "id": "Tvrh608vtrFx",
        "outputId": "cb7bfdc8-7327-4d40-9a02-9a5c20c6a98c"
      },
      "outputs": [
        {
          "name": "stdout",
          "output_type": "stream",
          "text": [
            "what is the first number?  5\n",
            "what is the second number?  8\n",
            "what is the third number?  4\n",
            "the maximum number is 8\n",
            "the minimum number is 4\n"
          ]
        }
      ],
      "source": [
        "nums = []\n",
        "a = int(input(\"what is the first number?  \"))\n",
        "b = int(input(\"what is the second number?  \"))\n",
        "c = int(input(\"what is the third number?  \"))\n",
        "nums.append(a)\n",
        "nums.append(b)\n",
        "nums.append(c)\n",
        "print (f\"the maximum number is {max(nums)}\")\n",
        "print (f\"the minimum number is {min(nums)}\")\n",
        "\n",
        "\n"
      ]
    },
    {
      "cell_type": "code",
      "execution_count": null,
      "metadata": {
        "colab": {
          "base_uri": "https://localhost:8080/"
        },
        "id": "pwoUAdCgksih",
        "outputId": "3cd7ed1c-4fde-4020-f01e-623545ac4e2c"
      },
      "outputs": [
        {
          "name": "stdout",
          "output_type": "stream",
          "text": [
            "what is the first number?  4\n",
            "what is the second number?  5\n",
            "what is the third number?  6\n",
            "the maximum number is 6.0\n",
            "the minimum number is 4.0\n"
          ]
        }
      ],
      "source": [
        "nums = [None] * 3\n",
        "nums[0] = float(input(\"what is the first number?  \"))\n",
        "nums[1] = float(input(\"what is the second number?  \"))\n",
        "nums[2] = float(input(\"what is the third number?  \"))\n",
        "\n",
        "print (f\"the maximum number is {max(nums)}\")\n",
        "print (f\"the minimum number is {min(nums)}\")"
      ]
    },
    {
      "cell_type": "code",
      "execution_count": null,
      "metadata": {
        "colab": {
          "base_uri": "https://localhost:8080/"
        },
        "id": "1Zk-nV-WFgUG",
        "outputId": "fb38fc77-a60b-47a3-bb72-3d6f138c2956"
      },
      "outputs": [
        {
          "name": "stdout",
          "output_type": "stream",
          "text": [
            "what is the first number?  5\n",
            "what is the second number?  6\n",
            "what is the third number?  7\n",
            "the maximum number is 7.0\n",
            "the minimum number is 5.0\n"
          ]
        }
      ],
      "source": [
        "n1 = float(input(\"what is the first number?  \"))\n",
        "n2 = float(input(\"what is the second number?  \"))\n",
        "n3 = float(input(\"what is the third number?  \"))\n",
        "\n",
        "print (f\"the maximum number is {max(n1, n2, n3)}\")\n",
        "print (f\"the minimum number is {min(n1,n2,n3)}\")"
      ]
    },
    {
      "cell_type": "code",
      "execution_count": null,
      "metadata": {
        "colab": {
          "base_uri": "https://localhost:8080/"
        },
        "id": "GqdBmAgPDM1j",
        "outputId": "a0c5a8a0-0854-4fc2-95a4-4bc92b2c42a2"
      },
      "outputs": [
        {
          "name": "stdout",
          "output_type": "stream",
          "text": [
            "the minimum number is 6\n",
            "the minimum number is 6\n",
            "the minimum number is : 6\n"
          ]
        }
      ],
      "source": [
        "a =6\n",
        "print (f\"a is {a}\")\n",
        "print (\"a is {}\".format(a))\n",
        "print (\"a is : \"+ str(a))"
      ]
    },
    {
      "cell_type": "markdown",
      "metadata": {
        "id": "LoMkt36AwnfN"
      },
      "source": [
        "**Exercise 3:**\n",
        "\n",
        "Write a program to accept Name, age and salary from the user and print like this:\n",
        "\n",
        "> `My name is Ali.I am 30 years old. My salary is 1155.5$`"
      ]
    },
    {
      "cell_type": "code",
      "execution_count": null,
      "metadata": {
        "colab": {
          "base_uri": "https://localhost:8080/"
        },
        "id": "K6jJVRiuxo2c",
        "outputId": "b87c67b9-d449-442a-ba76-668248281c7c"
      },
      "outputs": [
        {
          "name": "stdout",
          "output_type": "stream",
          "text": [
            "What is your full name? a\n",
            "How old are you?25\n",
            "how much is your monthly salary in USD? 1500\n",
            "My name is a. I am 25 years old. My Salary is 1500 $ \n"
          ]
        }
      ],
      "source": [
        "name = input (\"What is your full name? \")\n",
        "age = int (input(\"How old are you?\"))\n",
        "salary = int(input(\"how much is your monthly salary in USD? \"))\n",
        "print (f\"My name is {name}. I am {age} years old. My Salary is {salary} $ \")\n"
      ]
    },
    {
      "cell_type": "code",
      "execution_count": null,
      "metadata": {
        "colab": {
          "base_uri": "https://localhost:8080/"
        },
        "id": "7oJz_rEPldBq",
        "outputId": "a21f50c5-1e31-476e-e229-4e899c088962"
      },
      "outputs": [
        {
          "name": "stdout",
          "output_type": "stream",
          "text": [
            "What is your full name? a\n",
            "How old are you? 25.5\n",
            "how much is your monthly salary in USD? 1500.23111\n",
            "My name is a. I am 25.50 years old. My Salary is 1500.23 $ \n"
          ]
        }
      ],
      "source": [
        "name = input (\"What is your full name? \")\n",
        "age = float (input(\"How old are you?\"))\n",
        "salary = float(input(\"how much is your monthly salary in USD? \"))\n",
        "print (f\"My name is {name}. I am {age:0.2f} years old. My Salary is {salary:0.2f} $ \")"
      ]
    },
    {
      "cell_type": "markdown",
      "metadata": {
        "id": "m-gOAL9Xwnh4"
      },
      "source": [
        "**Exercise 4:**\n",
        "\n",
        "Write a program to accept temperature in Faherenheit and print it in Celsius.\n",
        "> C = (F - 32) * 5/9"
      ]
    },
    {
      "cell_type": "code",
      "execution_count": null,
      "metadata": {
        "colab": {
          "base_uri": "https://localhost:8080/"
        },
        "id": "m8D0Iz-EzcGI",
        "outputId": "f5396d07-964c-4a70-d74a-6c14803c99e7"
      },
      "outputs": [
        {
          "name": "stdout",
          "output_type": "stream",
          "text": [
            "what is the  fahrenheit degree you whant to convert to celcious ?  45\n",
            " the equivilant  degree for 45.0 fahrenheit is 7.22 celcious \n"
          ]
        }
      ],
      "source": [
        "fdegree = float(input(\"what is the  fahrenheit degree you whant to convert to celcious ?  \"))\n",
        "cdegree = round (((fdegree - 32) * 5/9), 2)\n",
        "print (f\" the equivilant  degree for {fdegree} fahrenheit is {cdegree} celcious \")\n"
      ]
    },
    {
      "cell_type": "markdown",
      "metadata": {
        "id": "RKiPm12Kwnk6"
      },
      "source": [
        " **Exercise 5:**\n",
        "\n",
        "Write a program to chek if a word is palindrome (read from right as read from left, as \"eye\", \"radar\" and \"madam\").\n",
        "> Print `True` or `False`"
      ]
    },
    {
      "cell_type": "code",
      "execution_count": null,
      "metadata": {
        "colab": {
          "base_uri": "https://localhost:8080/"
        },
        "id": "_Awi8q5AFDfK",
        "outputId": "58bf7378-12f1-43d4-b6d2-696143205525"
      },
      "outputs": [
        {
          "name": "stdout",
          "output_type": "stream",
          "text": [
            "Please enter the palindrome word eye\n",
            "true\n"
          ]
        }
      ],
      "source": [
        "word = input (\"Please enter the palindrome word \")\n",
        "if word == word[::-1]:\n",
        "    print(\"True\")\n",
        "else:\n",
        "    print(\"False\")"
      ]
    },
    {
      "cell_type": "code",
      "execution_count": null,
      "metadata": {
        "colab": {
          "base_uri": "https://localhost:8080/"
        },
        "id": "UCLo2FVyFWBt",
        "outputId": "5f3d9d51-d0e0-449b-e6bd-51c91f74c4c1"
      },
      "outputs": [
        {
          "name": "stdout",
          "output_type": "stream",
          "text": [
            "Please enter the palindrome word errt\n",
            "Check:  False\n"
          ]
        }
      ],
      "source": [
        "word = input (\"Please enter the palindrome word \")\n",
        "print(\"Check: \", word == word[::-1])"
      ]
    },
    {
      "cell_type": "markdown",
      "metadata": {
        "id": "HRYlC5Rownnu"
      },
      "source": [
        " **Exercise 6:**\n",
        "\n",
        "Write a program to remove the \"apple\" item from your basket\n",
        "\n",
        "> `basket = {'Orange' : 10, 'Banana': 15, 'apple' : 20}`"
      ]
    },
    {
      "cell_type": "code",
      "execution_count": null,
      "metadata": {
        "colab": {
          "base_uri": "https://localhost:8080/"
        },
        "id": "P6-Vd-hF6BM7",
        "outputId": "af18545e-3b0f-448e-b720-7b5c1b277af7"
      },
      "outputs": [
        {
          "data": {
            "text/plain": [
              "{'Orange': 10, 'Banana': 15}"
            ]
          },
          "execution_count": 23,
          "metadata": {},
          "output_type": "execute_result"
        }
      ],
      "source": [
        "basket = {'Orange' : 10, 'Banana': 15, 'apple' : 20}\n",
        "#del basket['apple']\n",
        "basket.pop('apple')\n",
        "basket"
      ]
    },
    {
      "cell_type": "markdown",
      "metadata": {
        "id": "qoAF5_rc9rtz"
      },
      "source": [
        " **Exercise 7:**\n",
        "\n",
        "Write a program to return a new set of identical items from two sets\n",
        "\n",
        "> * `Input : s1= {1,3,5,7,2,6,8},  s2 = {5,8,11,14,1}`\n",
        "* `Output : {1, 5, 8}`"
      ]
    },
    {
      "cell_type": "code",
      "execution_count": null,
      "metadata": {
        "colab": {
          "base_uri": "https://localhost:8080/"
        },
        "id": "cm4TostH664w",
        "outputId": "696d110b-5655-40d6-bfc6-c04592e1dd24"
      },
      "outputs": [
        {
          "data": {
            "text/plain": [
              "{1, 5, 8}"
            ]
          },
          "execution_count": 9,
          "metadata": {},
          "output_type": "execute_result"
        }
      ],
      "source": [
        "s1= {1,3,5,7,2,6,8}\n",
        "s2 = {5,8,11,14,1}\n",
        "s1. intersection(s2)"
      ]
    },
    {
      "cell_type": "code",
      "execution_count": null,
      "metadata": {
        "colab": {
          "base_uri": "https://localhost:8080/"
        },
        "id": "fx2LwqiVGC77",
        "outputId": "6ba512e6-00d1-40a2-9c4c-d228eb157779"
      },
      "outputs": [
        {
          "data": {
            "text/plain": [
              "{1, 5, 8}"
            ]
          },
          "execution_count": 10,
          "metadata": {},
          "output_type": "execute_result"
        }
      ],
      "source": [
        "s1 & s2"
      ]
    },
    {
      "cell_type": "markdown",
      "metadata": {
        "id": "S81APpMT-p4x"
      },
      "source": [
        " **Exercise 8:**\n",
        "\n",
        "Write a program to return a new set of Unique items from two sets\n",
        "\n",
        "* `Input : s1= {1,3,5,7,2,6,8},  s2 = {5,8,11,14,1}`\n",
        "* `Output : {1, 2, 3, 5, 6, 7, 8, 11, 14}`"
      ]
    },
    {
      "cell_type": "code",
      "execution_count": null,
      "metadata": {
        "colab": {
          "base_uri": "https://localhost:8080/"
        },
        "id": "xVOjFhLi86R4",
        "outputId": "05088269-1fc8-4b4b-91f5-63376c6b6729"
      },
      "outputs": [
        {
          "data": {
            "text/plain": [
              "{1, 2, 3, 5, 6, 7, 8, 11, 14}"
            ]
          },
          "execution_count": 11,
          "metadata": {},
          "output_type": "execute_result"
        }
      ],
      "source": [
        "s1= {1,3,5,7,2,6,8}\n",
        "s2 = {5,8,11,14,1}\n",
        "s1.union(s2)"
      ]
    },
    {
      "cell_type": "code",
      "execution_count": null,
      "metadata": {
        "colab": {
          "base_uri": "https://localhost:8080/"
        },
        "id": "YxFW5wBiGIMM",
        "outputId": "e5fb697d-c62a-4e02-f1b0-9b574bc18690"
      },
      "outputs": [
        {
          "data": {
            "text/plain": [
              "{1, 2, 3, 5, 6, 7, 8, 11, 14}"
            ]
          },
          "execution_count": 12,
          "metadata": {},
          "output_type": "execute_result"
        }
      ],
      "source": [
        "s1 | s2"
      ]
    },
    {
      "cell_type": "markdown",
      "metadata": {
        "id": "jX6u-tE6GhUj"
      },
      "source": [
        " **Exercise 9:**\n",
        "\n",
        "Write a program to Grab \"hello\"\n",
        "\n",
        "`d = {'k1':[{'nest_key':['this is deep',['hello']]}]}`\n",
        "\n"
      ]
    },
    {
      "cell_type": "code",
      "execution_count": null,
      "metadata": {
        "colab": {
          "base_uri": "https://localhost:8080/",
          "height": 35
        },
        "id": "LXXpCpJMvkwj",
        "outputId": "f3025f51-e178-4a17-b0df-81fdec2ae9e3"
      },
      "outputs": [
        {
          "data": {
            "application/vnd.google.colaboratory.intrinsic+json": {
              "type": "string"
            },
            "text/plain": [
              "'hello'"
            ]
          },
          "execution_count": 13,
          "metadata": {},
          "output_type": "execute_result"
        }
      ],
      "source": [
        "d = {'k1':[{'nest_key':['this is deep',['hello']]}]}\n",
        "d['k1'][0]['nest_key'][1][0]"
      ]
    },
    {
      "cell_type": "code",
      "execution_count": null,
      "metadata": {
        "colab": {
          "base_uri": "https://localhost:8080/"
        },
        "id": "wLsi54ca9RxA",
        "outputId": "62477fb8-4e3e-4709-a34f-dc7817615799"
      },
      "outputs": [
        {
          "name": "stdout",
          "output_type": "stream",
          "text": [
            "hello\n"
          ]
        }
      ],
      "source": [
        "d = {'k1':[{'nest_key':['this is deep',['hello']]}]}\n",
        "print(d['k1'][0]['nest_key'][1][0])"
      ]
    },
    {
      "cell_type": "code",
      "execution_count": null,
      "metadata": {
        "colab": {
          "base_uri": "https://localhost:8080/"
        },
        "id": "RRIX5eBA20wu",
        "outputId": "8a4aa15f-87ee-46bc-b004-3ae4c013957f"
      },
      "outputs": [
        {
          "data": {
            "text/plain": [
              "[{'nest_key': ['this is deep', ['hello']]}]"
            ]
          },
          "execution_count": 1,
          "metadata": {},
          "output_type": "execute_result"
        }
      ],
      "source": [
        "d = {'k1':[{'nest_key':['this is deep',['hello']]}]}\n",
        "d['k1']"
      ]
    },
    {
      "cell_type": "code",
      "execution_count": null,
      "metadata": {
        "colab": {
          "base_uri": "https://localhost:8080/"
        },
        "id": "CukHfIzX28H-",
        "outputId": "55c3a336-9295-4c05-8c3e-936131e5b7ec"
      },
      "outputs": [
        {
          "data": {
            "text/plain": [
              "{'nest_key': ['this is deep', ['hello']]}"
            ]
          },
          "execution_count": 2,
          "metadata": {},
          "output_type": "execute_result"
        }
      ],
      "source": [
        "d['k1'][0]"
      ]
    },
    {
      "cell_type": "code",
      "execution_count": null,
      "metadata": {
        "colab": {
          "base_uri": "https://localhost:8080/"
        },
        "id": "Xepd4MMe3FCW",
        "outputId": "65cfc96d-2350-4357-9a4a-6535a73086d3"
      },
      "outputs": [
        {
          "data": {
            "text/plain": [
              "['this is deep', ['hello']]"
            ]
          },
          "execution_count": 3,
          "metadata": {},
          "output_type": "execute_result"
        }
      ],
      "source": [
        "d['k1'][0]['nest_key']"
      ]
    },
    {
      "cell_type": "code",
      "execution_count": null,
      "metadata": {
        "colab": {
          "base_uri": "https://localhost:8080/"
        },
        "id": "Cij9F65u3NWU",
        "outputId": "54a044b8-f84e-43ca-db11-ccf0a14f9800"
      },
      "outputs": [
        {
          "data": {
            "text/plain": [
              "['hello']"
            ]
          },
          "execution_count": 4,
          "metadata": {},
          "output_type": "execute_result"
        }
      ],
      "source": [
        "d['k1'][0]['nest_key'][1]"
      ]
    },
    {
      "cell_type": "code",
      "execution_count": null,
      "metadata": {
        "colab": {
          "base_uri": "https://localhost:8080/",
          "height": 36
        },
        "id": "JjezbAyw3VgT",
        "outputId": "02362554-7dfd-484a-b214-43a9f24f7c2c"
      },
      "outputs": [
        {
          "data": {
            "application/vnd.google.colaboratory.intrinsic+json": {
              "type": "string"
            },
            "text/plain": [
              "'hello'"
            ]
          },
          "execution_count": 5,
          "metadata": {},
          "output_type": "execute_result"
        }
      ],
      "source": [
        "d['k1'][0]['nest_key'][1][0]"
      ]
    },
    {
      "cell_type": "markdown",
      "metadata": {
        "id": "VY6rVrZRHfRX"
      },
      "source": [
        " **Exercise 10:**\n",
        "\n",
        "Write a program to return a list of unique values of a list\n",
        "> * `Input   :[1,2,3,1,2,3,4,5,6,4,5,6]`\n",
        "* `Output  : [1,2,3,4,5,6]`"
      ]
    },
    {
      "cell_type": "code",
      "execution_count": null,
      "metadata": {
        "colab": {
          "base_uri": "https://localhost:8080/"
        },
        "id": "Xdxy5BmK96Bg",
        "outputId": "d43b69d3-9bcd-4285-a675-14a8e340a2e4"
      },
      "outputs": [
        {
          "data": {
            "text/plain": [
              "[1, 2, 3, 4, 5, 6]"
            ]
          },
          "execution_count": 2,
          "metadata": {},
          "output_type": "execute_result"
        }
      ],
      "source": [
        "lst = [1,2,3,1,2,3,4,5,6,4,5,6]\n",
        "list(set(lst))"
      ]
    },
    {
      "cell_type": "markdown",
      "metadata": {
        "id": "R8HseONe32-o"
      },
      "source": [
        "# **Exercise 11:**\n",
        "\n",
        "Modify the code below"
      ]
    },
    {
      "cell_type": "code",
      "execution_count": null,
      "metadata": {
        "colab": {
          "base_uri": "https://localhost:8080/"
        },
        "id": "dkpXuiX283Mm",
        "outputId": "e6708be8-3fef-421c-917f-1ee4787d54c0"
      },
      "outputs": [
        {
          "name": "stdout",
          "output_type": "stream",
          "text": [
            "a\n",
            "Not Found\n"
          ]
        }
      ],
      "source": [
        "books = {\n",
        "    \"Life of Pi\": \"Adventure Fiction\",\n",
        "    \"The Three Musketeers\": \"Historical Adventure\",\n",
        "    \"Watchmen\": \"Comics\",\n",
        "    \"Bird Box\": \"Horror\",\n",
        "    \"Harry Potter\":\"Fantasy Fiction\",\n",
        "    \"Good Omens\": \"Comedy\"\n",
        "}\n",
        "\n",
        "book = input()\n",
        "\n",
        "#change this part to use the .get() method\n",
        "if(book in books):\n",
        "    print(books[book])\n",
        "else:\n",
        "    print(\"Not Found\")"
      ]
    },
    {
      "cell_type": "code",
      "execution_count": null,
      "metadata": {
        "id": "8uXirpDdvrpb"
      },
      "outputs": [],
      "source": [
        "books = {\n",
        "    \"Life of Pi\": \"Adventure Fiction\",\n",
        "    \"The Three Musketeers\": \"Historical Adventure\",\n",
        "    \"Watchmen\": \"Comics\",\n",
        "    \"Bird Box\": \"Horror\",\n",
        "    \"Harry Potter\":\"Fantasy Fiction\",\n",
        "    \"Good Omens\": \"Comedy\"\n",
        "}\n"
      ]
    },
    {
      "cell_type": "code",
      "execution_count": null,
      "metadata": {
        "colab": {
          "base_uri": "https://localhost:8080/",
          "height": 52
        },
        "id": "2Se5VHy-v87F",
        "outputId": "614f7c0a-2d72-401e-80f7-5f500820c533"
      },
      "outputs": [
        {
          "name": "stdout",
          "output_type": "stream",
          "text": [
            "Please enter the book name you're lookig for: Harry Potter\n"
          ]
        },
        {
          "data": {
            "application/vnd.google.colaboratory.intrinsic+json": {
              "type": "string"
            },
            "text/plain": [
              "'Fantasy Fiction'"
            ]
          },
          "execution_count": 7,
          "metadata": {},
          "output_type": "execute_result"
        }
      ],
      "source": [
        "book = input(\"Please enter the book name you're lookig for: \")\n",
        "books.get(book, 'Error')"
      ]
    },
    {
      "cell_type": "code",
      "execution_count": null,
      "metadata": {
        "colab": {
          "base_uri": "https://localhost:8080/",
          "height": 53
        },
        "id": "KAK_b6I1v89r",
        "outputId": "f44c3078-eda6-42c8-c535-b6695db8836c"
      },
      "outputs": [
        {
          "name": "stdout",
          "output_type": "stream",
          "text": [
            "Enter a book  Good\n"
          ]
        },
        {
          "data": {
            "application/vnd.google.colaboratory.intrinsic+json": {
              "type": "string"
            },
            "text/plain": [
              "'Not Found'"
            ]
          },
          "execution_count": 6,
          "metadata": {},
          "output_type": "execute_result"
        }
      ],
      "source": [
        "books.get(input('Enter a book  '), 'Not Found')"
      ]
    },
    {
      "cell_type": "markdown",
      "metadata": {
        "id": "8XSxNew9332H"
      },
      "source": [
        "# **Exercise 12:**\n",
        "\n",
        "Write a program to calculate the Euclidean Distance between two points\n",
        "\n",
        "![](https://miro.medium.com/max/277/1*IVy5Ozk6e3sQtG_wuKo19A.jpeg)\n"
      ]
    },
    {
      "cell_type": "code",
      "execution_count": null,
      "metadata": {
        "colab": {
          "base_uri": "https://localhost:8080/"
        },
        "id": "N97Ls9uz90bM",
        "outputId": "74423f75-e41a-4649-e241-529152dbb3c3"
      },
      "outputs": [
        {
          "name": "stdout",
          "output_type": "stream",
          "text": [
            "The  Euclidean Distance between (1, 2) and (3, 4) is 2.8284271247461903\n"
          ]
        }
      ],
      "source": [
        "p1 = (1,2)\n",
        "p2 = (3,4)\n",
        "distance = ((p2[1]-p1[1])**2+(p2[0]-p1[0])**2)**0.5\n",
        "print (f\"The  Euclidean Distance between {p1} and {p2} is {distance}\")\n",
        "#calculate distance"
      ]
    },
    {
      "cell_type": "markdown",
      "metadata": {
        "id": "UFXwSrfN335T"
      },
      "source": [
        "# **Exercise 13:**\n",
        "\n",
        "Write a program to calculate how many sentances and words in the following paragraph"
      ]
    },
    {
      "cell_type": "code",
      "execution_count": null,
      "metadata": {
        "colab": {
          "base_uri": "https://localhost:8080/"
        },
        "id": "nn0apEJp-X48",
        "outputId": "6631dc22-3eb7-4233-bab2-5cb86727b26c"
      },
      "outputs": [
        {
          "name": "stdout",
          "output_type": "stream",
          "text": [
            "number of sentences is 3\n",
            "number of words is 9\n"
          ]
        }
      ],
      "source": [
        "paragraph = '''Hello Friends. This is a light exercise. Try splitting!'''\n",
        "no_sent = len (paragraph.split('.'))\n",
        "no_word = len (paragraph.split())\n",
        "print (f\"number of sentences is {no_sent}\")\n",
        "print (f\"number of words is {no_word}\")\n",
        "\n",
        "# calculate No. of Sentences & No. of words"
      ]
    },
    {
      "cell_type": "code",
      "execution_count": null,
      "metadata": {
        "colab": {
          "base_uri": "https://localhost:8080/"
        },
        "id": "JACNxtuuFDO-",
        "outputId": "731fc452-3124-4b3d-92be-157c3b1298e8"
      },
      "outputs": [
        {
          "data": {
            "text/plain": [
              "['Hello',\n",
              " 'Friends.',\n",
              " 'This',\n",
              " 'is',\n",
              " 'a',\n",
              " 'light',\n",
              " 'exercise.',\n",
              " 'Try',\n",
              " 'splitting!']"
            ]
          },
          "execution_count": 21,
          "metadata": {},
          "output_type": "execute_result"
        }
      ],
      "source": [
        "paragraph.split()"
      ]
    },
    {
      "cell_type": "code",
      "execution_count": null,
      "metadata": {
        "colab": {
          "base_uri": "https://localhost:8080/",
          "height": 35
        },
        "id": "LKK85olXicIM",
        "outputId": "f87b545e-ef08-4259-86c3-22bf319d08f0"
      },
      "outputs": [
        {
          "data": {
            "application/vnd.google.colaboratory.intrinsic+json": {
              "type": "string"
            },
            "text/plain": [
              "'.'"
            ]
          },
          "execution_count": 7,
          "metadata": {},
          "output_type": "execute_result"
        }
      ],
      "source": [
        "'.' or '!'   #  True   or   True"
      ]
    },
    {
      "cell_type": "code",
      "execution_count": null,
      "metadata": {
        "colab": {
          "base_uri": "https://localhost:8080/",
          "height": 35
        },
        "id": "K6_en8pwilcL",
        "outputId": "e9b4a9ec-21f8-41c8-a68c-94ce3038716e"
      },
      "outputs": [
        {
          "data": {
            "application/vnd.google.colaboratory.intrinsic+json": {
              "type": "string"
            },
            "text/plain": [
              "'?ssddcs'"
            ]
          },
          "execution_count": 8,
          "metadata": {},
          "output_type": "execute_result"
        }
      ],
      "source": [
        "'.' and '?ssddcs'   #  True   or   True"
      ]
    },
    {
      "cell_type": "code",
      "execution_count": null,
      "metadata": {
        "colab": {
          "base_uri": "https://localhost:8080/",
          "height": 35
        },
        "id": "z9Swl8iuwiC_",
        "outputId": "3cad559f-7eac-434f-d574-01587d633c53"
      },
      "outputs": [
        {
          "data": {
            "application/vnd.google.colaboratory.intrinsic+json": {
              "type": "string"
            },
            "text/plain": [
              "''"
            ]
          },
          "execution_count": 9,
          "metadata": {},
          "output_type": "execute_result"
        }
      ],
      "source": [
        "'' or ''   # '' -> False"
      ]
    },
    {
      "cell_type": "code",
      "execution_count": null,
      "metadata": {
        "colab": {
          "base_uri": "https://localhost:8080/",
          "height": 35
        },
        "id": "Qf_yr0PiwlIo",
        "outputId": "934db1c4-68c3-472b-8890-bb390a8eefe3"
      },
      "outputs": [
        {
          "data": {
            "application/vnd.google.colaboratory.intrinsic+json": {
              "type": "string"
            },
            "text/plain": [
              "''"
            ]
          },
          "execution_count": 11,
          "metadata": {},
          "output_type": "execute_result"
        }
      ],
      "source": [
        "\n",
        "'' and '!'"
      ]
    },
    {
      "cell_type": "code",
      "execution_count": null,
      "metadata": {
        "id": "tViivpNIwooA"
      },
      "outputs": [],
      "source": []
    }
  ],
  "metadata": {
    "colab": {
      "provenance": [],
      "include_colab_link": true
    },
    "kernelspec": {
      "display_name": "Python 3",
      "name": "python3"
    },
    "language_info": {
      "name": "python"
    }
  },
  "nbformat": 4,
  "nbformat_minor": 0
}