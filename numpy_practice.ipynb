{
  "nbformat": 4,
  "nbformat_minor": 0,
  "metadata": {
    "colab": {
      "provenance": [],
      "collapsed_sections": [
        "XYNa1JWM3JYN",
        "anhiG4MjIwTc",
        "XU6Bn5xu4P9O",
        "J36j55q4JDAG",
        "yToXMbvf_HcM",
        "F2C54w29JEzm",
        "rZQBujOJ-HsZ",
        "wbE6VrFHJF8W",
        "0_QN57WJF_HQ",
        "iNC-IUdPGDJe",
        "jqZekQSDJHKm",
        "oYHpwHEPGgvg",
        "b83I19joJIae",
        "Ujmp6XDhH3ik",
        "5O-U1l9aJKcG",
        "I3qOxQIcVP9V",
        "thiMOrniVP9b",
        "AwdmdzPtVP9c",
        "Ksnc87sZV6ML",
        "Sgtti1RdWFi9",
        "iA2puofsWWjP",
        "oW4oTqNwW8Ti",
        "6Zk0zu8HXI0Q",
        "0YZJTgryXYvD",
        "oDx3DRdRXoHb",
        "NWyJ5OZsYhI-",
        "SXRpB3dGYuSA",
        "p1e8gINTY9LH",
        "cRrtUBnAZYm3",
        "zXSXxgVtd1dZ",
        "Z5v6AuJme3Rf",
        "nD2_6W8efcTM"
      ],
      "include_colab_link": true
    },
    "kernelspec": {
      "name": "python3",
      "display_name": "Python 3"
    },
    "language_info": {
      "name": "python"
    }
  },
  "cells": [
    {
      "cell_type": "markdown",
      "metadata": {
        "id": "view-in-github",
        "colab_type": "text"
      },
      "source": [
        "<a href=\"https://colab.research.google.com/github/abdel2ty/IntenseAI_Notebooks_v1/blob/main/numpy_practice.ipynb\" target=\"_parent\"><img src=\"https://colab.research.google.com/assets/colab-badge.svg\" alt=\"Open In Colab\"/></a>"
      ]
    },
    {
      "cell_type": "markdown",
      "source": [
        "\n",
        "<a href=\"https://www.zero-grad.com/\">\n",
        "         <img alt=\"Zero Grad\" src=\"https://i.postimg.cc/y8LZ0CM6/linear-Algebra.png\" >\n",
        "      </a>"
      ],
      "metadata": {
        "id": "Ie7lnVo77Twa"
      }
    },
    {
      "cell_type": "markdown",
      "source": [
        "Reference : https://libguides.ntu.edu.sg/python/"
      ],
      "metadata": {
        "id": "9rvWS4xD1HCl"
      }
    },
    {
      "cell_type": "code",
      "source": [
        "import numpy as np"
      ],
      "metadata": {
        "id": "icm6HkNgzlCM"
      },
      "execution_count": null,
      "outputs": []
    },
    {
      "cell_type": "markdown",
      "source": [
        "# (1) Create a rank 2 array that resembles the matrix below.  \n",
        "Note: Rank is the number of dimensions of array (rank 2 = 2D)\n"
      ],
      "metadata": {
        "id": "XYNa1JWM3JYN"
      }
    },
    {
      "cell_type": "markdown",
      "source": [
        "Create a rank 2 array that resembles the matrix below.  \n",
        "\n",
        "```\n",
        "[[11 12 13 14]\n",
        " [15 16 17 18]]\n",
        "```"
      ],
      "metadata": {
        "id": "VOb_twUJ-3Hz"
      }
    },
    {
      "cell_type": "code",
      "source": [
        "# Try Here\n"
      ],
      "metadata": {
        "id": "weSBq32HIsgd"
      },
      "execution_count": null,
      "outputs": []
    },
    {
      "cell_type": "markdown",
      "source": [
        "## Solution (1)"
      ],
      "metadata": {
        "id": "anhiG4MjIwTc"
      }
    },
    {
      "cell_type": "code",
      "source": [
        "# 1. Create a rank 2 (2D) array\n",
        "myArray = np.array([[11,12,13,14],[15,16,17,18]])\n",
        "print(myArray, \"\\n\")\n",
        "\n",
        "# 2. Find out the shape of the above array\n",
        "print(\"The shape of the array is:\")\n",
        "print(myArray.shape)"
      ],
      "metadata": {
        "colab": {
          "base_uri": "https://localhost:8080/"
        },
        "id": "oK1wnjyR3REm",
        "outputId": "7ea4911d-9d56-48b7-e1a8-c168bfda0ef4"
      },
      "execution_count": null,
      "outputs": [
        {
          "output_type": "stream",
          "name": "stdout",
          "text": [
            "[[11 12 13 14]\n",
            " [15 16 17 18]] \n",
            "\n",
            "The shape of the array is:\n",
            "(2, 4)\n"
          ]
        }
      ]
    },
    {
      "cell_type": "markdown",
      "source": [
        "# (2) Creating arrays with NumPy functions"
      ],
      "metadata": {
        "id": "XU6Bn5xu4P9O"
      }
    },
    {
      "cell_type": "markdown",
      "source": [
        "1. Create an array with 4 rows and 3 columns of zeros.\n",
        "2. Create an array of ones that has 3 rows and 4 columns.\n",
        "3. Create an array containing integers 4 to 13 inclusive.\n",
        "4. Create an array from 0 to 4.5 in step of 1.5.\n",
        "5. Create a 2 by 2 array containing '4' in each position.\n",
        "6. Create Identity matrix of size 4.\n",
        "7. Create Diagonal matrix with [10,12] as the diagonals.\n",
        "8. Create a 3 by 3 array with random floats in [0, 10].\n",
        "9. Create a 3 by 3 array with random integers in [10, 20]"
      ],
      "metadata": {
        "id": "M6MHqFIS-wiE"
      }
    },
    {
      "cell_type": "code",
      "source": [
        "# Try Here\n"
      ],
      "metadata": {
        "id": "9VCNEe-ZI2rm"
      },
      "execution_count": null,
      "outputs": []
    },
    {
      "cell_type": "markdown",
      "source": [
        "## Solution (2)"
      ],
      "metadata": {
        "id": "J36j55q4JDAG"
      }
    },
    {
      "cell_type": "code",
      "source": [
        "#1\n",
        "zero = np.zeros((4,3))\n",
        "print(zero)"
      ],
      "metadata": {
        "colab": {
          "base_uri": "https://localhost:8080/"
        },
        "id": "wjH3XsOo4Dv3",
        "outputId": "acc5b499-086b-4411-b65a-33f0dad99cbc"
      },
      "execution_count": null,
      "outputs": [
        {
          "output_type": "stream",
          "name": "stdout",
          "text": [
            "[[0. 0. 0.]\n",
            " [0. 0. 0.]\n",
            " [0. 0. 0.]\n",
            " [0. 0. 0.]]\n"
          ]
        }
      ]
    },
    {
      "cell_type": "code",
      "source": [
        "#2\n",
        "one = np.ones((3,4))\n",
        "print(one)"
      ],
      "metadata": {
        "colab": {
          "base_uri": "https://localhost:8080/"
        },
        "id": "NdWX3fzx5LeY",
        "outputId": "68b316d6-a982-4267-e0ae-7aa42e82a336"
      },
      "execution_count": null,
      "outputs": [
        {
          "output_type": "stream",
          "name": "stdout",
          "text": [
            "[[1. 1. 1. 1.]\n",
            " [1. 1. 1. 1.]\n",
            " [1. 1. 1. 1.]]\n"
          ]
        }
      ]
    },
    {
      "cell_type": "code",
      "source": [
        "#3\n",
        "range1 = np.arange(4,14)\n",
        "print(range1)"
      ],
      "metadata": {
        "colab": {
          "base_uri": "https://localhost:8080/"
        },
        "id": "OUYBEnpm5Lbc",
        "outputId": "0546925c-5031-4264-f781-1049a58d872e"
      },
      "execution_count": null,
      "outputs": [
        {
          "output_type": "stream",
          "name": "stdout",
          "text": [
            "[ 4  5  6  7  8  9 10 11 12 13]\n"
          ]
        }
      ]
    },
    {
      "cell_type": "code",
      "source": [
        "#4\n",
        "print(np.linspace(0, 4.5, 4))\n",
        "print(np.arange(0, 5, 1.5))"
      ],
      "metadata": {
        "colab": {
          "base_uri": "https://localhost:8080/"
        },
        "id": "-o3-IaX35LZA",
        "outputId": "bbe51f34-d072-42f3-e2d6-d565c8d3a0df"
      },
      "execution_count": null,
      "outputs": [
        {
          "output_type": "stream",
          "name": "stdout",
          "text": [
            "[0.  1.5 3.  4.5]\n",
            "[0.  1.5 3.  4.5]\n"
          ]
        }
      ]
    },
    {
      "cell_type": "code",
      "source": [
        "#5\n",
        "print(np.full((2,2),4))"
      ],
      "metadata": {
        "colab": {
          "base_uri": "https://localhost:8080/"
        },
        "id": "SOkR2-CB5LWI",
        "outputId": "f93d51b0-e646-4882-d897-4304750aca1c"
      },
      "execution_count": null,
      "outputs": [
        {
          "output_type": "stream",
          "name": "stdout",
          "text": [
            "[[4 4]\n",
            " [4 4]]\n"
          ]
        }
      ]
    },
    {
      "cell_type": "code",
      "source": [
        "#6\n",
        "print(np.eye(4))"
      ],
      "metadata": {
        "colab": {
          "base_uri": "https://localhost:8080/"
        },
        "id": "b2epmRLV5LTG",
        "outputId": "523c39b9-6669-4dcb-89a3-b287d0c5be54"
      },
      "execution_count": null,
      "outputs": [
        {
          "output_type": "stream",
          "name": "stdout",
          "text": [
            "[[1. 0. 0. 0.]\n",
            " [0. 1. 0. 0.]\n",
            " [0. 0. 1. 0.]\n",
            " [0. 0. 0. 1.]]\n"
          ]
        }
      ]
    },
    {
      "cell_type": "code",
      "source": [
        "#7\n",
        "print(np.diag([10,12]))"
      ],
      "metadata": {
        "colab": {
          "base_uri": "https://localhost:8080/"
        },
        "id": "ycdDSd515LQL",
        "outputId": "43111895-e605-4f23-c8a7-5ae085354450"
      },
      "execution_count": null,
      "outputs": [
        {
          "output_type": "stream",
          "name": "stdout",
          "text": [
            "[[10  0]\n",
            " [ 0 12]]\n"
          ]
        }
      ]
    },
    {
      "cell_type": "code",
      "source": [
        "print(np.diag([10, 12, 15, 20]))"
      ],
      "metadata": {
        "colab": {
          "base_uri": "https://localhost:8080/"
        },
        "id": "ZeBt2PtIWNCI",
        "outputId": "900ad5cb-864b-432b-8534-011ca8cd147c"
      },
      "execution_count": null,
      "outputs": [
        {
          "output_type": "stream",
          "name": "stdout",
          "text": [
            "[[10  0  0  0]\n",
            " [ 0 12  0  0]\n",
            " [ 0  0 15  0]\n",
            " [ 0  0  0 20]]\n"
          ]
        }
      ]
    },
    {
      "cell_type": "code",
      "source": [
        "#8\n",
        "print(np.random.random((3,3))*10)\n",
        "print('*'*50)\n",
        "print(np.random.uniform(low=0, high=10, size=(3,3)))"
      ],
      "metadata": {
        "colab": {
          "base_uri": "https://localhost:8080/"
        },
        "id": "oz3ew6eJ5LLd",
        "outputId": "09499278-54fa-4619-9f01-8bb5a5bd1f88"
      },
      "execution_count": null,
      "outputs": [
        {
          "output_type": "stream",
          "name": "stdout",
          "text": [
            "[[8.22851426 8.32709879 4.78451584]\n",
            " [4.48919502 3.26704199 6.43054089]\n",
            " [3.95052331 7.64168777 9.78901381]]\n",
            "**************************************************\n",
            "[[1.34266788 0.84577827 5.52141841]\n",
            " [8.3774601  8.79519844 9.47341615]\n",
            " [7.02867017 2.29510196 2.05794636]]\n"
          ]
        }
      ]
    },
    {
      "cell_type": "code",
      "source": [
        "#9\n",
        "print(np.random.randint(low=10, high=20, size=(3,3)))\n",
        "# You can write easily like below\n",
        "#print(np.random.randint(10, 20, (3,3)))"
      ],
      "metadata": {
        "colab": {
          "base_uri": "https://localhost:8080/"
        },
        "id": "bI6Ve_z25__a",
        "outputId": "05891c92-a57e-48f2-aee4-9cb7b9aa073c"
      },
      "execution_count": null,
      "outputs": [
        {
          "output_type": "stream",
          "name": "stdout",
          "text": [
            "[[16 11 18]\n",
            " [10 11 15]\n",
            " [14 19 14]]\n"
          ]
        }
      ]
    },
    {
      "cell_type": "markdown",
      "source": [
        "# (3) Array Slicing"
      ],
      "metadata": {
        "id": "yToXMbvf_HcM"
      }
    },
    {
      "cell_type": "markdown",
      "source": [
        "\n",
        "1. Use this array for the following practice:\n",
        "```\n",
        "myArray = np.array([[11,12,13], [14,15,16], [17,18,19]])\n",
        "```\n",
        "\n",
        "    a. Get a subarray of the first row and first 2 columns. Your results should look like this:\n",
        "```\n",
        "[11 12]\n",
        "```\n",
        "\n",
        "    b. Change all elements in 1st and second row to 0. Your results should look like this:\n",
        "```\n",
        "[[ 0  0  0]\n",
        " [ 0  0  0]\n",
        " [17 18 19]]\n",
        " ```\n",
        "\n",
        "2. Create an array that contains `[0,1,2,3,4,5,6,7,8,9,10,11,12,13,14,15,16,17,18,19,20]` and reverse the order."
      ],
      "metadata": {
        "id": "38S57xYm75-v"
      }
    },
    {
      "cell_type": "code",
      "source": [
        "# Try Here\n"
      ],
      "metadata": {
        "id": "C89KrqCcI5cG"
      },
      "execution_count": null,
      "outputs": []
    },
    {
      "cell_type": "markdown",
      "source": [
        "## Solution (3)"
      ],
      "metadata": {
        "id": "F2C54w29JEzm"
      }
    },
    {
      "cell_type": "code",
      "source": [
        "#1a\n",
        "myArray = np.array([[11,12,13], [14,15,16], [17,18,19]])\n",
        "myArray_new = myArray[0,:2]\n",
        "print(myArray_new)"
      ],
      "metadata": {
        "colab": {
          "base_uri": "https://localhost:8080/"
        },
        "id": "Ci335bkQ5_83",
        "outputId": "ead4e528-fb7f-41d9-ef2f-edcdef70c546"
      },
      "execution_count": null,
      "outputs": [
        {
          "output_type": "stream",
          "name": "stdout",
          "text": [
            "[11 12]\n"
          ]
        }
      ]
    },
    {
      "cell_type": "code",
      "source": [
        "#1b\n",
        "myArray = np.array([[11,12,13], [14,15,16], [17,18,19]])\n",
        "myArray[:2,:] = 0\n",
        "print(myArray)"
      ],
      "metadata": {
        "colab": {
          "base_uri": "https://localhost:8080/"
        },
        "id": "MpiU2lVG5_56",
        "outputId": "28a6cac2-706a-4269-b549-a58abfca42ca"
      },
      "execution_count": null,
      "outputs": [
        {
          "output_type": "stream",
          "name": "stdout",
          "text": [
            "[[ 0  0  0]\n",
            " [ 0  0  0]\n",
            " [17 18 19]]\n"
          ]
        }
      ]
    },
    {
      "cell_type": "code",
      "source": [
        "#2\n",
        "myArray = np.arange(21)\n",
        "print(myArray[::-1])"
      ],
      "metadata": {
        "colab": {
          "base_uri": "https://localhost:8080/"
        },
        "id": "Qxi786w39rI4",
        "outputId": "d25d83b9-af09-4707-8950-fc339fdcef4b"
      },
      "execution_count": null,
      "outputs": [
        {
          "output_type": "stream",
          "name": "stdout",
          "text": [
            "[20 19 18 17 16 15 14 13 12 11 10  9  8  7  6  5  4  3  2  1  0]\n"
          ]
        }
      ]
    },
    {
      "cell_type": "markdown",
      "source": [
        "# (4) Array Reshaping"
      ],
      "metadata": {
        "id": "rZQBujOJ-HsZ"
      }
    },
    {
      "cell_type": "markdown",
      "source": [
        "Use this array for the following practice:\n",
        "\n",
        "`myArray = np.array([[11,12,13], [14,15,16]])`\n",
        "\n",
        "Reshape the array to an array with 3 rows. Your results should look like this:\n",
        "\n",
        "```\n",
        "[[11 12]\n",
        " [13 14]\n",
        " [15 16]]\n",
        " ```\n",
        "\n"
      ],
      "metadata": {
        "id": "zvFbndR4_V9c"
      }
    },
    {
      "cell_type": "code",
      "source": [
        "# Try Here\n"
      ],
      "metadata": {
        "id": "QNb6ZdiZI6m9"
      },
      "execution_count": null,
      "outputs": []
    },
    {
      "cell_type": "markdown",
      "source": [
        "## Solution (4)"
      ],
      "metadata": {
        "id": "wbE6VrFHJF8W"
      }
    },
    {
      "cell_type": "code",
      "source": [
        "myArray = np.array([[11,12,13],[14,15,16]])\n",
        "print(myArray)\n",
        "print()\n",
        "\n",
        "myArray = myArray.reshape(3,-1)   # .reshape automatically detects the column number. We can simply just replace the column number with -1.\n",
        "print(myArray)"
      ],
      "metadata": {
        "colab": {
          "base_uri": "https://localhost:8080/"
        },
        "id": "EC7htPdZ-G-7",
        "outputId": "acc62bcf-c02b-4d33-ba42-8fac0de415ef"
      },
      "execution_count": null,
      "outputs": [
        {
          "output_type": "stream",
          "name": "stdout",
          "text": [
            "[[11 12 13]\n",
            " [14 15 16]]\n",
            "\n",
            "[[11 12]\n",
            " [13 14]\n",
            " [15 16]]\n"
          ]
        }
      ]
    },
    {
      "cell_type": "markdown",
      "source": [
        "# (5) Math with NumPy"
      ],
      "metadata": {
        "id": "0_QN57WJF_HQ"
      }
    },
    {
      "cell_type": "markdown",
      "source": [
        "## 5.a Use this array for the following practice:\n",
        "```\n",
        "myArray = np.arange(10)\n",
        "```\n",
        "\n",
        "1. Find the square of every number in array\n",
        "\n",
        "2. Find the square root of every number in array\n",
        "\n",
        "3. Multiply the square of each number in array with its respective square root"
      ],
      "metadata": {
        "id": "iNC-IUdPGDJe"
      }
    },
    {
      "cell_type": "code",
      "source": [
        "# Try Here\n"
      ],
      "metadata": {
        "id": "TxoAVBaYI9Jv"
      },
      "execution_count": null,
      "outputs": []
    },
    {
      "cell_type": "markdown",
      "source": [
        "### Solution (5a)"
      ],
      "metadata": {
        "id": "jqZekQSDJHKm"
      }
    },
    {
      "cell_type": "code",
      "source": [
        "myArray = np.arange(10)\n",
        "\n",
        "# 1. Find the square of every number in array\n",
        "sq = myArray**2\n",
        "print(\"Question 1:\")\n",
        "print(sq, \"\\n\")\n",
        "\n",
        "\n",
        "# 2. Find the square root of every number in array\n",
        "print(\"Question 2:\")\n",
        "sqrt = np.sqrt(myArray)\n",
        "print(sqrt, \"\\n\")\n",
        "\n",
        "# 3. Multiply the square of each number in array with its respective square root\n",
        "print(\"Question 3:\")\n",
        "print(sq*sqrt)"
      ],
      "metadata": {
        "colab": {
          "base_uri": "https://localhost:8080/"
        },
        "id": "EFaALfYw-G7v",
        "outputId": "cf09b9e1-5631-40b9-d9df-153c17eca35a"
      },
      "execution_count": null,
      "outputs": [
        {
          "output_type": "stream",
          "name": "stdout",
          "text": [
            "Question 1:\n",
            "[ 0  1  4  9 16 25 36 49 64 81] \n",
            "\n",
            "Question 2:\n",
            "[0.         1.         1.41421356 1.73205081 2.         2.23606798\n",
            " 2.44948974 2.64575131 2.82842712 3.        ] \n",
            "\n",
            "Question 3:\n",
            "[  0.           1.           5.65685425  15.58845727  32.\n",
            "  55.90169944  88.18163074 129.64181424 181.01933598 243.        ]\n"
          ]
        }
      ]
    },
    {
      "cell_type": "markdown",
      "source": [
        "## 5.b Use this array for the following practice:\n",
        "\n",
        "```\n",
        "myArray = np.array([[1, 2, 3], [4, 5, 6], [7, 8, 9]])\n",
        "```\n",
        "\n",
        "1. Find the mean of this array\n",
        "\n",
        "2. Find the standard deviation by rows\n",
        "\n",
        "3. Find the maximum value in the array"
      ],
      "metadata": {
        "id": "oYHpwHEPGgvg"
      }
    },
    {
      "cell_type": "code",
      "source": [
        "# Try Here\n"
      ],
      "metadata": {
        "id": "TW2rkZqfI-VG"
      },
      "execution_count": null,
      "outputs": []
    },
    {
      "cell_type": "markdown",
      "source": [
        "### Solution (5b)"
      ],
      "metadata": {
        "id": "b83I19joJIae"
      }
    },
    {
      "cell_type": "code",
      "source": [
        "myArray = np.array([[1, 2, 3], [4, 5, 6], [7, 8, 9]])\n",
        "print(\"The original array:\\n\", myArray, \"\\n\")\n",
        "\n",
        "# 1. Find the mean of array\n",
        "print(\"The mean of elements in array:\\n\", myArray.mean(), \"\\n\")\n",
        "print(\"The mean of elements in array:\\n\", np.mean(myArray), \"\\n\")           # Overall Mean\n",
        "print(\"The mean of every column in array:\\n\", np.mean(myArray, axis =0), \"\\n\")  # Mean for every column (Through rows)\n",
        "print(\"The mean of every row in array:\\n\", np.mean(myArray, axis =1), \"\\n\")  # Mean for every row (Through columns)"
      ],
      "metadata": {
        "colab": {
          "base_uri": "https://localhost:8080/"
        },
        "id": "nrB2MVVb-G5P",
        "outputId": "ddcf3d9e-a1ee-4312-f18e-4296e159ef1b"
      },
      "execution_count": null,
      "outputs": [
        {
          "output_type": "stream",
          "name": "stdout",
          "text": [
            "The original array:\n",
            " [[1 2 3]\n",
            " [4 5 6]\n",
            " [7 8 9]] \n",
            "\n",
            "The mean of elements in array:\n",
            " 5.0 \n",
            "\n",
            "The mean of elements in array:\n",
            " 5.0 \n",
            "\n",
            "The mean of every column in array:\n",
            " [4. 5. 6.] \n",
            "\n",
            "The mean of every row in array:\n",
            " [2. 5. 8.] \n",
            "\n"
          ]
        }
      ]
    },
    {
      "cell_type": "code",
      "source": [
        "# 2. Find the standard deviation by rows\n",
        "print(\"The SD of elements by row:\\n\",np.std(myArray,axis=1), \"\\n\")\n",
        "\n",
        "# 3. Find the maximum value of the array\n",
        "print(\"The max of all elements:\\n\", np.max(myArray), \"\\n\")   # you can also use axis 0 or 1"
      ],
      "metadata": {
        "colab": {
          "base_uri": "https://localhost:8080/"
        },
        "id": "Rznd3C5L-G2r",
        "outputId": "0d027f79-f158-43e0-82c2-da62276994eb"
      },
      "execution_count": null,
      "outputs": [
        {
          "output_type": "stream",
          "name": "stdout",
          "text": [
            "The SD of elements by row:\n",
            " [0.81649658 0.81649658 0.81649658] \n",
            "\n",
            "The max of all elements:\n",
            " 9 \n",
            "\n"
          ]
        }
      ]
    },
    {
      "cell_type": "markdown",
      "source": [
        "# (6) Combining 2 arrays"
      ],
      "metadata": {
        "id": "Ujmp6XDhH3ik"
      }
    },
    {
      "cell_type": "markdown",
      "source": [
        " Combine the following arrays horizontally and vertically\n",
        "\n",
        "\n",
        "```\n",
        "x = np.arange(10).reshape(5,-1)\n",
        "y = np.arange(10,20).reshape(5,-1)\n",
        "```\n",
        "\n"
      ],
      "metadata": {
        "id": "9mC__Yl-KR-f"
      }
    },
    {
      "cell_type": "code",
      "source": [
        "# Try Here\n"
      ],
      "metadata": {
        "id": "H4FQknJsI_ZW"
      },
      "execution_count": null,
      "outputs": []
    },
    {
      "cell_type": "markdown",
      "source": [
        "## Solution (6)"
      ],
      "metadata": {
        "id": "5O-U1l9aJKcG"
      }
    },
    {
      "cell_type": "code",
      "source": [
        "x = np.arange(10).reshape(5,-1)\n",
        "y = np.arange(10,20).reshape(5,-1)\n",
        "print('x:\\n', x)\n",
        "print()\n",
        "print('y:\\n',y)"
      ],
      "metadata": {
        "id": "XbLMnykh-Gzu",
        "colab": {
          "base_uri": "https://localhost:8080/"
        },
        "outputId": "0bcac125-f5e6-4b67-ef75-d0dcef770864"
      },
      "execution_count": null,
      "outputs": [
        {
          "output_type": "stream",
          "name": "stdout",
          "text": [
            "x:\n",
            " [[0 1]\n",
            " [2 3]\n",
            " [4 5]\n",
            " [6 7]\n",
            " [8 9]]\n",
            "\n",
            "y:\n",
            " [[10 11]\n",
            " [12 13]\n",
            " [14 15]\n",
            " [16 17]\n",
            " [18 19]]\n"
          ]
        }
      ]
    },
    {
      "cell_type": "code",
      "source": [
        "# Combine them horizontally\n",
        "print(\"Combined array is:\\n\",np.concatenate([x,y], axis=1))"
      ],
      "metadata": {
        "id": "EMfbP3xL-Gwv",
        "colab": {
          "base_uri": "https://localhost:8080/"
        },
        "outputId": "bc3cf419-efde-4dfa-e988-d56cb927759f"
      },
      "execution_count": null,
      "outputs": [
        {
          "output_type": "stream",
          "name": "stdout",
          "text": [
            "Combined array is:\n",
            " [[ 0  1 10 11]\n",
            " [ 2  3 12 13]\n",
            " [ 4  5 14 15]\n",
            " [ 6  7 16 17]\n",
            " [ 8  9 18 19]]\n"
          ]
        }
      ]
    },
    {
      "cell_type": "code",
      "source": [
        "# Combine them horizontally (another method)\n",
        "print(\"Combined array is:\\n\",np.hstack([x,y]))"
      ],
      "metadata": {
        "colab": {
          "base_uri": "https://localhost:8080/"
        },
        "outputId": "07ff4fc5-e5ff-4478-8d4e-ec32fca7a58d",
        "id": "NMoIV1YCLUxW"
      },
      "execution_count": null,
      "outputs": [
        {
          "output_type": "stream",
          "name": "stdout",
          "text": [
            "Combined array is:\n",
            " [[ 0  1 10 11]\n",
            " [ 2  3 12 13]\n",
            " [ 4  5 14 15]\n",
            " [ 6  7 16 17]\n",
            " [ 8  9 18 19]]\n"
          ]
        }
      ]
    },
    {
      "cell_type": "code",
      "source": [
        "# Combine them vertically\n",
        "print(\"Combined array is:\\n\",np.concatenate([x,y], axis=0))"
      ],
      "metadata": {
        "colab": {
          "base_uri": "https://localhost:8080/"
        },
        "outputId": "03b05344-aea2-42f8-f535-6e22e39f33ca",
        "id": "pYbbbUfqLPIW"
      },
      "execution_count": null,
      "outputs": [
        {
          "output_type": "stream",
          "name": "stdout",
          "text": [
            "Combined array is:\n",
            " [[ 0  1]\n",
            " [ 2  3]\n",
            " [ 4  5]\n",
            " [ 6  7]\n",
            " [ 8  9]\n",
            " [10 11]\n",
            " [12 13]\n",
            " [14 15]\n",
            " [16 17]\n",
            " [18 19]]\n"
          ]
        }
      ]
    },
    {
      "cell_type": "code",
      "source": [
        "# Combine them vertically (another method)\n",
        "print(\"Combined array is:\\n\",np.vstack([x,y]))"
      ],
      "metadata": {
        "colab": {
          "base_uri": "https://localhost:8080/"
        },
        "outputId": "3147d5bd-2ca6-4690-83ce-505bf538dc3c",
        "id": "9QKl4A70Lc0O"
      },
      "execution_count": null,
      "outputs": [
        {
          "output_type": "stream",
          "name": "stdout",
          "text": [
            "Combined array is:\n",
            " [[ 0  1]\n",
            " [ 2  3]\n",
            " [ 4  5]\n",
            " [ 6  7]\n",
            " [ 8  9]\n",
            " [10 11]\n",
            " [12 13]\n",
            " [14 15]\n",
            " [16 17]\n",
            " [18 19]]\n"
          ]
        }
      ]
    },
    {
      "cell_type": "markdown",
      "source": [],
      "metadata": {
        "id": "nVNxpMXm-GjY"
      }
    },
    {
      "cell_type": "markdown",
      "source": [
        "# (7) Arrays Appending"
      ],
      "metadata": {
        "id": "I3qOxQIcVP9V"
      }
    },
    {
      "cell_type": "markdown",
      "source": [
        "## (7a) Adding 1 element to 1D arrays\n",
        "\n",
        "\n"
      ],
      "metadata": {
        "id": "thiMOrniVP9b"
      }
    },
    {
      "cell_type": "code",
      "source": [
        "x = np.array([1,2,3,4])\n",
        "x = np.append(x,12)\n",
        "print(x)\n"
      ],
      "metadata": {
        "colab": {
          "base_uri": "https://localhost:8080/"
        },
        "id": "Vvc9RbJdVP9b",
        "outputId": "a561e396-86d7-4d9f-867c-9624952ceaa7"
      },
      "execution_count": null,
      "outputs": [
        {
          "output_type": "stream",
          "name": "stdout",
          "text": [
            "[ 1  2  3  4 12]\n"
          ]
        }
      ]
    },
    {
      "cell_type": "markdown",
      "source": [
        "## (7b) Adding multiple elements to 1D arrays\n"
      ],
      "metadata": {
        "id": "AwdmdzPtVP9c"
      }
    },
    {
      "cell_type": "code",
      "source": [
        "x = np.array([1,2,3,4])\n",
        "print(x)\n",
        "\n",
        "x = np.append(x,[12,13])\n",
        "print(x)"
      ],
      "metadata": {
        "colab": {
          "base_uri": "https://localhost:8080/"
        },
        "id": "53UNyC5MVzYe",
        "outputId": "1dc35f2c-f7ad-4f51-b98f-3b944b084ea5"
      },
      "execution_count": null,
      "outputs": [
        {
          "output_type": "stream",
          "name": "stdout",
          "text": [
            "[1 2 3 4]\n",
            "[ 1  2  3  4 12 13]\n"
          ]
        }
      ]
    },
    {
      "cell_type": "markdown",
      "source": [
        "## (7c) Adding extra rows to 2D arrays"
      ],
      "metadata": {
        "id": "Ksnc87sZV6ML"
      }
    },
    {
      "cell_type": "code",
      "source": [
        "y = np.array([[1,2],[3,4]])\n",
        "y = np.append(y,[[11,12]],axis = 0)\n",
        "print(y)"
      ],
      "metadata": {
        "colab": {
          "base_uri": "https://localhost:8080/"
        },
        "id": "jIYvEpk_V_KF",
        "outputId": "796fce0b-d7bd-453d-b96e-11cd16d7d069"
      },
      "execution_count": null,
      "outputs": [
        {
          "output_type": "stream",
          "name": "stdout",
          "text": [
            "[[ 1  2]\n",
            " [ 3  4]\n",
            " [11 12]]\n"
          ]
        }
      ]
    },
    {
      "cell_type": "markdown",
      "source": [
        "## (7d) Adding extra columns to 2D arrays"
      ],
      "metadata": {
        "id": "Sgtti1RdWFi9"
      }
    },
    {
      "cell_type": "code",
      "source": [
        "y = np.array([[1,2],[3,4]])\n",
        "y = np.append(y,[[11],[12]],axis = 1)\n",
        "print(y)"
      ],
      "metadata": {
        "colab": {
          "base_uri": "https://localhost:8080/"
        },
        "id": "poiYYDXYV_HF",
        "outputId": "05ec5c96-56f8-4574-fbb2-1bde6ae204b9"
      },
      "execution_count": null,
      "outputs": [
        {
          "output_type": "stream",
          "name": "stdout",
          "text": [
            "[[ 1  2 11]\n",
            " [ 3  4 12]]\n"
          ]
        }
      ]
    },
    {
      "cell_type": "markdown",
      "source": [
        "# (8) Arrays Inserting"
      ],
      "metadata": {
        "id": "iA2puofsWWjP"
      }
    },
    {
      "cell_type": "markdown",
      "source": [
        "**Note:**  `np.append` only adds elements to the last row/column while `np.insert` lets you add elements in a specific spot."
      ],
      "metadata": {
        "id": "6fhzrRIlWwVB"
      }
    },
    {
      "cell_type": "markdown",
      "source": [
        "## (8a) Insert elements to 1D arrays"
      ],
      "metadata": {
        "id": "oW4oTqNwW8Ti"
      }
    },
    {
      "cell_type": "code",
      "source": [
        "x = np.array([1,2,3,4])\n",
        "x = np.insert(x,2,[11,12,13])\n",
        "print(x)"
      ],
      "metadata": {
        "colab": {
          "base_uri": "https://localhost:8080/"
        },
        "id": "B7VGOPa1V-pr",
        "outputId": "97463efe-12b1-464d-df9d-53518b8b4683"
      },
      "execution_count": null,
      "outputs": [
        {
          "output_type": "stream",
          "name": "stdout",
          "text": [
            "[ 1  2 11 12 13  3  4]\n"
          ]
        }
      ]
    },
    {
      "cell_type": "markdown",
      "source": [
        "## (8b) Insert elements to a row in 2D arrays\n"
      ],
      "metadata": {
        "id": "6Zk0zu8HXI0Q"
      }
    },
    {
      "cell_type": "code",
      "source": [
        "y = np.array([[1,2],[3,4]])\n",
        "print(\"The original array:\\n\", y, \"\\n\")\n",
        "\n",
        "y = np.insert(y,1,[11,12],axis = 0)\n",
        "print(\"The updated array:\\n\", y, \"\\n\")\n"
      ],
      "metadata": {
        "colab": {
          "base_uri": "https://localhost:8080/"
        },
        "id": "OdTndVz1XLj6",
        "outputId": "222ff055-b184-44d8-f95e-e894642022f6"
      },
      "execution_count": null,
      "outputs": [
        {
          "output_type": "stream",
          "name": "stdout",
          "text": [
            "The original array:\n",
            " [[1 2]\n",
            " [3 4]] \n",
            "\n",
            "The updated array:\n",
            " [[ 1  2]\n",
            " [11 12]\n",
            " [ 3  4]] \n",
            "\n"
          ]
        }
      ]
    },
    {
      "cell_type": "markdown",
      "source": [
        "## (8c) Insert elements in a column to 2D arrays"
      ],
      "metadata": {
        "id": "0YZJTgryXYvD"
      }
    },
    {
      "cell_type": "code",
      "source": [
        "y = np.array([[1,2],[3,4]])\n",
        "print(\"The original array:\\n\", y, \"\\n\")\n",
        "\n",
        "y = np.insert(y,2,11,axis = 1)\n",
        "print(\"The updated  array:\\n\", y, \"\\n\")"
      ],
      "metadata": {
        "colab": {
          "base_uri": "https://localhost:8080/"
        },
        "id": "vVFkcvdnXLg6",
        "outputId": "bf0f5656-8d8a-4fde-cdda-9748beae1ec6"
      },
      "execution_count": null,
      "outputs": [
        {
          "output_type": "stream",
          "name": "stdout",
          "text": [
            "The original array:\n",
            " [[1 2]\n",
            " [3 4]] \n",
            "\n",
            "The updated  array:\n",
            " [[ 1  2 11]\n",
            " [ 3  4 11]] \n",
            "\n"
          ]
        }
      ]
    },
    {
      "cell_type": "markdown",
      "source": [
        "## Exercise\n",
        "1. Add 1 column of 1 to this array: myArray = np.zeros((2,2))\n",
        "2. Add 2 rows of 2 to the answer from part 1\n",
        "3. Remove the last column\n",
        "4. Remove the last row"
      ],
      "metadata": {
        "id": "oDx3DRdRXoHb"
      }
    },
    {
      "cell_type": "code",
      "source": [
        "myArray = np.zeros((2,2))\n",
        "print(myArray, \"\\n\")\n",
        "\n",
        "# 1. Add 1 column of 1\n",
        "myArray_1 = np.append(myArray,np.ones((2,1)),axis = 1)\n",
        "print(myArray_1, \"\\n\")\n",
        "\n",
        "# 2. Add 2 rows of 2 to the answer from part 1\n",
        "myArray_2 = np.append(myArray_1,[[2,2,2],[2,2,2]],axis = 0)\n",
        "print(myArray_2, \"\\n\")\n",
        "\n",
        "# 3. Remove the last column\n",
        "myArray_3 = np.delete(myArray_2,2,axis=1)\n",
        "print(myArray_3, \"\\n\")\n",
        "\n",
        "# 4. Remove the last row\n",
        "myArray_4 = np.delete(myArray_3,3,axis=0)\n",
        "print(myArray_4)"
      ],
      "metadata": {
        "colab": {
          "base_uri": "https://localhost:8080/"
        },
        "id": "gZzqhvK5XLeV",
        "outputId": "2632013a-32c6-43b9-ef61-036120d9f315"
      },
      "execution_count": null,
      "outputs": [
        {
          "output_type": "stream",
          "name": "stdout",
          "text": [
            "[[0. 0.]\n",
            " [0. 0.]] \n",
            "\n",
            "[[0. 0. 1.]\n",
            " [0. 0. 1.]] \n",
            "\n",
            "[[0. 0. 1.]\n",
            " [0. 0. 1.]\n",
            " [2. 2. 2.]\n",
            " [2. 2. 2.]] \n",
            "\n",
            "[[0. 0.]\n",
            " [0. 0.]\n",
            " [2. 2.]\n",
            " [2. 2.]] \n",
            "\n",
            "[[0. 0.]\n",
            " [0. 0.]\n",
            " [2. 2.]]\n"
          ]
        }
      ]
    },
    {
      "cell_type": "code",
      "source": [],
      "metadata": {
        "id": "1DUKTiw8XLba"
      },
      "execution_count": null,
      "outputs": []
    },
    {
      "cell_type": "markdown",
      "source": [
        "# (9) Deleting elements from arrays"
      ],
      "metadata": {
        "id": "NWyJ5OZsYhI-"
      }
    },
    {
      "cell_type": "markdown",
      "source": [
        "## (9a) Deleting elements from 1D Arrays"
      ],
      "metadata": {
        "id": "SXRpB3dGYuSA"
      }
    },
    {
      "cell_type": "code",
      "source": [
        "x = np.array([1,2,3,4])\n",
        "x = np.delete(x,[0,2])      # delete the 2nd and 4th elements\n",
        "print(x)"
      ],
      "metadata": {
        "colab": {
          "base_uri": "https://localhost:8080/"
        },
        "id": "fhev_pygYmYy",
        "outputId": "c6b83436-0853-401d-fa8a-bb7317f603be"
      },
      "execution_count": null,
      "outputs": [
        {
          "output_type": "stream",
          "name": "stdout",
          "text": [
            "[2 4]\n"
          ]
        }
      ]
    },
    {
      "cell_type": "markdown",
      "source": [
        "## (9b) Deleting elements from 2D Arrays"
      ],
      "metadata": {
        "id": "p1e8gINTY9LH"
      }
    },
    {
      "cell_type": "code",
      "source": [
        "y = np.array([[1,2],[3,4]])\n",
        "print(\"The original array:\")\n",
        "print(y)\n",
        "print()\n",
        "\n",
        "y = np.delete(y, 0, axis = 1)\n",
        "print(\"After deleting elements from the first column:\")\n",
        "print(y)"
      ],
      "metadata": {
        "colab": {
          "base_uri": "https://localhost:8080/"
        },
        "id": "EvyDtCQLYmV_",
        "outputId": "45a70a3e-ddf9-433b-af14-d7e5c92fc241"
      },
      "execution_count": null,
      "outputs": [
        {
          "output_type": "stream",
          "name": "stdout",
          "text": [
            "The original array:\n",
            "[[1 2]\n",
            " [3 4]]\n",
            "\n",
            "After deleting elements from the first column:\n",
            "[[2]\n",
            " [4]]\n"
          ]
        }
      ]
    },
    {
      "cell_type": "code",
      "source": [
        "y = np.array([[1,2],[3,4]])\n",
        "print(\"The original array:\")\n",
        "print(y)\n",
        "print()\n",
        "\n",
        "y = np.delete(y, 0, axis = 0)\n",
        "print(\"After deleting elements from the first row:\")\n",
        "print(y)"
      ],
      "metadata": {
        "colab": {
          "base_uri": "https://localhost:8080/"
        },
        "id": "Mj2n8hr1YmTR",
        "outputId": "fc884529-6626-470a-bba7-a9cacd141553"
      },
      "execution_count": null,
      "outputs": [
        {
          "output_type": "stream",
          "name": "stdout",
          "text": [
            "The original array:\n",
            "[[1 2]\n",
            " [3 4]]\n",
            "\n",
            "After deleting elements from the first row:\n",
            "[[3 4]]\n"
          ]
        }
      ]
    },
    {
      "cell_type": "markdown",
      "source": [
        "# (10)  Arrays Sorting"
      ],
      "metadata": {
        "id": "cRrtUBnAZYm3"
      }
    },
    {
      "cell_type": "markdown",
      "source": [
        "## (10a) Sorting elements in arrays\n"
      ],
      "metadata": {
        "id": "zXSXxgVtd1dZ"
      }
    },
    {
      "cell_type": "code",
      "source": [
        "x = np.array([3,2,1,4])\n",
        "print('x :', x)\n",
        "\n",
        "# When used as a function, the original array stays the same\n",
        "sorted_x = np.sort(x)\n",
        "print('sorted_x :', sorted_x)\n",
        "print('x :', x)\n"
      ],
      "metadata": {
        "colab": {
          "base_uri": "https://localhost:8080/"
        },
        "id": "h7LotFFYYmQ_",
        "outputId": "e24b21a6-cd15-4414-c441-b2e809cac9fd"
      },
      "execution_count": null,
      "outputs": [
        {
          "output_type": "stream",
          "name": "stdout",
          "text": [
            "x : [3 2 1 4]\n",
            "sorted_x : [1 2 3 4]\n",
            "x : [3 2 1 4]\n"
          ]
        }
      ]
    },
    {
      "cell_type": "code",
      "source": [
        "x = np.array([3,2,1,4])\n",
        "print('x :', x)\n",
        "\n",
        "# When used as a method, the original array changes\n",
        "x.sort()\n",
        "print('x after sorting :', x)"
      ],
      "metadata": {
        "colab": {
          "base_uri": "https://localhost:8080/"
        },
        "id": "eVJSjA6LYmOY",
        "outputId": "02f4cf26-fa69-4789-c463-fdd8c60a5b49"
      },
      "execution_count": null,
      "outputs": [
        {
          "output_type": "stream",
          "name": "stdout",
          "text": [
            "x : [3 2 1 4]\n",
            "x after sorting : [1 2 3 4]\n"
          ]
        }
      ]
    },
    {
      "cell_type": "markdown",
      "source": [
        "## (10b) Sort by rows or columns\n"
      ],
      "metadata": {
        "id": "Z5v6AuJme3Rf"
      }
    },
    {
      "cell_type": "code",
      "source": [
        "y = np.array([[2,7,3],[8,3,5],[4,0,9]])\n",
        "print(\"The original array:\\n\", y, \"\\n\")\n",
        "\n",
        "# Sort elements in rows\n",
        "y = np.sort(y,axis = 1)\n",
        "print(\"Sort rows:\\n\", y, \"\\n\")"
      ],
      "metadata": {
        "colab": {
          "base_uri": "https://localhost:8080/"
        },
        "id": "0WNzvKFTYmLW",
        "outputId": "7f35bffd-34a6-4929-e293-32c4f877b54c"
      },
      "execution_count": null,
      "outputs": [
        {
          "output_type": "stream",
          "name": "stdout",
          "text": [
            "The original array:\n",
            " [[2 7 3]\n",
            " [8 3 5]\n",
            " [4 0 9]] \n",
            "\n",
            "Sort rows:\n",
            " [[2 3 7]\n",
            " [3 5 8]\n",
            " [0 4 9]] \n",
            "\n"
          ]
        }
      ]
    },
    {
      "cell_type": "code",
      "source": [
        "y = np.array([[2,7,3],[8,3,5],[4,0,9]])\n",
        "print(\"The original array:\\n\", y, \"\\n\")\n",
        "\n",
        "# Sort elements in columns\n",
        "y = np.sort(y,axis = 0)\n",
        "print(\"Sort columns:\\n\", y, \"\\n\")"
      ],
      "metadata": {
        "colab": {
          "base_uri": "https://localhost:8080/"
        },
        "id": "t09massYe9Vb",
        "outputId": "2b4ff3d5-e812-48a1-d2e4-7d3b51abb3cf"
      },
      "execution_count": null,
      "outputs": [
        {
          "output_type": "stream",
          "name": "stdout",
          "text": [
            "The original array:\n",
            " [[2 7 3]\n",
            " [8 3 5]\n",
            " [4 0 9]] \n",
            "\n",
            "Sort columns:\n",
            " [[2 0 3]\n",
            " [4 3 5]\n",
            " [8 7 9]] \n",
            "\n"
          ]
        }
      ]
    },
    {
      "cell_type": "markdown",
      "source": [
        "# (11) Comparing 2 arrays"
      ],
      "metadata": {
        "id": "nD2_6W8efcTM"
      }
    },
    {
      "cell_type": "code",
      "source": [
        "x = np.ones(10)\n",
        "y = np.arange(10)\n",
        "\n",
        "print(\"Array X:\\n\", x, \"\\n\")\n",
        "print(\"Array Y:\\n\", y, \"\\n\")\n",
        "\n",
        "print(\"1. The index of elements that are the same in both arrays:\")\n",
        "print(np.where(x == y), \"\\n\")\n",
        "\n",
        "print(\"2. The index of elements in x that are bigger than or equal to its corresponding element in y:\")\n",
        "print(np.where(x >= y), \"\\n\")\n",
        "\n",
        "print(\"3. The index of elements in x multiplied by 2 that are smaller than its corresponding element in y:\")\n",
        "print(np.where(2*x < y), \"\\n\")\n",
        "\n",
        "print(\"4. The index of elements in y that are bigger than 5:\")\n",
        "print(np.where(y > 5), \"\\n\")"
      ],
      "metadata": {
        "colab": {
          "base_uri": "https://localhost:8080/"
        },
        "id": "v2HorFf8fmWK",
        "outputId": "8db49f80-28d4-4d89-ec08-10109c62c19f"
      },
      "execution_count": null,
      "outputs": [
        {
          "output_type": "stream",
          "name": "stdout",
          "text": [
            "Array X:\n",
            " [1. 1. 1. 1. 1. 1. 1. 1. 1. 1.] \n",
            "\n",
            "Array Y:\n",
            " [0 1 2 3 4 5 6 7 8 9] \n",
            "\n",
            "1. The index of elements that are the same in both arrays:\n",
            "(array([1]),) \n",
            "\n",
            "2. The index of elements in x that are bigger than or equal to its corresponding element in y:\n",
            "(array([0, 1]),) \n",
            "\n",
            "3. The index of elements in x multiplied by 2 that are smaller than its corresponding element in y:\n",
            "(array([3, 4, 5, 6, 7, 8, 9]),) \n",
            "\n",
            "4. The index of elements in y that are bigger than 5:\n",
            "(array([6, 7, 8, 9]),) \n",
            "\n"
          ]
        }
      ]
    },
    {
      "cell_type": "code",
      "source": [
        "x = np.ones(10)\n",
        "y = np.arange(10)\n",
        "\n",
        "print(\"Array A:\\n\", x, \"\\n\")\n",
        "print(\"Array B:\\n\", y, \"\\n\")\n",
        "\n",
        "print(\"Which element in y is bigger than 3?\\n\")\n",
        "print(y > 3, \"\\n\")\n",
        "print(\"Elements 0 to 3 smaller than 3, while elements 4 to 9 are bigger than 3.\\n\")\n",
        "\n",
        "print(\"List the index of elements in y that are bigger than 3: \\n\")\n",
        "print(y[y>3])"
      ],
      "metadata": {
        "colab": {
          "base_uri": "https://localhost:8080/"
        },
        "id": "A08BugPCfmPL",
        "outputId": "2f86adea-b032-4575-e84c-d1d1a5b12a6b"
      },
      "execution_count": null,
      "outputs": [
        {
          "output_type": "stream",
          "name": "stdout",
          "text": [
            "Array A:\n",
            " [1. 1. 1. 1. 1. 1. 1. 1. 1. 1.] \n",
            "\n",
            "Array B:\n",
            " [0 1 2 3 4 5 6 7 8 9] \n",
            "\n",
            "Which element in y is bigger than 3?\n",
            "\n",
            "[False False False False  True  True  True  True  True  True] \n",
            "\n",
            "Elements 0 to 3 smaller than 3, while elements 4 to 9 are bigger than 3.\n",
            "\n",
            "List the index of elements in y that are bigger than 3: \n",
            "\n",
            "[4 5 6 7 8 9]\n"
          ]
        }
      ]
    },
    {
      "cell_type": "code",
      "source": [
        "print(y[np.where(y>3)])     # alternative to y[y>3]"
      ],
      "metadata": {
        "colab": {
          "base_uri": "https://localhost:8080/"
        },
        "id": "pxFJUTKXf32U",
        "outputId": "520cb913-e1a8-4d00-dfed-110a47be30b7"
      },
      "execution_count": null,
      "outputs": [
        {
          "output_type": "stream",
          "name": "stdout",
          "text": [
            "[4 5 6 7 8 9]\n"
          ]
        }
      ]
    }
  ]
}