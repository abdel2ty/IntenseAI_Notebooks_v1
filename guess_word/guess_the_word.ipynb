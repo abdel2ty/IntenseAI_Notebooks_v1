{
 "cells": [
  {
   "cell_type": "markdown",
   "metadata": {},
   "source": [
    "## Word Guessing Game Project\n",
    "\n",
    "### Description:\n",
    "Create a Python program that simulates a word guessing game with a limited number of trials.\n",
    "\n",
    "### Objectives:\n",
    "- Randomly select a word from a list.\n",
    "- Display the word with guessed letters revealed and unguessed letters as dots.\n",
    "- Allow the user to guess one letter at a time.\n",
    "- Limit the number of incorrect guesses the user can make.\n",
    "- Notify the user if their guess is correct or incorrect.\n",
    "- End the game when the word is fully guessed or when the user runs out of trials.\n",
    "- Display a congratulatory message if the word is guessed correctly or a game over message if the trials are exhausted.\n",
    "\n",
    "### Features:\n",
    "- **Random Word Selection:** \n",
    "  - The program will randomly choose a word from a predefined list of words.\n",
    "- **Word Display:**\n",
    "  - The program will show the word with guessed letters revealed and the remaining letters as dots (e.g., \"p.y.h.n\").\n",
    "- **User Input:**\n",
    "  - The user will be prompted to enter a single letter in each attempt.\n",
    "- **Guess Validation:**\n",
    "  - The program will validate the user's input to ensure it is a single alphabetic character.\n",
    "  - If the user guesses a letter that has already been guessed, they will be notified and asked to try another letter.\n",
    "- **Tracking Trials:**\n",
    "  - The program will keep count of how many incorrect guesses the user has made.\n",
    "  - The game will end if the user reaches the maximum number of allowed incorrect guesses.\n",
    "- **Feedback:**\n",
    "  - The user will be informed if their guess is correct or incorrect.\n",
    "- **Game Completion:**\n",
    "  - The game continues until the user successfully guesses all the letters in the word or exhausts the allowed number of incorrect guesses.\n",
    "  - Once the word is fully guessed, the program will congratulate the user.\n",
    "  - If the user runs out of trials, the program will display a game over message with the correct word.\n",
    "\n"
   ]
  }
 ],
 "metadata": {
  "kernelspec": {
   "display_name": "base",
   "language": "python",
   "name": "python3"
  },
  "language_info": {
   "codemirror_mode": {
    "name": "ipython",
    "version": 3
   },
   "file_extension": ".py",
   "mimetype": "text/x-python",
   "name": "python",
   "nbconvert_exporter": "python",
   "pygments_lexer": "ipython3",
   "version": "3.9.12"
  }
 },
 "nbformat": 4,
 "nbformat_minor": 2
}
