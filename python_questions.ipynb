{
  "cells": [
    {
      "cell_type": "markdown",
      "metadata": {
        "id": "view-in-github",
        "colab_type": "text"
      },
      "source": [
        "<a href=\"https://colab.research.google.com/github/abdel2ty/IntenseAI_Notebooks_v1/blob/main/python_questions.ipynb\" target=\"_parent\"><img src=\"https://colab.research.google.com/assets/colab-badge.svg\" alt=\"Open In Colab\"/></a>"
      ]
    },
    {
      "cell_type": "markdown",
      "id": "b0e54bd3",
      "metadata": {
        "jp-MarkdownHeadingCollapsed": true,
        "id": "b0e54bd3"
      },
      "source": [
        "## Question 1:\n",
        "Write a Python function called greet_user that takes two parameters: name (a string representing the user's name) and greeting (a string representing a greeting message). The function should print the personalized greeting message. If the greeting parameter is not provided, the function should use \"Hello\" as the default greeting.\n",
        "\n",
        "Expected Output:\n",
        "\n",
        "If the user's name is \"Alice\" and no specific greeting is provided, the function should print \"Hello, Alice!\".\n",
        "\n",
        "Please write the Python code for the greet_user function and demonstrate its usage with different examples, both with and without a specific greeting"
      ]
    },
    {
      "cell_type": "code",
      "execution_count": null,
      "id": "1d79fb4f",
      "metadata": {
        "id": "1d79fb4f",
        "outputId": "32e17574-785d-47fc-f387-2e6f1cea0ce8"
      },
      "outputs": [
        {
          "name": "stdout",
          "output_type": "stream",
          "text": [
            "Hello, Alice!\n",
            "Good morning, Alice!\n",
            "Hi there, Bob!\n"
          ]
        }
      ],
      "source": []
    },
    {
      "cell_type": "code",
      "execution_count": null,
      "id": "443d7134",
      "metadata": {
        "id": "443d7134"
      },
      "outputs": [],
      "source": []
    },
    {
      "cell_type": "markdown",
      "id": "25f4dc00",
      "metadata": {
        "jp-MarkdownHeadingCollapsed": true,
        "id": "25f4dc00"
      },
      "source": [
        "## Question 2:\n",
        "Write a Python program that takes two tuples as input, each containing integers, and returns a new tuple containing the element-wise sum of the corresponding elements from the input tuples. Assume the input tuples have the same length.\n",
        "\n",
        "Expected Output:\n",
        "\n",
        "If the input tuples are (1, 2, 3) and (4, 5, 6), the program should return (5, 7, 9).\n",
        "Please write the Python code to accomplish this task."
      ]
    },
    {
      "cell_type": "code",
      "execution_count": null,
      "id": "c96794fa",
      "metadata": {
        "id": "c96794fa",
        "outputId": "3e0be15a-6c99-4ae1-ac7e-9f2470301845"
      },
      "outputs": [
        {
          "name": "stdout",
          "output_type": "stream",
          "text": [
            "The element-wise sum of the input tuples is: (5, 7, 9)\n"
          ]
        }
      ],
      "source": [
        "# Take two tuples as input\n",
        "try:\n",
        "    tuple1 = tuple(int(num) for num in input(\"Enter the first tuple of integers separated by spaces: \").split())\n",
        "    tuple2 = tuple(int(num) for num in input(\"Enter the second tuple of integers separated by spaces: \").split())\n",
        "\n",
        "    # Check if the tuples have the same length\n",
        "    if len(tuple1) != len(tuple2):\n",
        "        raise ValueError(\"Tuples must have the same length.\")\n",
        "except ValueError as e:\n",
        "    print(f\"Invalid input: {e}\")\n",
        "    exit()\n",
        "\n"
      ]
    },
    {
      "cell_type": "code",
      "execution_count": null,
      "id": "76315d14",
      "metadata": {
        "id": "76315d14"
      },
      "outputs": [],
      "source": []
    },
    {
      "cell_type": "markdown",
      "id": "e1527bcf",
      "metadata": {
        "id": "e1527bcf"
      },
      "source": [
        "## Question 3:\n",
        "Write a Python program that prompts the user to guess a secret number between 1 and 10. The program should continue to prompt the user for guesses until they correctly guess the secret number. Provide feedback to the user if their guess is too high or too low.\n",
        "\n",
        "Expected Output:\n",
        "\n",
        "If the secret number is 7 and the user's guesses are 5, 8, 7, the program should print:\n",
        "\n",
        "\"Too low! Try again.\"\n",
        "\n",
        "\"Too high! Try again.\"\n",
        "\n",
        "\"Congratulations! You guessed the secret number 7.\"\n",
        "\n",
        "Please write the Python code for this guessing game using a while loop."
      ]
    },
    {
      "cell_type": "code",
      "execution_count": null,
      "id": "c028333a",
      "metadata": {
        "id": "c028333a",
        "outputId": "0925d455-58de-4e46-b1c6-7448f7fdd6f7"
      },
      "outputs": [
        {
          "name": "stdout",
          "output_type": "stream",
          "text": [
            "Too high! Try again.\n",
            "Too low! Try again.\n",
            "Congratulations! You guessed the secret number 7.\n"
          ]
        }
      ],
      "source": [
        "# Generate a secret number between 1 and 10\n",
        "\n",
        "# Initialize the user's guess to an invalid value\n",
        "\n",
        "# Prompt the user to guess the secret number\n",
        "\n",
        "\n",
        "# End of the game\n"
      ]
    },
    {
      "cell_type": "code",
      "execution_count": null,
      "id": "715e937f",
      "metadata": {
        "id": "715e937f"
      },
      "outputs": [],
      "source": []
    },
    {
      "cell_type": "markdown",
      "id": "cd0611d5",
      "metadata": {
        "id": "cd0611d5"
      },
      "source": [
        "## Question 4:\n",
        "Write a Python program that takes a list of words as input and creates a dictionary where the keys are the unique words in the list, and the values are lists containing the indices (positions) at which each word appears in the list.\n",
        "\n",
        "Expected Output:\n",
        "\n",
        "If the input list is [\"apple\", \"banana\", \"orange\", \"banana\", \"kiwi\", \"apple\"], the program should return {'apple': [0], 'banana': [1], 'orange': [3], 'kiwi': [4]}.\n",
        "Please write the Python code to accomplish this task."
      ]
    },
    {
      "cell_type": "code",
      "execution_count": null,
      "id": "f9b00cd9",
      "metadata": {
        "id": "f9b00cd9"
      },
      "outputs": [],
      "source": []
    },
    {
      "cell_type": "code",
      "execution_count": null,
      "id": "d48f553a",
      "metadata": {
        "id": "d48f553a",
        "outputId": "f3b72f3d-f40e-420b-aa19-b2d219c24f4b"
      },
      "outputs": [
        {
          "name": "stdout",
          "output_type": "stream",
          "text": [
            "{'apple': [0], 'banana': [1], 'orange': [2], 'kiwi': [3]}\n"
          ]
        }
      ],
      "source": [
        "# Take a list of words as input\n",
        "\n",
        "# Create a dictionary with word indices\n",
        "\n",
        "# Print the resulting dictionary\n"
      ]
    },
    {
      "cell_type": "code",
      "execution_count": null,
      "id": "6d606be2",
      "metadata": {
        "id": "6d606be2"
      },
      "outputs": [],
      "source": []
    }
  ],
  "metadata": {
    "kernelspec": {
      "display_name": "Python 3 (ipykernel)",
      "language": "python",
      "name": "python3"
    },
    "language_info": {
      "codemirror_mode": {
        "name": "ipython",
        "version": 3
      },
      "file_extension": ".py",
      "mimetype": "text/x-python",
      "name": "python",
      "nbconvert_exporter": "python",
      "pygments_lexer": "ipython3",
      "version": "3.13.5"
    },
    "colab": {
      "provenance": [],
      "include_colab_link": true
    }
  },
  "nbformat": 4,
  "nbformat_minor": 5
}