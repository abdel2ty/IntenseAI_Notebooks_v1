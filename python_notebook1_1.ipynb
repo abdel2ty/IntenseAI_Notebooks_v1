{
  "cells": [
    {
      "cell_type": "markdown",
      "metadata": {
        "id": "view-in-github",
        "colab_type": "text"
      },
      "source": [
        "<a href=\"https://colab.research.google.com/github/abdel2ty/IntenseAI_Notebooks_v1/blob/main/python_notebook1_1.ipynb\" target=\"_parent\"><img src=\"https://colab.research.google.com/assets/colab-badge.svg\" alt=\"Open In Colab\"/></a>"
      ]
    },
    {
      "cell_type": "markdown",
      "id": "e1aa6fd3",
      "metadata": {
        "id": "e1aa6fd3"
      },
      "source": [
        "# Python Sessions with Evergreen - Session 1"
      ]
    },
    {
      "cell_type": "markdown",
      "id": "27007459",
      "metadata": {
        "id": "27007459"
      },
      "source": [
        "### Print a message onto the screen:"
      ]
    },
    {
      "cell_type": "code",
      "execution_count": null,
      "id": "6ea9a412",
      "metadata": {
        "tags": [],
        "id": "6ea9a412",
        "outputId": "ff438b98-e49d-4c7e-fa0d-321040beb667"
      },
      "outputs": [
        {
          "name": "stdout",
          "output_type": "stream",
          "text": [
            "Mahmoud talaat \n",
            "age = 40 \n",
            "salary = 100K \n"
          ]
        }
      ],
      "source": [
        "print(\"\"\"Mahmoud talaat\n",
        "age = 40\n",
        "salary = 100K \"\"\")"
      ]
    },
    {
      "cell_type": "code",
      "execution_count": null,
      "id": "c3fdc672",
      "metadata": {
        "tags": [],
        "id": "c3fdc672"
      },
      "outputs": [],
      "source": [
        "print('Hello world!')"
      ]
    },
    {
      "cell_type": "code",
      "execution_count": null,
      "id": "ffa3ee4d",
      "metadata": {
        "tags": [],
        "id": "ffa3ee4d"
      },
      "outputs": [],
      "source": []
    },
    {
      "cell_type": "code",
      "execution_count": null,
      "id": "9057c493",
      "metadata": {
        "tags": [],
        "id": "9057c493",
        "outputId": "319fdd39-b7a8-4cdb-9fea-9f95e9aab715"
      },
      "outputs": [
        {
          "name": "stdout",
          "output_type": "stream",
          "text": [
            "lets start\n"
          ]
        }
      ],
      "source": [
        "print('lets start')"
      ]
    },
    {
      "cell_type": "markdown",
      "id": "f5c15167",
      "metadata": {
        "id": "f5c15167"
      },
      "source": [
        "Single and duble quotes do the same job but in case you are printing a string with upstroph you should use the duble quotes like the code below"
      ]
    },
    {
      "cell_type": "code",
      "execution_count": null,
      "id": "e2da4028",
      "metadata": {
        "tags": [],
        "id": "e2da4028"
      },
      "outputs": [],
      "source": []
    },
    {
      "cell_type": "markdown",
      "id": "2bc9cf57",
      "metadata": {
        "id": "2bc9cf57"
      },
      "source": [
        "If you want to print a long string (in multiple lines) you should use the triple quotes\n"
      ]
    },
    {
      "cell_type": "code",
      "execution_count": null,
      "id": "87b68498",
      "metadata": {
        "tags": [],
        "id": "87b68498"
      },
      "outputs": [],
      "source": [
        "print('''\n",
        "Hello world!\n",
        "My name is ali\n",
        "I am a python developer''')"
      ]
    },
    {
      "cell_type": "code",
      "execution_count": null,
      "id": "f79bf3c2-f192-4305-ae1a-7a36bd304526",
      "metadata": {
        "tags": [],
        "id": "f79bf3c2-f192-4305-ae1a-7a36bd304526",
        "outputId": "485265da-7458-45c2-b03b-6710ae5af6a8"
      },
      "outputs": [
        {
          "name": "stdout",
          "output_type": "stream",
          "text": [
            "1100\n"
          ]
        }
      ],
      "source": [
        "print(1000 + 100)"
      ]
    },
    {
      "cell_type": "code",
      "execution_count": null,
      "id": "f18cb8d0-bd2c-4675-b5a3-23c3f535ac8a",
      "metadata": {
        "id": "f18cb8d0-bd2c-4675-b5a3-23c3f535ac8a",
        "outputId": "5fccd9d7-3a94-4fe2-e393-f6928a6d53df"
      },
      "outputs": [
        {
          "name": "stdout",
          "output_type": "stream",
          "text": [
            "ahmedahmedahmedahmedahmed\n"
          ]
        }
      ],
      "source": [
        "print(\"ahmed\" * 5 )"
      ]
    },
    {
      "cell_type": "code",
      "execution_count": null,
      "id": "f4e58402-2104-4f8f-9698-5de54c94280b",
      "metadata": {
        "tags": [],
        "id": "f4e58402-2104-4f8f-9698-5de54c94280b",
        "outputId": "e4cce4de-3d03-480d-d097-4edfe58c5c4d"
      },
      "outputs": [
        {
          "name": "stdout",
          "output_type": "stream",
          "text": [
            "5000\n"
          ]
        }
      ],
      "source": [
        "print(1000 * 5 )"
      ]
    },
    {
      "cell_type": "markdown",
      "id": "7ed15638",
      "metadata": {
        "id": "7ed15638"
      },
      "source": [
        "### Variables and Simple Data Types\n",
        "Variables are containers for storing data values, Python has no command for declaring a variable, a variable is created the moment you first assign a value to it.\n"
      ]
    },
    {
      "cell_type": "code",
      "execution_count": null,
      "id": "cdc93ad9-0f85-404a-966c-627150058996",
      "metadata": {
        "id": "cdc93ad9-0f85-404a-966c-627150058996",
        "outputId": "03e8c21f-3950-4167-a334-e433614e1e65"
      },
      "outputs": [
        {
          "data": {
            "text/plain": [
              "6"
            ]
          },
          "execution_count": 44,
          "metadata": {},
          "output_type": "execute_result"
        }
      ],
      "source": [
        "x = 5\n",
        "y = 6\n",
        "z = x + y\n",
        "z\n",
        "x\n",
        "y"
      ]
    },
    {
      "cell_type": "code",
      "execution_count": null,
      "id": "2fb912ab",
      "metadata": {
        "tags": [],
        "id": "2fb912ab"
      },
      "outputs": [],
      "source": [
        "x = 5.5\n",
        "y = \"John\"\n"
      ]
    },
    {
      "cell_type": "code",
      "execution_count": null,
      "id": "af5ed9f9",
      "metadata": {
        "id": "af5ed9f9"
      },
      "outputs": [],
      "source": [
        "print(\"y\")"
      ]
    },
    {
      "cell_type": "code",
      "execution_count": null,
      "id": "0fc0477f-f1dc-4b4f-a0f6-c8ab819b0ed4",
      "metadata": {
        "tags": [],
        "id": "0fc0477f-f1dc-4b4f-a0f6-c8ab819b0ed4"
      },
      "outputs": [],
      "source": [
        "print(x)"
      ]
    },
    {
      "cell_type": "markdown",
      "id": "70e73647",
      "metadata": {
        "id": "70e73647"
      },
      "source": [
        "Variables do not need to be declared with any particular type, and can even change type after they have been set."
      ]
    },
    {
      "cell_type": "code",
      "execution_count": null,
      "id": "64677d73",
      "metadata": {
        "tags": [],
        "id": "64677d73",
        "outputId": "5fc0536f-d105-468d-d120-22416af35759"
      },
      "outputs": [
        {
          "name": "stdout",
          "output_type": "stream",
          "text": [
            "4\n"
          ]
        }
      ],
      "source": [
        "num_mahmoud = 4       # x is of type int\n",
        " # x is now of type str\n",
        "print(num_mahmoud)"
      ]
    },
    {
      "cell_type": "code",
      "execution_count": null,
      "id": "57413b70-4601-4681-b731-f4eb3e4fb77d",
      "metadata": {
        "tags": [],
        "id": "57413b70-4601-4681-b731-f4eb3e4fb77d",
        "outputId": "b2086487-bfaa-4571-cdaa-d9a60a6aeb4e"
      },
      "outputs": [
        {
          "data": {
            "text/plain": [
              "20"
            ]
          },
          "execution_count": 51,
          "metadata": {},
          "output_type": "execute_result"
        }
      ],
      "source": [
        "y = 10\n",
        "Y = 20\n",
        "Y"
      ]
    },
    {
      "cell_type": "markdown",
      "id": "ae2c669f",
      "metadata": {
        "id": "ae2c669f"
      },
      "source": [
        "### Variable Names\n",
        "A variable can have a short name (like x and y) or a more descriptive name (age, carname, total_volume).\n",
        "\n",
        "#### Rules for Python variables:\n",
        "* A variable name must start with a letter or the underscore character\n",
        "* A variable name cannot start with a number\n",
        "* A variable name can only contain **alpha-numeric** characters and underscores (A-z, 0-9, and _ )\n",
        "* Variable names are case-sensitive (age, Age and AGE are three different variables)\n"
      ]
    },
    {
      "cell_type": "code",
      "execution_count": null,
      "id": "753603eb",
      "metadata": {
        "id": "753603eb"
      },
      "outputs": [],
      "source": [
        "#Legal variable names:\n",
        "\n",
        "myvar = \"Ahmed\"\n",
        "my_var = \"Ahmed\"\n",
        "_my_var = \"Ahmed\"\n",
        "myVar = \"Ahmed\"\n",
        "MYVAR = \"Ahmed\"\n",
        "myvar2 = \"Ahmed\"\n",
        "\n",
        "#Illegal variable names:\n",
        "2myvar = \"Ahmed\"\n",
        "my-var = \"Ahmed\"\n",
        "my var = \"Ahmed\"\n"
      ]
    },
    {
      "cell_type": "markdown",
      "id": "61809d62",
      "metadata": {
        "id": "61809d62"
      },
      "source": [
        "Avoiding Name Errors When Using Variables\n",
        "\n",
        "You should write the variable name without any mistakes\n"
      ]
    },
    {
      "cell_type": "code",
      "execution_count": null,
      "id": "c5cf52d8",
      "metadata": {
        "tags": [],
        "id": "c5cf52d8",
        "outputId": "c79dfb08-d979-427d-da7a-720e32eff447"
      },
      "outputs": [
        {
          "data": {
            "text/plain": [
              "'Hello Python'"
            ]
          },
          "execution_count": 52,
          "metadata": {},
          "output_type": "execute_result"
        }
      ],
      "source": [
        "message = \"Hello Python\"\n",
        "message"
      ]
    },
    {
      "cell_type": "markdown",
      "id": "fa6f8907",
      "metadata": {
        "id": "fa6f8907"
      },
      "source": [
        "### Data Types - Strings\n",
        "A string is a series of characters. Anything inside quotes is considered a string in Python, and you can use single or double quotes around your strings\n"
      ]
    },
    {
      "cell_type": "code",
      "execution_count": null,
      "id": "9a2b849e",
      "metadata": {
        "tags": [],
        "id": "9a2b849e",
        "outputId": "210d37b3-0648-4edf-829c-3a9ae0fbfd01"
      },
      "outputs": [
        {
          "data": {
            "text/plain": [
              "'Mahmoud Talaat'"
            ]
          },
          "execution_count": 53,
          "metadata": {},
          "output_type": "execute_result"
        }
      ],
      "source": [
        "name = \"Mahmoud Talaat\"\n",
        "name"
      ]
    },
    {
      "cell_type": "markdown",
      "id": "87a0356d",
      "metadata": {
        "id": "87a0356d"
      },
      "source": [
        "Changing Case in a String with Methods"
      ]
    },
    {
      "cell_type": "code",
      "execution_count": null,
      "id": "a44d9a18",
      "metadata": {
        "tags": [],
        "id": "a44d9a18",
        "outputId": "d6b3b200-f623-4da8-d8a2-0c4a69085fa5"
      },
      "outputs": [
        {
          "name": "stdout",
          "output_type": "stream",
          "text": [
            "MAHMOUD TALAAT\n",
            "mahmoud talaat\n"
          ]
        }
      ],
      "source": [
        "print(name.upper())\n",
        "print(name.lower())"
      ]
    },
    {
      "cell_type": "code",
      "execution_count": null,
      "id": "e2457117",
      "metadata": {
        "tags": [],
        "id": "e2457117",
        "outputId": "649c3421-e5c7-4c93-dce8-8e9537a63bd7"
      },
      "outputs": [
        {
          "name": "stdout",
          "output_type": "stream",
          "text": [
            "Mahmoud Ali\n"
          ]
        }
      ],
      "source": [
        "first_name = \"Mahmoud\"\n",
        "last_name = \"Ali\"\n",
        "print(first_name,last_name)"
      ]
    },
    {
      "cell_type": "markdown",
      "id": "6046562a",
      "metadata": {
        "id": "6046562a"
      },
      "source": [
        "To add a tab to your text, use the character combination \\t as shown  "
      ]
    },
    {
      "cell_type": "code",
      "execution_count": null,
      "id": "e27c9b5a",
      "metadata": {
        "tags": [],
        "id": "e27c9b5a",
        "outputId": "1103c496-32ec-4998-b108-4c5194cdf5f7"
      },
      "outputs": [
        {
          "name": "stdout",
          "output_type": "stream",
          "text": [
            "\tPython\n"
          ]
        }
      ],
      "source": [
        "print(\"\\tPython\")"
      ]
    },
    {
      "cell_type": "markdown",
      "id": "57095ffe",
      "metadata": {
        "id": "57095ffe"
      },
      "source": [
        "<code>\\n</code> means new line"
      ]
    },
    {
      "cell_type": "code",
      "execution_count": null,
      "id": "9440f87f",
      "metadata": {
        "tags": [],
        "id": "9440f87f",
        "outputId": "d0094f91-e928-47ce-d772-6228ee49d5f3"
      },
      "outputs": [
        {
          "name": "stdout",
          "output_type": "stream",
          "text": [
            "Languages:\n",
            "Python\n",
            "C\n",
            "JavaScript\n"
          ]
        }
      ],
      "source": [
        "print(\"Languages:\\nPython\\nC\\nJavaScript\")"
      ]
    },
    {
      "cell_type": "markdown",
      "id": "0f358a5c",
      "metadata": {
        "id": "0f358a5c"
      },
      "source": [
        "String concatenation"
      ]
    },
    {
      "cell_type": "code",
      "execution_count": null,
      "id": "23519c1b",
      "metadata": {
        "tags": [],
        "id": "23519c1b",
        "outputId": "9ed12d85-3ad7-4db5-9af0-dfe31f00eb3c"
      },
      "outputs": [
        {
          "name": "stdout",
          "output_type": "stream",
          "text": [
            "mahmoud hassan\n"
          ]
        }
      ],
      "source": [
        "print('mahmoud'+ ' hassan')"
      ]
    },
    {
      "cell_type": "code",
      "execution_count": null,
      "id": "aadcea46",
      "metadata": {
        "tags": [],
        "id": "aadcea46",
        "outputId": "0190e0d6-3f42-4218-ebb7-51f625729c67"
      },
      "outputs": [
        {
          "name": "stdout",
          "output_type": "stream",
          "text": [
            "101\n"
          ]
        }
      ],
      "source": [
        "print(\"10\"+ \"1\")"
      ]
    },
    {
      "cell_type": "markdown",
      "id": "f904bb9c",
      "metadata": {
        "id": "f904bb9c"
      },
      "source": [
        "### Fstring"
      ]
    },
    {
      "cell_type": "code",
      "execution_count": null,
      "id": "7f29718a",
      "metadata": {
        "tags": [],
        "id": "7f29718a"
      },
      "outputs": [],
      "source": [
        "first_name = \"mahmoud\"\n",
        "last_name = \"hassan\"\n",
        "\n",
        "full_name = f\"HI {first_name} {last_name} !!!\"\n",
        "\n",
        "full_name2 = first_name  +\" \" +last_name\n",
        "full_name3 = \"HI\"+\" \" + first_name + ' ' + last_name + \"!!!\"\n",
        "print('full_name' ,full_name)\n",
        "print('full_name2' ,full_name2)\n",
        "print('full_name3 ',full_name3)\n",
        "\n"
      ]
    },
    {
      "cell_type": "markdown",
      "id": "4faa03be",
      "metadata": {
        "jp-MarkdownHeadingCollapsed": true,
        "id": "4faa03be"
      },
      "source": [
        "### Data Types - Numbers"
      ]
    },
    {
      "cell_type": "markdown",
      "id": "041547e7",
      "metadata": {
        "id": "041547e7"
      },
      "source": [
        "#### Integers"
      ]
    },
    {
      "cell_type": "code",
      "execution_count": null,
      "id": "95c890cf",
      "metadata": {
        "tags": [],
        "id": "95c890cf"
      },
      "outputs": [],
      "source": [
        "Number = 100\n",
        "num = 20"
      ]
    },
    {
      "cell_type": "markdown",
      "id": "2b897454",
      "metadata": {
        "id": "2b897454"
      },
      "source": [
        "#### Floats\n",
        "Python calls any number with a decimal point a float"
      ]
    },
    {
      "cell_type": "code",
      "execution_count": null,
      "id": "ce3e4a37",
      "metadata": {
        "tags": [],
        "id": "ce3e4a37"
      },
      "outputs": [],
      "source": [
        "print(0.1 + 0.5)"
      ]
    },
    {
      "cell_type": "code",
      "execution_count": null,
      "id": "0c602f16",
      "metadata": {
        "tags": [],
        "id": "0c602f16"
      },
      "outputs": [],
      "source": [
        "print(2 + 3)\n",
        "print(2 * 3)\n",
        "print(2 ** 3)\n",
        "print(2 / 3)"
      ]
    },
    {
      "cell_type": "code",
      "execution_count": null,
      "id": "64342933",
      "metadata": {
        "tags": [],
        "id": "64342933"
      },
      "outputs": [],
      "source": [
        "print((1+2)*4)"
      ]
    },
    {
      "cell_type": "code",
      "execution_count": null,
      "id": "3040e7b4-1c49-4136-9ff7-b66d880a9158",
      "metadata": {
        "tags": [],
        "id": "3040e7b4-1c49-4136-9ff7-b66d880a9158"
      },
      "outputs": [],
      "source": [
        "print(100 + 0.5)"
      ]
    },
    {
      "cell_type": "markdown",
      "id": "12a7d140",
      "metadata": {
        "id": "12a7d140"
      },
      "source": [
        "**Try It Yourself**\n",
        "Write addition, subtraction, multiplication, and division operations that each result in the number 8.\n",
        "Be sure to enclose your operations in print() calls to see the results. You should create four lines that look like this: print(5+3)\n"
      ]
    },
    {
      "cell_type": "markdown",
      "id": "f7c1f9eb",
      "metadata": {
        "id": "f7c1f9eb"
      },
      "source": [
        "When you divide any two numbers, even if they are integers that result in a\n",
        "whole number, you’ll always get a float:\n",
        "4/2 ⇒ 2.0\n"
      ]
    },
    {
      "cell_type": "code",
      "execution_count": null,
      "id": "2dcf1ff9",
      "metadata": {
        "tags": [],
        "id": "2dcf1ff9"
      },
      "outputs": [],
      "source": [
        "4/2"
      ]
    },
    {
      "cell_type": "code",
      "execution_count": null,
      "id": "63f21963",
      "metadata": {
        "tags": [],
        "id": "63f21963"
      },
      "outputs": [],
      "source": [
        "1 + 2.0"
      ]
    },
    {
      "cell_type": "markdown",
      "id": "dde2cfda",
      "metadata": {
        "id": "dde2cfda"
      },
      "source": [
        "Multiple Assignment\n",
        "You can assign values to more than one variable using just a single line. This can help shorten your programs and make them easier to read; you’ll use this technique most often when initializing a set of numbers. For example, here’s how you can initialize the variables x, y, and z\n"
      ]
    },
    {
      "cell_type": "code",
      "execution_count": null,
      "id": "27d05668-8e67-4868-baa2-d50bcf7c1458",
      "metadata": {
        "id": "27d05668-8e67-4868-baa2-d50bcf7c1458"
      },
      "outputs": [],
      "source": [
        "x = 10\n",
        "y = 20\n",
        "z = 30"
      ]
    },
    {
      "cell_type": "code",
      "execution_count": null,
      "id": "9032dbee",
      "metadata": {
        "tags": [],
        "id": "9032dbee"
      },
      "outputs": [],
      "source": [
        "x, y, z = 0, 1, 2\n",
        "print(z)"
      ]
    },
    {
      "cell_type": "code",
      "execution_count": null,
      "id": "604d466c",
      "metadata": {
        "id": "604d466c"
      },
      "outputs": [],
      "source": [
        "x = 1\n",
        "x = 10"
      ]
    },
    {
      "cell_type": "markdown",
      "id": "c4661119",
      "metadata": {
        "id": "c4661119"
      },
      "source": [
        "#### Constants\n",
        "A constant is like a variable whose value stays the same throughout the life of a program. Python doesn’t have built-in constant types, but Python programmers use all capital letters to indicate a variable should be treated as a constant and never be changed:\n"
      ]
    },
    {
      "cell_type": "code",
      "execution_count": null,
      "id": "500c08ce",
      "metadata": {
        "tags": [],
        "id": "500c08ce"
      },
      "outputs": [],
      "source": [
        "MAX_CONNECTIONS = 5000\n",
        "print(MAX_CONNECTIONS)\n",
        "\n",
        "MAX_CONNECTIONS = 1\n",
        "print(MAX_CONNECTIONS)\n"
      ]
    },
    {
      "cell_type": "markdown",
      "id": "c9a45998",
      "metadata": {
        "id": "c9a45998"
      },
      "source": [
        "#### Comments"
      ]
    },
    {
      "cell_type": "code",
      "execution_count": null,
      "id": "56310c33",
      "metadata": {
        "tags": [],
        "id": "56310c33"
      },
      "outputs": [],
      "source": [
        "# Say hello to everyone.\n",
        "print(\"Hello Python people!\")\n"
      ]
    },
    {
      "cell_type": "code",
      "execution_count": null,
      "id": "085eda88",
      "metadata": {
        "id": "085eda88"
      },
      "outputs": [],
      "source": [
        "'''\n",
        "My name is mahmoud ali\n",
        "Age : 14\n",
        "Address : Egypt\n",
        "'''\n"
      ]
    },
    {
      "cell_type": "code",
      "execution_count": null,
      "id": "0d8fb036",
      "metadata": {
        "tags": [],
        "id": "0d8fb036"
      },
      "outputs": [],
      "source": [
        "print(10+10)\n",
        "print(\"Ali\"+10)\n"
      ]
    },
    {
      "cell_type": "code",
      "execution_count": null,
      "id": "9df1e63a-839e-4d4f-bb12-d90d6e60cdc3",
      "metadata": {
        "tags": [],
        "id": "9df1e63a-839e-4d4f-bb12-d90d6e60cdc3"
      },
      "outputs": [],
      "source": [
        "name = \"Ali\"\n",
        "num = 10.5\n",
        "test = f\"{name} {num}\"\n",
        "print(test)"
      ]
    },
    {
      "cell_type": "markdown",
      "id": "e9fb612f",
      "metadata": {
        "id": "e9fb612f"
      },
      "source": [
        "#### List\n"
      ]
    },
    {
      "cell_type": "code",
      "execution_count": null,
      "id": "a7d50b1c",
      "metadata": {
        "tags": [],
        "id": "a7d50b1c"
      },
      "outputs": [],
      "source": [
        "names = ['mahmoud', 'ali', 'ahmed', 'mohamed']\n",
        "\n",
        "\n",
        "my_list = ['mahmoud',20, 'ahmed', '300']\n",
        "print(names)"
      ]
    },
    {
      "cell_type": "markdown",
      "id": "632b1656",
      "metadata": {
        "id": "632b1656"
      },
      "source": [
        "#### Accessing Elements in a List\n",
        "NOTE: Index Positions Start at 0, Not 1\n"
      ]
    },
    {
      "cell_type": "code",
      "execution_count": null,
      "id": "471263d7",
      "metadata": {
        "tags": [],
        "id": "471263d7"
      },
      "outputs": [],
      "source": [
        "names = ['mahmoud', 'ali', 'ahmed', 'mohamed']\n",
        "print(names[3])"
      ]
    },
    {
      "cell_type": "code",
      "execution_count": null,
      "id": "c2807d5f",
      "metadata": {
        "tags": [],
        "id": "c2807d5f"
      },
      "outputs": [],
      "source": [
        "#the last element in your list will have the index of -1\n",
        "print(names[-1])\n"
      ]
    },
    {
      "cell_type": "markdown",
      "id": "a6eda96e",
      "metadata": {
        "id": "a6eda96e"
      },
      "source": [
        "#### Changing, Adding, and Removing Elements"
      ]
    },
    {
      "cell_type": "code",
      "execution_count": null,
      "id": "6f1e8b54",
      "metadata": {
        "tags": [],
        "id": "6f1e8b54"
      },
      "outputs": [],
      "source": [
        "# Modifying Elements in a List\n",
        "names = ['mahmoud', 'ali', 'ahmed', 'mohamed']\n",
        "print(names)"
      ]
    },
    {
      "cell_type": "code",
      "execution_count": null,
      "id": "ae4c73fe",
      "metadata": {
        "tags": [],
        "id": "ae4c73fe"
      },
      "outputs": [],
      "source": [
        "names[0] = 'Max'\n",
        "print(names)"
      ]
    },
    {
      "cell_type": "code",
      "execution_count": null,
      "id": "0f1767f3",
      "metadata": {
        "tags": [],
        "id": "0f1767f3"
      },
      "outputs": [],
      "source": [
        "# Adding Elements to a List\n",
        "names.append('Basma')\n",
        "print(names)"
      ]
    },
    {
      "cell_type": "code",
      "execution_count": null,
      "id": "b6e9365c",
      "metadata": {
        "tags": [],
        "id": "b6e9365c"
      },
      "outputs": [],
      "source": [
        "# You can append (add) any items to your empty list like:\n",
        "\n",
        "t1 = ['a', 'b', 'c']\n",
        "\n",
        "\n",
        "print(t1)\n",
        "\n",
        "names.append(t1)\n",
        "names.append('Ali')\n",
        "names.append('samer')\n",
        "print(names)\n"
      ]
    },
    {
      "cell_type": "code",
      "execution_count": null,
      "id": "af2f87c5",
      "metadata": {
        "tags": [],
        "id": "af2f87c5"
      },
      "outputs": [],
      "source": [
        "# extend takes a list as an argument and appends all of the elements:\n",
        "t1 = ['a', 'b', 'c']\n",
        "t2 = ['d', 'e']\n",
        "\n",
        "t1.append(t2)\n",
        "#t1.extend(t2)\n",
        "print(t1)"
      ]
    },
    {
      "cell_type": "code",
      "execution_count": null,
      "id": "6f217409",
      "metadata": {
        "tags": [],
        "id": "6f217409"
      },
      "outputs": [],
      "source": [
        "# Inserting Elements into a List\n",
        "motorcycles = ['honda', 'yamaha', 'suzuki']\n",
        "\n",
        "motorcycles.insert(2, 'ducati')\n",
        "print(motorcycles)"
      ]
    },
    {
      "cell_type": "code",
      "execution_count": null,
      "id": "b361abbb",
      "metadata": {
        "tags": [],
        "id": "b361abbb"
      },
      "outputs": [],
      "source": [
        "#Removing an Item Using the del Statement\n",
        "del motorcycles[0]\n",
        "print(motorcycles)\n"
      ]
    },
    {
      "cell_type": "code",
      "execution_count": null,
      "id": "58c7577d",
      "metadata": {
        "tags": [],
        "id": "58c7577d"
      },
      "outputs": [],
      "source": [
        "# Removing an Item Using the pop() Method\n",
        "names = ['mahmoud', 'ali', 'ahmed', 'mohamed']\n",
        "\n",
        "popped_name = names.pop()\n",
        "print(popped_name)\n",
        "print(names)"
      ]
    },
    {
      "cell_type": "code",
      "execution_count": null,
      "id": "dd933052",
      "metadata": {
        "tags": [],
        "id": "dd933052"
      },
      "outputs": [],
      "source": [
        "motorcycles = ['honda', 'yamaha', 'suzuki']\n",
        "popped_motorcycle = motorcycles.pop()\n",
        "print(popped_motorcycle)"
      ]
    },
    {
      "cell_type": "code",
      "execution_count": null,
      "id": "906fdf5e",
      "metadata": {
        "tags": [],
        "id": "906fdf5e"
      },
      "outputs": [],
      "source": [
        "# Removing an Item by Value\n",
        "names = ['mahmoud', 'ali', 'ahmed','ali' ,'mohamed']\n",
        "names.remove('ali')\n",
        "print(names)"
      ]
    },
    {
      "cell_type": "code",
      "execution_count": null,
      "id": "a49373b5",
      "metadata": {
        "tags": [],
        "id": "a49373b5"
      },
      "outputs": [],
      "source": [
        "# Organizing a List\n",
        "numbers = [5, 3, 1, 4,2]\n",
        "#numbers.sort()\n",
        "print(numbers)"
      ]
    },
    {
      "cell_type": "code",
      "execution_count": null,
      "id": "3b55fb52",
      "metadata": {
        "tags": [],
        "id": "3b55fb52"
      },
      "outputs": [],
      "source": [
        "numbers.reverse()\n",
        "print(numbers)"
      ]
    },
    {
      "cell_type": "markdown",
      "id": "46b3fca2",
      "metadata": {
        "id": "46b3fca2"
      },
      "source": [
        "Notice that reverse() doesn’t sort backward."
      ]
    },
    {
      "cell_type": "code",
      "execution_count": null,
      "id": "b64af9f5",
      "metadata": {
        "tags": [],
        "id": "b64af9f5"
      },
      "outputs": [],
      "source": [
        "#Sorting a list of strings\n",
        "\n",
        "names = ['mahmoud', 'ali', 'ahmed', 'mohamed']\n",
        "names.sort()\n",
        "print(names)"
      ]
    },
    {
      "cell_type": "code",
      "execution_count": null,
      "id": "e449df97",
      "metadata": {
        "tags": [],
        "id": "e449df97"
      },
      "outputs": [],
      "source": [
        "#Finding the Length of a List\n",
        "names = ['mahmoud', 'ali', 'ahmed', 'mohamed']\n",
        "print(len(names))"
      ]
    },
    {
      "cell_type": "code",
      "execution_count": null,
      "id": "35cf4938-c809-4ae2-b582-6ee54c5ed940",
      "metadata": {
        "id": "35cf4938-c809-4ae2-b582-6ee54c5ed940"
      },
      "outputs": [],
      "source": []
    },
    {
      "cell_type": "code",
      "execution_count": null,
      "id": "9802fb3d",
      "metadata": {
        "tags": [],
        "id": "9802fb3d"
      },
      "outputs": [],
      "source": [
        "# Avoiding Index Errors When Working with Lists\n",
        "\n",
        "names = ['mahmoud', 'ali', 'ahmed', 'mohamed']\n",
        "print(names[4])\n"
      ]
    },
    {
      "cell_type": "code",
      "execution_count": null,
      "id": "c58852bc",
      "metadata": {
        "tags": [],
        "id": "c58852bc"
      },
      "outputs": [],
      "source": [
        "names = ['mahmoud', 'ali', 'ahmed', 'mohamed']\n",
        "print(names[0])\n",
        "print(names[1])\n",
        "print(names[2])\n",
        "print(names[3])"
      ]
    },
    {
      "cell_type": "code",
      "execution_count": null,
      "id": "a7b333fe",
      "metadata": {
        "tags": [],
        "id": "a7b333fe"
      },
      "outputs": [],
      "source": [
        "#Looping Through an Entire List\n",
        "names = ['mahmoud', 'ali', 'ahmed', 'mohamed']\n",
        "\n",
        "for name in names:\n",
        "\n",
        "    print(name)\n"
      ]
    },
    {
      "cell_type": "code",
      "execution_count": null,
      "id": "c9dab985",
      "metadata": {
        "tags": [],
        "id": "c9dab985"
      },
      "outputs": [],
      "source": [
        "#Doing Something After a for Loop\n",
        "names = ['mahmoud', 'ali', 'ahmed', 'mohamed']\n",
        "\n",
        "for name in names:\n",
        "    print(name)\n",
        "\n",
        "print('the end')"
      ]
    },
    {
      "cell_type": "code",
      "execution_count": null,
      "id": "35a0657c-6f5e-4cdc-a3b8-baf628ee1ced",
      "metadata": {
        "id": "35a0657c-6f5e-4cdc-a3b8-baf628ee1ced"
      },
      "outputs": [],
      "source": []
    },
    {
      "cell_type": "code",
      "execution_count": null,
      "id": "2cbbb0d2",
      "metadata": {
        "tags": [],
        "id": "2cbbb0d2"
      },
      "outputs": [],
      "source": [
        "# Making Numerical Lists\n",
        "numbers = list(range(1, 20))\n",
        "print(numbers)"
      ]
    },
    {
      "cell_type": "code",
      "execution_count": null,
      "id": "6e8afa7e",
      "metadata": {
        "tags": [],
        "id": "6e8afa7e"
      },
      "outputs": [],
      "source": [
        "even_numbers = list(range(2, 11, 2))\n",
        "print(even_numbers)"
      ]
    },
    {
      "cell_type": "code",
      "execution_count": null,
      "id": "ef949bb1-5322-40a9-b309-591099e53a53",
      "metadata": {
        "tags": [],
        "id": "ef949bb1-5322-40a9-b309-591099e53a53"
      },
      "outputs": [],
      "source": [
        "print(2**2)"
      ]
    },
    {
      "cell_type": "code",
      "execution_count": null,
      "id": "eb23df68-861d-452d-905c-b0462126003e",
      "metadata": {
        "id": "eb23df68-861d-452d-905c-b0462126003e"
      },
      "outputs": [],
      "source": []
    },
    {
      "cell_type": "code",
      "execution_count": null,
      "id": "cb678bb0-a786-4c2f-92dc-d047ca8e748b",
      "metadata": {
        "tags": [],
        "id": "cb678bb0-a786-4c2f-92dc-d047ca8e748b"
      },
      "outputs": [],
      "source": [
        "for number in range(1,11):\n",
        "    print(number)"
      ]
    },
    {
      "cell_type": "code",
      "execution_count": null,
      "id": "1fc1474c",
      "metadata": {
        "tags": [],
        "id": "1fc1474c"
      },
      "outputs": [],
      "source": [
        "\n",
        "# create a list of squares from 1 to 10 numbers\n",
        "\n",
        "#solution\n"
      ]
    },
    {
      "cell_type": "code",
      "execution_count": null,
      "id": "48500f49",
      "metadata": {
        "tags": [],
        "id": "48500f49"
      },
      "outputs": [],
      "source": []
    },
    {
      "cell_type": "code",
      "execution_count": null,
      "id": "3698a69e",
      "metadata": {
        "tags": [],
        "id": "3698a69e"
      },
      "outputs": [],
      "source": [
        "# Simple Statistics with a List of Numbers\n",
        "\n",
        "digits = [1, 2, 3, 4, 5, 6, 7, 8, 9, 0]\n",
        "\n",
        "print(min(digits))\n",
        "\n",
        "print(max(digits))\n",
        "\n",
        "print(sum(digits))\n"
      ]
    },
    {
      "cell_type": "code",
      "execution_count": null,
      "id": "4919b5c3",
      "metadata": {
        "tags": [],
        "id": "4919b5c3"
      },
      "outputs": [],
      "source": [
        "# List Comprehensions\n",
        "squares = [value**2 for value in range(1, 11)]\n",
        "print(squares)"
      ]
    },
    {
      "cell_type": "code",
      "execution_count": null,
      "id": "78c27359-ed59-4df8-980c-a05b4f9b3c27",
      "metadata": {
        "id": "78c27359-ed59-4df8-980c-a05b4f9b3c27"
      },
      "outputs": [],
      "source": []
    },
    {
      "cell_type": "code",
      "execution_count": null,
      "id": "0d392951-eb80-46a4-865e-c038d6adf125",
      "metadata": {
        "id": "0d392951-eb80-46a4-865e-c038d6adf125"
      },
      "outputs": [],
      "source": []
    },
    {
      "cell_type": "code",
      "execution_count": null,
      "id": "e3c7c210-c26e-473f-aaef-34c15389f9ec",
      "metadata": {
        "id": "e3c7c210-c26e-473f-aaef-34c15389f9ec"
      },
      "outputs": [],
      "source": []
    },
    {
      "cell_type": "code",
      "execution_count": null,
      "id": "9b24d98b",
      "metadata": {
        "tags": [],
        "id": "9b24d98b"
      },
      "outputs": [],
      "source": [
        "squares = []\n",
        "for value in range(1, 11):\n",
        "      squares.append(value ** 2)\n",
        "\n",
        "print(squares)\n"
      ]
    },
    {
      "cell_type": "markdown",
      "id": "5902bf1e",
      "metadata": {
        "id": "5902bf1e"
      },
      "source": [
        "\n",
        "**Try It Yourself**\n",
        "3.1 Guest List: If you could invite anyone, living or deceased, to dinner, who would you invite?\n",
        "Make a list that includes at least three people you’d like to invite to dinner. Then use your list to print a message to each person, inviting them to dinner.\n",
        "\n",
        "\n",
        "3.2 Changing Guest List: You just heard that one of your guests can’t make the dinner, so you need to send out a new set of invitations. You’ll have to think of someone else to invite.\n",
        "Start with your program from Exercise 3.1. Add a print() call at the end of your program stating the name of the guest who can’t make it.\n",
        "Modify your list, replacing the name of the guest who can’t make it with the name of the new person you are inviting.\n",
        "Print a second set of invitation messages, one for each person who is still in your list.\n",
        "\n",
        "\n",
        "3.3 More Guests: You just found a bigger dinner table, so now more space is available. Think of three more guests to invite to dinner.  \n",
        "\n",
        "\n",
        "Start with your program from Exercise 3.1 or Exercise 3.2. Add a print() call to the end of your program informing people that you found a bigger dinner table.\n",
        "Use insert() to add one new guest to the beginning of your list.\n",
        "\n",
        "\n",
        "Use insert() to add one new guest to the middle of your list.\n",
        "\n",
        "\n",
        "Use append() to add one new guest to the end of your list.\n",
        "\n",
        "\n",
        "Print a new set of invitation messages, one for each person in your list\n"
      ]
    }
  ],
  "metadata": {
    "kernelspec": {
      "display_name": "Python 3 (ipykernel)",
      "language": "python",
      "name": "python3"
    },
    "language_info": {
      "codemirror_mode": {
        "name": "ipython",
        "version": 3
      },
      "file_extension": ".py",
      "mimetype": "text/x-python",
      "name": "python",
      "nbconvert_exporter": "python",
      "pygments_lexer": "ipython3",
      "version": "3.13.5"
    },
    "colab": {
      "provenance": [],
      "include_colab_link": true
    }
  },
  "nbformat": 4,
  "nbformat_minor": 5
}