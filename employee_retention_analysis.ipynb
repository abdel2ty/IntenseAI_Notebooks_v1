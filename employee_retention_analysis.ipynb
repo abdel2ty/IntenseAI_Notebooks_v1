{
  "cells": [
    {
      "cell_type": "markdown",
      "metadata": {
        "id": "view-in-github",
        "colab_type": "text"
      },
      "source": [
        "<a href=\"https://colab.research.google.com/github/abdel2ty/IntenseAI_Notebooks_v1/blob/main/employee_retention_analysis.ipynb\" target=\"_parent\"><img src=\"https://colab.research.google.com/assets/colab-badge.svg\" alt=\"Open In Colab\"/></a>"
      ]
    },
    {
      "cell_type": "markdown",
      "id": "3e696f4d-f567-4132-a3a7-d2d6d3d06560",
      "metadata": {
        "id": "3e696f4d-f567-4132-a3a7-d2d6d3d06560"
      },
      "source": [
        "\n",
        "# **Employee Retention Analysis**\n",
        "\n",
        "This name is correct because the dataset contains information about employees, and the goal is to **predict whether an employee will leave (`left = 1`) or stay (`left = 0`)**.\n",
        "\n",
        "---\n",
        "\n",
        "## **Dataset Overview**\n",
        "\n",
        "The dataset contains information about employees' performance, working hours, promotions, salaries, and whether they eventually left the company.\n",
        "\n",
        "### **Feature-by-Feature Explanation**\n",
        "\n",
        "| **Column Name**             | **Description**                                       | **Data Type**            | **Example**             | **Business Meaning**                                                |\n",
        "| --------------------------- | ----------------------------------------------------- | ------------------------ | ----------------------- | ------------------------------------------------------------------- |\n",
        "| **satisfaction\\_level**     | Employee's job satisfaction level                     | Float (0 to 1)           | 0.38                    | Lower values mean dissatisfaction, higher values mean satisfaction. |\n",
        "| **last\\_evaluation**        | Last performance evaluation score                     | Float (0 to 1)           | 0.53                    | Measures how well the employee performed in the last review.        |\n",
        "| **number\\_project**         | Number of projects the employee worked on             | Integer                  | 2                       | Higher values → more workload & responsibility.                     |\n",
        "| **average\\_montly\\_hours**  | Average monthly working hours                         | Integer                  | 157                     | Helps identify overworked or underworked employees.                 |\n",
        "| **time\\_spend\\_company**    | Number of years spent in the company                  | Integer                  | 3                       | Measures employee tenure.                                           |\n",
        "| **Work\\_accident**          | Whether the employee had a workplace accident         | Binary (0 = No, 1 = Yes) | 0                       | Used to see if accidents affect attrition.                          |\n",
        "| **left**                    | **Target Column** → Did the employee leave?           | Binary (0 = No, 1 = Yes) | 1                       | **This is what we predict.**                                        |\n",
        "| **promotion\\_last\\_5years** | Whether the employee got promoted in the last 5 years | Binary                   | 0                       | Promotions affect employee motivation.                              |\n",
        "| **Departments**             | Department name                                       | Categorical              | “sales”                 | Shows which team/department the employee belongs to.                |\n",
        "| **salary**                  | Salary level                                          | Categorical              | “low”, “medium”, “high” | Used to analyze the effect of salary on retention.                  |\n",
        "\n",
        "---\n",
        "\n",
        "## **Target Variable**\n",
        "\n",
        "* **Column:** `left`\n",
        "* **Values:**\n",
        "\n",
        "  * `0` → Employee stayed in the company\n",
        "  * `1` → Employee left the company\n",
        "* This is what we want to **predict** using machine learning.\n",
        "\n",
        "---\n",
        "\n",
        "## **Business Goal**\n",
        "\n",
        "The goal of this dataset is to:\n",
        "\n",
        "* Understand the **key factors** that make employees leave.\n",
        "* Analyze employee data to identify and quantify **the factors that influence whether employees leave or stay**, so **HR can target interventions** that **improve employee satisfaction** and **reduce** turnover.\n",
        "* Help HR improve **employee satisfaction** and **retention**.\n",
        "\n",
        "\n",
        "---"
      ]
    },
    {
      "cell_type": "code",
      "execution_count": null,
      "id": "14dcb2c4-4a7e-4335-976d-47ef5e943658",
      "metadata": {
        "id": "14dcb2c4-4a7e-4335-976d-47ef5e943658",
        "outputId": "52b90996-7aa9-471a-a0a8-efbccb326ead"
      },
      "outputs": [
        {
          "data": {
            "application/vnd.microsoft.datawrangler.viewer.v0+json": {
              "columns": [
                {
                  "name": "index",
                  "rawType": "int64",
                  "type": "integer"
                },
                {
                  "name": "satisfaction_level",
                  "rawType": "float64",
                  "type": "float"
                },
                {
                  "name": "last_evaluation",
                  "rawType": "float64",
                  "type": "float"
                },
                {
                  "name": "number_project",
                  "rawType": "int64",
                  "type": "integer"
                },
                {
                  "name": "average_montly_hours",
                  "rawType": "int64",
                  "type": "integer"
                },
                {
                  "name": "time_spend_company",
                  "rawType": "int64",
                  "type": "integer"
                },
                {
                  "name": "Work_accident",
                  "rawType": "int64",
                  "type": "integer"
                },
                {
                  "name": "left",
                  "rawType": "object",
                  "type": "string"
                },
                {
                  "name": "promotion_last_5years",
                  "rawType": "int64",
                  "type": "integer"
                },
                {
                  "name": "Departments ",
                  "rawType": "object",
                  "type": "string"
                },
                {
                  "name": "salary",
                  "rawType": "object",
                  "type": "string"
                }
              ],
              "ref": "f729f790-bcf0-402e-9d86-61499be952ea",
              "rows": [
                [
                  "0",
                  "0.79",
                  "0.54",
                  "5",
                  "212",
                  "4",
                  "0",
                  "No",
                  "0",
                  "marketing",
                  "medium"
                ],
                [
                  "1",
                  "0.17",
                  "0.6",
                  "5",
                  "144",
                  "6",
                  "0",
                  "No",
                  "0",
                  "technical",
                  "medium"
                ],
                [
                  "2",
                  "0.91",
                  "0.77",
                  "4",
                  "167",
                  "3",
                  "1",
                  "No",
                  "0",
                  "IT",
                  "medium"
                ],
                [
                  "3",
                  "0.65",
                  "1.0",
                  "4",
                  "195",
                  "3",
                  "0",
                  "No",
                  "0",
                  "IT",
                  "low"
                ],
                [
                  "4",
                  "0.87",
                  "0.76",
                  "4",
                  "218",
                  "2",
                  "0",
                  "No",
                  "0",
                  "sales",
                  "low"
                ],
                [
                  "5",
                  "0.83",
                  "0.77",
                  "2",
                  "186",
                  "2",
                  "0",
                  "No",
                  "0",
                  "sales",
                  "medium"
                ],
                [
                  "6",
                  "0.65",
                  "0.49",
                  "5",
                  "221",
                  "2",
                  "0",
                  "No",
                  "0",
                  "management",
                  "low"
                ],
                [
                  "7",
                  "0.31",
                  "0.49",
                  "4",
                  "165",
                  "3",
                  "1",
                  "No",
                  "0",
                  "technical",
                  "low"
                ],
                [
                  "8",
                  "0.8",
                  "0.68",
                  "4",
                  "199",
                  "2",
                  "0",
                  "No",
                  "0",
                  "IT",
                  "medium"
                ],
                [
                  "9",
                  "0.41",
                  "0.48",
                  "2",
                  "155",
                  "3",
                  "0",
                  "Yes",
                  "0",
                  "marketing",
                  "low"
                ],
                [
                  "10",
                  "0.98",
                  "0.79",
                  "5",
                  "257",
                  "4",
                  "0",
                  "No",
                  "0",
                  "technical",
                  "medium"
                ],
                [
                  "11",
                  "0.48",
                  "0.47",
                  "3",
                  "160",
                  "3",
                  "0",
                  "No",
                  "0",
                  "product_mng",
                  "medium"
                ],
                [
                  "12",
                  "0.74",
                  "0.97",
                  "4",
                  "228",
                  "5",
                  "0",
                  "Yes",
                  "0",
                  "hr",
                  "low"
                ],
                [
                  "13",
                  "0.4",
                  "0.5",
                  "2",
                  "129",
                  "3",
                  "0",
                  "Yes",
                  "0",
                  "IT",
                  "medium"
                ],
                [
                  "14",
                  "0.88",
                  "0.67",
                  "5",
                  "264",
                  "3",
                  "0",
                  "No",
                  "0",
                  "product_mng",
                  "medium"
                ],
                [
                  "15",
                  "0.19",
                  "0.91",
                  "5",
                  "145",
                  "3",
                  "0",
                  "No",
                  "0",
                  "management",
                  "low"
                ],
                [
                  "16",
                  "0.68",
                  "0.93",
                  "4",
                  "179",
                  "2",
                  "0",
                  "No",
                  "0",
                  "sales",
                  "medium"
                ],
                [
                  "17",
                  "0.4",
                  "0.41",
                  "3",
                  "232",
                  "3",
                  "0",
                  "No",
                  "0",
                  "technical",
                  "medium"
                ],
                [
                  "18",
                  "0.45",
                  "0.45",
                  "2",
                  "132",
                  "3",
                  "0",
                  "Yes",
                  "0",
                  "marketing",
                  "low"
                ],
                [
                  "19",
                  "0.54",
                  "0.53",
                  "4",
                  "245",
                  "2",
                  "0",
                  "No",
                  "0",
                  "technical",
                  "low"
                ],
                [
                  "20",
                  "1.0",
                  "0.59",
                  "5",
                  "182",
                  "3",
                  "1",
                  "No",
                  "0",
                  "management",
                  "medium"
                ],
                [
                  "21",
                  "0.66",
                  "0.75",
                  "5",
                  "227",
                  "3",
                  "1",
                  "No",
                  "0",
                  "sales",
                  "medium"
                ],
                [
                  "22",
                  "0.92",
                  "0.75",
                  "4",
                  "212",
                  "3",
                  "0",
                  "No",
                  "0",
                  "sales",
                  "low"
                ],
                [
                  "23",
                  "0.59",
                  "0.75",
                  "4",
                  "266",
                  "3",
                  "0",
                  "No",
                  "0",
                  "accounting",
                  "medium"
                ],
                [
                  "24",
                  "0.76",
                  "0.76",
                  "3",
                  "216",
                  "3",
                  "0",
                  "No",
                  "0",
                  "sales",
                  "low"
                ],
                [
                  "25",
                  "0.39",
                  "0.53",
                  "2",
                  "127",
                  "3",
                  "0",
                  "Yes",
                  "0",
                  "sales",
                  "medium"
                ],
                [
                  "26",
                  "0.92",
                  "0.55",
                  "3",
                  "172",
                  "2",
                  "0",
                  "No",
                  "0",
                  "technical",
                  "high"
                ],
                [
                  "27",
                  "0.67",
                  "0.87",
                  "3",
                  "177",
                  "4",
                  "0",
                  "No",
                  "0",
                  "sales",
                  "high"
                ],
                [
                  "28",
                  "0.27",
                  "0.42",
                  "6",
                  "173",
                  "7",
                  "0",
                  "No",
                  "0",
                  "sales",
                  "medium"
                ],
                [
                  "29",
                  "0.83",
                  "0.73",
                  "4",
                  "157",
                  "2",
                  "0",
                  "No",
                  "0",
                  "RandD",
                  "medium"
                ],
                [
                  "30",
                  "0.11",
                  "0.93",
                  "4",
                  "295",
                  "3",
                  "0",
                  "Yes",
                  "0",
                  "technical",
                  "low"
                ],
                [
                  "31",
                  "0.09",
                  "0.8",
                  "6",
                  "294",
                  "4",
                  "0",
                  "Yes",
                  "0",
                  "hr",
                  "low"
                ],
                [
                  "32",
                  "0.7",
                  "0.77",
                  "4",
                  "245",
                  "2",
                  "0",
                  "No",
                  "0",
                  "sales",
                  "low"
                ],
                [
                  "33",
                  "0.39",
                  "0.85",
                  "5",
                  "179",
                  "5",
                  "0",
                  "No",
                  "0",
                  "support",
                  "low"
                ],
                [
                  "34",
                  "0.36",
                  "0.47",
                  "2",
                  "148",
                  "3",
                  "0",
                  "Yes",
                  "0",
                  "technical",
                  "medium"
                ],
                [
                  "35",
                  "0.83",
                  "0.67",
                  "3",
                  "175",
                  "3",
                  "0",
                  "No",
                  "0",
                  "product_mng",
                  "medium"
                ],
                [
                  "36",
                  "1.0",
                  "0.55",
                  "4",
                  "186",
                  "4",
                  "1",
                  "No",
                  "0",
                  "technical",
                  "medium"
                ],
                [
                  "37",
                  "0.61",
                  "0.88",
                  "5",
                  "134",
                  "4",
                  "0",
                  "No",
                  "0",
                  "technical",
                  "low"
                ],
                [
                  "38",
                  "0.7",
                  "0.48",
                  "4",
                  "237",
                  "3",
                  "0",
                  "No",
                  "0",
                  "sales",
                  "low"
                ],
                [
                  "39",
                  "0.87",
                  "0.9",
                  "5",
                  "258",
                  "5",
                  "0",
                  "Yes",
                  "0",
                  "support",
                  "low"
                ],
                [
                  "40",
                  "0.71",
                  "0.36",
                  "4",
                  "278",
                  "4",
                  "1",
                  "No",
                  "0",
                  "product_mng",
                  "high"
                ],
                [
                  "41",
                  "0.58",
                  "0.91",
                  "4",
                  "173",
                  "4",
                  "0",
                  "No",
                  "0",
                  "sales",
                  "low"
                ],
                [
                  "42",
                  "0.83",
                  "0.86",
                  "4",
                  "98",
                  "4",
                  "0",
                  "No",
                  "0",
                  "sales",
                  "low"
                ],
                [
                  "43",
                  "0.75",
                  "0.55",
                  "5",
                  "281",
                  "3",
                  "1",
                  "No",
                  "0",
                  "sales",
                  "low"
                ],
                [
                  "44",
                  "0.84",
                  "0.56",
                  "5",
                  "224",
                  "2",
                  "0",
                  "No",
                  "0",
                  "support",
                  "medium"
                ],
                [
                  "45",
                  "0.64",
                  "0.51",
                  "4",
                  "207",
                  "2",
                  "0",
                  "No",
                  "0",
                  "IT",
                  "low"
                ],
                [
                  "46",
                  "0.09",
                  "0.83",
                  "7",
                  "258",
                  "4",
                  "0",
                  "Yes",
                  "0",
                  "product_mng",
                  "low"
                ],
                [
                  "47",
                  "0.9",
                  "0.54",
                  "4",
                  "172",
                  "4",
                  "0",
                  "No",
                  "0",
                  "sales",
                  "medium"
                ],
                [
                  "48",
                  "0.45",
                  "0.57",
                  "2",
                  "151",
                  "3",
                  "0",
                  "Yes",
                  "0",
                  "accounting",
                  "low"
                ],
                [
                  "49",
                  "0.8",
                  "1.0",
                  "3",
                  "177",
                  "2",
                  "0",
                  "No",
                  "0",
                  "technical",
                  "medium"
                ]
              ],
              "shape": {
                "columns": 10,
                "rows": 14999
              }
            },
            "text/html": [
              "<div>\n",
              "<style scoped>\n",
              "    .dataframe tbody tr th:only-of-type {\n",
              "        vertical-align: middle;\n",
              "    }\n",
              "\n",
              "    .dataframe tbody tr th {\n",
              "        vertical-align: top;\n",
              "    }\n",
              "\n",
              "    .dataframe thead th {\n",
              "        text-align: right;\n",
              "    }\n",
              "</style>\n",
              "<table border=\"1\" class=\"dataframe\">\n",
              "  <thead>\n",
              "    <tr style=\"text-align: right;\">\n",
              "      <th></th>\n",
              "      <th>satisfaction_level</th>\n",
              "      <th>last_evaluation</th>\n",
              "      <th>number_project</th>\n",
              "      <th>average_montly_hours</th>\n",
              "      <th>time_spend_company</th>\n",
              "      <th>Work_accident</th>\n",
              "      <th>left</th>\n",
              "      <th>promotion_last_5years</th>\n",
              "      <th>Departments</th>\n",
              "      <th>salary</th>\n",
              "    </tr>\n",
              "  </thead>\n",
              "  <tbody>\n",
              "    <tr>\n",
              "      <th>0</th>\n",
              "      <td>0.79</td>\n",
              "      <td>0.54</td>\n",
              "      <td>5</td>\n",
              "      <td>212</td>\n",
              "      <td>4</td>\n",
              "      <td>0</td>\n",
              "      <td>No</td>\n",
              "      <td>0</td>\n",
              "      <td>marketing</td>\n",
              "      <td>medium</td>\n",
              "    </tr>\n",
              "    <tr>\n",
              "      <th>1</th>\n",
              "      <td>0.17</td>\n",
              "      <td>0.60</td>\n",
              "      <td>5</td>\n",
              "      <td>144</td>\n",
              "      <td>6</td>\n",
              "      <td>0</td>\n",
              "      <td>No</td>\n",
              "      <td>0</td>\n",
              "      <td>technical</td>\n",
              "      <td>medium</td>\n",
              "    </tr>\n",
              "    <tr>\n",
              "      <th>2</th>\n",
              "      <td>0.91</td>\n",
              "      <td>0.77</td>\n",
              "      <td>4</td>\n",
              "      <td>167</td>\n",
              "      <td>3</td>\n",
              "      <td>1</td>\n",
              "      <td>No</td>\n",
              "      <td>0</td>\n",
              "      <td>IT</td>\n",
              "      <td>medium</td>\n",
              "    </tr>\n",
              "    <tr>\n",
              "      <th>3</th>\n",
              "      <td>0.65</td>\n",
              "      <td>1.00</td>\n",
              "      <td>4</td>\n",
              "      <td>195</td>\n",
              "      <td>3</td>\n",
              "      <td>0</td>\n",
              "      <td>No</td>\n",
              "      <td>0</td>\n",
              "      <td>IT</td>\n",
              "      <td>low</td>\n",
              "    </tr>\n",
              "    <tr>\n",
              "      <th>4</th>\n",
              "      <td>0.87</td>\n",
              "      <td>0.76</td>\n",
              "      <td>4</td>\n",
              "      <td>218</td>\n",
              "      <td>2</td>\n",
              "      <td>0</td>\n",
              "      <td>No</td>\n",
              "      <td>0</td>\n",
              "      <td>sales</td>\n",
              "      <td>low</td>\n",
              "    </tr>\n",
              "    <tr>\n",
              "      <th>...</th>\n",
              "      <td>...</td>\n",
              "      <td>...</td>\n",
              "      <td>...</td>\n",
              "      <td>...</td>\n",
              "      <td>...</td>\n",
              "      <td>...</td>\n",
              "      <td>...</td>\n",
              "      <td>...</td>\n",
              "      <td>...</td>\n",
              "      <td>...</td>\n",
              "    </tr>\n",
              "    <tr>\n",
              "      <th>14994</th>\n",
              "      <td>0.73</td>\n",
              "      <td>0.81</td>\n",
              "      <td>4</td>\n",
              "      <td>245</td>\n",
              "      <td>2</td>\n",
              "      <td>0</td>\n",
              "      <td>No</td>\n",
              "      <td>0</td>\n",
              "      <td>sales</td>\n",
              "      <td>low</td>\n",
              "    </tr>\n",
              "    <tr>\n",
              "      <th>14995</th>\n",
              "      <td>0.67</td>\n",
              "      <td>0.59</td>\n",
              "      <td>3</td>\n",
              "      <td>205</td>\n",
              "      <td>5</td>\n",
              "      <td>0</td>\n",
              "      <td>No</td>\n",
              "      <td>0</td>\n",
              "      <td>support</td>\n",
              "      <td>medium</td>\n",
              "    </tr>\n",
              "    <tr>\n",
              "      <th>14996</th>\n",
              "      <td>0.98</td>\n",
              "      <td>0.98</td>\n",
              "      <td>4</td>\n",
              "      <td>170</td>\n",
              "      <td>10</td>\n",
              "      <td>0</td>\n",
              "      <td>No</td>\n",
              "      <td>0</td>\n",
              "      <td>IT</td>\n",
              "      <td>medium</td>\n",
              "    </tr>\n",
              "    <tr>\n",
              "      <th>14997</th>\n",
              "      <td>0.73</td>\n",
              "      <td>0.99</td>\n",
              "      <td>6</td>\n",
              "      <td>206</td>\n",
              "      <td>5</td>\n",
              "      <td>0</td>\n",
              "      <td>Yes</td>\n",
              "      <td>0</td>\n",
              "      <td>sales</td>\n",
              "      <td>medium</td>\n",
              "    </tr>\n",
              "    <tr>\n",
              "      <th>14998</th>\n",
              "      <td>0.85</td>\n",
              "      <td>0.85</td>\n",
              "      <td>4</td>\n",
              "      <td>247</td>\n",
              "      <td>6</td>\n",
              "      <td>0</td>\n",
              "      <td>Yes</td>\n",
              "      <td>0</td>\n",
              "      <td>technical</td>\n",
              "      <td>low</td>\n",
              "    </tr>\n",
              "  </tbody>\n",
              "</table>\n",
              "<p>14999 rows × 10 columns</p>\n",
              "</div>"
            ],
            "text/plain": [
              "       satisfaction_level  last_evaluation  number_project  \\\n",
              "0                    0.79             0.54               5   \n",
              "1                    0.17             0.60               5   \n",
              "2                    0.91             0.77               4   \n",
              "3                    0.65             1.00               4   \n",
              "4                    0.87             0.76               4   \n",
              "...                   ...              ...             ...   \n",
              "14994                0.73             0.81               4   \n",
              "14995                0.67             0.59               3   \n",
              "14996                0.98             0.98               4   \n",
              "14997                0.73             0.99               6   \n",
              "14998                0.85             0.85               4   \n",
              "\n",
              "       average_montly_hours  time_spend_company  Work_accident left  \\\n",
              "0                       212                   4              0   No   \n",
              "1                       144                   6              0   No   \n",
              "2                       167                   3              1   No   \n",
              "3                       195                   3              0   No   \n",
              "4                       218                   2              0   No   \n",
              "...                     ...                 ...            ...  ...   \n",
              "14994                   245                   2              0   No   \n",
              "14995                   205                   5              0   No   \n",
              "14996                   170                  10              0   No   \n",
              "14997                   206                   5              0  Yes   \n",
              "14998                   247                   6              0  Yes   \n",
              "\n",
              "       promotion_last_5years Departments   salary  \n",
              "0                          0    marketing  medium  \n",
              "1                          0    technical  medium  \n",
              "2                          0           IT  medium  \n",
              "3                          0           IT     low  \n",
              "4                          0        sales     low  \n",
              "...                      ...          ...     ...  \n",
              "14994                      0        sales     low  \n",
              "14995                      0      support  medium  \n",
              "14996                      0           IT  medium  \n",
              "14997                      0        sales  medium  \n",
              "14998                      0    technical     low  \n",
              "\n",
              "[14999 rows x 10 columns]"
            ]
          },
          "execution_count": 48,
          "metadata": {},
          "output_type": "execute_result"
        }
      ],
      "source": [
        "import numpy as np\n",
        "import pandas as pd\n",
        "df = pd.read_csv(\"Employee_Retention_Dataset.csv\")\n",
        "df"
      ]
    },
    {
      "cell_type": "code",
      "execution_count": null,
      "id": "95c4c61a-ce6d-4d34-8f22-d3bc74ea4289",
      "metadata": {
        "id": "95c4c61a-ce6d-4d34-8f22-d3bc74ea4289",
        "outputId": "00f737f2-dfb2-4322-8c18-21c0577ffa19"
      },
      "outputs": [
        {
          "name": "stdout",
          "output_type": "stream",
          "text": [
            "<class 'pandas.core.frame.DataFrame'>\n",
            "RangeIndex: 14999 entries, 0 to 14998\n",
            "Data columns (total 10 columns):\n",
            " #   Column                 Non-Null Count  Dtype  \n",
            "---  ------                 --------------  -----  \n",
            " 0   satisfaction_level     14999 non-null  float64\n",
            " 1   last_evaluation        14999 non-null  float64\n",
            " 2   number_project         14999 non-null  int64  \n",
            " 3   average_montly_hours   14999 non-null  int64  \n",
            " 4   time_spend_company     14999 non-null  int64  \n",
            " 5   Work_accident          14999 non-null  int64  \n",
            " 6   left                   14999 non-null  object \n",
            " 7   promotion_last_5years  14999 non-null  int64  \n",
            " 8   Departments            14999 non-null  object \n",
            " 9   salary                 14999 non-null  object \n",
            "dtypes: float64(2), int64(5), object(3)\n",
            "memory usage: 1.1+ MB\n"
          ]
        }
      ],
      "source": [
        "# General information\n",
        "df.info()"
      ]
    },
    {
      "cell_type": "code",
      "execution_count": null,
      "id": "13b1e39f",
      "metadata": {
        "id": "13b1e39f",
        "outputId": "6e44bd57-25e6-42b9-9359-1394d08ae952"
      },
      "outputs": [
        {
          "name": "stdout",
          "output_type": "stream",
          "text": [
            "\n",
            "Dataset Shape: (14999, 10)\n"
          ]
        }
      ],
      "source": [
        "# Dataset Shape\n",
        "print(\"\\nDataset Shape:\", df.shape)"
      ]
    },
    {
      "cell_type": "code",
      "execution_count": null,
      "id": "17f0a551",
      "metadata": {
        "id": "17f0a551",
        "outputId": "a016fe0c-b562-447c-f2c6-ae485d686e91"
      },
      "outputs": [
        {
          "data": {
            "application/vnd.microsoft.datawrangler.viewer.v0+json": {
              "columns": [
                {
                  "name": "index",
                  "rawType": "object",
                  "type": "string"
                },
                {
                  "name": "0",
                  "rawType": "int64",
                  "type": "integer"
                }
              ],
              "ref": "18b1653d-4f93-4517-83d9-b5c6489f1965",
              "rows": [
                [
                  "satisfaction_level",
                  "0"
                ],
                [
                  "last_evaluation",
                  "0"
                ],
                [
                  "number_project",
                  "0"
                ],
                [
                  "average_montly_hours",
                  "0"
                ],
                [
                  "time_spend_company",
                  "0"
                ],
                [
                  "Work_accident",
                  "0"
                ],
                [
                  "left",
                  "0"
                ],
                [
                  "promotion_last_5years",
                  "0"
                ],
                [
                  "Departments ",
                  "0"
                ],
                [
                  "salary",
                  "0"
                ]
              ],
              "shape": {
                "columns": 1,
                "rows": 10
              }
            },
            "text/plain": [
              "satisfaction_level       0\n",
              "last_evaluation          0\n",
              "number_project           0\n",
              "average_montly_hours     0\n",
              "time_spend_company       0\n",
              "Work_accident            0\n",
              "left                     0\n",
              "promotion_last_5years    0\n",
              "Departments              0\n",
              "salary                   0\n",
              "dtype: int64"
            ]
          },
          "execution_count": 51,
          "metadata": {},
          "output_type": "execute_result"
        }
      ],
      "source": [
        "# Check Missing Values\n",
        "df.isnull().sum()"
      ]
    },
    {
      "cell_type": "code",
      "execution_count": null,
      "id": "e2d1d5cd",
      "metadata": {
        "id": "e2d1d5cd",
        "outputId": "f1b35458-dcd9-40e0-e8ae-5f9eaec96580"
      },
      "outputs": [
        {
          "data": {
            "application/vnd.microsoft.datawrangler.viewer.v0+json": {
              "columns": [
                {
                  "name": "left",
                  "rawType": "object",
                  "type": "string"
                },
                {
                  "name": "count",
                  "rawType": "int64",
                  "type": "integer"
                }
              ],
              "ref": "4c36f759-40a4-450b-9609-9317b86503da",
              "rows": [
                [
                  "No",
                  "11428"
                ],
                [
                  "Yes",
                  "3571"
                ]
              ],
              "shape": {
                "columns": 1,
                "rows": 2
              }
            },
            "text/plain": [
              "left\n",
              "No     11428\n",
              "Yes     3571\n",
              "Name: count, dtype: int64"
            ]
          },
          "execution_count": 52,
          "metadata": {},
          "output_type": "execute_result"
        }
      ],
      "source": [
        "df[\"left\"].value_counts()"
      ]
    },
    {
      "cell_type": "code",
      "execution_count": null,
      "id": "6394680d",
      "metadata": {
        "id": "6394680d",
        "outputId": "cf0a8794-3136-4103-cea3-1309fe4a8207"
      },
      "outputs": [
        {
          "data": {
            "application/vnd.microsoft.datawrangler.viewer.v0+json": {
              "columns": [
                {
                  "name": "left",
                  "rawType": "object",
                  "type": "string"
                },
                {
                  "name": "proportion",
                  "rawType": "float64",
                  "type": "float"
                }
              ],
              "ref": "a23c714d-335a-4c5d-8c16-c81c67ba8d88",
              "rows": [
                [
                  "No",
                  "76.19174611640777"
                ],
                [
                  "Yes",
                  "23.80825388359224"
                ]
              ],
              "shape": {
                "columns": 1,
                "rows": 2
              }
            },
            "text/plain": [
              "left\n",
              "No     76.191746\n",
              "Yes    23.808254\n",
              "Name: proportion, dtype: float64"
            ]
          },
          "execution_count": 53,
          "metadata": {},
          "output_type": "execute_result"
        }
      ],
      "source": [
        "# Calculate Percentage Distribution\n",
        "df[\"left\"].value_counts(normalize=True) * 100"
      ]
    },
    {
      "cell_type": "code",
      "execution_count": null,
      "id": "29c805f2",
      "metadata": {
        "id": "29c805f2",
        "outputId": "f78f5865-dc02-4a72-ac0e-9ca9f0cb7e9b"
      },
      "outputs": [
        {
          "data": {
            "application/vnd.microsoft.datawrangler.viewer.v0+json": {
              "columns": [
                {
                  "name": "satisfaction_level",
                  "rawType": "float64",
                  "type": "float"
                },
                {
                  "name": "proportion",
                  "rawType": "float64",
                  "type": "float"
                }
              ],
              "ref": "17f96a9a-2dc8-4548-9801-8819e63cadff",
              "rows": [
                [
                  "0.1",
                  "2.3868257883858925"
                ],
                [
                  "0.11",
                  "2.23348223214881"
                ],
                [
                  "0.74",
                  "1.7134475631708783"
                ],
                [
                  "0.77",
                  "1.6801120074671643"
                ],
                [
                  "0.84",
                  "1.6467764517634507"
                ],
                [
                  "0.73",
                  "1.640109340622708"
                ],
                [
                  "0.78",
                  "1.6067737849189947"
                ],
                [
                  "0.82",
                  "1.6067737849189947"
                ],
                [
                  "0.37",
                  "1.6067737849189947"
                ],
                [
                  "0.89",
                  "1.5801053403560237"
                ],
                [
                  "0.76",
                  "1.5601040069337955"
                ],
                [
                  "0.83",
                  "1.5601040069337955"
                ],
                [
                  "0.72",
                  "1.5334355623708247"
                ],
                [
                  "0.5",
                  "1.526768451230082"
                ],
                [
                  "0.66",
                  "1.5201013400893393"
                ],
                [
                  "0.75",
                  "1.5067671178078539"
                ],
                [
                  "0.87",
                  "1.500100006667111"
                ],
                [
                  "0.43",
                  "1.4934328955263685"
                ],
                [
                  "0.91",
                  "1.4934328955263685"
                ],
                [
                  "0.8",
                  "1.4800986732448829"
                ],
                [
                  "0.9",
                  "1.4667644509633977"
                ],
                [
                  "0.81",
                  "1.4667644509633977"
                ],
                [
                  "0.59",
                  "1.4600973398226549"
                ],
                [
                  "0.79",
                  "1.4467631175411695"
                ],
                [
                  "0.44",
                  "1.406760450696713"
                ],
                [
                  "0.57",
                  "1.4000933395559703"
                ],
                [
                  "0.4",
                  "1.3934262284152277"
                ],
                [
                  "0.49",
                  "1.3934262284152277"
                ],
                [
                  "0.63",
                  "1.3934262284152277"
                ],
                [
                  "0.69",
                  "1.3934262284152277"
                ],
                [
                  "0.61",
                  "1.386759117274485"
                ],
                [
                  "0.85",
                  "1.3800920061337423"
                ],
                [
                  "0.7",
                  "1.3667577838522567"
                ],
                [
                  "0.45",
                  "1.3534235615707715"
                ],
                [
                  "0.96",
                  "1.3534235615707715"
                ],
                [
                  "0.86",
                  "1.3334222281485433"
                ],
                [
                  "0.65",
                  "1.3267551170078005"
                ],
                [
                  "0.92",
                  "1.3200880058670579"
                ],
                [
                  "0.52",
                  "1.3067537835855725"
                ],
                [
                  "0.09",
                  "1.3000866724448297"
                ],
                [
                  "0.6",
                  "1.2867524501633443"
                ],
                [
                  "0.38",
                  "1.2600840056003733"
                ],
                [
                  "0.62",
                  "1.2534168944596307"
                ],
                [
                  "0.88",
                  "1.246749783318888"
                ],
                [
                  "0.51",
                  "1.246749783318888"
                ],
                [
                  "0.56",
                  "1.246749783318888"
                ],
                [
                  "0.64",
                  "1.246749783318888"
                ],
                [
                  "0.54",
                  "1.2334155610374025"
                ],
                [
                  "0.98",
                  "1.220081338755917"
                ],
                [
                  "0.58",
                  "1.2134142276151743"
                ]
              ],
              "shape": {
                "columns": 1,
                "rows": 92
              }
            },
            "text/plain": [
              "satisfaction_level\n",
              "0.10    2.386826\n",
              "0.11    2.233482\n",
              "0.74    1.713448\n",
              "0.77    1.680112\n",
              "0.84    1.646776\n",
              "          ...   \n",
              "0.25    0.226682\n",
              "0.28    0.206680\n",
              "0.27    0.200013\n",
              "0.12    0.200013\n",
              "0.26    0.200013\n",
              "Name: proportion, Length: 92, dtype: float64"
            ]
          },
          "execution_count": 54,
          "metadata": {},
          "output_type": "execute_result"
        }
      ],
      "source": [
        "# analyze satisfactsatisfaction_levelion_level\n",
        "df[\"\"].value_counts(normalize=True) * 100"
      ]
    },
    {
      "cell_type": "code",
      "execution_count": null,
      "id": "a007f154",
      "metadata": {
        "id": "a007f154",
        "outputId": "1efda301-d5c5-41dd-e763-0aa30e4f8625"
      },
      "outputs": [
        {
          "data": {
            "text/plain": [
              "np.float64(0.6128335222348156)"
            ]
          },
          "execution_count": 55,
          "metadata": {},
          "output_type": "execute_result"
        }
      ],
      "source": [
        "# calculate the average of the satisfaction levels\n",
        "df[\"satisfaction_level\"].mean()"
      ]
    },
    {
      "cell_type": "code",
      "execution_count": null,
      "id": "0948e220",
      "metadata": {
        "id": "0948e220",
        "outputId": "9dcd94a4-e56b-483c-ee23-222aa8711a7c"
      },
      "outputs": [
        {
          "data": {
            "application/vnd.microsoft.datawrangler.viewer.v0+json": {
              "columns": [
                {
                  "name": "index",
                  "rawType": "int64",
                  "type": "integer"
                },
                {
                  "name": "satisfy",
                  "rawType": "object",
                  "type": "string"
                }
              ],
              "ref": "3b16fd3b-10ec-4ed8-a37b-a26b1007969a",
              "rows": [
                [
                  "0",
                  "satisfied"
                ],
                [
                  "1",
                  "not satisfied"
                ],
                [
                  "2",
                  "satisfied"
                ],
                [
                  "3",
                  "satisfied"
                ],
                [
                  "4",
                  "satisfied"
                ],
                [
                  "5",
                  "satisfied"
                ],
                [
                  "6",
                  "satisfied"
                ],
                [
                  "7",
                  "not satisfied"
                ],
                [
                  "8",
                  "satisfied"
                ],
                [
                  "9",
                  "not satisfied"
                ],
                [
                  "10",
                  "satisfied"
                ],
                [
                  "11",
                  "not satisfied"
                ],
                [
                  "12",
                  "satisfied"
                ],
                [
                  "13",
                  "not satisfied"
                ],
                [
                  "14",
                  "satisfied"
                ],
                [
                  "15",
                  "not satisfied"
                ],
                [
                  "16",
                  "satisfied"
                ],
                [
                  "17",
                  "not satisfied"
                ],
                [
                  "18",
                  "not satisfied"
                ],
                [
                  "19",
                  "not satisfied"
                ],
                [
                  "20",
                  "satisfied"
                ],
                [
                  "21",
                  "satisfied"
                ],
                [
                  "22",
                  "satisfied"
                ],
                [
                  "23",
                  "not satisfied"
                ],
                [
                  "24",
                  "satisfied"
                ],
                [
                  "25",
                  "not satisfied"
                ],
                [
                  "26",
                  "satisfied"
                ],
                [
                  "27",
                  "satisfied"
                ],
                [
                  "28",
                  "not satisfied"
                ],
                [
                  "29",
                  "satisfied"
                ],
                [
                  "30",
                  "not satisfied"
                ],
                [
                  "31",
                  "not satisfied"
                ],
                [
                  "32",
                  "satisfied"
                ],
                [
                  "33",
                  "not satisfied"
                ],
                [
                  "34",
                  "not satisfied"
                ],
                [
                  "35",
                  "satisfied"
                ],
                [
                  "36",
                  "satisfied"
                ],
                [
                  "37",
                  "not satisfied"
                ],
                [
                  "38",
                  "satisfied"
                ],
                [
                  "39",
                  "satisfied"
                ],
                [
                  "40",
                  "satisfied"
                ],
                [
                  "41",
                  "not satisfied"
                ],
                [
                  "42",
                  "satisfied"
                ],
                [
                  "43",
                  "satisfied"
                ],
                [
                  "44",
                  "satisfied"
                ],
                [
                  "45",
                  "satisfied"
                ],
                [
                  "46",
                  "not satisfied"
                ],
                [
                  "47",
                  "satisfied"
                ],
                [
                  "48",
                  "not satisfied"
                ],
                [
                  "49",
                  "satisfied"
                ]
              ],
              "shape": {
                "columns": 1,
                "rows": 14999
              }
            },
            "text/plain": [
              "0            satisfied\n",
              "1        not satisfied\n",
              "2            satisfied\n",
              "3            satisfied\n",
              "4            satisfied\n",
              "             ...      \n",
              "14994        satisfied\n",
              "14995        satisfied\n",
              "14996        satisfied\n",
              "14997        satisfied\n",
              "14998        satisfied\n",
              "Name: satisfy, Length: 14999, dtype: object"
            ]
          },
          "execution_count": 56,
          "metadata": {},
          "output_type": "execute_result"
        }
      ],
      "source": [
        "df[\"satisfy\"] = np.where(df[\"satisfaction_level\"] > 0.61 , \"satisfied\", \"not satisfied\")\n",
        "df[\"satisfy\"]"
      ]
    },
    {
      "cell_type": "code",
      "execution_count": null,
      "id": "b2650dfd",
      "metadata": {
        "id": "b2650dfd",
        "outputId": "c59cea37-a8df-4034-8634-9831926142a0"
      },
      "outputs": [
        {
          "data": {
            "application/vnd.microsoft.datawrangler.viewer.v0+json": {
              "columns": [
                {
                  "name": "index",
                  "rawType": "int64",
                  "type": "integer"
                },
                {
                  "name": "satisfaction_level",
                  "rawType": "float64",
                  "type": "float"
                },
                {
                  "name": "last_evaluation",
                  "rawType": "float64",
                  "type": "float"
                },
                {
                  "name": "number_project",
                  "rawType": "int64",
                  "type": "integer"
                },
                {
                  "name": "average_montly_hours",
                  "rawType": "int64",
                  "type": "integer"
                },
                {
                  "name": "time_spend_company",
                  "rawType": "int64",
                  "type": "integer"
                },
                {
                  "name": "Work_accident",
                  "rawType": "int64",
                  "type": "integer"
                },
                {
                  "name": "left",
                  "rawType": "object",
                  "type": "string"
                },
                {
                  "name": "promotion_last_5years",
                  "rawType": "int64",
                  "type": "integer"
                },
                {
                  "name": "Departments ",
                  "rawType": "object",
                  "type": "string"
                },
                {
                  "name": "salary",
                  "rawType": "object",
                  "type": "string"
                },
                {
                  "name": "satisfy",
                  "rawType": "object",
                  "type": "string"
                }
              ],
              "ref": "c8f50228-286e-4939-8d0c-af9575d6d4de",
              "rows": [
                [
                  "0",
                  "0.79",
                  "0.54",
                  "5",
                  "212",
                  "4",
                  "0",
                  "No",
                  "0",
                  "marketing",
                  "medium",
                  "satisfied"
                ],
                [
                  "1",
                  "0.17",
                  "0.6",
                  "5",
                  "144",
                  "6",
                  "0",
                  "No",
                  "0",
                  "technical",
                  "medium",
                  "not satisfied"
                ],
                [
                  "2",
                  "0.91",
                  "0.77",
                  "4",
                  "167",
                  "3",
                  "1",
                  "No",
                  "0",
                  "IT",
                  "medium",
                  "satisfied"
                ],
                [
                  "3",
                  "0.65",
                  "1.0",
                  "4",
                  "195",
                  "3",
                  "0",
                  "No",
                  "0",
                  "IT",
                  "low",
                  "satisfied"
                ],
                [
                  "4",
                  "0.87",
                  "0.76",
                  "4",
                  "218",
                  "2",
                  "0",
                  "No",
                  "0",
                  "sales",
                  "low",
                  "satisfied"
                ],
                [
                  "5",
                  "0.83",
                  "0.77",
                  "2",
                  "186",
                  "2",
                  "0",
                  "No",
                  "0",
                  "sales",
                  "medium",
                  "satisfied"
                ],
                [
                  "6",
                  "0.65",
                  "0.49",
                  "5",
                  "221",
                  "2",
                  "0",
                  "No",
                  "0",
                  "management",
                  "low",
                  "satisfied"
                ],
                [
                  "7",
                  "0.31",
                  "0.49",
                  "4",
                  "165",
                  "3",
                  "1",
                  "No",
                  "0",
                  "technical",
                  "low",
                  "not satisfied"
                ],
                [
                  "8",
                  "0.8",
                  "0.68",
                  "4",
                  "199",
                  "2",
                  "0",
                  "No",
                  "0",
                  "IT",
                  "medium",
                  "satisfied"
                ],
                [
                  "9",
                  "0.41",
                  "0.48",
                  "2",
                  "155",
                  "3",
                  "0",
                  "Yes",
                  "0",
                  "marketing",
                  "low",
                  "not satisfied"
                ],
                [
                  "10",
                  "0.98",
                  "0.79",
                  "5",
                  "257",
                  "4",
                  "0",
                  "No",
                  "0",
                  "technical",
                  "medium",
                  "satisfied"
                ],
                [
                  "11",
                  "0.48",
                  "0.47",
                  "3",
                  "160",
                  "3",
                  "0",
                  "No",
                  "0",
                  "product_mng",
                  "medium",
                  "not satisfied"
                ],
                [
                  "12",
                  "0.74",
                  "0.97",
                  "4",
                  "228",
                  "5",
                  "0",
                  "Yes",
                  "0",
                  "hr",
                  "low",
                  "satisfied"
                ],
                [
                  "13",
                  "0.4",
                  "0.5",
                  "2",
                  "129",
                  "3",
                  "0",
                  "Yes",
                  "0",
                  "IT",
                  "medium",
                  "not satisfied"
                ],
                [
                  "14",
                  "0.88",
                  "0.67",
                  "5",
                  "264",
                  "3",
                  "0",
                  "No",
                  "0",
                  "product_mng",
                  "medium",
                  "satisfied"
                ],
                [
                  "15",
                  "0.19",
                  "0.91",
                  "5",
                  "145",
                  "3",
                  "0",
                  "No",
                  "0",
                  "management",
                  "low",
                  "not satisfied"
                ],
                [
                  "16",
                  "0.68",
                  "0.93",
                  "4",
                  "179",
                  "2",
                  "0",
                  "No",
                  "0",
                  "sales",
                  "medium",
                  "satisfied"
                ],
                [
                  "17",
                  "0.4",
                  "0.41",
                  "3",
                  "232",
                  "3",
                  "0",
                  "No",
                  "0",
                  "technical",
                  "medium",
                  "not satisfied"
                ],
                [
                  "18",
                  "0.45",
                  "0.45",
                  "2",
                  "132",
                  "3",
                  "0",
                  "Yes",
                  "0",
                  "marketing",
                  "low",
                  "not satisfied"
                ],
                [
                  "19",
                  "0.54",
                  "0.53",
                  "4",
                  "245",
                  "2",
                  "0",
                  "No",
                  "0",
                  "technical",
                  "low",
                  "not satisfied"
                ],
                [
                  "20",
                  "1.0",
                  "0.59",
                  "5",
                  "182",
                  "3",
                  "1",
                  "No",
                  "0",
                  "management",
                  "medium",
                  "satisfied"
                ],
                [
                  "21",
                  "0.66",
                  "0.75",
                  "5",
                  "227",
                  "3",
                  "1",
                  "No",
                  "0",
                  "sales",
                  "medium",
                  "satisfied"
                ],
                [
                  "22",
                  "0.92",
                  "0.75",
                  "4",
                  "212",
                  "3",
                  "0",
                  "No",
                  "0",
                  "sales",
                  "low",
                  "satisfied"
                ],
                [
                  "23",
                  "0.59",
                  "0.75",
                  "4",
                  "266",
                  "3",
                  "0",
                  "No",
                  "0",
                  "accounting",
                  "medium",
                  "not satisfied"
                ],
                [
                  "24",
                  "0.76",
                  "0.76",
                  "3",
                  "216",
                  "3",
                  "0",
                  "No",
                  "0",
                  "sales",
                  "low",
                  "satisfied"
                ],
                [
                  "25",
                  "0.39",
                  "0.53",
                  "2",
                  "127",
                  "3",
                  "0",
                  "Yes",
                  "0",
                  "sales",
                  "medium",
                  "not satisfied"
                ],
                [
                  "26",
                  "0.92",
                  "0.55",
                  "3",
                  "172",
                  "2",
                  "0",
                  "No",
                  "0",
                  "technical",
                  "high",
                  "satisfied"
                ],
                [
                  "27",
                  "0.67",
                  "0.87",
                  "3",
                  "177",
                  "4",
                  "0",
                  "No",
                  "0",
                  "sales",
                  "high",
                  "satisfied"
                ],
                [
                  "28",
                  "0.27",
                  "0.42",
                  "6",
                  "173",
                  "7",
                  "0",
                  "No",
                  "0",
                  "sales",
                  "medium",
                  "not satisfied"
                ],
                [
                  "29",
                  "0.83",
                  "0.73",
                  "4",
                  "157",
                  "2",
                  "0",
                  "No",
                  "0",
                  "RandD",
                  "medium",
                  "satisfied"
                ],
                [
                  "30",
                  "0.11",
                  "0.93",
                  "4",
                  "295",
                  "3",
                  "0",
                  "Yes",
                  "0",
                  "technical",
                  "low",
                  "not satisfied"
                ],
                [
                  "31",
                  "0.09",
                  "0.8",
                  "6",
                  "294",
                  "4",
                  "0",
                  "Yes",
                  "0",
                  "hr",
                  "low",
                  "not satisfied"
                ],
                [
                  "32",
                  "0.7",
                  "0.77",
                  "4",
                  "245",
                  "2",
                  "0",
                  "No",
                  "0",
                  "sales",
                  "low",
                  "satisfied"
                ],
                [
                  "33",
                  "0.39",
                  "0.85",
                  "5",
                  "179",
                  "5",
                  "0",
                  "No",
                  "0",
                  "support",
                  "low",
                  "not satisfied"
                ],
                [
                  "34",
                  "0.36",
                  "0.47",
                  "2",
                  "148",
                  "3",
                  "0",
                  "Yes",
                  "0",
                  "technical",
                  "medium",
                  "not satisfied"
                ],
                [
                  "35",
                  "0.83",
                  "0.67",
                  "3",
                  "175",
                  "3",
                  "0",
                  "No",
                  "0",
                  "product_mng",
                  "medium",
                  "satisfied"
                ],
                [
                  "36",
                  "1.0",
                  "0.55",
                  "4",
                  "186",
                  "4",
                  "1",
                  "No",
                  "0",
                  "technical",
                  "medium",
                  "satisfied"
                ],
                [
                  "37",
                  "0.61",
                  "0.88",
                  "5",
                  "134",
                  "4",
                  "0",
                  "No",
                  "0",
                  "technical",
                  "low",
                  "not satisfied"
                ],
                [
                  "38",
                  "0.7",
                  "0.48",
                  "4",
                  "237",
                  "3",
                  "0",
                  "No",
                  "0",
                  "sales",
                  "low",
                  "satisfied"
                ],
                [
                  "39",
                  "0.87",
                  "0.9",
                  "5",
                  "258",
                  "5",
                  "0",
                  "Yes",
                  "0",
                  "support",
                  "low",
                  "satisfied"
                ],
                [
                  "40",
                  "0.71",
                  "0.36",
                  "4",
                  "278",
                  "4",
                  "1",
                  "No",
                  "0",
                  "product_mng",
                  "high",
                  "satisfied"
                ],
                [
                  "41",
                  "0.58",
                  "0.91",
                  "4",
                  "173",
                  "4",
                  "0",
                  "No",
                  "0",
                  "sales",
                  "low",
                  "not satisfied"
                ],
                [
                  "42",
                  "0.83",
                  "0.86",
                  "4",
                  "98",
                  "4",
                  "0",
                  "No",
                  "0",
                  "sales",
                  "low",
                  "satisfied"
                ],
                [
                  "43",
                  "0.75",
                  "0.55",
                  "5",
                  "281",
                  "3",
                  "1",
                  "No",
                  "0",
                  "sales",
                  "low",
                  "satisfied"
                ],
                [
                  "44",
                  "0.84",
                  "0.56",
                  "5",
                  "224",
                  "2",
                  "0",
                  "No",
                  "0",
                  "support",
                  "medium",
                  "satisfied"
                ],
                [
                  "45",
                  "0.64",
                  "0.51",
                  "4",
                  "207",
                  "2",
                  "0",
                  "No",
                  "0",
                  "IT",
                  "low",
                  "satisfied"
                ],
                [
                  "46",
                  "0.09",
                  "0.83",
                  "7",
                  "258",
                  "4",
                  "0",
                  "Yes",
                  "0",
                  "product_mng",
                  "low",
                  "not satisfied"
                ],
                [
                  "47",
                  "0.9",
                  "0.54",
                  "4",
                  "172",
                  "4",
                  "0",
                  "No",
                  "0",
                  "sales",
                  "medium",
                  "satisfied"
                ],
                [
                  "48",
                  "0.45",
                  "0.57",
                  "2",
                  "151",
                  "3",
                  "0",
                  "Yes",
                  "0",
                  "accounting",
                  "low",
                  "not satisfied"
                ],
                [
                  "49",
                  "0.8",
                  "1.0",
                  "3",
                  "177",
                  "2",
                  "0",
                  "No",
                  "0",
                  "technical",
                  "medium",
                  "satisfied"
                ]
              ],
              "shape": {
                "columns": 11,
                "rows": 14999
              }
            },
            "text/html": [
              "<div>\n",
              "<style scoped>\n",
              "    .dataframe tbody tr th:only-of-type {\n",
              "        vertical-align: middle;\n",
              "    }\n",
              "\n",
              "    .dataframe tbody tr th {\n",
              "        vertical-align: top;\n",
              "    }\n",
              "\n",
              "    .dataframe thead th {\n",
              "        text-align: right;\n",
              "    }\n",
              "</style>\n",
              "<table border=\"1\" class=\"dataframe\">\n",
              "  <thead>\n",
              "    <tr style=\"text-align: right;\">\n",
              "      <th></th>\n",
              "      <th>satisfaction_level</th>\n",
              "      <th>last_evaluation</th>\n",
              "      <th>number_project</th>\n",
              "      <th>average_montly_hours</th>\n",
              "      <th>time_spend_company</th>\n",
              "      <th>Work_accident</th>\n",
              "      <th>left</th>\n",
              "      <th>promotion_last_5years</th>\n",
              "      <th>Departments</th>\n",
              "      <th>salary</th>\n",
              "      <th>satisfy</th>\n",
              "    </tr>\n",
              "  </thead>\n",
              "  <tbody>\n",
              "    <tr>\n",
              "      <th>0</th>\n",
              "      <td>0.79</td>\n",
              "      <td>0.54</td>\n",
              "      <td>5</td>\n",
              "      <td>212</td>\n",
              "      <td>4</td>\n",
              "      <td>0</td>\n",
              "      <td>No</td>\n",
              "      <td>0</td>\n",
              "      <td>marketing</td>\n",
              "      <td>medium</td>\n",
              "      <td>satisfied</td>\n",
              "    </tr>\n",
              "    <tr>\n",
              "      <th>1</th>\n",
              "      <td>0.17</td>\n",
              "      <td>0.60</td>\n",
              "      <td>5</td>\n",
              "      <td>144</td>\n",
              "      <td>6</td>\n",
              "      <td>0</td>\n",
              "      <td>No</td>\n",
              "      <td>0</td>\n",
              "      <td>technical</td>\n",
              "      <td>medium</td>\n",
              "      <td>not satisfied</td>\n",
              "    </tr>\n",
              "    <tr>\n",
              "      <th>2</th>\n",
              "      <td>0.91</td>\n",
              "      <td>0.77</td>\n",
              "      <td>4</td>\n",
              "      <td>167</td>\n",
              "      <td>3</td>\n",
              "      <td>1</td>\n",
              "      <td>No</td>\n",
              "      <td>0</td>\n",
              "      <td>IT</td>\n",
              "      <td>medium</td>\n",
              "      <td>satisfied</td>\n",
              "    </tr>\n",
              "    <tr>\n",
              "      <th>3</th>\n",
              "      <td>0.65</td>\n",
              "      <td>1.00</td>\n",
              "      <td>4</td>\n",
              "      <td>195</td>\n",
              "      <td>3</td>\n",
              "      <td>0</td>\n",
              "      <td>No</td>\n",
              "      <td>0</td>\n",
              "      <td>IT</td>\n",
              "      <td>low</td>\n",
              "      <td>satisfied</td>\n",
              "    </tr>\n",
              "    <tr>\n",
              "      <th>4</th>\n",
              "      <td>0.87</td>\n",
              "      <td>0.76</td>\n",
              "      <td>4</td>\n",
              "      <td>218</td>\n",
              "      <td>2</td>\n",
              "      <td>0</td>\n",
              "      <td>No</td>\n",
              "      <td>0</td>\n",
              "      <td>sales</td>\n",
              "      <td>low</td>\n",
              "      <td>satisfied</td>\n",
              "    </tr>\n",
              "    <tr>\n",
              "      <th>...</th>\n",
              "      <td>...</td>\n",
              "      <td>...</td>\n",
              "      <td>...</td>\n",
              "      <td>...</td>\n",
              "      <td>...</td>\n",
              "      <td>...</td>\n",
              "      <td>...</td>\n",
              "      <td>...</td>\n",
              "      <td>...</td>\n",
              "      <td>...</td>\n",
              "      <td>...</td>\n",
              "    </tr>\n",
              "    <tr>\n",
              "      <th>14994</th>\n",
              "      <td>0.73</td>\n",
              "      <td>0.81</td>\n",
              "      <td>4</td>\n",
              "      <td>245</td>\n",
              "      <td>2</td>\n",
              "      <td>0</td>\n",
              "      <td>No</td>\n",
              "      <td>0</td>\n",
              "      <td>sales</td>\n",
              "      <td>low</td>\n",
              "      <td>satisfied</td>\n",
              "    </tr>\n",
              "    <tr>\n",
              "      <th>14995</th>\n",
              "      <td>0.67</td>\n",
              "      <td>0.59</td>\n",
              "      <td>3</td>\n",
              "      <td>205</td>\n",
              "      <td>5</td>\n",
              "      <td>0</td>\n",
              "      <td>No</td>\n",
              "      <td>0</td>\n",
              "      <td>support</td>\n",
              "      <td>medium</td>\n",
              "      <td>satisfied</td>\n",
              "    </tr>\n",
              "    <tr>\n",
              "      <th>14996</th>\n",
              "      <td>0.98</td>\n",
              "      <td>0.98</td>\n",
              "      <td>4</td>\n",
              "      <td>170</td>\n",
              "      <td>10</td>\n",
              "      <td>0</td>\n",
              "      <td>No</td>\n",
              "      <td>0</td>\n",
              "      <td>IT</td>\n",
              "      <td>medium</td>\n",
              "      <td>satisfied</td>\n",
              "    </tr>\n",
              "    <tr>\n",
              "      <th>14997</th>\n",
              "      <td>0.73</td>\n",
              "      <td>0.99</td>\n",
              "      <td>6</td>\n",
              "      <td>206</td>\n",
              "      <td>5</td>\n",
              "      <td>0</td>\n",
              "      <td>Yes</td>\n",
              "      <td>0</td>\n",
              "      <td>sales</td>\n",
              "      <td>medium</td>\n",
              "      <td>satisfied</td>\n",
              "    </tr>\n",
              "    <tr>\n",
              "      <th>14998</th>\n",
              "      <td>0.85</td>\n",
              "      <td>0.85</td>\n",
              "      <td>4</td>\n",
              "      <td>247</td>\n",
              "      <td>6</td>\n",
              "      <td>0</td>\n",
              "      <td>Yes</td>\n",
              "      <td>0</td>\n",
              "      <td>technical</td>\n",
              "      <td>low</td>\n",
              "      <td>satisfied</td>\n",
              "    </tr>\n",
              "  </tbody>\n",
              "</table>\n",
              "<p>14999 rows × 11 columns</p>\n",
              "</div>"
            ],
            "text/plain": [
              "       satisfaction_level  last_evaluation  number_project  \\\n",
              "0                    0.79             0.54               5   \n",
              "1                    0.17             0.60               5   \n",
              "2                    0.91             0.77               4   \n",
              "3                    0.65             1.00               4   \n",
              "4                    0.87             0.76               4   \n",
              "...                   ...              ...             ...   \n",
              "14994                0.73             0.81               4   \n",
              "14995                0.67             0.59               3   \n",
              "14996                0.98             0.98               4   \n",
              "14997                0.73             0.99               6   \n",
              "14998                0.85             0.85               4   \n",
              "\n",
              "       average_montly_hours  time_spend_company  Work_accident left  \\\n",
              "0                       212                   4              0   No   \n",
              "1                       144                   6              0   No   \n",
              "2                       167                   3              1   No   \n",
              "3                       195                   3              0   No   \n",
              "4                       218                   2              0   No   \n",
              "...                     ...                 ...            ...  ...   \n",
              "14994                   245                   2              0   No   \n",
              "14995                   205                   5              0   No   \n",
              "14996                   170                  10              0   No   \n",
              "14997                   206                   5              0  Yes   \n",
              "14998                   247                   6              0  Yes   \n",
              "\n",
              "       promotion_last_5years Departments   salary        satisfy  \n",
              "0                          0    marketing  medium      satisfied  \n",
              "1                          0    technical  medium  not satisfied  \n",
              "2                          0           IT  medium      satisfied  \n",
              "3                          0           IT     low      satisfied  \n",
              "4                          0        sales     low      satisfied  \n",
              "...                      ...          ...     ...            ...  \n",
              "14994                      0        sales     low      satisfied  \n",
              "14995                      0      support  medium      satisfied  \n",
              "14996                      0           IT  medium      satisfied  \n",
              "14997                      0        sales  medium      satisfied  \n",
              "14998                      0    technical     low      satisfied  \n",
              "\n",
              "[14999 rows x 11 columns]"
            ]
          },
          "execution_count": 57,
          "metadata": {},
          "output_type": "execute_result"
        }
      ],
      "source": [
        "df"
      ]
    },
    {
      "cell_type": "code",
      "execution_count": null,
      "id": "f6fd5323",
      "metadata": {
        "id": "f6fd5323",
        "outputId": "4ed811cc-b93a-43a1-d153-315f48449f22"
      },
      "outputs": [
        {
          "data": {
            "application/vnd.microsoft.datawrangler.viewer.v0+json": {
              "columns": [
                {
                  "name": "left",
                  "rawType": "object",
                  "type": "string"
                },
                {
                  "name": "not satisfied",
                  "rawType": "int64",
                  "type": "integer"
                },
                {
                  "name": "satisfied",
                  "rawType": "int64",
                  "type": "integer"
                }
              ],
              "ref": "8867deb8-a37c-454d-a7f6-996f5177d1a9",
              "rows": [
                [
                  "No",
                  "4331",
                  "7097"
                ],
                [
                  "Yes",
                  "2606",
                  "965"
                ]
              ],
              "shape": {
                "columns": 2,
                "rows": 2
              }
            },
            "text/html": [
              "<div>\n",
              "<style scoped>\n",
              "    .dataframe tbody tr th:only-of-type {\n",
              "        vertical-align: middle;\n",
              "    }\n",
              "\n",
              "    .dataframe tbody tr th {\n",
              "        vertical-align: top;\n",
              "    }\n",
              "\n",
              "    .dataframe thead th {\n",
              "        text-align: right;\n",
              "    }\n",
              "</style>\n",
              "<table border=\"1\" class=\"dataframe\">\n",
              "  <thead>\n",
              "    <tr style=\"text-align: right;\">\n",
              "      <th>satisfy</th>\n",
              "      <th>not satisfied</th>\n",
              "      <th>satisfied</th>\n",
              "    </tr>\n",
              "    <tr>\n",
              "      <th>left</th>\n",
              "      <th></th>\n",
              "      <th></th>\n",
              "    </tr>\n",
              "  </thead>\n",
              "  <tbody>\n",
              "    <tr>\n",
              "      <th>No</th>\n",
              "      <td>4331</td>\n",
              "      <td>7097</td>\n",
              "    </tr>\n",
              "    <tr>\n",
              "      <th>Yes</th>\n",
              "      <td>2606</td>\n",
              "      <td>965</td>\n",
              "    </tr>\n",
              "  </tbody>\n",
              "</table>\n",
              "</div>"
            ],
            "text/plain": [
              "satisfy  not satisfied  satisfied\n",
              "left                             \n",
              "No                4331       7097\n",
              "Yes               2606        965"
            ]
          },
          "execution_count": 58,
          "metadata": {},
          "output_type": "execute_result"
        }
      ],
      "source": [
        "df.groupby([\"left\", \"satisfy\"]).size().unstack()"
      ]
    },
    {
      "cell_type": "code",
      "execution_count": null,
      "id": "14a24d35",
      "metadata": {
        "id": "14a24d35"
      },
      "outputs": [],
      "source": [
        "# Separate \"Yes\" and \"No\" cases\n",
        "df_left_yes = df[df[\"left\"] == \"Yes\"]\n",
        "df_left_no = df[df[\"left\"] == \"No\"]"
      ]
    },
    {
      "cell_type": "code",
      "execution_count": null,
      "id": "ec0c50ca",
      "metadata": {
        "id": "ec0c50ca",
        "outputId": "0cf968fe-aadb-4668-baf8-e0aedf7cedd6"
      },
      "outputs": [
        {
          "data": {
            "text/plain": [
              "(3571, 11)"
            ]
          },
          "execution_count": 60,
          "metadata": {},
          "output_type": "execute_result"
        }
      ],
      "source": [
        "# shape of statisfied\n",
        "df_left_yes.shape"
      ]
    },
    {
      "cell_type": "code",
      "execution_count": null,
      "id": "ec848bc1",
      "metadata": {
        "id": "ec848bc1",
        "outputId": "6fc93d4b-73da-4352-c941-f0ec6f55c5ec"
      },
      "outputs": [
        {
          "data": {
            "application/vnd.microsoft.datawrangler.viewer.v0+json": {
              "columns": [
                {
                  "name": "index",
                  "rawType": "int64",
                  "type": "integer"
                },
                {
                  "name": "satisfaction_level",
                  "rawType": "float64",
                  "type": "float"
                },
                {
                  "name": "last_evaluation",
                  "rawType": "float64",
                  "type": "float"
                },
                {
                  "name": "number_project",
                  "rawType": "int64",
                  "type": "integer"
                },
                {
                  "name": "average_montly_hours",
                  "rawType": "int64",
                  "type": "integer"
                },
                {
                  "name": "time_spend_company",
                  "rawType": "int64",
                  "type": "integer"
                },
                {
                  "name": "Work_accident",
                  "rawType": "int64",
                  "type": "integer"
                },
                {
                  "name": "left",
                  "rawType": "object",
                  "type": "string"
                },
                {
                  "name": "promotion_last_5years",
                  "rawType": "int64",
                  "type": "integer"
                },
                {
                  "name": "Departments ",
                  "rawType": "object",
                  "type": "string"
                },
                {
                  "name": "salary",
                  "rawType": "object",
                  "type": "string"
                },
                {
                  "name": "satisfy",
                  "rawType": "object",
                  "type": "string"
                }
              ],
              "ref": "59fd1b9f-c7a0-4d50-b8d8-a9d7bb575c38",
              "rows": [
                [
                  "9",
                  "0.41",
                  "0.48",
                  "2",
                  "155",
                  "3",
                  "0",
                  "Yes",
                  "0",
                  "marketing",
                  "low",
                  "not satisfied"
                ],
                [
                  "12",
                  "0.74",
                  "0.97",
                  "4",
                  "228",
                  "5",
                  "0",
                  "Yes",
                  "0",
                  "hr",
                  "low",
                  "satisfied"
                ],
                [
                  "13",
                  "0.4",
                  "0.5",
                  "2",
                  "129",
                  "3",
                  "0",
                  "Yes",
                  "0",
                  "IT",
                  "medium",
                  "not satisfied"
                ]
              ],
              "shape": {
                "columns": 11,
                "rows": 3
              }
            },
            "text/html": [
              "<div>\n",
              "<style scoped>\n",
              "    .dataframe tbody tr th:only-of-type {\n",
              "        vertical-align: middle;\n",
              "    }\n",
              "\n",
              "    .dataframe tbody tr th {\n",
              "        vertical-align: top;\n",
              "    }\n",
              "\n",
              "    .dataframe thead th {\n",
              "        text-align: right;\n",
              "    }\n",
              "</style>\n",
              "<table border=\"1\" class=\"dataframe\">\n",
              "  <thead>\n",
              "    <tr style=\"text-align: right;\">\n",
              "      <th></th>\n",
              "      <th>satisfaction_level</th>\n",
              "      <th>last_evaluation</th>\n",
              "      <th>number_project</th>\n",
              "      <th>average_montly_hours</th>\n",
              "      <th>time_spend_company</th>\n",
              "      <th>Work_accident</th>\n",
              "      <th>left</th>\n",
              "      <th>promotion_last_5years</th>\n",
              "      <th>Departments</th>\n",
              "      <th>salary</th>\n",
              "      <th>satisfy</th>\n",
              "    </tr>\n",
              "  </thead>\n",
              "  <tbody>\n",
              "    <tr>\n",
              "      <th>9</th>\n",
              "      <td>0.41</td>\n",
              "      <td>0.48</td>\n",
              "      <td>2</td>\n",
              "      <td>155</td>\n",
              "      <td>3</td>\n",
              "      <td>0</td>\n",
              "      <td>Yes</td>\n",
              "      <td>0</td>\n",
              "      <td>marketing</td>\n",
              "      <td>low</td>\n",
              "      <td>not satisfied</td>\n",
              "    </tr>\n",
              "    <tr>\n",
              "      <th>12</th>\n",
              "      <td>0.74</td>\n",
              "      <td>0.97</td>\n",
              "      <td>4</td>\n",
              "      <td>228</td>\n",
              "      <td>5</td>\n",
              "      <td>0</td>\n",
              "      <td>Yes</td>\n",
              "      <td>0</td>\n",
              "      <td>hr</td>\n",
              "      <td>low</td>\n",
              "      <td>satisfied</td>\n",
              "    </tr>\n",
              "    <tr>\n",
              "      <th>13</th>\n",
              "      <td>0.40</td>\n",
              "      <td>0.50</td>\n",
              "      <td>2</td>\n",
              "      <td>129</td>\n",
              "      <td>3</td>\n",
              "      <td>0</td>\n",
              "      <td>Yes</td>\n",
              "      <td>0</td>\n",
              "      <td>IT</td>\n",
              "      <td>medium</td>\n",
              "      <td>not satisfied</td>\n",
              "    </tr>\n",
              "  </tbody>\n",
              "</table>\n",
              "</div>"
            ],
            "text/plain": [
              "    satisfaction_level  last_evaluation  number_project  average_montly_hours  \\\n",
              "9                 0.41             0.48               2                   155   \n",
              "12                0.74             0.97               4                   228   \n",
              "13                0.40             0.50               2                   129   \n",
              "\n",
              "    time_spend_company  Work_accident left  promotion_last_5years  \\\n",
              "9                    3              0  Yes                      0   \n",
              "12                   5              0  Yes                      0   \n",
              "13                   3              0  Yes                      0   \n",
              "\n",
              "   Departments   salary        satisfy  \n",
              "9     marketing     low  not satisfied  \n",
              "12           hr     low      satisfied  \n",
              "13           IT  medium  not satisfied  "
            ]
          },
          "execution_count": 61,
          "metadata": {},
          "output_type": "execute_result"
        }
      ],
      "source": [
        "df_left_yes.head(3)"
      ]
    },
    {
      "cell_type": "code",
      "execution_count": null,
      "id": "5b7b0276",
      "metadata": {
        "id": "5b7b0276",
        "outputId": "4ce99cb9-e06a-47a8-8bf2-5cbb169d67f2"
      },
      "outputs": [
        {
          "data": {
            "text/plain": [
              "(11428, 11)"
            ]
          },
          "execution_count": 62,
          "metadata": {},
          "output_type": "execute_result"
        }
      ],
      "source": [
        "# shape of not statisfied\n",
        "df_left_no.shape"
      ]
    },
    {
      "cell_type": "code",
      "execution_count": null,
      "id": "ac000fc0",
      "metadata": {
        "id": "ac000fc0",
        "outputId": "31470bb7-cc7a-45b3-82f6-f718950f445d"
      },
      "outputs": [
        {
          "data": {
            "application/vnd.microsoft.datawrangler.viewer.v0+json": {
              "columns": [
                {
                  "name": "index",
                  "rawType": "int64",
                  "type": "integer"
                },
                {
                  "name": "satisfaction_level",
                  "rawType": "float64",
                  "type": "float"
                },
                {
                  "name": "last_evaluation",
                  "rawType": "float64",
                  "type": "float"
                },
                {
                  "name": "number_project",
                  "rawType": "int64",
                  "type": "integer"
                },
                {
                  "name": "average_montly_hours",
                  "rawType": "int64",
                  "type": "integer"
                },
                {
                  "name": "time_spend_company",
                  "rawType": "int64",
                  "type": "integer"
                },
                {
                  "name": "Work_accident",
                  "rawType": "int64",
                  "type": "integer"
                },
                {
                  "name": "left",
                  "rawType": "object",
                  "type": "string"
                },
                {
                  "name": "promotion_last_5years",
                  "rawType": "int64",
                  "type": "integer"
                },
                {
                  "name": "Departments ",
                  "rawType": "object",
                  "type": "string"
                },
                {
                  "name": "salary",
                  "rawType": "object",
                  "type": "string"
                },
                {
                  "name": "satisfy",
                  "rawType": "object",
                  "type": "string"
                }
              ],
              "ref": "48b2ddb6-f11d-4c5d-800b-8b1134ec250c",
              "rows": [
                [
                  "0",
                  "0.79",
                  "0.54",
                  "5",
                  "212",
                  "4",
                  "0",
                  "No",
                  "0",
                  "marketing",
                  "medium",
                  "satisfied"
                ],
                [
                  "1",
                  "0.17",
                  "0.6",
                  "5",
                  "144",
                  "6",
                  "0",
                  "No",
                  "0",
                  "technical",
                  "medium",
                  "not satisfied"
                ],
                [
                  "2",
                  "0.91",
                  "0.77",
                  "4",
                  "167",
                  "3",
                  "1",
                  "No",
                  "0",
                  "IT",
                  "medium",
                  "satisfied"
                ]
              ],
              "shape": {
                "columns": 11,
                "rows": 3
              }
            },
            "text/html": [
              "<div>\n",
              "<style scoped>\n",
              "    .dataframe tbody tr th:only-of-type {\n",
              "        vertical-align: middle;\n",
              "    }\n",
              "\n",
              "    .dataframe tbody tr th {\n",
              "        vertical-align: top;\n",
              "    }\n",
              "\n",
              "    .dataframe thead th {\n",
              "        text-align: right;\n",
              "    }\n",
              "</style>\n",
              "<table border=\"1\" class=\"dataframe\">\n",
              "  <thead>\n",
              "    <tr style=\"text-align: right;\">\n",
              "      <th></th>\n",
              "      <th>satisfaction_level</th>\n",
              "      <th>last_evaluation</th>\n",
              "      <th>number_project</th>\n",
              "      <th>average_montly_hours</th>\n",
              "      <th>time_spend_company</th>\n",
              "      <th>Work_accident</th>\n",
              "      <th>left</th>\n",
              "      <th>promotion_last_5years</th>\n",
              "      <th>Departments</th>\n",
              "      <th>salary</th>\n",
              "      <th>satisfy</th>\n",
              "    </tr>\n",
              "  </thead>\n",
              "  <tbody>\n",
              "    <tr>\n",
              "      <th>0</th>\n",
              "      <td>0.79</td>\n",
              "      <td>0.54</td>\n",
              "      <td>5</td>\n",
              "      <td>212</td>\n",
              "      <td>4</td>\n",
              "      <td>0</td>\n",
              "      <td>No</td>\n",
              "      <td>0</td>\n",
              "      <td>marketing</td>\n",
              "      <td>medium</td>\n",
              "      <td>satisfied</td>\n",
              "    </tr>\n",
              "    <tr>\n",
              "      <th>1</th>\n",
              "      <td>0.17</td>\n",
              "      <td>0.60</td>\n",
              "      <td>5</td>\n",
              "      <td>144</td>\n",
              "      <td>6</td>\n",
              "      <td>0</td>\n",
              "      <td>No</td>\n",
              "      <td>0</td>\n",
              "      <td>technical</td>\n",
              "      <td>medium</td>\n",
              "      <td>not satisfied</td>\n",
              "    </tr>\n",
              "    <tr>\n",
              "      <th>2</th>\n",
              "      <td>0.91</td>\n",
              "      <td>0.77</td>\n",
              "      <td>4</td>\n",
              "      <td>167</td>\n",
              "      <td>3</td>\n",
              "      <td>1</td>\n",
              "      <td>No</td>\n",
              "      <td>0</td>\n",
              "      <td>IT</td>\n",
              "      <td>medium</td>\n",
              "      <td>satisfied</td>\n",
              "    </tr>\n",
              "  </tbody>\n",
              "</table>\n",
              "</div>"
            ],
            "text/plain": [
              "   satisfaction_level  last_evaluation  number_project  average_montly_hours  \\\n",
              "0                0.79             0.54               5                   212   \n",
              "1                0.17             0.60               5                   144   \n",
              "2                0.91             0.77               4                   167   \n",
              "\n",
              "   time_spend_company  Work_accident left  promotion_last_5years Departments   \\\n",
              "0                   4              0   No                      0    marketing   \n",
              "1                   6              0   No                      0    technical   \n",
              "2                   3              1   No                      0           IT   \n",
              "\n",
              "   salary        satisfy  \n",
              "0  medium      satisfied  \n",
              "1  medium  not satisfied  \n",
              "2  medium      satisfied  "
            ]
          },
          "execution_count": 63,
          "metadata": {},
          "output_type": "execute_result"
        }
      ],
      "source": [
        "df_left_no.head(3)"
      ]
    },
    {
      "cell_type": "code",
      "execution_count": null,
      "id": "ebe189da",
      "metadata": {
        "id": "ebe189da"
      },
      "outputs": [],
      "source": [
        "# Randomly sample 3571 rows from \"No\" cases\n",
        "df_no_sampled = df_left_no.sample(n=3571, random_state=17)  # random_state for reproducibility\n"
      ]
    },
    {
      "cell_type": "code",
      "execution_count": null,
      "id": "059e7261",
      "metadata": {
        "id": "059e7261",
        "outputId": "d987c90e-2b49-4b6e-eafc-fe97e90825eb"
      },
      "outputs": [
        {
          "data": {
            "text/plain": [
              "(3571, 11)"
            ]
          },
          "execution_count": 65,
          "metadata": {},
          "output_type": "execute_result"
        }
      ],
      "source": [
        "df_no_sampled.shape"
      ]
    },
    {
      "cell_type": "code",
      "execution_count": null,
      "id": "a65858d1",
      "metadata": {
        "id": "a65858d1"
      },
      "outputs": [],
      "source": [
        "# Combine \"Yes\" cases with the reduced \"No\" cases\n",
        "df_balanced = pd.concat([df_left_yes, df_no_sampled])"
      ]
    },
    {
      "cell_type": "code",
      "execution_count": null,
      "id": "95d1c792",
      "metadata": {
        "id": "95d1c792",
        "outputId": "b16097d3-9817-4c7c-b8d8-5bc428e7c4c0"
      },
      "outputs": [
        {
          "data": {
            "application/vnd.microsoft.datawrangler.viewer.v0+json": {
              "columns": [
                {
                  "name": "index",
                  "rawType": "int64",
                  "type": "integer"
                },
                {
                  "name": "left",
                  "rawType": "object",
                  "type": "string"
                }
              ],
              "ref": "2b69624d-cb52-4313-bd0f-416a444a9988",
              "rows": [
                [
                  "9",
                  "Yes"
                ],
                [
                  "12",
                  "Yes"
                ],
                [
                  "13",
                  "Yes"
                ]
              ],
              "shape": {
                "columns": 1,
                "rows": 3
              }
            },
            "text/plain": [
              "9     Yes\n",
              "12    Yes\n",
              "13    Yes\n",
              "Name: left, dtype: object"
            ]
          },
          "execution_count": 67,
          "metadata": {},
          "output_type": "execute_result"
        }
      ],
      "source": [
        "df_balanced[\"left\"].head(3)"
      ]
    },
    {
      "cell_type": "code",
      "execution_count": null,
      "id": "ef9142c6",
      "metadata": {
        "id": "ef9142c6",
        "outputId": "49088d92-1dca-4403-8fbf-68ab16611b50"
      },
      "outputs": [
        {
          "data": {
            "application/vnd.microsoft.datawrangler.viewer.v0+json": {
              "columns": [
                {
                  "name": "index",
                  "rawType": "int64",
                  "type": "integer"
                },
                {
                  "name": "left",
                  "rawType": "object",
                  "type": "string"
                }
              ],
              "ref": "d3556199-475f-414f-b14b-feeec58f219d",
              "rows": [
                [
                  "7516",
                  "No"
                ],
                [
                  "9134",
                  "No"
                ],
                [
                  "10781",
                  "No"
                ]
              ],
              "shape": {
                "columns": 1,
                "rows": 3
              }
            },
            "text/plain": [
              "7516     No\n",
              "9134     No\n",
              "10781    No\n",
              "Name: left, dtype: object"
            ]
          },
          "execution_count": 68,
          "metadata": {},
          "output_type": "execute_result"
        }
      ],
      "source": [
        "df_balanced[\"left\"].tail(3)"
      ]
    },
    {
      "cell_type": "code",
      "execution_count": null,
      "id": "a1c86a6b",
      "metadata": {
        "id": "a1c86a6b"
      },
      "outputs": [],
      "source": [
        "df_balanced = df_balanced.sample(frac=1, random_state=17).reset_index(drop=True)"
      ]
    },
    {
      "cell_type": "code",
      "execution_count": null,
      "id": "323f6bd9",
      "metadata": {
        "id": "323f6bd9",
        "outputId": "afdd7888-e3ef-4295-cc81-2a5a9a9ee51f"
      },
      "outputs": [
        {
          "data": {
            "application/vnd.microsoft.datawrangler.viewer.v0+json": {
              "columns": [
                {
                  "name": "index",
                  "rawType": "int64",
                  "type": "integer"
                },
                {
                  "name": "left",
                  "rawType": "object",
                  "type": "string"
                }
              ],
              "ref": "b47ea94e-2add-4106-a5af-3c9c5b0ef767",
              "rows": [
                [
                  "0",
                  "No"
                ],
                [
                  "1",
                  "No"
                ],
                [
                  "2",
                  "Yes"
                ],
                [
                  "3",
                  "No"
                ],
                [
                  "4",
                  "No"
                ],
                [
                  "5",
                  "Yes"
                ],
                [
                  "6",
                  "Yes"
                ],
                [
                  "7",
                  "No"
                ],
                [
                  "8",
                  "Yes"
                ],
                [
                  "9",
                  "Yes"
                ],
                [
                  "10",
                  "No"
                ],
                [
                  "11",
                  "No"
                ],
                [
                  "12",
                  "No"
                ],
                [
                  "13",
                  "Yes"
                ],
                [
                  "14",
                  "No"
                ]
              ],
              "shape": {
                "columns": 1,
                "rows": 15
              }
            },
            "text/plain": [
              "0      No\n",
              "1      No\n",
              "2     Yes\n",
              "3      No\n",
              "4      No\n",
              "5     Yes\n",
              "6     Yes\n",
              "7      No\n",
              "8     Yes\n",
              "9     Yes\n",
              "10     No\n",
              "11     No\n",
              "12     No\n",
              "13    Yes\n",
              "14     No\n",
              "Name: left, dtype: object"
            ]
          },
          "execution_count": 70,
          "metadata": {},
          "output_type": "execute_result"
        }
      ],
      "source": [
        "df_balanced[\"left\"].head(15)"
      ]
    },
    {
      "cell_type": "code",
      "execution_count": null,
      "id": "ae20ba85",
      "metadata": {
        "id": "ae20ba85",
        "outputId": "600b8787-830c-4c22-8fbb-7bdfa3feb22b"
      },
      "outputs": [
        {
          "name": "stdout",
          "output_type": "stream",
          "text": [
            "left\n",
            "No     3571\n",
            "Yes    3571\n",
            "Name: count, dtype: int64\n",
            "New shape: (7142, 11)\n"
          ]
        }
      ],
      "source": [
        "# Check new distribution\n",
        "print(df_balanced[\"left\"].value_counts())\n",
        "print(\"New shape:\", df_balanced.shape)"
      ]
    },
    {
      "cell_type": "code",
      "execution_count": null,
      "id": "c24d0055",
      "metadata": {
        "id": "c24d0055",
        "outputId": "31bada3c-49e3-45ab-88f8-c954cb97efff"
      },
      "outputs": [
        {
          "data": {
            "application/vnd.microsoft.datawrangler.viewer.v0+json": {
              "columns": [
                {
                  "name": "left",
                  "rawType": "object",
                  "type": "string"
                },
                {
                  "name": "proportion",
                  "rawType": "float64",
                  "type": "float"
                }
              ],
              "ref": "e2dd0264-649e-413a-afc0-0c37cec87ff6",
              "rows": [
                [
                  "No",
                  "50.0"
                ],
                [
                  "Yes",
                  "50.0"
                ]
              ],
              "shape": {
                "columns": 1,
                "rows": 2
              }
            },
            "text/plain": [
              "left\n",
              "No     50.0\n",
              "Yes    50.0\n",
              "Name: proportion, dtype: float64"
            ]
          },
          "execution_count": 72,
          "metadata": {},
          "output_type": "execute_result"
        }
      ],
      "source": [
        "df_balanced[\"left\"].value_counts(normalize=True) * 100"
      ]
    },
    {
      "cell_type": "code",
      "execution_count": null,
      "id": "f92ec8b1",
      "metadata": {
        "id": "f92ec8b1",
        "outputId": "a1f7a828-4620-4d49-d1b2-50c032926f9c"
      },
      "outputs": [
        {
          "data": {
            "text/plain": [
              "np.float64(201.0503366891126)"
            ]
          },
          "execution_count": 73,
          "metadata": {},
          "output_type": "execute_result"
        }
      ],
      "source": [
        "# calculate the mean of the monthly hours\n",
        "monthly_hours = df[\"average_montly_hours\"].mean()\n",
        "monthly_hours"
      ]
    },
    {
      "cell_type": "code",
      "execution_count": null,
      "id": "1f8561d9",
      "metadata": {
        "id": "1f8561d9",
        "outputId": "18b22958-c664-4f33-e654-981ec9cd3ec3"
      },
      "outputs": [
        {
          "data": {
            "application/vnd.microsoft.datawrangler.viewer.v0+json": {
              "columns": [
                {
                  "name": "index",
                  "rawType": "int64",
                  "type": "integer"
                },
                {
                  "name": "environment",
                  "rawType": "object",
                  "type": "string"
                },
                {
                  "name": "average_montly_hours",
                  "rawType": "int64",
                  "type": "integer"
                }
              ],
              "ref": "7580b694-f93c-4f68-bb6c-f9fa7e75c1f8",
              "rows": [
                [
                  "0",
                  "good",
                  "152"
                ],
                [
                  "1",
                  "good",
                  "99"
                ],
                [
                  "2",
                  "good",
                  "130"
                ],
                [
                  "3",
                  "bad",
                  "244"
                ],
                [
                  "4",
                  "good",
                  "126"
                ],
                [
                  "5",
                  "bad",
                  "244"
                ],
                [
                  "6",
                  "bad",
                  "257"
                ],
                [
                  "7",
                  "bad",
                  "247"
                ],
                [
                  "8",
                  "bad",
                  "251"
                ],
                [
                  "9",
                  "bad",
                  "274"
                ],
                [
                  "10",
                  "bad",
                  "258"
                ],
                [
                  "11",
                  "good",
                  "151"
                ],
                [
                  "12",
                  "good",
                  "188"
                ],
                [
                  "13",
                  "bad",
                  "266"
                ],
                [
                  "14",
                  "bad",
                  "210"
                ],
                [
                  "15",
                  "bad",
                  "215"
                ],
                [
                  "16",
                  "bad",
                  "229"
                ],
                [
                  "17",
                  "bad",
                  "260"
                ],
                [
                  "18",
                  "good",
                  "128"
                ],
                [
                  "19",
                  "bad",
                  "204"
                ],
                [
                  "20",
                  "good",
                  "153"
                ],
                [
                  "21",
                  "good",
                  "159"
                ],
                [
                  "22",
                  "good",
                  "176"
                ],
                [
                  "23",
                  "good",
                  "154"
                ],
                [
                  "24",
                  "bad",
                  "246"
                ],
                [
                  "25",
                  "bad",
                  "256"
                ],
                [
                  "26",
                  "good",
                  "142"
                ],
                [
                  "27",
                  "bad",
                  "233"
                ],
                [
                  "28",
                  "bad",
                  "267"
                ],
                [
                  "29",
                  "bad",
                  "253"
                ],
                [
                  "30",
                  "bad",
                  "247"
                ],
                [
                  "31",
                  "bad",
                  "260"
                ],
                [
                  "32",
                  "good",
                  "160"
                ],
                [
                  "33",
                  "bad",
                  "275"
                ],
                [
                  "34",
                  "bad",
                  "250"
                ],
                [
                  "35",
                  "bad",
                  "263"
                ],
                [
                  "36",
                  "bad",
                  "248"
                ],
                [
                  "37",
                  "bad",
                  "229"
                ],
                [
                  "38",
                  "bad",
                  "289"
                ],
                [
                  "39",
                  "good",
                  "201"
                ],
                [
                  "40",
                  "bad",
                  "221"
                ],
                [
                  "41",
                  "bad",
                  "214"
                ],
                [
                  "42",
                  "bad",
                  "235"
                ],
                [
                  "43",
                  "bad",
                  "226"
                ],
                [
                  "44",
                  "bad",
                  "205"
                ],
                [
                  "45",
                  "good",
                  "192"
                ],
                [
                  "46",
                  "good",
                  "138"
                ],
                [
                  "47",
                  "bad",
                  "258"
                ],
                [
                  "48",
                  "good",
                  "125"
                ],
                [
                  "49",
                  "bad",
                  "261"
                ]
              ],
              "shape": {
                "columns": 2,
                "rows": 7142
              }
            },
            "text/html": [
              "<div>\n",
              "<style scoped>\n",
              "    .dataframe tbody tr th:only-of-type {\n",
              "        vertical-align: middle;\n",
              "    }\n",
              "\n",
              "    .dataframe tbody tr th {\n",
              "        vertical-align: top;\n",
              "    }\n",
              "\n",
              "    .dataframe thead th {\n",
              "        text-align: right;\n",
              "    }\n",
              "</style>\n",
              "<table border=\"1\" class=\"dataframe\">\n",
              "  <thead>\n",
              "    <tr style=\"text-align: right;\">\n",
              "      <th></th>\n",
              "      <th>environment</th>\n",
              "      <th>average_montly_hours</th>\n",
              "    </tr>\n",
              "  </thead>\n",
              "  <tbody>\n",
              "    <tr>\n",
              "      <th>0</th>\n",
              "      <td>good</td>\n",
              "      <td>152</td>\n",
              "    </tr>\n",
              "    <tr>\n",
              "      <th>1</th>\n",
              "      <td>good</td>\n",
              "      <td>99</td>\n",
              "    </tr>\n",
              "    <tr>\n",
              "      <th>2</th>\n",
              "      <td>good</td>\n",
              "      <td>130</td>\n",
              "    </tr>\n",
              "    <tr>\n",
              "      <th>3</th>\n",
              "      <td>bad</td>\n",
              "      <td>244</td>\n",
              "    </tr>\n",
              "    <tr>\n",
              "      <th>4</th>\n",
              "      <td>good</td>\n",
              "      <td>126</td>\n",
              "    </tr>\n",
              "    <tr>\n",
              "      <th>...</th>\n",
              "      <td>...</td>\n",
              "      <td>...</td>\n",
              "    </tr>\n",
              "    <tr>\n",
              "      <th>7137</th>\n",
              "      <td>bad</td>\n",
              "      <td>265</td>\n",
              "    </tr>\n",
              "    <tr>\n",
              "      <th>7138</th>\n",
              "      <td>bad</td>\n",
              "      <td>232</td>\n",
              "    </tr>\n",
              "    <tr>\n",
              "      <th>7139</th>\n",
              "      <td>bad</td>\n",
              "      <td>263</td>\n",
              "    </tr>\n",
              "    <tr>\n",
              "      <th>7140</th>\n",
              "      <td>good</td>\n",
              "      <td>154</td>\n",
              "    </tr>\n",
              "    <tr>\n",
              "      <th>7141</th>\n",
              "      <td>good</td>\n",
              "      <td>152</td>\n",
              "    </tr>\n",
              "  </tbody>\n",
              "</table>\n",
              "<p>7142 rows × 2 columns</p>\n",
              "</div>"
            ],
            "text/plain": [
              "     environment  average_montly_hours\n",
              "0           good                   152\n",
              "1           good                    99\n",
              "2           good                   130\n",
              "3            bad                   244\n",
              "4           good                   126\n",
              "...          ...                   ...\n",
              "7137         bad                   265\n",
              "7138         bad                   232\n",
              "7139         bad                   263\n",
              "7140        good                   154\n",
              "7141        good                   152\n",
              "\n",
              "[7142 rows x 2 columns]"
            ]
          },
          "execution_count": 74,
          "metadata": {},
          "output_type": "execute_result"
        }
      ],
      "source": [
        "df_balanced[\"environment\"] = np.where(df_balanced[\"average_montly_hours\"] > monthly_hours, \"bad\", \"good\")\n",
        "df_balanced[[\"environment\", \"average_montly_hours\"]]"
      ]
    },
    {
      "cell_type": "code",
      "execution_count": null,
      "id": "b26febdd",
      "metadata": {
        "id": "b26febdd"
      },
      "outputs": [],
      "source": [
        "def categorize_leaving(statue):\n",
        "    if statue == \"good\":\n",
        "        return \"will stay\"\n",
        "    elif statue == \"bad\":\n",
        "        return \"will leave\"\n",
        "\n",
        "df_balanced[\"monthly_hours_and_environment\"] = df_balanced[\"environment\"].apply(categorize_leaving)"
      ]
    },
    {
      "cell_type": "code",
      "execution_count": null,
      "id": "4a1d6b6b",
      "metadata": {
        "id": "4a1d6b6b",
        "outputId": "12dab082-f5e0-489c-8e97-fe3656f20fc8"
      },
      "outputs": [
        {
          "data": {
            "application/vnd.microsoft.datawrangler.viewer.v0+json": {
              "columns": [
                {
                  "name": "index",
                  "rawType": "int64",
                  "type": "integer"
                },
                {
                  "name": "satisfaction_level",
                  "rawType": "float64",
                  "type": "float"
                },
                {
                  "name": "last_evaluation",
                  "rawType": "float64",
                  "type": "float"
                },
                {
                  "name": "number_project",
                  "rawType": "int64",
                  "type": "integer"
                },
                {
                  "name": "average_montly_hours",
                  "rawType": "int64",
                  "type": "integer"
                },
                {
                  "name": "time_spend_company",
                  "rawType": "int64",
                  "type": "integer"
                },
                {
                  "name": "Work_accident",
                  "rawType": "int64",
                  "type": "integer"
                },
                {
                  "name": "left",
                  "rawType": "object",
                  "type": "string"
                },
                {
                  "name": "promotion_last_5years",
                  "rawType": "int64",
                  "type": "integer"
                },
                {
                  "name": "Departments ",
                  "rawType": "object",
                  "type": "string"
                },
                {
                  "name": "salary",
                  "rawType": "object",
                  "type": "string"
                },
                {
                  "name": "satisfy",
                  "rawType": "object",
                  "type": "string"
                },
                {
                  "name": "environment",
                  "rawType": "object",
                  "type": "string"
                },
                {
                  "name": "monthly_hours_and_environment",
                  "rawType": "object",
                  "type": "string"
                }
              ],
              "ref": "8832e430-d5a4-44c1-8ad3-fb56b8b61b06",
              "rows": [
                [
                  "0",
                  "0.47",
                  "0.46",
                  "2",
                  "152",
                  "2",
                  "0",
                  "No",
                  "0",
                  "IT",
                  "medium",
                  "not satisfied",
                  "good",
                  "will stay"
                ],
                [
                  "1",
                  "0.61",
                  "0.39",
                  "3",
                  "99",
                  "2",
                  "0",
                  "No",
                  "0",
                  "support",
                  "low",
                  "not satisfied",
                  "good",
                  "will stay"
                ],
                [
                  "2",
                  "0.43",
                  "0.51",
                  "2",
                  "130",
                  "3",
                  "0",
                  "Yes",
                  "0",
                  "IT",
                  "low",
                  "not satisfied",
                  "good",
                  "will stay"
                ],
                [
                  "3",
                  "0.88",
                  "0.72",
                  "5",
                  "244",
                  "2",
                  "0",
                  "No",
                  "0",
                  "technical",
                  "low",
                  "satisfied",
                  "bad",
                  "will leave"
                ],
                [
                  "4",
                  "0.79",
                  "0.83",
                  "3",
                  "126",
                  "10",
                  "1",
                  "No",
                  "0",
                  "support",
                  "low",
                  "satisfied",
                  "good",
                  "will stay"
                ],
                [
                  "5",
                  "0.11",
                  "0.83",
                  "6",
                  "244",
                  "4",
                  "0",
                  "Yes",
                  "0",
                  "accounting",
                  "low",
                  "not satisfied",
                  "bad",
                  "will leave"
                ],
                [
                  "6",
                  "0.79",
                  "1.0",
                  "5",
                  "257",
                  "6",
                  "0",
                  "Yes",
                  "0",
                  "sales",
                  "low",
                  "satisfied",
                  "bad",
                  "will leave"
                ],
                [
                  "7",
                  "0.68",
                  "0.99",
                  "3",
                  "247",
                  "2",
                  "1",
                  "No",
                  "0",
                  "technical",
                  "low",
                  "satisfied",
                  "bad",
                  "will leave"
                ],
                [
                  "8",
                  "0.1",
                  "0.87",
                  "7",
                  "251",
                  "5",
                  "0",
                  "Yes",
                  "0",
                  "technical",
                  "low",
                  "not satisfied",
                  "bad",
                  "will leave"
                ],
                [
                  "9",
                  "0.78",
                  "0.89",
                  "5",
                  "274",
                  "6",
                  "0",
                  "Yes",
                  "0",
                  "support",
                  "medium",
                  "satisfied",
                  "bad",
                  "will leave"
                ],
                [
                  "10",
                  "0.97",
                  "0.63",
                  "5",
                  "258",
                  "2",
                  "0",
                  "No",
                  "0",
                  "IT",
                  "medium",
                  "satisfied",
                  "bad",
                  "will leave"
                ],
                [
                  "11",
                  "0.58",
                  "0.56",
                  "3",
                  "151",
                  "2",
                  "0",
                  "No",
                  "0",
                  "product_mng",
                  "low",
                  "not satisfied",
                  "good",
                  "will stay"
                ],
                [
                  "12",
                  "0.63",
                  "0.9",
                  "4",
                  "188",
                  "4",
                  "1",
                  "No",
                  "0",
                  "sales",
                  "low",
                  "satisfied",
                  "good",
                  "will stay"
                ],
                [
                  "13",
                  "0.09",
                  "0.87",
                  "6",
                  "266",
                  "4",
                  "0",
                  "Yes",
                  "0",
                  "support",
                  "medium",
                  "not satisfied",
                  "bad",
                  "will leave"
                ],
                [
                  "14",
                  "0.48",
                  "0.62",
                  "4",
                  "210",
                  "2",
                  "0",
                  "No",
                  "0",
                  "sales",
                  "medium",
                  "not satisfied",
                  "bad",
                  "will leave"
                ],
                [
                  "15",
                  "0.64",
                  "0.55",
                  "4",
                  "215",
                  "2",
                  "0",
                  "No",
                  "0",
                  "sales",
                  "low",
                  "satisfied",
                  "bad",
                  "will leave"
                ],
                [
                  "16",
                  "0.8",
                  "0.8",
                  "4",
                  "229",
                  "4",
                  "0",
                  "No",
                  "0",
                  "sales",
                  "low",
                  "satisfied",
                  "bad",
                  "will leave"
                ],
                [
                  "17",
                  "0.51",
                  "0.63",
                  "5",
                  "260",
                  "2",
                  "0",
                  "No",
                  "0",
                  "product_mng",
                  "high",
                  "not satisfied",
                  "bad",
                  "will leave"
                ],
                [
                  "18",
                  "0.96",
                  "0.62",
                  "5",
                  "128",
                  "5",
                  "0",
                  "No",
                  "0",
                  "support",
                  "low",
                  "satisfied",
                  "good",
                  "will stay"
                ],
                [
                  "19",
                  "0.95",
                  "0.95",
                  "4",
                  "204",
                  "3",
                  "1",
                  "No",
                  "0",
                  "marketing",
                  "low",
                  "satisfied",
                  "bad",
                  "will leave"
                ],
                [
                  "20",
                  "0.69",
                  "0.85",
                  "3",
                  "153",
                  "10",
                  "0",
                  "No",
                  "0",
                  "support",
                  "medium",
                  "satisfied",
                  "good",
                  "will stay"
                ],
                [
                  "21",
                  "0.43",
                  "0.55",
                  "2",
                  "159",
                  "3",
                  "0",
                  "Yes",
                  "0",
                  "RandD",
                  "low",
                  "not satisfied",
                  "good",
                  "will stay"
                ],
                [
                  "22",
                  "0.76",
                  "0.92",
                  "3",
                  "176",
                  "2",
                  "0",
                  "No",
                  "0",
                  "IT",
                  "medium",
                  "satisfied",
                  "good",
                  "will stay"
                ],
                [
                  "23",
                  "0.38",
                  "0.52",
                  "2",
                  "154",
                  "3",
                  "0",
                  "Yes",
                  "0",
                  "sales",
                  "medium",
                  "not satisfied",
                  "good",
                  "will stay"
                ],
                [
                  "24",
                  "0.48",
                  "0.86",
                  "5",
                  "246",
                  "3",
                  "0",
                  "No",
                  "0",
                  "technical",
                  "low",
                  "not satisfied",
                  "bad",
                  "will leave"
                ],
                [
                  "25",
                  "0.1",
                  "0.93",
                  "6",
                  "256",
                  "4",
                  "0",
                  "Yes",
                  "0",
                  "support",
                  "low",
                  "not satisfied",
                  "bad",
                  "will leave"
                ],
                [
                  "26",
                  "0.39",
                  "0.56",
                  "2",
                  "142",
                  "3",
                  "0",
                  "Yes",
                  "0",
                  "accounting",
                  "low",
                  "not satisfied",
                  "good",
                  "will stay"
                ],
                [
                  "27",
                  "0.87",
                  "0.51",
                  "4",
                  "233",
                  "3",
                  "0",
                  "No",
                  "0",
                  "sales",
                  "low",
                  "satisfied",
                  "bad",
                  "will leave"
                ],
                [
                  "28",
                  "0.73",
                  "0.55",
                  "4",
                  "267",
                  "3",
                  "0",
                  "No",
                  "0",
                  "sales",
                  "low",
                  "satisfied",
                  "bad",
                  "will leave"
                ],
                [
                  "29",
                  "0.74",
                  "1.0",
                  "4",
                  "253",
                  "5",
                  "0",
                  "Yes",
                  "0",
                  "sales",
                  "low",
                  "satisfied",
                  "bad",
                  "will leave"
                ],
                [
                  "30",
                  "1.0",
                  "0.56",
                  "5",
                  "247",
                  "3",
                  "0",
                  "No",
                  "0",
                  "technical",
                  "low",
                  "satisfied",
                  "bad",
                  "will leave"
                ],
                [
                  "31",
                  "0.78",
                  "0.95",
                  "4",
                  "260",
                  "5",
                  "0",
                  "Yes",
                  "0",
                  "sales",
                  "low",
                  "satisfied",
                  "bad",
                  "will leave"
                ],
                [
                  "32",
                  "0.41",
                  "0.57",
                  "2",
                  "160",
                  "3",
                  "0",
                  "Yes",
                  "0",
                  "support",
                  "low",
                  "not satisfied",
                  "good",
                  "will stay"
                ],
                [
                  "33",
                  "0.09",
                  "0.79",
                  "6",
                  "275",
                  "4",
                  "0",
                  "Yes",
                  "0",
                  "sales",
                  "low",
                  "not satisfied",
                  "bad",
                  "will leave"
                ],
                [
                  "34",
                  "0.6",
                  "0.85",
                  "3",
                  "250",
                  "2",
                  "0",
                  "Yes",
                  "0",
                  "support",
                  "low",
                  "not satisfied",
                  "bad",
                  "will leave"
                ],
                [
                  "35",
                  "0.95",
                  "0.71",
                  "3",
                  "263",
                  "2",
                  "1",
                  "No",
                  "0",
                  "sales",
                  "medium",
                  "satisfied",
                  "bad",
                  "will leave"
                ],
                [
                  "36",
                  "0.88",
                  "0.88",
                  "5",
                  "248",
                  "5",
                  "0",
                  "Yes",
                  "0",
                  "technical",
                  "medium",
                  "satisfied",
                  "bad",
                  "will leave"
                ],
                [
                  "37",
                  "0.82",
                  "1.0",
                  "4",
                  "229",
                  "6",
                  "0",
                  "Yes",
                  "0",
                  "hr",
                  "medium",
                  "satisfied",
                  "bad",
                  "will leave"
                ],
                [
                  "38",
                  "0.09",
                  "0.9",
                  "7",
                  "289",
                  "5",
                  "0",
                  "Yes",
                  "0",
                  "technical",
                  "low",
                  "not satisfied",
                  "bad",
                  "will leave"
                ],
                [
                  "39",
                  "0.6",
                  "0.59",
                  "4",
                  "201",
                  "3",
                  "0",
                  "No",
                  "0",
                  "sales",
                  "medium",
                  "not satisfied",
                  "good",
                  "will stay"
                ],
                [
                  "40",
                  "0.75",
                  "0.99",
                  "5",
                  "221",
                  "5",
                  "0",
                  "Yes",
                  "0",
                  "product_mng",
                  "low",
                  "satisfied",
                  "bad",
                  "will leave"
                ],
                [
                  "41",
                  "0.4",
                  "0.99",
                  "4",
                  "214",
                  "6",
                  "1",
                  "No",
                  "0",
                  "support",
                  "medium",
                  "not satisfied",
                  "bad",
                  "will leave"
                ],
                [
                  "42",
                  "0.82",
                  "0.97",
                  "5",
                  "235",
                  "3",
                  "0",
                  "No",
                  "0",
                  "support",
                  "medium",
                  "satisfied",
                  "bad",
                  "will leave"
                ],
                [
                  "43",
                  "0.64",
                  "0.81",
                  "2",
                  "226",
                  "2",
                  "0",
                  "No",
                  "0",
                  "IT",
                  "medium",
                  "satisfied",
                  "bad",
                  "will leave"
                ],
                [
                  "44",
                  "0.73",
                  "0.93",
                  "3",
                  "205",
                  "3",
                  "0",
                  "No",
                  "0",
                  "product_mng",
                  "high",
                  "satisfied",
                  "bad",
                  "will leave"
                ],
                [
                  "45",
                  "0.49",
                  "0.57",
                  "3",
                  "192",
                  "3",
                  "0",
                  "No",
                  "0",
                  "technical",
                  "medium",
                  "not satisfied",
                  "good",
                  "will stay"
                ],
                [
                  "46",
                  "0.37",
                  "0.47",
                  "2",
                  "138",
                  "3",
                  "1",
                  "Yes",
                  "0",
                  "accounting",
                  "medium",
                  "not satisfied",
                  "good",
                  "will stay"
                ],
                [
                  "47",
                  "0.95",
                  "0.74",
                  "4",
                  "258",
                  "3",
                  "0",
                  "No",
                  "0",
                  "technical",
                  "medium",
                  "satisfied",
                  "bad",
                  "will leave"
                ],
                [
                  "48",
                  "0.65",
                  "0.4",
                  "5",
                  "125",
                  "4",
                  "0",
                  "No",
                  "0",
                  "sales",
                  "low",
                  "satisfied",
                  "good",
                  "will stay"
                ],
                [
                  "49",
                  "0.1",
                  "0.84",
                  "6",
                  "261",
                  "4",
                  "0",
                  "Yes",
                  "0",
                  "accounting",
                  "medium",
                  "not satisfied",
                  "bad",
                  "will leave"
                ]
              ],
              "shape": {
                "columns": 13,
                "rows": 7142
              }
            },
            "text/html": [
              "<div>\n",
              "<style scoped>\n",
              "    .dataframe tbody tr th:only-of-type {\n",
              "        vertical-align: middle;\n",
              "    }\n",
              "\n",
              "    .dataframe tbody tr th {\n",
              "        vertical-align: top;\n",
              "    }\n",
              "\n",
              "    .dataframe thead th {\n",
              "        text-align: right;\n",
              "    }\n",
              "</style>\n",
              "<table border=\"1\" class=\"dataframe\">\n",
              "  <thead>\n",
              "    <tr style=\"text-align: right;\">\n",
              "      <th></th>\n",
              "      <th>satisfaction_level</th>\n",
              "      <th>last_evaluation</th>\n",
              "      <th>number_project</th>\n",
              "      <th>average_montly_hours</th>\n",
              "      <th>time_spend_company</th>\n",
              "      <th>Work_accident</th>\n",
              "      <th>left</th>\n",
              "      <th>promotion_last_5years</th>\n",
              "      <th>Departments</th>\n",
              "      <th>salary</th>\n",
              "      <th>satisfy</th>\n",
              "      <th>environment</th>\n",
              "      <th>monthly_hours_and_environment</th>\n",
              "    </tr>\n",
              "  </thead>\n",
              "  <tbody>\n",
              "    <tr>\n",
              "      <th>0</th>\n",
              "      <td>0.47</td>\n",
              "      <td>0.46</td>\n",
              "      <td>2</td>\n",
              "      <td>152</td>\n",
              "      <td>2</td>\n",
              "      <td>0</td>\n",
              "      <td>No</td>\n",
              "      <td>0</td>\n",
              "      <td>IT</td>\n",
              "      <td>medium</td>\n",
              "      <td>not satisfied</td>\n",
              "      <td>good</td>\n",
              "      <td>will stay</td>\n",
              "    </tr>\n",
              "    <tr>\n",
              "      <th>1</th>\n",
              "      <td>0.61</td>\n",
              "      <td>0.39</td>\n",
              "      <td>3</td>\n",
              "      <td>99</td>\n",
              "      <td>2</td>\n",
              "      <td>0</td>\n",
              "      <td>No</td>\n",
              "      <td>0</td>\n",
              "      <td>support</td>\n",
              "      <td>low</td>\n",
              "      <td>not satisfied</td>\n",
              "      <td>good</td>\n",
              "      <td>will stay</td>\n",
              "    </tr>\n",
              "    <tr>\n",
              "      <th>2</th>\n",
              "      <td>0.43</td>\n",
              "      <td>0.51</td>\n",
              "      <td>2</td>\n",
              "      <td>130</td>\n",
              "      <td>3</td>\n",
              "      <td>0</td>\n",
              "      <td>Yes</td>\n",
              "      <td>0</td>\n",
              "      <td>IT</td>\n",
              "      <td>low</td>\n",
              "      <td>not satisfied</td>\n",
              "      <td>good</td>\n",
              "      <td>will stay</td>\n",
              "    </tr>\n",
              "    <tr>\n",
              "      <th>3</th>\n",
              "      <td>0.88</td>\n",
              "      <td>0.72</td>\n",
              "      <td>5</td>\n",
              "      <td>244</td>\n",
              "      <td>2</td>\n",
              "      <td>0</td>\n",
              "      <td>No</td>\n",
              "      <td>0</td>\n",
              "      <td>technical</td>\n",
              "      <td>low</td>\n",
              "      <td>satisfied</td>\n",
              "      <td>bad</td>\n",
              "      <td>will leave</td>\n",
              "    </tr>\n",
              "    <tr>\n",
              "      <th>4</th>\n",
              "      <td>0.79</td>\n",
              "      <td>0.83</td>\n",
              "      <td>3</td>\n",
              "      <td>126</td>\n",
              "      <td>10</td>\n",
              "      <td>1</td>\n",
              "      <td>No</td>\n",
              "      <td>0</td>\n",
              "      <td>support</td>\n",
              "      <td>low</td>\n",
              "      <td>satisfied</td>\n",
              "      <td>good</td>\n",
              "      <td>will stay</td>\n",
              "    </tr>\n",
              "    <tr>\n",
              "      <th>...</th>\n",
              "      <td>...</td>\n",
              "      <td>...</td>\n",
              "      <td>...</td>\n",
              "      <td>...</td>\n",
              "      <td>...</td>\n",
              "      <td>...</td>\n",
              "      <td>...</td>\n",
              "      <td>...</td>\n",
              "      <td>...</td>\n",
              "      <td>...</td>\n",
              "      <td>...</td>\n",
              "      <td>...</td>\n",
              "      <td>...</td>\n",
              "    </tr>\n",
              "    <tr>\n",
              "      <th>7137</th>\n",
              "      <td>0.91</td>\n",
              "      <td>0.84</td>\n",
              "      <td>5</td>\n",
              "      <td>265</td>\n",
              "      <td>5</td>\n",
              "      <td>0</td>\n",
              "      <td>Yes</td>\n",
              "      <td>0</td>\n",
              "      <td>technical</td>\n",
              "      <td>medium</td>\n",
              "      <td>satisfied</td>\n",
              "      <td>bad</td>\n",
              "      <td>will leave</td>\n",
              "    </tr>\n",
              "    <tr>\n",
              "      <th>7138</th>\n",
              "      <td>0.90</td>\n",
              "      <td>1.00</td>\n",
              "      <td>5</td>\n",
              "      <td>232</td>\n",
              "      <td>5</td>\n",
              "      <td>0</td>\n",
              "      <td>Yes</td>\n",
              "      <td>0</td>\n",
              "      <td>technical</td>\n",
              "      <td>medium</td>\n",
              "      <td>satisfied</td>\n",
              "      <td>bad</td>\n",
              "      <td>will leave</td>\n",
              "    </tr>\n",
              "    <tr>\n",
              "      <th>7139</th>\n",
              "      <td>0.90</td>\n",
              "      <td>0.93</td>\n",
              "      <td>4</td>\n",
              "      <td>263</td>\n",
              "      <td>3</td>\n",
              "      <td>1</td>\n",
              "      <td>No</td>\n",
              "      <td>0</td>\n",
              "      <td>support</td>\n",
              "      <td>medium</td>\n",
              "      <td>satisfied</td>\n",
              "      <td>bad</td>\n",
              "      <td>will leave</td>\n",
              "    </tr>\n",
              "    <tr>\n",
              "      <th>7140</th>\n",
              "      <td>0.37</td>\n",
              "      <td>0.50</td>\n",
              "      <td>2</td>\n",
              "      <td>154</td>\n",
              "      <td>3</td>\n",
              "      <td>0</td>\n",
              "      <td>Yes</td>\n",
              "      <td>0</td>\n",
              "      <td>hr</td>\n",
              "      <td>medium</td>\n",
              "      <td>not satisfied</td>\n",
              "      <td>good</td>\n",
              "      <td>will stay</td>\n",
              "    </tr>\n",
              "    <tr>\n",
              "      <th>7141</th>\n",
              "      <td>0.37</td>\n",
              "      <td>0.47</td>\n",
              "      <td>2</td>\n",
              "      <td>152</td>\n",
              "      <td>3</td>\n",
              "      <td>0</td>\n",
              "      <td>Yes</td>\n",
              "      <td>0</td>\n",
              "      <td>product_mng</td>\n",
              "      <td>low</td>\n",
              "      <td>not satisfied</td>\n",
              "      <td>good</td>\n",
              "      <td>will stay</td>\n",
              "    </tr>\n",
              "  </tbody>\n",
              "</table>\n",
              "<p>7142 rows × 13 columns</p>\n",
              "</div>"
            ],
            "text/plain": [
              "      satisfaction_level  last_evaluation  number_project  \\\n",
              "0                   0.47             0.46               2   \n",
              "1                   0.61             0.39               3   \n",
              "2                   0.43             0.51               2   \n",
              "3                   0.88             0.72               5   \n",
              "4                   0.79             0.83               3   \n",
              "...                  ...              ...             ...   \n",
              "7137                0.91             0.84               5   \n",
              "7138                0.90             1.00               5   \n",
              "7139                0.90             0.93               4   \n",
              "7140                0.37             0.50               2   \n",
              "7141                0.37             0.47               2   \n",
              "\n",
              "      average_montly_hours  time_spend_company  Work_accident left  \\\n",
              "0                      152                   2              0   No   \n",
              "1                       99                   2              0   No   \n",
              "2                      130                   3              0  Yes   \n",
              "3                      244                   2              0   No   \n",
              "4                      126                  10              1   No   \n",
              "...                    ...                 ...            ...  ...   \n",
              "7137                   265                   5              0  Yes   \n",
              "7138                   232                   5              0  Yes   \n",
              "7139                   263                   3              1   No   \n",
              "7140                   154                   3              0  Yes   \n",
              "7141                   152                   3              0  Yes   \n",
              "\n",
              "      promotion_last_5years Departments   salary        satisfy environment  \\\n",
              "0                         0           IT  medium  not satisfied        good   \n",
              "1                         0      support     low  not satisfied        good   \n",
              "2                         0           IT     low  not satisfied        good   \n",
              "3                         0    technical     low      satisfied         bad   \n",
              "4                         0      support     low      satisfied        good   \n",
              "...                     ...          ...     ...            ...         ...   \n",
              "7137                      0    technical  medium      satisfied         bad   \n",
              "7138                      0    technical  medium      satisfied         bad   \n",
              "7139                      0      support  medium      satisfied         bad   \n",
              "7140                      0           hr  medium  not satisfied        good   \n",
              "7141                      0  product_mng     low  not satisfied        good   \n",
              "\n",
              "     monthly_hours_and_environment  \n",
              "0                        will stay  \n",
              "1                        will stay  \n",
              "2                        will stay  \n",
              "3                       will leave  \n",
              "4                        will stay  \n",
              "...                            ...  \n",
              "7137                    will leave  \n",
              "7138                    will leave  \n",
              "7139                    will leave  \n",
              "7140                     will stay  \n",
              "7141                     will stay  \n",
              "\n",
              "[7142 rows x 13 columns]"
            ]
          },
          "execution_count": 76,
          "metadata": {},
          "output_type": "execute_result"
        }
      ],
      "source": [
        "df_balanced"
      ]
    },
    {
      "cell_type": "code",
      "execution_count": null,
      "id": "98e3535c",
      "metadata": {
        "id": "98e3535c",
        "outputId": "57ac7829-5a04-4af1-8c13-500a2c409dd2"
      },
      "outputs": [
        {
          "data": {
            "application/vnd.microsoft.datawrangler.viewer.v0+json": {
              "columns": [
                {
                  "name": "monthly_hours_and_environment",
                  "rawType": "object",
                  "type": "string"
                },
                {
                  "name": "count",
                  "rawType": "int64",
                  "type": "integer"
                }
              ],
              "ref": "4b8cab96-8a75-4fc9-ba8e-43a8438663cf",
              "rows": [
                [
                  "will leave",
                  "3634"
                ],
                [
                  "will stay",
                  "3508"
                ]
              ],
              "shape": {
                "columns": 1,
                "rows": 2
              }
            },
            "text/plain": [
              "monthly_hours_and_environment\n",
              "will leave    3634\n",
              "will stay     3508\n",
              "Name: count, dtype: int64"
            ]
          },
          "execution_count": 77,
          "metadata": {},
          "output_type": "execute_result"
        }
      ],
      "source": [
        "df_balanced[\"monthly_hours_and_environment\"].value_counts()"
      ]
    },
    {
      "cell_type": "code",
      "execution_count": null,
      "id": "b9dd75c0",
      "metadata": {
        "id": "b9dd75c0",
        "outputId": "86df6155-e23a-4827-b24d-6872ec779735"
      },
      "outputs": [
        {
          "data": {
            "application/vnd.microsoft.datawrangler.viewer.v0+json": {
              "columns": [
                {
                  "name": "monthly_hours_and_environment",
                  "rawType": "object",
                  "type": "string"
                },
                {
                  "name": "proportion",
                  "rawType": "float64",
                  "type": "float"
                }
              ],
              "ref": "c8fe64c5-52d5-4092-a3e7-c7e603ae4eb1",
              "rows": [
                [
                  "will leave",
                  "50.88210585270232"
                ],
                [
                  "will stay",
                  "49.117894147297676"
                ]
              ],
              "shape": {
                "columns": 1,
                "rows": 2
              }
            },
            "text/plain": [
              "monthly_hours_and_environment\n",
              "will leave    50.882106\n",
              "will stay     49.117894\n",
              "Name: proportion, dtype: float64"
            ]
          },
          "execution_count": 78,
          "metadata": {},
          "output_type": "execute_result"
        }
      ],
      "source": [
        "# Calculate Percentage Distribution\n",
        "df_balanced[\"monthly_hours_and_environment\"].value_counts(normalize=True) * 100"
      ]
    },
    {
      "cell_type": "code",
      "execution_count": null,
      "id": "19a5ae0b",
      "metadata": {
        "id": "19a5ae0b",
        "outputId": "944be49a-b4da-4a2f-8255-068884dec624"
      },
      "outputs": [
        {
          "data": {
            "application/vnd.microsoft.datawrangler.viewer.v0+json": {
              "columns": [
                {
                  "name": "left",
                  "rawType": "object",
                  "type": "string"
                },
                {
                  "name": "will leave",
                  "rawType": "int64",
                  "type": "integer"
                },
                {
                  "name": "will stay",
                  "rawType": "int64",
                  "type": "integer"
                }
              ],
              "ref": "0632ddc2-8703-4248-8890-10810ab20354",
              "rows": [
                [
                  "No",
                  "1719",
                  "1852"
                ],
                [
                  "Yes",
                  "1915",
                  "1656"
                ]
              ],
              "shape": {
                "columns": 2,
                "rows": 2
              }
            },
            "text/html": [
              "<div>\n",
              "<style scoped>\n",
              "    .dataframe tbody tr th:only-of-type {\n",
              "        vertical-align: middle;\n",
              "    }\n",
              "\n",
              "    .dataframe tbody tr th {\n",
              "        vertical-align: top;\n",
              "    }\n",
              "\n",
              "    .dataframe thead th {\n",
              "        text-align: right;\n",
              "    }\n",
              "</style>\n",
              "<table border=\"1\" class=\"dataframe\">\n",
              "  <thead>\n",
              "    <tr style=\"text-align: right;\">\n",
              "      <th>monthly_hours_and_environment</th>\n",
              "      <th>will leave</th>\n",
              "      <th>will stay</th>\n",
              "    </tr>\n",
              "    <tr>\n",
              "      <th>left</th>\n",
              "      <th></th>\n",
              "      <th></th>\n",
              "    </tr>\n",
              "  </thead>\n",
              "  <tbody>\n",
              "    <tr>\n",
              "      <th>No</th>\n",
              "      <td>1719</td>\n",
              "      <td>1852</td>\n",
              "    </tr>\n",
              "    <tr>\n",
              "      <th>Yes</th>\n",
              "      <td>1915</td>\n",
              "      <td>1656</td>\n",
              "    </tr>\n",
              "  </tbody>\n",
              "</table>\n",
              "</div>"
            ],
            "text/plain": [
              "monthly_hours_and_environment  will leave  will stay\n",
              "left                                                \n",
              "No                                   1719       1852\n",
              "Yes                                  1915       1656"
            ]
          },
          "execution_count": 79,
          "metadata": {},
          "output_type": "execute_result"
        }
      ],
      "source": [
        "df_balanced.groupby([\"left\", \"monthly_hours_and_environment\"]).size().unstack()"
      ]
    },
    {
      "cell_type": "code",
      "execution_count": null,
      "id": "d83e7a33",
      "metadata": {
        "id": "d83e7a33",
        "outputId": "785dc088-7045-4864-ae97-6f44c0b1aa78"
      },
      "outputs": [
        {
          "data": {
            "application/vnd.microsoft.datawrangler.viewer.v0+json": {
              "columns": [
                {
                  "name": "Work_accident",
                  "rawType": "int64",
                  "type": "integer"
                },
                {
                  "name": "count",
                  "rawType": "int64",
                  "type": "integer"
                }
              ],
              "ref": "8e6dd6ba-ee3f-41c5-a5ad-83c409573dcf",
              "rows": [
                [
                  "0",
                  "6365"
                ],
                [
                  "1",
                  "777"
                ]
              ],
              "shape": {
                "columns": 1,
                "rows": 2
              }
            },
            "text/plain": [
              "Work_accident\n",
              "0    6365\n",
              "1     777\n",
              "Name: count, dtype: int64"
            ]
          },
          "execution_count": 80,
          "metadata": {},
          "output_type": "execute_result"
        }
      ],
      "source": [
        "df_balanced[\"Work_accident\"].value_counts()"
      ]
    },
    {
      "cell_type": "code",
      "execution_count": null,
      "id": "0f53c0cd",
      "metadata": {
        "id": "0f53c0cd",
        "outputId": "c98bc689-eaf9-4a42-d602-ba6cc40e7447"
      },
      "outputs": [
        {
          "data": {
            "application/vnd.microsoft.datawrangler.viewer.v0+json": {
              "columns": [
                {
                  "name": "Work_accident",
                  "rawType": "int64",
                  "type": "integer"
                },
                {
                  "name": "proportion",
                  "rawType": "float64",
                  "type": "float"
                }
              ],
              "ref": "81df1b53-df56-4cf8-ad7e-8fbf9c669fb4",
              "rows": [
                [
                  "0",
                  "89.120694483338"
                ],
                [
                  "1",
                  "10.879305516661999"
                ]
              ],
              "shape": {
                "columns": 1,
                "rows": 2
              }
            },
            "text/plain": [
              "Work_accident\n",
              "0    89.120694\n",
              "1    10.879306\n",
              "Name: proportion, dtype: float64"
            ]
          },
          "execution_count": 81,
          "metadata": {},
          "output_type": "execute_result"
        }
      ],
      "source": [
        "# Calculate Percentage Distribution\n",
        "df_balanced[\"Work_accident\"].value_counts(normalize=True) * 100"
      ]
    },
    {
      "cell_type": "code",
      "execution_count": null,
      "id": "3c6abaf6",
      "metadata": {
        "id": "3c6abaf6",
        "outputId": "a87666ae-e7d7-4fae-e286-45c28bc924a2"
      },
      "outputs": [
        {
          "data": {
            "application/vnd.microsoft.datawrangler.viewer.v0+json": {
              "columns": [
                {
                  "name": "left",
                  "rawType": "object",
                  "type": "string"
                },
                {
                  "name": "0",
                  "rawType": "int64",
                  "type": "integer"
                },
                {
                  "name": "1",
                  "rawType": "int64",
                  "type": "integer"
                }
              ],
              "ref": "14cf2df3-1e09-42bc-87e3-d83bea4c2b80",
              "rows": [
                [
                  "No",
                  "2963",
                  "608"
                ],
                [
                  "Yes",
                  "3402",
                  "169"
                ]
              ],
              "shape": {
                "columns": 2,
                "rows": 2
              }
            },
            "text/html": [
              "<div>\n",
              "<style scoped>\n",
              "    .dataframe tbody tr th:only-of-type {\n",
              "        vertical-align: middle;\n",
              "    }\n",
              "\n",
              "    .dataframe tbody tr th {\n",
              "        vertical-align: top;\n",
              "    }\n",
              "\n",
              "    .dataframe thead th {\n",
              "        text-align: right;\n",
              "    }\n",
              "</style>\n",
              "<table border=\"1\" class=\"dataframe\">\n",
              "  <thead>\n",
              "    <tr style=\"text-align: right;\">\n",
              "      <th>Work_accident</th>\n",
              "      <th>0</th>\n",
              "      <th>1</th>\n",
              "    </tr>\n",
              "    <tr>\n",
              "      <th>left</th>\n",
              "      <th></th>\n",
              "      <th></th>\n",
              "    </tr>\n",
              "  </thead>\n",
              "  <tbody>\n",
              "    <tr>\n",
              "      <th>No</th>\n",
              "      <td>2963</td>\n",
              "      <td>608</td>\n",
              "    </tr>\n",
              "    <tr>\n",
              "      <th>Yes</th>\n",
              "      <td>3402</td>\n",
              "      <td>169</td>\n",
              "    </tr>\n",
              "  </tbody>\n",
              "</table>\n",
              "</div>"
            ],
            "text/plain": [
              "Work_accident     0    1\n",
              "left                    \n",
              "No             2963  608\n",
              "Yes            3402  169"
            ]
          },
          "execution_count": 82,
          "metadata": {},
          "output_type": "execute_result"
        }
      ],
      "source": [
        "df_balanced.groupby([\"left\", \"Work_accident\"]).size().unstack()"
      ]
    },
    {
      "cell_type": "code",
      "execution_count": null,
      "id": "d914ec67",
      "metadata": {
        "id": "d914ec67",
        "outputId": "102d1190-6f12-4f2b-f0bb-4e583dea8a74"
      },
      "outputs": [
        {
          "data": {
            "application/vnd.microsoft.datawrangler.viewer.v0+json": {
              "columns": [
                {
                  "name": "time_spend_company",
                  "rawType": "int64",
                  "type": "integer"
                },
                {
                  "name": "count",
                  "rawType": "int64",
                  "type": "integer"
                }
              ],
              "ref": "f884bdb1-88cb-4909-bd51-78914e245ad4",
              "rows": [
                [
                  "3",
                  "3091"
                ],
                [
                  "4",
                  "1403"
                ],
                [
                  "2",
                  "1076"
                ],
                [
                  "5",
                  "1020"
                ],
                [
                  "6",
                  "370"
                ],
                [
                  "10",
                  "68"
                ],
                [
                  "7",
                  "63"
                ],
                [
                  "8",
                  "51"
                ]
              ],
              "shape": {
                "columns": 1,
                "rows": 8
              }
            },
            "text/plain": [
              "time_spend_company\n",
              "3     3091\n",
              "4     1403\n",
              "2     1076\n",
              "5     1020\n",
              "6      370\n",
              "10      68\n",
              "7       63\n",
              "8       51\n",
              "Name: count, dtype: int64"
            ]
          },
          "execution_count": 83,
          "metadata": {},
          "output_type": "execute_result"
        }
      ],
      "source": [
        "df_balanced[\"time_spend_company\"].value_counts()"
      ]
    },
    {
      "cell_type": "code",
      "execution_count": null,
      "id": "a8b0518a",
      "metadata": {
        "id": "a8b0518a"
      },
      "outputs": [],
      "source": [
        "df_balanced[\"experience\"] = pd.qcut(df_balanced[\"time_spend_company\"],\n",
        "                             q=3,\n",
        "                             labels=[\"junior\",\"mid_level\",\"senior\"])"
      ]
    },
    {
      "cell_type": "code",
      "execution_count": null,
      "id": "0644ca52",
      "metadata": {
        "id": "0644ca52",
        "outputId": "bd1fc317-5b94-4688-a530-3d5d9413ce8b"
      },
      "outputs": [
        {
          "data": {
            "application/vnd.microsoft.datawrangler.viewer.v0+json": {
              "columns": [
                {
                  "name": "index",
                  "rawType": "int64",
                  "type": "integer"
                },
                {
                  "name": "satisfaction_level",
                  "rawType": "float64",
                  "type": "float"
                },
                {
                  "name": "last_evaluation",
                  "rawType": "float64",
                  "type": "float"
                },
                {
                  "name": "number_project",
                  "rawType": "int64",
                  "type": "integer"
                },
                {
                  "name": "average_montly_hours",
                  "rawType": "int64",
                  "type": "integer"
                },
                {
                  "name": "time_spend_company",
                  "rawType": "int64",
                  "type": "integer"
                },
                {
                  "name": "Work_accident",
                  "rawType": "int64",
                  "type": "integer"
                },
                {
                  "name": "left",
                  "rawType": "object",
                  "type": "string"
                },
                {
                  "name": "promotion_last_5years",
                  "rawType": "int64",
                  "type": "integer"
                },
                {
                  "name": "Departments ",
                  "rawType": "object",
                  "type": "string"
                },
                {
                  "name": "salary",
                  "rawType": "object",
                  "type": "string"
                },
                {
                  "name": "satisfy",
                  "rawType": "object",
                  "type": "string"
                },
                {
                  "name": "environment",
                  "rawType": "object",
                  "type": "string"
                },
                {
                  "name": "monthly_hours_and_environment",
                  "rawType": "object",
                  "type": "string"
                },
                {
                  "name": "experience",
                  "rawType": "category",
                  "type": "unknown"
                }
              ],
              "ref": "ca5b1c75-0ae3-40f4-b790-03792c61f96c",
              "rows": [
                [
                  "0",
                  "0.47",
                  "0.46",
                  "2",
                  "152",
                  "2",
                  "0",
                  "No",
                  "0",
                  "IT",
                  "medium",
                  "not satisfied",
                  "good",
                  "will stay",
                  "junior"
                ],
                [
                  "1",
                  "0.61",
                  "0.39",
                  "3",
                  "99",
                  "2",
                  "0",
                  "No",
                  "0",
                  "support",
                  "low",
                  "not satisfied",
                  "good",
                  "will stay",
                  "junior"
                ],
                [
                  "2",
                  "0.43",
                  "0.51",
                  "2",
                  "130",
                  "3",
                  "0",
                  "Yes",
                  "0",
                  "IT",
                  "low",
                  "not satisfied",
                  "good",
                  "will stay",
                  "junior"
                ],
                [
                  "3",
                  "0.88",
                  "0.72",
                  "5",
                  "244",
                  "2",
                  "0",
                  "No",
                  "0",
                  "technical",
                  "low",
                  "satisfied",
                  "bad",
                  "will leave",
                  "junior"
                ],
                [
                  "4",
                  "0.79",
                  "0.83",
                  "3",
                  "126",
                  "10",
                  "1",
                  "No",
                  "0",
                  "support",
                  "low",
                  "satisfied",
                  "good",
                  "will stay",
                  "senior"
                ],
                [
                  "5",
                  "0.11",
                  "0.83",
                  "6",
                  "244",
                  "4",
                  "0",
                  "Yes",
                  "0",
                  "accounting",
                  "low",
                  "not satisfied",
                  "bad",
                  "will leave",
                  "mid_level"
                ],
                [
                  "6",
                  "0.79",
                  "1.0",
                  "5",
                  "257",
                  "6",
                  "0",
                  "Yes",
                  "0",
                  "sales",
                  "low",
                  "satisfied",
                  "bad",
                  "will leave",
                  "senior"
                ],
                [
                  "7",
                  "0.68",
                  "0.99",
                  "3",
                  "247",
                  "2",
                  "1",
                  "No",
                  "0",
                  "technical",
                  "low",
                  "satisfied",
                  "bad",
                  "will leave",
                  "junior"
                ],
                [
                  "8",
                  "0.1",
                  "0.87",
                  "7",
                  "251",
                  "5",
                  "0",
                  "Yes",
                  "0",
                  "technical",
                  "low",
                  "not satisfied",
                  "bad",
                  "will leave",
                  "senior"
                ],
                [
                  "9",
                  "0.78",
                  "0.89",
                  "5",
                  "274",
                  "6",
                  "0",
                  "Yes",
                  "0",
                  "support",
                  "medium",
                  "satisfied",
                  "bad",
                  "will leave",
                  "senior"
                ],
                [
                  "10",
                  "0.97",
                  "0.63",
                  "5",
                  "258",
                  "2",
                  "0",
                  "No",
                  "0",
                  "IT",
                  "medium",
                  "satisfied",
                  "bad",
                  "will leave",
                  "junior"
                ],
                [
                  "11",
                  "0.58",
                  "0.56",
                  "3",
                  "151",
                  "2",
                  "0",
                  "No",
                  "0",
                  "product_mng",
                  "low",
                  "not satisfied",
                  "good",
                  "will stay",
                  "junior"
                ],
                [
                  "12",
                  "0.63",
                  "0.9",
                  "4",
                  "188",
                  "4",
                  "1",
                  "No",
                  "0",
                  "sales",
                  "low",
                  "satisfied",
                  "good",
                  "will stay",
                  "mid_level"
                ],
                [
                  "13",
                  "0.09",
                  "0.87",
                  "6",
                  "266",
                  "4",
                  "0",
                  "Yes",
                  "0",
                  "support",
                  "medium",
                  "not satisfied",
                  "bad",
                  "will leave",
                  "mid_level"
                ],
                [
                  "14",
                  "0.48",
                  "0.62",
                  "4",
                  "210",
                  "2",
                  "0",
                  "No",
                  "0",
                  "sales",
                  "medium",
                  "not satisfied",
                  "bad",
                  "will leave",
                  "junior"
                ],
                [
                  "15",
                  "0.64",
                  "0.55",
                  "4",
                  "215",
                  "2",
                  "0",
                  "No",
                  "0",
                  "sales",
                  "low",
                  "satisfied",
                  "bad",
                  "will leave",
                  "junior"
                ],
                [
                  "16",
                  "0.8",
                  "0.8",
                  "4",
                  "229",
                  "4",
                  "0",
                  "No",
                  "0",
                  "sales",
                  "low",
                  "satisfied",
                  "bad",
                  "will leave",
                  "mid_level"
                ],
                [
                  "17",
                  "0.51",
                  "0.63",
                  "5",
                  "260",
                  "2",
                  "0",
                  "No",
                  "0",
                  "product_mng",
                  "high",
                  "not satisfied",
                  "bad",
                  "will leave",
                  "junior"
                ],
                [
                  "18",
                  "0.96",
                  "0.62",
                  "5",
                  "128",
                  "5",
                  "0",
                  "No",
                  "0",
                  "support",
                  "low",
                  "satisfied",
                  "good",
                  "will stay",
                  "senior"
                ],
                [
                  "19",
                  "0.95",
                  "0.95",
                  "4",
                  "204",
                  "3",
                  "1",
                  "No",
                  "0",
                  "marketing",
                  "low",
                  "satisfied",
                  "bad",
                  "will leave",
                  "junior"
                ],
                [
                  "20",
                  "0.69",
                  "0.85",
                  "3",
                  "153",
                  "10",
                  "0",
                  "No",
                  "0",
                  "support",
                  "medium",
                  "satisfied",
                  "good",
                  "will stay",
                  "senior"
                ],
                [
                  "21",
                  "0.43",
                  "0.55",
                  "2",
                  "159",
                  "3",
                  "0",
                  "Yes",
                  "0",
                  "RandD",
                  "low",
                  "not satisfied",
                  "good",
                  "will stay",
                  "junior"
                ],
                [
                  "22",
                  "0.76",
                  "0.92",
                  "3",
                  "176",
                  "2",
                  "0",
                  "No",
                  "0",
                  "IT",
                  "medium",
                  "satisfied",
                  "good",
                  "will stay",
                  "junior"
                ],
                [
                  "23",
                  "0.38",
                  "0.52",
                  "2",
                  "154",
                  "3",
                  "0",
                  "Yes",
                  "0",
                  "sales",
                  "medium",
                  "not satisfied",
                  "good",
                  "will stay",
                  "junior"
                ],
                [
                  "24",
                  "0.48",
                  "0.86",
                  "5",
                  "246",
                  "3",
                  "0",
                  "No",
                  "0",
                  "technical",
                  "low",
                  "not satisfied",
                  "bad",
                  "will leave",
                  "junior"
                ],
                [
                  "25",
                  "0.1",
                  "0.93",
                  "6",
                  "256",
                  "4",
                  "0",
                  "Yes",
                  "0",
                  "support",
                  "low",
                  "not satisfied",
                  "bad",
                  "will leave",
                  "mid_level"
                ],
                [
                  "26",
                  "0.39",
                  "0.56",
                  "2",
                  "142",
                  "3",
                  "0",
                  "Yes",
                  "0",
                  "accounting",
                  "low",
                  "not satisfied",
                  "good",
                  "will stay",
                  "junior"
                ],
                [
                  "27",
                  "0.87",
                  "0.51",
                  "4",
                  "233",
                  "3",
                  "0",
                  "No",
                  "0",
                  "sales",
                  "low",
                  "satisfied",
                  "bad",
                  "will leave",
                  "junior"
                ],
                [
                  "28",
                  "0.73",
                  "0.55",
                  "4",
                  "267",
                  "3",
                  "0",
                  "No",
                  "0",
                  "sales",
                  "low",
                  "satisfied",
                  "bad",
                  "will leave",
                  "junior"
                ],
                [
                  "29",
                  "0.74",
                  "1.0",
                  "4",
                  "253",
                  "5",
                  "0",
                  "Yes",
                  "0",
                  "sales",
                  "low",
                  "satisfied",
                  "bad",
                  "will leave",
                  "senior"
                ],
                [
                  "30",
                  "1.0",
                  "0.56",
                  "5",
                  "247",
                  "3",
                  "0",
                  "No",
                  "0",
                  "technical",
                  "low",
                  "satisfied",
                  "bad",
                  "will leave",
                  "junior"
                ],
                [
                  "31",
                  "0.78",
                  "0.95",
                  "4",
                  "260",
                  "5",
                  "0",
                  "Yes",
                  "0",
                  "sales",
                  "low",
                  "satisfied",
                  "bad",
                  "will leave",
                  "senior"
                ],
                [
                  "32",
                  "0.41",
                  "0.57",
                  "2",
                  "160",
                  "3",
                  "0",
                  "Yes",
                  "0",
                  "support",
                  "low",
                  "not satisfied",
                  "good",
                  "will stay",
                  "junior"
                ],
                [
                  "33",
                  "0.09",
                  "0.79",
                  "6",
                  "275",
                  "4",
                  "0",
                  "Yes",
                  "0",
                  "sales",
                  "low",
                  "not satisfied",
                  "bad",
                  "will leave",
                  "mid_level"
                ],
                [
                  "34",
                  "0.6",
                  "0.85",
                  "3",
                  "250",
                  "2",
                  "0",
                  "Yes",
                  "0",
                  "support",
                  "low",
                  "not satisfied",
                  "bad",
                  "will leave",
                  "junior"
                ],
                [
                  "35",
                  "0.95",
                  "0.71",
                  "3",
                  "263",
                  "2",
                  "1",
                  "No",
                  "0",
                  "sales",
                  "medium",
                  "satisfied",
                  "bad",
                  "will leave",
                  "junior"
                ],
                [
                  "36",
                  "0.88",
                  "0.88",
                  "5",
                  "248",
                  "5",
                  "0",
                  "Yes",
                  "0",
                  "technical",
                  "medium",
                  "satisfied",
                  "bad",
                  "will leave",
                  "senior"
                ],
                [
                  "37",
                  "0.82",
                  "1.0",
                  "4",
                  "229",
                  "6",
                  "0",
                  "Yes",
                  "0",
                  "hr",
                  "medium",
                  "satisfied",
                  "bad",
                  "will leave",
                  "senior"
                ],
                [
                  "38",
                  "0.09",
                  "0.9",
                  "7",
                  "289",
                  "5",
                  "0",
                  "Yes",
                  "0",
                  "technical",
                  "low",
                  "not satisfied",
                  "bad",
                  "will leave",
                  "senior"
                ],
                [
                  "39",
                  "0.6",
                  "0.59",
                  "4",
                  "201",
                  "3",
                  "0",
                  "No",
                  "0",
                  "sales",
                  "medium",
                  "not satisfied",
                  "good",
                  "will stay",
                  "junior"
                ],
                [
                  "40",
                  "0.75",
                  "0.99",
                  "5",
                  "221",
                  "5",
                  "0",
                  "Yes",
                  "0",
                  "product_mng",
                  "low",
                  "satisfied",
                  "bad",
                  "will leave",
                  "senior"
                ],
                [
                  "41",
                  "0.4",
                  "0.99",
                  "4",
                  "214",
                  "6",
                  "1",
                  "No",
                  "0",
                  "support",
                  "medium",
                  "not satisfied",
                  "bad",
                  "will leave",
                  "senior"
                ],
                [
                  "42",
                  "0.82",
                  "0.97",
                  "5",
                  "235",
                  "3",
                  "0",
                  "No",
                  "0",
                  "support",
                  "medium",
                  "satisfied",
                  "bad",
                  "will leave",
                  "junior"
                ],
                [
                  "43",
                  "0.64",
                  "0.81",
                  "2",
                  "226",
                  "2",
                  "0",
                  "No",
                  "0",
                  "IT",
                  "medium",
                  "satisfied",
                  "bad",
                  "will leave",
                  "junior"
                ],
                [
                  "44",
                  "0.73",
                  "0.93",
                  "3",
                  "205",
                  "3",
                  "0",
                  "No",
                  "0",
                  "product_mng",
                  "high",
                  "satisfied",
                  "bad",
                  "will leave",
                  "junior"
                ],
                [
                  "45",
                  "0.49",
                  "0.57",
                  "3",
                  "192",
                  "3",
                  "0",
                  "No",
                  "0",
                  "technical",
                  "medium",
                  "not satisfied",
                  "good",
                  "will stay",
                  "junior"
                ],
                [
                  "46",
                  "0.37",
                  "0.47",
                  "2",
                  "138",
                  "3",
                  "1",
                  "Yes",
                  "0",
                  "accounting",
                  "medium",
                  "not satisfied",
                  "good",
                  "will stay",
                  "junior"
                ],
                [
                  "47",
                  "0.95",
                  "0.74",
                  "4",
                  "258",
                  "3",
                  "0",
                  "No",
                  "0",
                  "technical",
                  "medium",
                  "satisfied",
                  "bad",
                  "will leave",
                  "junior"
                ],
                [
                  "48",
                  "0.65",
                  "0.4",
                  "5",
                  "125",
                  "4",
                  "0",
                  "No",
                  "0",
                  "sales",
                  "low",
                  "satisfied",
                  "good",
                  "will stay",
                  "mid_level"
                ],
                [
                  "49",
                  "0.1",
                  "0.84",
                  "6",
                  "261",
                  "4",
                  "0",
                  "Yes",
                  "0",
                  "accounting",
                  "medium",
                  "not satisfied",
                  "bad",
                  "will leave",
                  "mid_level"
                ]
              ],
              "shape": {
                "columns": 14,
                "rows": 7142
              }
            },
            "text/html": [
              "<div>\n",
              "<style scoped>\n",
              "    .dataframe tbody tr th:only-of-type {\n",
              "        vertical-align: middle;\n",
              "    }\n",
              "\n",
              "    .dataframe tbody tr th {\n",
              "        vertical-align: top;\n",
              "    }\n",
              "\n",
              "    .dataframe thead th {\n",
              "        text-align: right;\n",
              "    }\n",
              "</style>\n",
              "<table border=\"1\" class=\"dataframe\">\n",
              "  <thead>\n",
              "    <tr style=\"text-align: right;\">\n",
              "      <th></th>\n",
              "      <th>satisfaction_level</th>\n",
              "      <th>last_evaluation</th>\n",
              "      <th>number_project</th>\n",
              "      <th>average_montly_hours</th>\n",
              "      <th>time_spend_company</th>\n",
              "      <th>Work_accident</th>\n",
              "      <th>left</th>\n",
              "      <th>promotion_last_5years</th>\n",
              "      <th>Departments</th>\n",
              "      <th>salary</th>\n",
              "      <th>satisfy</th>\n",
              "      <th>environment</th>\n",
              "      <th>monthly_hours_and_environment</th>\n",
              "      <th>experience</th>\n",
              "    </tr>\n",
              "  </thead>\n",
              "  <tbody>\n",
              "    <tr>\n",
              "      <th>0</th>\n",
              "      <td>0.47</td>\n",
              "      <td>0.46</td>\n",
              "      <td>2</td>\n",
              "      <td>152</td>\n",
              "      <td>2</td>\n",
              "      <td>0</td>\n",
              "      <td>No</td>\n",
              "      <td>0</td>\n",
              "      <td>IT</td>\n",
              "      <td>medium</td>\n",
              "      <td>not satisfied</td>\n",
              "      <td>good</td>\n",
              "      <td>will stay</td>\n",
              "      <td>junior</td>\n",
              "    </tr>\n",
              "    <tr>\n",
              "      <th>1</th>\n",
              "      <td>0.61</td>\n",
              "      <td>0.39</td>\n",
              "      <td>3</td>\n",
              "      <td>99</td>\n",
              "      <td>2</td>\n",
              "      <td>0</td>\n",
              "      <td>No</td>\n",
              "      <td>0</td>\n",
              "      <td>support</td>\n",
              "      <td>low</td>\n",
              "      <td>not satisfied</td>\n",
              "      <td>good</td>\n",
              "      <td>will stay</td>\n",
              "      <td>junior</td>\n",
              "    </tr>\n",
              "    <tr>\n",
              "      <th>2</th>\n",
              "      <td>0.43</td>\n",
              "      <td>0.51</td>\n",
              "      <td>2</td>\n",
              "      <td>130</td>\n",
              "      <td>3</td>\n",
              "      <td>0</td>\n",
              "      <td>Yes</td>\n",
              "      <td>0</td>\n",
              "      <td>IT</td>\n",
              "      <td>low</td>\n",
              "      <td>not satisfied</td>\n",
              "      <td>good</td>\n",
              "      <td>will stay</td>\n",
              "      <td>junior</td>\n",
              "    </tr>\n",
              "    <tr>\n",
              "      <th>3</th>\n",
              "      <td>0.88</td>\n",
              "      <td>0.72</td>\n",
              "      <td>5</td>\n",
              "      <td>244</td>\n",
              "      <td>2</td>\n",
              "      <td>0</td>\n",
              "      <td>No</td>\n",
              "      <td>0</td>\n",
              "      <td>technical</td>\n",
              "      <td>low</td>\n",
              "      <td>satisfied</td>\n",
              "      <td>bad</td>\n",
              "      <td>will leave</td>\n",
              "      <td>junior</td>\n",
              "    </tr>\n",
              "    <tr>\n",
              "      <th>4</th>\n",
              "      <td>0.79</td>\n",
              "      <td>0.83</td>\n",
              "      <td>3</td>\n",
              "      <td>126</td>\n",
              "      <td>10</td>\n",
              "      <td>1</td>\n",
              "      <td>No</td>\n",
              "      <td>0</td>\n",
              "      <td>support</td>\n",
              "      <td>low</td>\n",
              "      <td>satisfied</td>\n",
              "      <td>good</td>\n",
              "      <td>will stay</td>\n",
              "      <td>senior</td>\n",
              "    </tr>\n",
              "    <tr>\n",
              "      <th>...</th>\n",
              "      <td>...</td>\n",
              "      <td>...</td>\n",
              "      <td>...</td>\n",
              "      <td>...</td>\n",
              "      <td>...</td>\n",
              "      <td>...</td>\n",
              "      <td>...</td>\n",
              "      <td>...</td>\n",
              "      <td>...</td>\n",
              "      <td>...</td>\n",
              "      <td>...</td>\n",
              "      <td>...</td>\n",
              "      <td>...</td>\n",
              "      <td>...</td>\n",
              "    </tr>\n",
              "    <tr>\n",
              "      <th>7137</th>\n",
              "      <td>0.91</td>\n",
              "      <td>0.84</td>\n",
              "      <td>5</td>\n",
              "      <td>265</td>\n",
              "      <td>5</td>\n",
              "      <td>0</td>\n",
              "      <td>Yes</td>\n",
              "      <td>0</td>\n",
              "      <td>technical</td>\n",
              "      <td>medium</td>\n",
              "      <td>satisfied</td>\n",
              "      <td>bad</td>\n",
              "      <td>will leave</td>\n",
              "      <td>senior</td>\n",
              "    </tr>\n",
              "    <tr>\n",
              "      <th>7138</th>\n",
              "      <td>0.90</td>\n",
              "      <td>1.00</td>\n",
              "      <td>5</td>\n",
              "      <td>232</td>\n",
              "      <td>5</td>\n",
              "      <td>0</td>\n",
              "      <td>Yes</td>\n",
              "      <td>0</td>\n",
              "      <td>technical</td>\n",
              "      <td>medium</td>\n",
              "      <td>satisfied</td>\n",
              "      <td>bad</td>\n",
              "      <td>will leave</td>\n",
              "      <td>senior</td>\n",
              "    </tr>\n",
              "    <tr>\n",
              "      <th>7139</th>\n",
              "      <td>0.90</td>\n",
              "      <td>0.93</td>\n",
              "      <td>4</td>\n",
              "      <td>263</td>\n",
              "      <td>3</td>\n",
              "      <td>1</td>\n",
              "      <td>No</td>\n",
              "      <td>0</td>\n",
              "      <td>support</td>\n",
              "      <td>medium</td>\n",
              "      <td>satisfied</td>\n",
              "      <td>bad</td>\n",
              "      <td>will leave</td>\n",
              "      <td>junior</td>\n",
              "    </tr>\n",
              "    <tr>\n",
              "      <th>7140</th>\n",
              "      <td>0.37</td>\n",
              "      <td>0.50</td>\n",
              "      <td>2</td>\n",
              "      <td>154</td>\n",
              "      <td>3</td>\n",
              "      <td>0</td>\n",
              "      <td>Yes</td>\n",
              "      <td>0</td>\n",
              "      <td>hr</td>\n",
              "      <td>medium</td>\n",
              "      <td>not satisfied</td>\n",
              "      <td>good</td>\n",
              "      <td>will stay</td>\n",
              "      <td>junior</td>\n",
              "    </tr>\n",
              "    <tr>\n",
              "      <th>7141</th>\n",
              "      <td>0.37</td>\n",
              "      <td>0.47</td>\n",
              "      <td>2</td>\n",
              "      <td>152</td>\n",
              "      <td>3</td>\n",
              "      <td>0</td>\n",
              "      <td>Yes</td>\n",
              "      <td>0</td>\n",
              "      <td>product_mng</td>\n",
              "      <td>low</td>\n",
              "      <td>not satisfied</td>\n",
              "      <td>good</td>\n",
              "      <td>will stay</td>\n",
              "      <td>junior</td>\n",
              "    </tr>\n",
              "  </tbody>\n",
              "</table>\n",
              "<p>7142 rows × 14 columns</p>\n",
              "</div>"
            ],
            "text/plain": [
              "      satisfaction_level  last_evaluation  number_project  \\\n",
              "0                   0.47             0.46               2   \n",
              "1                   0.61             0.39               3   \n",
              "2                   0.43             0.51               2   \n",
              "3                   0.88             0.72               5   \n",
              "4                   0.79             0.83               3   \n",
              "...                  ...              ...             ...   \n",
              "7137                0.91             0.84               5   \n",
              "7138                0.90             1.00               5   \n",
              "7139                0.90             0.93               4   \n",
              "7140                0.37             0.50               2   \n",
              "7141                0.37             0.47               2   \n",
              "\n",
              "      average_montly_hours  time_spend_company  Work_accident left  \\\n",
              "0                      152                   2              0   No   \n",
              "1                       99                   2              0   No   \n",
              "2                      130                   3              0  Yes   \n",
              "3                      244                   2              0   No   \n",
              "4                      126                  10              1   No   \n",
              "...                    ...                 ...            ...  ...   \n",
              "7137                   265                   5              0  Yes   \n",
              "7138                   232                   5              0  Yes   \n",
              "7139                   263                   3              1   No   \n",
              "7140                   154                   3              0  Yes   \n",
              "7141                   152                   3              0  Yes   \n",
              "\n",
              "      promotion_last_5years Departments   salary        satisfy environment  \\\n",
              "0                         0           IT  medium  not satisfied        good   \n",
              "1                         0      support     low  not satisfied        good   \n",
              "2                         0           IT     low  not satisfied        good   \n",
              "3                         0    technical     low      satisfied         bad   \n",
              "4                         0      support     low      satisfied        good   \n",
              "...                     ...          ...     ...            ...         ...   \n",
              "7137                      0    technical  medium      satisfied         bad   \n",
              "7138                      0    technical  medium      satisfied         bad   \n",
              "7139                      0      support  medium      satisfied         bad   \n",
              "7140                      0           hr  medium  not satisfied        good   \n",
              "7141                      0  product_mng     low  not satisfied        good   \n",
              "\n",
              "     monthly_hours_and_environment experience  \n",
              "0                        will stay     junior  \n",
              "1                        will stay     junior  \n",
              "2                        will stay     junior  \n",
              "3                       will leave     junior  \n",
              "4                        will stay     senior  \n",
              "...                            ...        ...  \n",
              "7137                    will leave     senior  \n",
              "7138                    will leave     senior  \n",
              "7139                    will leave     junior  \n",
              "7140                     will stay     junior  \n",
              "7141                     will stay     junior  \n",
              "\n",
              "[7142 rows x 14 columns]"
            ]
          },
          "execution_count": 85,
          "metadata": {},
          "output_type": "execute_result"
        }
      ],
      "source": [
        "df_balanced"
      ]
    },
    {
      "cell_type": "code",
      "execution_count": null,
      "id": "98e064d3",
      "metadata": {
        "id": "98e064d3",
        "outputId": "bf3a4def-cf05-4af2-ba02-d9cf9b937f0b"
      },
      "outputs": [
        {
          "data": {
            "application/vnd.microsoft.datawrangler.viewer.v0+json": {
              "columns": [
                {
                  "name": "experience",
                  "rawType": "category",
                  "type": "unknown"
                },
                {
                  "name": "count",
                  "rawType": "int64",
                  "type": "integer"
                }
              ],
              "ref": "3029d682-5eee-44f3-bcc7-56fb3fc8e9bd",
              "rows": [
                [
                  "junior",
                  "4167"
                ],
                [
                  "senior",
                  "1572"
                ],
                [
                  "mid_level",
                  "1403"
                ]
              ],
              "shape": {
                "columns": 1,
                "rows": 3
              }
            },
            "text/plain": [
              "experience\n",
              "junior       4167\n",
              "senior       1572\n",
              "mid_level    1403\n",
              "Name: count, dtype: int64"
            ]
          },
          "execution_count": 86,
          "metadata": {},
          "output_type": "execute_result"
        }
      ],
      "source": [
        "df_balanced[\"experience\"].value_counts()"
      ]
    },
    {
      "cell_type": "code",
      "execution_count": null,
      "id": "91d1b2d7",
      "metadata": {
        "id": "91d1b2d7",
        "outputId": "d82f45ab-07aa-4287-b921-ef44694cf9e3"
      },
      "outputs": [
        {
          "data": {
            "application/vnd.microsoft.datawrangler.viewer.v0+json": {
              "columns": [
                {
                  "name": "experience",
                  "rawType": "category",
                  "type": "unknown"
                },
                {
                  "name": "proportion",
                  "rawType": "float64",
                  "type": "float"
                }
              ],
              "ref": "1b72f7a6-290e-4d9b-b6e7-4da39779fe13",
              "rows": [
                [
                  "junior",
                  "58.345001400168016"
                ],
                [
                  "senior",
                  "22.010641276953237"
                ],
                [
                  "mid_level",
                  "19.644357322878744"
                ]
              ],
              "shape": {
                "columns": 1,
                "rows": 3
              }
            },
            "text/plain": [
              "experience\n",
              "junior       58.345001\n",
              "senior       22.010641\n",
              "mid_level    19.644357\n",
              "Name: proportion, dtype: float64"
            ]
          },
          "execution_count": 87,
          "metadata": {},
          "output_type": "execute_result"
        }
      ],
      "source": [
        "# Calculate Percentage Distribution\n",
        "df_balanced[\"experience\"].value_counts(normalize=True) * 100"
      ]
    },
    {
      "cell_type": "code",
      "execution_count": null,
      "id": "dae2e58e",
      "metadata": {
        "id": "dae2e58e",
        "outputId": "2ed28027-075b-406f-c9b4-97aa26cb9505"
      },
      "outputs": [
        {
          "name": "stderr",
          "output_type": "stream",
          "text": [
            "C:\\Users\\ho\\AppData\\Local\\Temp\\ipykernel_15584\\1031492270.py:1: FutureWarning: The default of observed=False is deprecated and will be changed to True in a future version of pandas. Pass observed=False to retain current behavior or observed=True to adopt the future default and silence this warning.\n",
            "  df_balanced.groupby([\"salary\", \"experience\"]).size().unstack()\n"
          ]
        },
        {
          "data": {
            "application/vnd.microsoft.datawrangler.viewer.v0+json": {
              "columns": [
                {
                  "name": "salary",
                  "rawType": "object",
                  "type": "string"
                },
                {
                  "name": "junior",
                  "rawType": "int64",
                  "type": "integer"
                },
                {
                  "name": "mid_level",
                  "rawType": "int64",
                  "type": "integer"
                },
                {
                  "name": "senior",
                  "rawType": "int64",
                  "type": "integer"
                }
              ],
              "ref": "491b13d5-3b9f-4b8e-9bae-f34820f48b64",
              "rows": [
                [
                  "high",
                  "296",
                  "65",
                  "91"
                ],
                [
                  "low",
                  "2208",
                  "773",
                  "832"
                ],
                [
                  "medium",
                  "1663",
                  "565",
                  "649"
                ]
              ],
              "shape": {
                "columns": 3,
                "rows": 3
              }
            },
            "text/html": [
              "<div>\n",
              "<style scoped>\n",
              "    .dataframe tbody tr th:only-of-type {\n",
              "        vertical-align: middle;\n",
              "    }\n",
              "\n",
              "    .dataframe tbody tr th {\n",
              "        vertical-align: top;\n",
              "    }\n",
              "\n",
              "    .dataframe thead th {\n",
              "        text-align: right;\n",
              "    }\n",
              "</style>\n",
              "<table border=\"1\" class=\"dataframe\">\n",
              "  <thead>\n",
              "    <tr style=\"text-align: right;\">\n",
              "      <th>experience</th>\n",
              "      <th>junior</th>\n",
              "      <th>mid_level</th>\n",
              "      <th>senior</th>\n",
              "    </tr>\n",
              "    <tr>\n",
              "      <th>salary</th>\n",
              "      <th></th>\n",
              "      <th></th>\n",
              "      <th></th>\n",
              "    </tr>\n",
              "  </thead>\n",
              "  <tbody>\n",
              "    <tr>\n",
              "      <th>high</th>\n",
              "      <td>296</td>\n",
              "      <td>65</td>\n",
              "      <td>91</td>\n",
              "    </tr>\n",
              "    <tr>\n",
              "      <th>low</th>\n",
              "      <td>2208</td>\n",
              "      <td>773</td>\n",
              "      <td>832</td>\n",
              "    </tr>\n",
              "    <tr>\n",
              "      <th>medium</th>\n",
              "      <td>1663</td>\n",
              "      <td>565</td>\n",
              "      <td>649</td>\n",
              "    </tr>\n",
              "  </tbody>\n",
              "</table>\n",
              "</div>"
            ],
            "text/plain": [
              "experience  junior  mid_level  senior\n",
              "salary                               \n",
              "high           296         65      91\n",
              "low           2208        773     832\n",
              "medium        1663        565     649"
            ]
          },
          "execution_count": 88,
          "metadata": {},
          "output_type": "execute_result"
        }
      ],
      "source": [
        "df_balanced.groupby([\"salary\", \"experience\"]).size().unstack()"
      ]
    },
    {
      "cell_type": "code",
      "execution_count": null,
      "id": "6d6dc9c1",
      "metadata": {
        "id": "6d6dc9c1",
        "outputId": "34db821b-67ac-4b29-fafa-977972f12c80"
      },
      "outputs": [
        {
          "name": "stderr",
          "output_type": "stream",
          "text": [
            "C:\\Users\\ho\\AppData\\Local\\Temp\\ipykernel_15584\\2440953808.py:1: FutureWarning: The default of observed=False is deprecated and will be changed to True in a future version of pandas. Pass observed=False to retain current behavior or observed=True to adopt the future default and silence this warning.\n",
            "  df_balanced.groupby([\"left\", \"experience\"]).size().unstack()\n"
          ]
        },
        {
          "data": {
            "application/vnd.microsoft.datawrangler.viewer.v0+json": {
              "columns": [
                {
                  "name": "left",
                  "rawType": "object",
                  "type": "string"
                },
                {
                  "name": "junior",
                  "rawType": "int64",
                  "type": "integer"
                },
                {
                  "name": "mid_level",
                  "rawType": "int64",
                  "type": "integer"
                },
                {
                  "name": "senior",
                  "rawType": "int64",
                  "type": "integer"
                }
              ],
              "ref": "fa965b7d-d20f-432b-ba96-402a47599a6d",
              "rows": [
                [
                  "No",
                  "2528",
                  "513",
                  "530"
                ],
                [
                  "Yes",
                  "1639",
                  "890",
                  "1042"
                ]
              ],
              "shape": {
                "columns": 3,
                "rows": 2
              }
            },
            "text/html": [
              "<div>\n",
              "<style scoped>\n",
              "    .dataframe tbody tr th:only-of-type {\n",
              "        vertical-align: middle;\n",
              "    }\n",
              "\n",
              "    .dataframe tbody tr th {\n",
              "        vertical-align: top;\n",
              "    }\n",
              "\n",
              "    .dataframe thead th {\n",
              "        text-align: right;\n",
              "    }\n",
              "</style>\n",
              "<table border=\"1\" class=\"dataframe\">\n",
              "  <thead>\n",
              "    <tr style=\"text-align: right;\">\n",
              "      <th>experience</th>\n",
              "      <th>junior</th>\n",
              "      <th>mid_level</th>\n",
              "      <th>senior</th>\n",
              "    </tr>\n",
              "    <tr>\n",
              "      <th>left</th>\n",
              "      <th></th>\n",
              "      <th></th>\n",
              "      <th></th>\n",
              "    </tr>\n",
              "  </thead>\n",
              "  <tbody>\n",
              "    <tr>\n",
              "      <th>No</th>\n",
              "      <td>2528</td>\n",
              "      <td>513</td>\n",
              "      <td>530</td>\n",
              "    </tr>\n",
              "    <tr>\n",
              "      <th>Yes</th>\n",
              "      <td>1639</td>\n",
              "      <td>890</td>\n",
              "      <td>1042</td>\n",
              "    </tr>\n",
              "  </tbody>\n",
              "</table>\n",
              "</div>"
            ],
            "text/plain": [
              "experience  junior  mid_level  senior\n",
              "left                                 \n",
              "No            2528        513     530\n",
              "Yes           1639        890    1042"
            ]
          },
          "execution_count": 89,
          "metadata": {},
          "output_type": "execute_result"
        }
      ],
      "source": [
        "df_balanced.groupby([\"left\", \"experience\"]).size().unstack()"
      ]
    },
    {
      "cell_type": "code",
      "execution_count": null,
      "id": "1f046706",
      "metadata": {
        "id": "1f046706",
        "outputId": "c5ef77f7-50c4-4c14-dc19-88da1143a80d"
      },
      "outputs": [
        {
          "name": "stdout",
          "output_type": "stream",
          "text": [
            "<class 'pandas.core.frame.DataFrame'>\n",
            "RangeIndex: 7142 entries, 0 to 7141\n",
            "Data columns (total 14 columns):\n",
            " #   Column                         Non-Null Count  Dtype   \n",
            "---  ------                         --------------  -----   \n",
            " 0   satisfaction_level             7142 non-null   float64 \n",
            " 1   last_evaluation                7142 non-null   float64 \n",
            " 2   number_project                 7142 non-null   int64   \n",
            " 3   average_montly_hours           7142 non-null   int64   \n",
            " 4   time_spend_company             7142 non-null   int64   \n",
            " 5   Work_accident                  7142 non-null   int64   \n",
            " 6   left                           7142 non-null   object  \n",
            " 7   promotion_last_5years          7142 non-null   int64   \n",
            " 8   Departments                    7142 non-null   object  \n",
            " 9   salary                         7142 non-null   object  \n",
            " 10  satisfy                        7142 non-null   object  \n",
            " 11  environment                    7142 non-null   object  \n",
            " 12  monthly_hours_and_environment  7142 non-null   object  \n",
            " 13  experience                     7142 non-null   category\n",
            "dtypes: category(1), float64(2), int64(5), object(6)\n",
            "memory usage: 732.6+ KB\n"
          ]
        }
      ],
      "source": [
        "# General information\n",
        "df_balanced.info()"
      ]
    },
    {
      "cell_type": "code",
      "execution_count": null,
      "id": "d0d15ed7",
      "metadata": {
        "id": "d0d15ed7",
        "outputId": "3c1f621a-fc15-49cd-de56-5333c4ae2396"
      },
      "outputs": [
        {
          "data": {
            "application/vnd.microsoft.datawrangler.viewer.v0+json": {
              "columns": [
                {
                  "name": "index",
                  "rawType": "object",
                  "type": "string"
                },
                {
                  "name": "0",
                  "rawType": "int64",
                  "type": "integer"
                }
              ],
              "ref": "f73880a1-77dd-4fb5-81ab-a8384e7ab60e",
              "rows": [
                [
                  "satisfaction_level",
                  "0"
                ],
                [
                  "last_evaluation",
                  "0"
                ],
                [
                  "number_project",
                  "0"
                ],
                [
                  "average_montly_hours",
                  "0"
                ],
                [
                  "time_spend_company",
                  "0"
                ],
                [
                  "Work_accident",
                  "0"
                ],
                [
                  "left",
                  "0"
                ],
                [
                  "promotion_last_5years",
                  "0"
                ],
                [
                  "Departments ",
                  "0"
                ],
                [
                  "salary",
                  "0"
                ],
                [
                  "satisfy",
                  "0"
                ],
                [
                  "environment",
                  "0"
                ],
                [
                  "monthly_hours_and_environment",
                  "0"
                ],
                [
                  "experience",
                  "0"
                ]
              ],
              "shape": {
                "columns": 1,
                "rows": 14
              }
            },
            "text/plain": [
              "satisfaction_level               0\n",
              "last_evaluation                  0\n",
              "number_project                   0\n",
              "average_montly_hours             0\n",
              "time_spend_company               0\n",
              "Work_accident                    0\n",
              "left                             0\n",
              "promotion_last_5years            0\n",
              "Departments                      0\n",
              "salary                           0\n",
              "satisfy                          0\n",
              "environment                      0\n",
              "monthly_hours_and_environment    0\n",
              "experience                       0\n",
              "dtype: int64"
            ]
          },
          "execution_count": 91,
          "metadata": {},
          "output_type": "execute_result"
        }
      ],
      "source": [
        "# Check Missing Values\n",
        "df_balanced.isnull().sum()"
      ]
    },
    {
      "cell_type": "markdown",
      "id": "6505b3bd",
      "metadata": {
        "id": "6505b3bd"
      },
      "source": [
        "# Insights\n",
        "\n",
        "##### Main Dataset\n",
        "- No missing values in the dataset.  \n",
        "- Employees who **left**: **3571**, while those who **stayed**: **11428**.  \n",
        "- Percentage of employees who **left**: **23.8%**, while who **stayed**: **76.2%**.  \n",
        "---\n",
        "- The average satisfaction level: **0.61** → **61%**.  \n",
        "---\n",
        "- Employees who left and were **not satisfied**: **2606** out of **6937** → **37.5%**.  \n",
        "- Employees who left and were **satisfied**: **965** out of **8062** → **11.9%**.  \n",
        "- Employees who stayed and were **not satisfied**: **4331** out of **6937** → **62.4%**.  \n",
        "- Employees who stayed and were **satisfied**: **7097** out of **8062** → **88%**.  \n",
        "\n",
        "---\n",
        "\n",
        "##### After Down-Sampling\n",
        "- Employees who **left**: **3571** out of **7142** → **50%**.  \n",
        "- Employees who **stayed**: **3571** out of **7142** → **50%**.  \n",
        "---\n",
        "- Average monthly working hours: **201**.  \n",
        "- If monthly working hours `< 201` → environment is considered **Good**, else → **Bad**.  \n",
        "---\n",
        "- Based on **Monthly Hours / Environment** prediction:  \n",
        "  - Predicted to leave: **3634** out of **7142** → **50.88%**.  \n",
        "  - Predicted to stay: **3508** out of **7142** → **49.11%**.  \n",
        "---\n",
        "- Validation:  \n",
        "  - Actually left from predicted-to-leave: **1915** out of **3634** → **52.7%**.  \n",
        "  - Actually stayed from predicted-to-stay: **1852** out of **3508** → **52.8%**.  \n",
        "\n",
        "---\n",
        "\n",
        "##### Work Accident\n",
        "- Work Accident **True**: **777** out of **7142** → **10.87%**.  \n",
        "- Work Accident **False**: **6365** out of **7142** → **89.12%**.  \n",
        "---\n",
        "- Work Accident **True** and left: **169** out of **777** → **21.75%**.  \n",
        "- Work Accident **True** and stayed: **608** out of **777** → **78.24%**.  \n",
        "- Work Accident **False** and left: **3402** out of **6365** → **53.4%**.  \n",
        "- Work Accident **False** and stayed: **2963** out of **6365** → **46.5%**.  \n",
        "\n",
        "---\n",
        "\n",
        "##### Experience Levels\n",
        "- From **7142** employees:  \n",
        "  - **Juniors**: **4167** → **58.3%**.  \n",
        "  - **Mid-Levels**: **1403** → **19.6%**.  \n",
        "  - **Seniors**: **1572** → **22%**.  \n",
        "\n",
        "---\n",
        "\n",
        "##### Salary Distribution\n",
        "- **Juniors (4167 total)**:  \n",
        "  - Low Salary: **2208** → **53%**.  \n",
        "  - Medium Salary: **1663** → **39.9%**.  \n",
        "  - High Salary: **296** → **7.1%**.  \n",
        "\n",
        "- **Mid-Levels (1403 total)**:  \n",
        "  - Low Salary: **773** → **55.1%**.  \n",
        "  - Medium Salary: **565** → **40.3%**.  \n",
        "  - High Salary: **65** → **4.6%**.  \n",
        "\n",
        "- **Seniors (1572 total)**:  \n",
        "  - Low Salary: **832** → **52.9%**.  \n",
        "  - Medium Salary: **649** → **41.3%**.  \n",
        "  - High Salary: **91** → **5.8%**.  \n",
        "\n",
        "---\n",
        "\n",
        "##### Attrition by Experience Level\n",
        "- **Juniors** who left: **1639** out of **4167** → **39.3%**.  \n",
        "- **Mid-Levels** who left: **890** out of **1403** → **63.4%**.  \n",
        "- **Seniors** who left: **1042** out of **1572** → **66.3%**.  "
      ]
    }
  ],
  "metadata": {
    "kernelspec": {
      "display_name": "base",
      "language": "python",
      "name": "python3"
    },
    "language_info": {
      "codemirror_mode": {
        "name": "ipython",
        "version": 3
      },
      "file_extension": ".py",
      "mimetype": "text/x-python",
      "name": "python",
      "nbconvert_exporter": "python",
      "pygments_lexer": "ipython3",
      "version": "3.13.5"
    },
    "colab": {
      "provenance": [],
      "include_colab_link": true
    }
  },
  "nbformat": 4,
  "nbformat_minor": 5
}