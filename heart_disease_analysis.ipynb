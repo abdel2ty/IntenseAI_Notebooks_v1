{
  "cells": [
    {
      "cell_type": "markdown",
      "metadata": {
        "id": "view-in-github",
        "colab_type": "text"
      },
      "source": [
        "<a href=\"https://colab.research.google.com/github/abdel2ty/IntenseAI_Notebooks_v1/blob/main/heart_disease_analysis.ipynb\" target=\"_parent\"><img src=\"https://colab.research.google.com/assets/colab-badge.svg\" alt=\"Open In Colab\"/></a>"
      ]
    },
    {
      "cell_type": "markdown",
      "id": "96bfaa29-dcbe-4c6a-b6fb-4726a9638555",
      "metadata": {
        "id": "96bfaa29-dcbe-4c6a-b6fb-4726a9638555"
      },
      "source": [
        "<div style=\"background-color:#28a745; padding:15px; border-radius:10px; text-align:center; display:flex; justify-content:center; align-items:center; gap:12px;\">\n",
        "    <img src=\"attachment:91fd954c-9081-4fd6-8af8-4aa0aeac1208.jpg\" alt=\"Evergreen Logo\" style=\"width:70px; height:70px; border-radius:50%;\">\n",
        "    <h1 style=\"color:white; font-size:40px; font-weight:bold; margin:0;\">\n",
        "        Evergreen.ai\n",
        "    </h1>\n",
        "\n",
        "<div style=\"margin-left:auto; padding-right:10px;\">\n",
        "        <h2 style=\"color:white; font-size:40px; font-weight:600; margin:0;\">\n",
        "            Pandas Project\n",
        "        </h2>\n",
        "</div>\n",
        "</div>\n"
      ]
    },
    {
      "cell_type": "markdown",
      "id": "0f657e99",
      "metadata": {
        "id": "0f657e99"
      },
      "source": [
        "# 🫀 Heart Disease Analysis\n",
        "\n"
      ]
    },
    {
      "cell_type": "code",
      "execution_count": null,
      "id": "7203806a",
      "metadata": {
        "id": "7203806a"
      },
      "outputs": [],
      "source": [
        "# Step 1 — Import Libraries\n",
        "import pandas as pd\n",
        "import numpy as np"
      ]
    },
    {
      "cell_type": "markdown",
      "id": "db69994e",
      "metadata": {
        "id": "db69994e"
      },
      "source": [
        "## Load Dataset"
      ]
    },
    {
      "cell_type": "code",
      "execution_count": null,
      "id": "cb11fc33",
      "metadata": {
        "id": "cb11fc33",
        "outputId": "1f11008c-5d8d-4d8b-fac6-b931d83d5424"
      },
      "outputs": [
        {
          "data": {
            "text/html": [
              "<div>\n",
              "<style scoped>\n",
              "    .dataframe tbody tr th:only-of-type {\n",
              "        vertical-align: middle;\n",
              "    }\n",
              "\n",
              "    .dataframe tbody tr th {\n",
              "        vertical-align: top;\n",
              "    }\n",
              "\n",
              "    .dataframe thead th {\n",
              "        text-align: right;\n",
              "    }\n",
              "</style>\n",
              "<table border=\"1\" class=\"dataframe\">\n",
              "  <thead>\n",
              "    <tr style=\"text-align: right;\">\n",
              "      <th></th>\n",
              "      <th>HeartDisease</th>\n",
              "      <th>BMI</th>\n",
              "      <th>Smoking</th>\n",
              "      <th>AlcoholDrinking</th>\n",
              "      <th>Stroke</th>\n",
              "      <th>PhysicalHealth</th>\n",
              "      <th>MentalHealth</th>\n",
              "      <th>DiffWalking</th>\n",
              "      <th>Sex</th>\n",
              "      <th>AgeCategory</th>\n",
              "      <th>Race</th>\n",
              "      <th>Diabetic</th>\n",
              "      <th>PhysicalActivity</th>\n",
              "      <th>GenHealth</th>\n",
              "      <th>SleepTime</th>\n",
              "      <th>Asthma</th>\n",
              "      <th>KidneyDisease</th>\n",
              "      <th>SkinCancer</th>\n",
              "    </tr>\n",
              "  </thead>\n",
              "  <tbody>\n",
              "    <tr>\n",
              "      <th>0</th>\n",
              "      <td>No</td>\n",
              "      <td>16.60</td>\n",
              "      <td>Yes</td>\n",
              "      <td>No</td>\n",
              "      <td>No</td>\n",
              "      <td>3</td>\n",
              "      <td>30</td>\n",
              "      <td>No</td>\n",
              "      <td>Female</td>\n",
              "      <td>55-59</td>\n",
              "      <td>White</td>\n",
              "      <td>Yes</td>\n",
              "      <td>Yes</td>\n",
              "      <td>Very good</td>\n",
              "      <td>5.0</td>\n",
              "      <td>Yes</td>\n",
              "      <td>No</td>\n",
              "      <td>Yes</td>\n",
              "    </tr>\n",
              "    <tr>\n",
              "      <th>1</th>\n",
              "      <td>No</td>\n",
              "      <td>20.34</td>\n",
              "      <td>No</td>\n",
              "      <td>No</td>\n",
              "      <td>Yes</td>\n",
              "      <td>0</td>\n",
              "      <td>0</td>\n",
              "      <td>No</td>\n",
              "      <td>Female</td>\n",
              "      <td>80 or older</td>\n",
              "      <td>White</td>\n",
              "      <td>No</td>\n",
              "      <td>Yes</td>\n",
              "      <td>Very good</td>\n",
              "      <td>7.0</td>\n",
              "      <td>No</td>\n",
              "      <td>No</td>\n",
              "      <td>NaN</td>\n",
              "    </tr>\n",
              "    <tr>\n",
              "      <th>2</th>\n",
              "      <td>No</td>\n",
              "      <td>NaN</td>\n",
              "      <td>Yes</td>\n",
              "      <td>No</td>\n",
              "      <td>No</td>\n",
              "      <td>20</td>\n",
              "      <td>30</td>\n",
              "      <td>No</td>\n",
              "      <td>Male</td>\n",
              "      <td>65-69</td>\n",
              "      <td>White</td>\n",
              "      <td>Yes</td>\n",
              "      <td>Yes</td>\n",
              "      <td>Fair</td>\n",
              "      <td>8.0</td>\n",
              "      <td>Yes</td>\n",
              "      <td>No</td>\n",
              "      <td>No</td>\n",
              "    </tr>\n",
              "    <tr>\n",
              "      <th>3</th>\n",
              "      <td>No</td>\n",
              "      <td>24.21</td>\n",
              "      <td>No</td>\n",
              "      <td>No</td>\n",
              "      <td>No</td>\n",
              "      <td>0</td>\n",
              "      <td>0</td>\n",
              "      <td>No</td>\n",
              "      <td>Female</td>\n",
              "      <td>75-79</td>\n",
              "      <td>White</td>\n",
              "      <td>No</td>\n",
              "      <td>No</td>\n",
              "      <td>Good</td>\n",
              "      <td>6.0</td>\n",
              "      <td>No</td>\n",
              "      <td>No</td>\n",
              "      <td>Yes</td>\n",
              "    </tr>\n",
              "    <tr>\n",
              "      <th>4</th>\n",
              "      <td>No</td>\n",
              "      <td>23.71</td>\n",
              "      <td>No</td>\n",
              "      <td>No</td>\n",
              "      <td>No</td>\n",
              "      <td>28</td>\n",
              "      <td>0</td>\n",
              "      <td>Yes</td>\n",
              "      <td>Female</td>\n",
              "      <td>40-44</td>\n",
              "      <td>White</td>\n",
              "      <td>No</td>\n",
              "      <td>Yes</td>\n",
              "      <td>Very good</td>\n",
              "      <td>8.0</td>\n",
              "      <td>No</td>\n",
              "      <td>No</td>\n",
              "      <td>No</td>\n",
              "    </tr>\n",
              "    <tr>\n",
              "      <th>...</th>\n",
              "      <td>...</td>\n",
              "      <td>...</td>\n",
              "      <td>...</td>\n",
              "      <td>...</td>\n",
              "      <td>...</td>\n",
              "      <td>...</td>\n",
              "      <td>...</td>\n",
              "      <td>...</td>\n",
              "      <td>...</td>\n",
              "      <td>...</td>\n",
              "      <td>...</td>\n",
              "      <td>...</td>\n",
              "      <td>...</td>\n",
              "      <td>...</td>\n",
              "      <td>...</td>\n",
              "      <td>...</td>\n",
              "      <td>...</td>\n",
              "      <td>...</td>\n",
              "    </tr>\n",
              "    <tr>\n",
              "      <th>319789</th>\n",
              "      <td>Yes</td>\n",
              "      <td>27.41</td>\n",
              "      <td>Yes</td>\n",
              "      <td>No</td>\n",
              "      <td>No</td>\n",
              "      <td>7</td>\n",
              "      <td>0</td>\n",
              "      <td>Yes</td>\n",
              "      <td>Male</td>\n",
              "      <td>60-64</td>\n",
              "      <td>Hispanic</td>\n",
              "      <td>Yes</td>\n",
              "      <td>No</td>\n",
              "      <td>Fair</td>\n",
              "      <td>6.0</td>\n",
              "      <td>Yes</td>\n",
              "      <td>No</td>\n",
              "      <td>No</td>\n",
              "    </tr>\n",
              "    <tr>\n",
              "      <th>319790</th>\n",
              "      <td>No</td>\n",
              "      <td>29.84</td>\n",
              "      <td>Yes</td>\n",
              "      <td>No</td>\n",
              "      <td>No</td>\n",
              "      <td>0</td>\n",
              "      <td>0</td>\n",
              "      <td>No</td>\n",
              "      <td>Male</td>\n",
              "      <td>35-39</td>\n",
              "      <td>Hispanic</td>\n",
              "      <td>No</td>\n",
              "      <td>Yes</td>\n",
              "      <td>Very good</td>\n",
              "      <td>5.0</td>\n",
              "      <td>Yes</td>\n",
              "      <td>No</td>\n",
              "      <td>No</td>\n",
              "    </tr>\n",
              "    <tr>\n",
              "      <th>319791</th>\n",
              "      <td>No</td>\n",
              "      <td>24.24</td>\n",
              "      <td>No</td>\n",
              "      <td>No</td>\n",
              "      <td>No</td>\n",
              "      <td>0</td>\n",
              "      <td>0</td>\n",
              "      <td>No</td>\n",
              "      <td>Female</td>\n",
              "      <td>45-49</td>\n",
              "      <td>Hispanic</td>\n",
              "      <td>No</td>\n",
              "      <td>Yes</td>\n",
              "      <td>Good</td>\n",
              "      <td>6.0</td>\n",
              "      <td>No</td>\n",
              "      <td>No</td>\n",
              "      <td>No</td>\n",
              "    </tr>\n",
              "    <tr>\n",
              "      <th>319792</th>\n",
              "      <td>No</td>\n",
              "      <td>32.81</td>\n",
              "      <td>No</td>\n",
              "      <td>No</td>\n",
              "      <td>No</td>\n",
              "      <td>0</td>\n",
              "      <td>0</td>\n",
              "      <td>No</td>\n",
              "      <td>Female</td>\n",
              "      <td>25-29</td>\n",
              "      <td>Hispanic</td>\n",
              "      <td>No</td>\n",
              "      <td>No</td>\n",
              "      <td>Good</td>\n",
              "      <td>12.0</td>\n",
              "      <td>No</td>\n",
              "      <td>No</td>\n",
              "      <td>No</td>\n",
              "    </tr>\n",
              "    <tr>\n",
              "      <th>319793</th>\n",
              "      <td>No</td>\n",
              "      <td>NaN</td>\n",
              "      <td>No</td>\n",
              "      <td>No</td>\n",
              "      <td>No</td>\n",
              "      <td>0</td>\n",
              "      <td>0</td>\n",
              "      <td>No</td>\n",
              "      <td>Female</td>\n",
              "      <td>80 or older</td>\n",
              "      <td>Hispanic</td>\n",
              "      <td>No</td>\n",
              "      <td>Yes</td>\n",
              "      <td>Good</td>\n",
              "      <td>8.0</td>\n",
              "      <td>No</td>\n",
              "      <td>No</td>\n",
              "      <td>No</td>\n",
              "    </tr>\n",
              "  </tbody>\n",
              "</table>\n",
              "<p>319794 rows × 18 columns</p>\n",
              "</div>"
            ],
            "text/plain": [
              "       HeartDisease    BMI Smoking AlcoholDrinking Stroke  PhysicalHealth  \\\n",
              "0                No  16.60     Yes              No     No               3   \n",
              "1                No  20.34      No              No    Yes               0   \n",
              "2                No    NaN     Yes              No     No              20   \n",
              "3                No  24.21      No              No     No               0   \n",
              "4                No  23.71      No              No     No              28   \n",
              "...             ...    ...     ...             ...    ...             ...   \n",
              "319789          Yes  27.41     Yes              No     No               7   \n",
              "319790           No  29.84     Yes              No     No               0   \n",
              "319791           No  24.24      No              No     No               0   \n",
              "319792           No  32.81      No              No     No               0   \n",
              "319793           No    NaN      No              No     No               0   \n",
              "\n",
              "        MentalHealth DiffWalking     Sex  AgeCategory      Race Diabetic  \\\n",
              "0                 30          No  Female        55-59     White      Yes   \n",
              "1                  0          No  Female  80 or older     White       No   \n",
              "2                 30          No    Male        65-69     White      Yes   \n",
              "3                  0          No  Female        75-79     White       No   \n",
              "4                  0         Yes  Female        40-44     White       No   \n",
              "...              ...         ...     ...          ...       ...      ...   \n",
              "319789             0         Yes    Male        60-64  Hispanic      Yes   \n",
              "319790             0          No    Male        35-39  Hispanic       No   \n",
              "319791             0          No  Female        45-49  Hispanic       No   \n",
              "319792             0          No  Female        25-29  Hispanic       No   \n",
              "319793             0          No  Female  80 or older  Hispanic       No   \n",
              "\n",
              "       PhysicalActivity  GenHealth  SleepTime Asthma KidneyDisease SkinCancer  \n",
              "0                   Yes  Very good        5.0    Yes            No        Yes  \n",
              "1                   Yes  Very good        7.0     No            No        NaN  \n",
              "2                   Yes       Fair        8.0    Yes            No         No  \n",
              "3                    No       Good        6.0     No            No        Yes  \n",
              "4                   Yes  Very good        8.0     No            No         No  \n",
              "...                 ...        ...        ...    ...           ...        ...  \n",
              "319789               No       Fair        6.0    Yes            No         No  \n",
              "319790              Yes  Very good        5.0    Yes            No         No  \n",
              "319791              Yes       Good        6.0     No            No         No  \n",
              "319792               No       Good       12.0     No            No         No  \n",
              "319793              Yes       Good        8.0     No            No         No  \n",
              "\n",
              "[319794 rows x 18 columns]"
            ]
          },
          "execution_count": 56,
          "metadata": {},
          "output_type": "execute_result"
        }
      ],
      "source": [
        "df = pd.read_csv(\"heart_disease_dir.csv\")\n",
        "df"
      ]
    },
    {
      "cell_type": "markdown",
      "id": "dee03f3e",
      "metadata": {
        "id": "dee03f3e"
      },
      "source": [
        "## Dataset Overview"
      ]
    },
    {
      "cell_type": "markdown",
      "id": "e5ccca44-647d-41f4-8c55-6c4e47d9088b",
      "metadata": {
        "id": "e5ccca44-647d-41f4-8c55-6c4e47d9088b"
      },
      "source": [
        "\n",
        "\n",
        "### **🔹 Heart Disease Dataset — Feature Explanations**\n",
        "\n",
        "| **Feature**          | **Type**    | **Example Values**    | **Meaning / Description**                                                 | **Importance for Analysis**                                  |\n",
        "| -------------------- | ----------- | --------------------- | ------------------------------------------------------------------------- | ------------------------------------------------------------ |\n",
        "| **HeartDisease**     | Categorical | Yes / No              | Whether the person **has heart disease** or not                           | **Target variable** – we predict/analyze this                |\n",
        "| **BMI**              | Numerical   | 22.5, 28.7, 35.1      | **Body Mass Index** → weight vs height                                    | High/low BMI can increase heart risk                         |\n",
        "| **Smoking**          | Categorical | Yes / No              | Whether the person **smokes** regularly                                   | Strong lifestyle risk factor                                 |\n",
        "| **AlcoholDrinking**  | Categorical | Yes / No              | If the person **drinks alcohol heavily**                                  | Excessive drinking can increase risk                         |\n",
        "| **Stroke**           | Categorical | Yes / No              | If the person **has ever had a stroke**                                   | Stroke history strongly linked to heart disease              |\n",
        "| **PhysicalHealth**   | Numerical   | 0, 5, 15, 30          | **Number of days in the past 30** the person had **poor physical health** | High values → poor overall health → higher risk              |\n",
        "| **MentalHealth**     | Numerical   | 0, 10, 20             | **Number of days in the past 30** with **poor mental health**             | Stress & depression are linked to heart problems             |\n",
        "| **DiffWalking**      | Categorical | Yes / No              | Difficulty **walking or climbing stairs**                                 | Physical limitations → higher risk                           |\n",
        "| **Sex**              | Categorical | Male / Female         | Biological sex of the person                                              | Men often have higher early risk, women later in life        |\n",
        "| **AgeCategory**      | Categorical | 18-24, 45-49, 80+     | Person’s **age group**                                                    | Older people have **much higher risk**                       |\n",
        "| **Race**             | Categorical | White, Black, Asian   | Ethnicity of the person                                                   | Certain groups may have genetic or lifestyle risks           |\n",
        "| **Diabetic**         | Categorical | Yes, No, Borderline   | Whether the person **has diabetes**                                       | One of the strongest risk factors                            |\n",
        "| **PhysicalActivity** | Categorical | Yes / No              | Whether the person exercises regularly                                    | Less activity → higher heart disease probability             |\n",
        "| **GenHealth**        | Categorical | Excellent, Good, Poor | Self-reported **general health status**                                   | Strong predictor – poor health = higher heart disease        |\n",
        "| **SleepTime**        | Numerical   | 4, 6, 8, 10           | **Average hours of sleep per day**                                        | Both **too little** and **too much** sleep can increase risk |\n",
        "| **Asthma**           | Categorical | Yes / No              | If the person has asthma                                                  | Sometimes related to heart/lung conditions                   |\n",
        "| **KidneyDisease**    | Categorical | Yes / No              | If the person has chronic kidney disease                                  | High correlation – kidney issues often affect heart          |\n",
        "| **SkinCancer**       | Categorical | Yes / No              | If the person has skin cancer                                             | Less direct, but can relate to overall health patterns       |\n",
        "\n",
        "---\n"
      ]
    },
    {
      "cell_type": "code",
      "execution_count": null,
      "id": "7000896e",
      "metadata": {
        "id": "7000896e",
        "outputId": "b23ba006-7294-49e1-bb61-1e7589f91bfa"
      },
      "outputs": [
        {
          "name": "stdout",
          "output_type": "stream",
          "text": [
            "<class 'pandas.core.frame.DataFrame'>\n",
            "RangeIndex: 319794 entries, 0 to 319793\n",
            "Data columns (total 18 columns):\n",
            " #   Column            Non-Null Count   Dtype  \n",
            "---  ------            --------------   -----  \n",
            " 0   HeartDisease      319794 non-null  object \n",
            " 1   BMI               287815 non-null  float64\n",
            " 2   Smoking           319794 non-null  object \n",
            " 3   AlcoholDrinking   319794 non-null  object \n",
            " 4   Stroke            319794 non-null  object \n",
            " 5   PhysicalHealth    319794 non-null  int64  \n",
            " 6   MentalHealth      319794 non-null  int64  \n",
            " 7   DiffWalking       319794 non-null  object \n",
            " 8   Sex               319794 non-null  object \n",
            " 9   AgeCategory       319794 non-null  object \n",
            " 10  Race              319794 non-null  object \n",
            " 11  Diabetic          319794 non-null  object \n",
            " 12  PhysicalActivity  319794 non-null  object \n",
            " 13  GenHealth         319794 non-null  object \n",
            " 14  SleepTime         310201 non-null  float64\n",
            " 15  Asthma            319794 non-null  object \n",
            " 16  KidneyDisease     319794 non-null  object \n",
            " 17  SkinCancer        297409 non-null  object \n",
            "dtypes: float64(2), int64(2), object(14)\n",
            "memory usage: 43.9+ MB\n"
          ]
        }
      ],
      "source": [
        "# General information\n",
        "df.info()"
      ]
    },
    {
      "cell_type": "code",
      "execution_count": null,
      "id": "869e6b06-0d9f-4b63-b35f-6e4e9d4ebec8",
      "metadata": {
        "id": "869e6b06-0d9f-4b63-b35f-6e4e9d4ebec8",
        "outputId": "f858ff9d-c2e1-4e6a-9610-0d709b8ef545"
      },
      "outputs": [
        {
          "name": "stdout",
          "output_type": "stream",
          "text": [
            "\n",
            "Dataset Shape: (319794, 18)\n"
          ]
        }
      ],
      "source": [
        "print(\"\\nDataset Shape:\", df.shape)"
      ]
    },
    {
      "cell_type": "markdown",
      "id": "45733b1e",
      "metadata": {
        "id": "45733b1e"
      },
      "source": [
        "## Check Missing Values"
      ]
    },
    {
      "cell_type": "code",
      "execution_count": null,
      "id": "00c3cb30",
      "metadata": {
        "id": "00c3cb30",
        "outputId": "715107a1-ecd6-47e8-a46f-1ebaa339bab0"
      },
      "outputs": [
        {
          "data": {
            "text/plain": [
              "HeartDisease            0\n",
              "BMI                 31979\n",
              "Smoking                 0\n",
              "AlcoholDrinking         0\n",
              "Stroke                  0\n",
              "PhysicalHealth          0\n",
              "MentalHealth            0\n",
              "DiffWalking             0\n",
              "Sex                     0\n",
              "AgeCategory             0\n",
              "Race                    0\n",
              "Diabetic                0\n",
              "PhysicalActivity        0\n",
              "GenHealth               0\n",
              "SleepTime            9593\n",
              "Asthma                  0\n",
              "KidneyDisease           0\n",
              "SkinCancer          22385\n",
              "dtype: int64"
            ]
          },
          "execution_count": 5,
          "metadata": {},
          "output_type": "execute_result"
        }
      ],
      "source": [
        "df.isnull().sum()"
      ]
    },
    {
      "cell_type": "markdown",
      "id": "a505b1a3",
      "metadata": {
        "id": "a505b1a3"
      },
      "source": [
        "## **🔹 Analytical Question**\n",
        "\n",
        "> **\"What percentage of people in the dataset have heart disease versus those who do not?\"**\n",
        ">    ** نسبة انتشار مرض القلب **\n",
        "\n"
      ]
    },
    {
      "cell_type": "markdown",
      "id": "f61d1995-3aa9-40d1-b70e-133d2d519ca3",
      "metadata": {
        "id": "f61d1995-3aa9-40d1-b70e-133d2d519ca3"
      },
      "source": [
        "### **Step 1 — Count Total People with & without Heart Disease**\n"
      ]
    },
    {
      "cell_type": "code",
      "execution_count": null,
      "id": "9f3b2b18",
      "metadata": {
        "scrolled": true,
        "id": "9f3b2b18",
        "outputId": "b027eb6f-2ee6-4890-ff4b-428816af6275"
      },
      "outputs": [
        {
          "data": {
            "text/plain": [
              "HeartDisease\n",
              "No     292422\n",
              "Yes     27372\n",
              "Name: count, dtype: int64"
            ]
          },
          "execution_count": 6,
          "metadata": {},
          "output_type": "execute_result"
        }
      ],
      "source": [
        "df[\"HeartDisease\"].value_counts()"
      ]
    },
    {
      "cell_type": "markdown",
      "id": "10423719-1a54-4bac-90a2-620497b66963",
      "metadata": {
        "id": "10423719-1a54-4bac-90a2-620497b66963"
      },
      "source": [
        "### **Step 2 — Calculate Percentage Distribution**\n"
      ]
    },
    {
      "cell_type": "code",
      "execution_count": null,
      "id": "b23bfa43-e09d-4caf-aafd-18ec523868a3",
      "metadata": {
        "scrolled": true,
        "id": "b23bfa43-e09d-4caf-aafd-18ec523868a3",
        "outputId": "9caea983-d5d2-4bd0-833a-8696db74f43c"
      },
      "outputs": [
        {
          "data": {
            "text/plain": [
              "HeartDisease\n",
              "No     91.44074\n",
              "Yes     8.55926\n",
              "Name: proportion, dtype: float64"
            ]
          },
          "execution_count": 9,
          "metadata": {},
          "output_type": "execute_result"
        }
      ],
      "source": [
        "df[\"HeartDisease\"].value_counts(normalize=True) * 100"
      ]
    },
    {
      "cell_type": "markdown",
      "id": "85ba6e27-e074-40bf-993b-770725b9443f",
      "metadata": {
        "id": "85ba6e27-e074-40bf-993b-770725b9443f"
      },
      "source": [
        "### **Step 4 — Insights**\n",
        "\n",
        "* Out of **319,794 people**,\n",
        "  **27,372 people (\\~8.56%)** reported **having heart disease**.\n",
        "* **292,422 people (\\~91.44%)** reported **no heart disease**.\n",
        "* This indicates that **heart disease is relatively less common** in this dataset.\n",
        "* However, **8.5%** is still significant → we should analyze **risk factors** contributing to these cases.\n",
        "\n",
        "---\n",
        "\n",
        "## **Next Step**\n",
        "  > \"Which factors contribute most to heart disease?\""
      ]
    },
    {
      "cell_type": "markdown",
      "id": "6a2d64a5-86d0-4b66-bd01-0283cbd0b613",
      "metadata": {
        "id": "6a2d64a5-86d0-4b66-bd01-0283cbd0b613"
      },
      "source": [
        "\n",
        "\n",
        "## **🔹 Analysis of Gender & Diabetes Impact on Heart Disease**\n",
        "\n",
        "\n",
        "### **Q1 — How many males vs. females are in the dataset?**\n"
      ]
    },
    {
      "cell_type": "code",
      "execution_count": null,
      "id": "66830d48-5ef2-4ec2-8552-e30a7ebfc55e",
      "metadata": {
        "id": "66830d48-5ef2-4ec2-8552-e30a7ebfc55e",
        "outputId": "72a66010-1f54-407f-e1f9-d99d3d2606ab"
      },
      "outputs": [
        {
          "data": {
            "text/plain": [
              "(319794, 18)"
            ]
          },
          "execution_count": 10,
          "metadata": {},
          "output_type": "execute_result"
        }
      ],
      "source": [
        "df.shape"
      ]
    },
    {
      "cell_type": "code",
      "execution_count": null,
      "id": "6b806e77-38eb-4935-a9c5-6150cf3679d5",
      "metadata": {
        "scrolled": true,
        "id": "6b806e77-38eb-4935-a9c5-6150cf3679d5",
        "outputId": "080f26ee-71c9-4434-93ba-7edd0d1316de"
      },
      "outputs": [
        {
          "data": {
            "text/plain": [
              "Sex\n",
              "Female    167804\n",
              "Male      151990\n",
              "Name: count, dtype: int64"
            ]
          },
          "execution_count": 11,
          "metadata": {},
          "output_type": "execute_result"
        }
      ],
      "source": [
        "# Count number of males and females\n",
        "df[\"Sex\"].value_counts()"
      ]
    },
    {
      "cell_type": "code",
      "execution_count": null,
      "id": "cf62fe13-36e1-4337-8da0-eb5c36d54d23",
      "metadata": {
        "id": "cf62fe13-36e1-4337-8da0-eb5c36d54d23",
        "outputId": "389c9ee1-be1c-4552-bb34-052b8429af5d"
      },
      "outputs": [
        {
          "data": {
            "text/plain": [
              "Sex\n",
              "Female    52.472529\n",
              "Male      47.527471\n",
              "Name: proportion, dtype: float64"
            ]
          },
          "execution_count": 12,
          "metadata": {},
          "output_type": "execute_result"
        }
      ],
      "source": [
        "df[\"Sex\"].value_counts(normalize=True) * 100 # 167804 / 319794"
      ]
    },
    {
      "cell_type": "markdown",
      "id": "132db21c-9e44-4ed6-9cdf-dc3ec7e0ff5b",
      "metadata": {
        "id": "132db21c-9e44-4ed6-9cdf-dc3ec7e0ff5b"
      },
      "source": [
        "\n",
        "### **Insight**\n",
        "\n",
        "* There are **167,804 females** (**52.47%**) and **151,990 males** (**47.53%**).\n",
        "* The dataset is slightly **female-dominant**.\n",
        "\n",
        "### **Insight**\n",
        "\n",
        "* **52.47%** of participants are **female**.\n",
        "* **47.53%** are **male**.\n",
        "* There's no huge gender imbalance, so analysis won't be biased."
      ]
    },
    {
      "cell_type": "markdown",
      "id": "d85f06c9",
      "metadata": {
        "id": "d85f06c9"
      },
      "source": [
        "### **Q3 — How does gender affect the likelihood of heart disease?**"
      ]
    },
    {
      "cell_type": "code",
      "execution_count": null,
      "id": "eb406319",
      "metadata": {
        "scrolled": true,
        "id": "eb406319",
        "outputId": "adebd333-0da2-4aae-a52c-eb66ced71661"
      },
      "outputs": [
        {
          "data": {
            "text/html": [
              "<div>\n",
              "<style scoped>\n",
              "    .dataframe tbody tr th:only-of-type {\n",
              "        vertical-align: middle;\n",
              "    }\n",
              "\n",
              "    .dataframe tbody tr th {\n",
              "        vertical-align: top;\n",
              "    }\n",
              "\n",
              "    .dataframe thead th {\n",
              "        text-align: right;\n",
              "    }\n",
              "</style>\n",
              "<table border=\"1\" class=\"dataframe\">\n",
              "  <thead>\n",
              "    <tr style=\"text-align: right;\">\n",
              "      <th>HeartDisease</th>\n",
              "      <th>No</th>\n",
              "      <th>Yes</th>\n",
              "    </tr>\n",
              "    <tr>\n",
              "      <th>Sex</th>\n",
              "      <th></th>\n",
              "      <th></th>\n",
              "    </tr>\n",
              "  </thead>\n",
              "  <tbody>\n",
              "    <tr>\n",
              "      <th>Female</th>\n",
              "      <td>156571</td>\n",
              "      <td>11233</td>\n",
              "    </tr>\n",
              "    <tr>\n",
              "      <th>Male</th>\n",
              "      <td>135851</td>\n",
              "      <td>16139</td>\n",
              "    </tr>\n",
              "  </tbody>\n",
              "</table>\n",
              "</div>"
            ],
            "text/plain": [
              "HeartDisease      No    Yes\n",
              "Sex                        \n",
              "Female        156571  11233\n",
              "Male          135851  16139"
            ]
          },
          "execution_count": 14,
          "metadata": {},
          "output_type": "execute_result"
        }
      ],
      "source": [
        "df.groupby([\"Sex\", \"HeartDisease\"]).size().unstack()"
      ]
    },
    {
      "cell_type": "markdown",
      "id": "6905b0c6-035b-41ba-9c69-dc5ca0573c4c",
      "metadata": {
        "id": "6905b0c6-035b-41ba-9c69-dc5ca0573c4c"
      },
      "source": [
        "\n",
        "\n",
        "#### **Analysis**\n",
        "\n",
        "Let's calculate heart disease prevalence per gender:\n",
        "\n",
        "* **Females** → `11,233 / 167,804 ≈ 6.7%`\n",
        "* **Males** → `16,139 / 151,990 ≈ 10.6%`\n",
        "\n",
        "#### **Insight**\n",
        "\n",
        "* **Males** are **1.6x more likely** to have heart disease compared to **females**.\n",
        "* Gender seems to be an **important risk factor**."
      ]
    },
    {
      "cell_type": "markdown",
      "id": "aba350e9-31a7-4e8e-a65d-d025492775ea",
      "metadata": {
        "id": "aba350e9-31a7-4e8e-a65d-d025492775ea"
      },
      "source": [
        "### **Q4 — Does diabetes increase the risk of heart disease?**"
      ]
    },
    {
      "cell_type": "code",
      "execution_count": null,
      "id": "40e73d35-934e-4b0b-8a62-ee3d4a62ff7f",
      "metadata": {
        "id": "40e73d35-934e-4b0b-8a62-ee3d4a62ff7f",
        "outputId": "36c25ec3-0d58-4d85-ad10-4e141afd96e2"
      },
      "outputs": [
        {
          "data": {
            "text/html": [
              "<div>\n",
              "<style scoped>\n",
              "    .dataframe tbody tr th:only-of-type {\n",
              "        vertical-align: middle;\n",
              "    }\n",
              "\n",
              "    .dataframe tbody tr th {\n",
              "        vertical-align: top;\n",
              "    }\n",
              "\n",
              "    .dataframe thead th {\n",
              "        text-align: right;\n",
              "    }\n",
              "</style>\n",
              "<table border=\"1\" class=\"dataframe\">\n",
              "  <thead>\n",
              "    <tr style=\"text-align: right;\">\n",
              "      <th>HeartDisease</th>\n",
              "      <th>No</th>\n",
              "      <th>Yes</th>\n",
              "    </tr>\n",
              "    <tr>\n",
              "      <th>Diabetic</th>\n",
              "      <th></th>\n",
              "      <th></th>\n",
              "    </tr>\n",
              "  </thead>\n",
              "  <tbody>\n",
              "    <tr>\n",
              "      <th>No</th>\n",
              "      <td>252134</td>\n",
              "      <td>17519</td>\n",
              "    </tr>\n",
              "    <tr>\n",
              "      <th>No, borderline diabetes</th>\n",
              "      <td>5992</td>\n",
              "      <td>789</td>\n",
              "    </tr>\n",
              "    <tr>\n",
              "      <th>Yes</th>\n",
              "      <td>31845</td>\n",
              "      <td>8956</td>\n",
              "    </tr>\n",
              "    <tr>\n",
              "      <th>Yes (during pregnancy)</th>\n",
              "      <td>2451</td>\n",
              "      <td>108</td>\n",
              "    </tr>\n",
              "  </tbody>\n",
              "</table>\n",
              "</div>"
            ],
            "text/plain": [
              "HeartDisease                 No    Yes\n",
              "Diabetic                              \n",
              "No                       252134  17519\n",
              "No, borderline diabetes    5992    789\n",
              "Yes                       31845   8956\n",
              "Yes (during pregnancy)     2451    108"
            ]
          },
          "execution_count": 15,
          "metadata": {},
          "output_type": "execute_result"
        }
      ],
      "source": [
        "df.groupby([\"Diabetic\", \"HeartDisease\"]).size().unstack()"
      ]
    },
    {
      "cell_type": "markdown",
      "id": "d63142d0-1876-45aa-b757-94674e9286b7",
      "metadata": {
        "id": "d63142d0-1876-45aa-b757-94674e9286b7"
      },
      "source": [
        "\n",
        "### **Insight**\n",
        "\n",
        "* People **without diabetes** → only **6.5%** have heart disease.\n",
        "* People **with diabetes** → almost **22%** have heart disease.\n",
        "* Diabetes increases the risk of heart disease by **\\~3.4x**.\n",
        "* Even **borderline diabetes** doubles the risk.\n",
        "\n",
        "---\n",
        "\n",
        "### **Final Key Insights**\n",
        "\n",
        "1. **Gender effect**:\n",
        "\n",
        "   * Males: **10.6%** heart disease rate\n",
        "   * Females: **6.7%**\n",
        "     ➝ **Males are at higher risk**.\n",
        "2. **Diabetes effect**:\n",
        "\n",
        "   * Diabetics: **22%** risk\n",
        "   * Non-diabetics: **6.5%**\n",
        "     ➝ **Diabetes is a major risk factor**.\n",
        "3. These two variables (**Sex** + **Diabetic**) are **strong predictors** for heart disease.\n",
        "\n",
        "---"
      ]
    },
    {
      "cell_type": "markdown",
      "id": "d466626e-1214-4d8d-94d9-2471bd922ebd",
      "metadata": {
        "id": "d466626e-1214-4d8d-94d9-2471bd922ebd"
      },
      "source": [
        "### **🔹 Analytical Question**\n",
        "\n",
        "> **\"Our dataset is imbalanced: 91% ‘No’ vs 9% ‘Yes’. How can we balance it to improve analysis accuracy?\"**\n",
        "\n",
        "We want to **down-sample** the **majority class** (\"No\") to **reduce bias** and get **more accurate insights** when analyzing features affecting **HeartDisease**.\n",
        "\n",
        "---\n",
        "\n",
        "## **Step 1 — Separate Positive & Negative Cases**\n",
        "\n",
        "### **Explanation**\n",
        "\n",
        "* `df_yes` → all people who **have heart disease**.\n",
        "* `df_no` → all people who **do not have heart disease**."
      ]
    },
    {
      "cell_type": "code",
      "execution_count": null,
      "id": "ea9c1a67-fbef-4ab0-82b1-caa2fb50d77d",
      "metadata": {
        "id": "ea9c1a67-fbef-4ab0-82b1-caa2fb50d77d"
      },
      "outputs": [],
      "source": [
        "# Separate \"Yes\" and \"No\" cases\n",
        "df_yes = df[df[\"HeartDisease\"] == \"Yes\"]\n",
        "df_no = df[df[\"HeartDisease\"] == \"No\"]"
      ]
    },
    {
      "cell_type": "code",
      "execution_count": null,
      "id": "1af12256-b611-4ac3-9cb1-7ba83145f88c",
      "metadata": {
        "id": "1af12256-b611-4ac3-9cb1-7ba83145f88c",
        "outputId": "e84aa063-1a46-4f07-fbf1-1b9788edf38c"
      },
      "outputs": [
        {
          "data": {
            "text/html": [
              "<div>\n",
              "<style scoped>\n",
              "    .dataframe tbody tr th:only-of-type {\n",
              "        vertical-align: middle;\n",
              "    }\n",
              "\n",
              "    .dataframe tbody tr th {\n",
              "        vertical-align: top;\n",
              "    }\n",
              "\n",
              "    .dataframe thead th {\n",
              "        text-align: right;\n",
              "    }\n",
              "</style>\n",
              "<table border=\"1\" class=\"dataframe\">\n",
              "  <thead>\n",
              "    <tr style=\"text-align: right;\">\n",
              "      <th></th>\n",
              "      <th>HeartDisease</th>\n",
              "      <th>BMI</th>\n",
              "      <th>Smoking</th>\n",
              "      <th>AlcoholDrinking</th>\n",
              "      <th>Stroke</th>\n",
              "      <th>PhysicalHealth</th>\n",
              "      <th>MentalHealth</th>\n",
              "      <th>DiffWalking</th>\n",
              "      <th>Sex</th>\n",
              "      <th>AgeCategory</th>\n",
              "      <th>Race</th>\n",
              "      <th>Diabetic</th>\n",
              "      <th>PhysicalActivity</th>\n",
              "      <th>GenHealth</th>\n",
              "      <th>SleepTime</th>\n",
              "      <th>Asthma</th>\n",
              "      <th>KidneyDisease</th>\n",
              "      <th>SkinCancer</th>\n",
              "    </tr>\n",
              "  </thead>\n",
              "  <tbody>\n",
              "    <tr>\n",
              "      <th>5</th>\n",
              "      <td>Yes</td>\n",
              "      <td>28.87</td>\n",
              "      <td>Yes</td>\n",
              "      <td>No</td>\n",
              "      <td>No</td>\n",
              "      <td>6</td>\n",
              "      <td>0</td>\n",
              "      <td>Yes</td>\n",
              "      <td>Female</td>\n",
              "      <td>75-79</td>\n",
              "      <td>Black</td>\n",
              "      <td>No</td>\n",
              "      <td>No</td>\n",
              "      <td>Fair</td>\n",
              "      <td>12.0</td>\n",
              "      <td>No</td>\n",
              "      <td>No</td>\n",
              "      <td>NaN</td>\n",
              "    </tr>\n",
              "    <tr>\n",
              "      <th>10</th>\n",
              "      <td>Yes</td>\n",
              "      <td>34.30</td>\n",
              "      <td>Yes</td>\n",
              "      <td>No</td>\n",
              "      <td>No</td>\n",
              "      <td>30</td>\n",
              "      <td>0</td>\n",
              "      <td>Yes</td>\n",
              "      <td>Male</td>\n",
              "      <td>60-64</td>\n",
              "      <td>White</td>\n",
              "      <td>Yes</td>\n",
              "      <td>No</td>\n",
              "      <td>Poor</td>\n",
              "      <td>15.0</td>\n",
              "      <td>Yes</td>\n",
              "      <td>No</td>\n",
              "      <td>No</td>\n",
              "    </tr>\n",
              "  </tbody>\n",
              "</table>\n",
              "</div>"
            ],
            "text/plain": [
              "   HeartDisease    BMI Smoking AlcoholDrinking Stroke  PhysicalHealth  \\\n",
              "5           Yes  28.87     Yes              No     No               6   \n",
              "10          Yes  34.30     Yes              No     No              30   \n",
              "\n",
              "    MentalHealth DiffWalking     Sex AgeCategory   Race Diabetic  \\\n",
              "5              0         Yes  Female       75-79  Black       No   \n",
              "10             0         Yes    Male       60-64  White      Yes   \n",
              "\n",
              "   PhysicalActivity GenHealth  SleepTime Asthma KidneyDisease SkinCancer  \n",
              "5                No      Fair       12.0     No            No        NaN  \n",
              "10               No      Poor       15.0    Yes            No         No  "
            ]
          },
          "execution_count": 17,
          "metadata": {},
          "output_type": "execute_result"
        }
      ],
      "source": [
        "df_yes.head(2)"
      ]
    },
    {
      "cell_type": "code",
      "execution_count": null,
      "id": "17bb2257-563e-4337-94af-ba0ab26043b9",
      "metadata": {
        "id": "17bb2257-563e-4337-94af-ba0ab26043b9",
        "outputId": "1666e867-45bc-43a0-808e-601cbb357f2f"
      },
      "outputs": [
        {
          "data": {
            "text/plain": [
              "(27372, 18)"
            ]
          },
          "execution_count": 18,
          "metadata": {},
          "output_type": "execute_result"
        }
      ],
      "source": [
        "df_yes.shape"
      ]
    },
    {
      "cell_type": "code",
      "execution_count": null,
      "id": "d91a2c09-43d3-43f3-976e-70f5a725d03e",
      "metadata": {
        "scrolled": true,
        "id": "d91a2c09-43d3-43f3-976e-70f5a725d03e",
        "outputId": "d5c5aed8-059b-4a6b-9899-ab456c33b3b3"
      },
      "outputs": [
        {
          "data": {
            "text/html": [
              "<div>\n",
              "<style scoped>\n",
              "    .dataframe tbody tr th:only-of-type {\n",
              "        vertical-align: middle;\n",
              "    }\n",
              "\n",
              "    .dataframe tbody tr th {\n",
              "        vertical-align: top;\n",
              "    }\n",
              "\n",
              "    .dataframe thead th {\n",
              "        text-align: right;\n",
              "    }\n",
              "</style>\n",
              "<table border=\"1\" class=\"dataframe\">\n",
              "  <thead>\n",
              "    <tr style=\"text-align: right;\">\n",
              "      <th></th>\n",
              "      <th>HeartDisease</th>\n",
              "      <th>BMI</th>\n",
              "      <th>Smoking</th>\n",
              "      <th>AlcoholDrinking</th>\n",
              "      <th>Stroke</th>\n",
              "      <th>PhysicalHealth</th>\n",
              "      <th>MentalHealth</th>\n",
              "      <th>DiffWalking</th>\n",
              "      <th>Sex</th>\n",
              "      <th>AgeCategory</th>\n",
              "      <th>Race</th>\n",
              "      <th>Diabetic</th>\n",
              "      <th>PhysicalActivity</th>\n",
              "      <th>GenHealth</th>\n",
              "      <th>SleepTime</th>\n",
              "      <th>Asthma</th>\n",
              "      <th>KidneyDisease</th>\n",
              "      <th>SkinCancer</th>\n",
              "    </tr>\n",
              "  </thead>\n",
              "  <tbody>\n",
              "    <tr>\n",
              "      <th>0</th>\n",
              "      <td>No</td>\n",
              "      <td>16.60</td>\n",
              "      <td>Yes</td>\n",
              "      <td>No</td>\n",
              "      <td>No</td>\n",
              "      <td>3</td>\n",
              "      <td>30</td>\n",
              "      <td>No</td>\n",
              "      <td>Female</td>\n",
              "      <td>55-59</td>\n",
              "      <td>White</td>\n",
              "      <td>Yes</td>\n",
              "      <td>Yes</td>\n",
              "      <td>Very good</td>\n",
              "      <td>5.0</td>\n",
              "      <td>Yes</td>\n",
              "      <td>No</td>\n",
              "      <td>Yes</td>\n",
              "    </tr>\n",
              "    <tr>\n",
              "      <th>1</th>\n",
              "      <td>No</td>\n",
              "      <td>20.34</td>\n",
              "      <td>No</td>\n",
              "      <td>No</td>\n",
              "      <td>Yes</td>\n",
              "      <td>0</td>\n",
              "      <td>0</td>\n",
              "      <td>No</td>\n",
              "      <td>Female</td>\n",
              "      <td>80 or older</td>\n",
              "      <td>White</td>\n",
              "      <td>No</td>\n",
              "      <td>Yes</td>\n",
              "      <td>Very good</td>\n",
              "      <td>7.0</td>\n",
              "      <td>No</td>\n",
              "      <td>No</td>\n",
              "      <td>NaN</td>\n",
              "    </tr>\n",
              "  </tbody>\n",
              "</table>\n",
              "</div>"
            ],
            "text/plain": [
              "  HeartDisease    BMI Smoking AlcoholDrinking Stroke  PhysicalHealth  \\\n",
              "0           No  16.60     Yes              No     No               3   \n",
              "1           No  20.34      No              No    Yes               0   \n",
              "\n",
              "   MentalHealth DiffWalking     Sex  AgeCategory   Race Diabetic  \\\n",
              "0            30          No  Female        55-59  White      Yes   \n",
              "1             0          No  Female  80 or older  White       No   \n",
              "\n",
              "  PhysicalActivity  GenHealth  SleepTime Asthma KidneyDisease SkinCancer  \n",
              "0              Yes  Very good        5.0    Yes            No        Yes  \n",
              "1              Yes  Very good        7.0     No            No        NaN  "
            ]
          },
          "execution_count": 19,
          "metadata": {},
          "output_type": "execute_result"
        }
      ],
      "source": [
        "df_no.head(2)"
      ]
    },
    {
      "cell_type": "code",
      "execution_count": null,
      "id": "b701da7a-40bf-4e56-a49f-1fb377865180",
      "metadata": {
        "id": "b701da7a-40bf-4e56-a49f-1fb377865180",
        "outputId": "9cd4ccdb-4cc3-4f7b-d3bc-49ae7343df8e"
      },
      "outputs": [
        {
          "data": {
            "text/plain": [
              "(292422, 18)"
            ]
          },
          "execution_count": 20,
          "metadata": {},
          "output_type": "execute_result"
        }
      ],
      "source": [
        "df_no.shape"
      ]
    },
    {
      "cell_type": "markdown",
      "id": "0ea00698-19d4-4453-8cc5-0b28462fb021",
      "metadata": {
        "id": "0ea00698-19d4-4453-8cc5-0b28462fb021"
      },
      "source": [
        "\n",
        "#### **Step 2 — Down-Sample the Majority Class (\"No\")**\n",
        "\n",
        "#### **Explanation**\n",
        "\n",
        "* Since we have **27,372 people with heart disease** (`Yes`),\n",
        "  we randomly **pick the same number** of `No` cases → **27,372**.\n",
        "* `random_state=42` ensures **reproducibility** (same result every time).\n"
      ]
    },
    {
      "cell_type": "code",
      "execution_count": null,
      "id": "8aaf7b7a-01c4-4d5f-aafe-ad72a2313e0c",
      "metadata": {
        "id": "8aaf7b7a-01c4-4d5f-aafe-ad72a2313e0c"
      },
      "outputs": [],
      "source": [
        "# Randomly sample 28,000 rows from \"No\" cases\n",
        "df_no_sampled = df_no.sample(n=27372, random_state=42)  # random_state for reproducibility"
      ]
    },
    {
      "cell_type": "code",
      "execution_count": null,
      "id": "dc17679e-4239-4684-92fa-035a28e0a54a",
      "metadata": {
        "id": "dc17679e-4239-4684-92fa-035a28e0a54a",
        "outputId": "666abc38-2128-4361-ea84-d337cd46596f"
      },
      "outputs": [
        {
          "data": {
            "text/plain": [
              "(27372, 18)"
            ]
          },
          "execution_count": 24,
          "metadata": {},
          "output_type": "execute_result"
        }
      ],
      "source": [
        "df_no_sampled.shape"
      ]
    },
    {
      "cell_type": "markdown",
      "id": "5b36440b-9a2e-4566-9c4b-e66cc9d55cc5",
      "metadata": {
        "id": "5b36440b-9a2e-4566-9c4b-e66cc9d55cc5"
      },
      "source": [
        "#### **Step 3 — Combine Yes + Sampled No Cases**\n",
        "\n",
        "#### **Explanation**\n",
        "\n",
        "* We merge both datasets into **one balanced dataset**.\n",
        "* Now, we have:\n",
        "\n",
        "  * **27,372 Yes cases**\n",
        "  * **27,372 No cases**"
      ]
    },
    {
      "cell_type": "code",
      "execution_count": null,
      "id": "4b5e4b61-70e5-4a32-a6cf-136548596b86",
      "metadata": {
        "id": "4b5e4b61-70e5-4a32-a6cf-136548596b86"
      },
      "outputs": [],
      "source": [
        "# Combine \"Yes\" cases with the reduced \"No\" cases\n",
        "df_balanced = pd.concat([df_yes, df_no_sampled])"
      ]
    },
    {
      "cell_type": "markdown",
      "id": "72794bc5-0e30-483e-875b-2ae11e62a803",
      "metadata": {
        "id": "72794bc5-0e30-483e-875b-2ae11e62a803"
      },
      "source": [
        "#### **Step 4 — Shuffle the Dataset**\n",
        "\n",
        "```python\n",
        "df_balanced = df_balanced.sample(frac=1, random_state=42).reset_index(drop=True)\n",
        "```\n",
        "\n",
        "#### **Explanation**\n",
        "\n",
        "* `frac=1` → shuffle **100%** of the dataset.\n",
        "* Resetting the index (`reset_index(drop=True)`) ensures a **clean sequence**.\n",
        "\n",
        "---"
      ]
    },
    {
      "cell_type": "code",
      "execution_count": null,
      "id": "fa1adea2-0a24-4ee5-b6a0-8922f525f8ac",
      "metadata": {
        "id": "fa1adea2-0a24-4ee5-b6a0-8922f525f8ac"
      },
      "outputs": [],
      "source": [
        "# Shuffle the dataset (optional but recommended)\n",
        "df_balanced = df_balanced.sample(frac=1, random_state=42).reset_index(drop=True)"
      ]
    },
    {
      "cell_type": "markdown",
      "id": "bbd7adb2-bba3-49ff-a58f-78066aa755bd",
      "metadata": {
        "id": "bbd7adb2-bba3-49ff-a58f-78066aa755bd"
      },
      "source": [
        "#### **Step 5 — Verify New Distribution**\n"
      ]
    },
    {
      "cell_type": "code",
      "execution_count": null,
      "id": "001fe23d-0500-4179-af99-596b2d275e99",
      "metadata": {
        "id": "001fe23d-0500-4179-af99-596b2d275e99",
        "outputId": "dd0339c5-06c9-42b6-9703-a8a4373f2583"
      },
      "outputs": [
        {
          "name": "stdout",
          "output_type": "stream",
          "text": [
            "HeartDisease\n",
            "No     27372\n",
            "Yes    27372\n",
            "Name: count, dtype: int64\n",
            "New shape: (54744, 18)\n"
          ]
        }
      ],
      "source": [
        "# Check new distribution\n",
        "print(df_balanced[\"HeartDisease\"].value_counts())\n",
        "print(\"New shape:\", df_balanced.shape)"
      ]
    },
    {
      "cell_type": "markdown",
      "id": "13bd1823-8925-4994-9c67-9ec840e5c7ae",
      "metadata": {
        "id": "13bd1823-8925-4994-9c67-9ec840e5c7ae"
      },
      "source": [
        "#### **🔹 Why Down-Sampling Improves Accuracy**\n",
        "\n",
        "Originally:\n",
        "\n",
        "* **Yes = 27,372 (\\~9%)**\n",
        "* **No = 292,422 (\\~91%)**\n",
        "\n",
        "If we **don’t balance** the dataset:\n",
        "\n",
        "* Models & analysis will **favor \"No\" cases**.\n",
        "* For example, a model predicting **“No” for everyone** will still be **91% accurate**,\n",
        "  but it will **miss most real heart disease cases**.\n",
        "\n",
        "After balancing:\n",
        "\n",
        "* **Yes = 50%**\n",
        "* **No = 50%**\n",
        "* We get **fairer insights** & **better understanding** of relationships between features and HeartDisease.\n"
      ]
    },
    {
      "cell_type": "code",
      "execution_count": null,
      "id": "6e73263b-e7aa-47cb-801e-6917be5472ab",
      "metadata": {
        "id": "6e73263b-e7aa-47cb-801e-6917be5472ab"
      },
      "outputs": [],
      "source": []
    },
    {
      "cell_type": "markdown",
      "id": "cb740da3",
      "metadata": {
        "id": "cb740da3"
      },
      "source": [
        "### **🔹 Analytical Question**\n",
        "\n",
        "> **\"Which age groups have the highest number of people with heart disease?\"**\n",
        "> We want to understand **how age impacts heart disease prevalence**.\n",
        "\n",
        "---\n",
        "\n",
        "#### **Step 1 — Code to Count Heart Disease Cases per Age Category**\n",
        "\n",
        "#### **Explanation**\n",
        "\n",
        "* `df_balanced[\"HeartDisease\"]==\"Yes\"` → filters the dataset to include only people **with heart disease**.\n",
        "* `[\"AgeCategory\"]` → selects the age column.\n",
        "* `.value_counts()` → counts how many cases exist in each age group."
      ]
    },
    {
      "cell_type": "code",
      "execution_count": null,
      "id": "107a1e0b",
      "metadata": {
        "scrolled": true,
        "id": "107a1e0b",
        "outputId": "255a8cac-e7fd-4af4-be31-914f6ca88f22"
      },
      "outputs": [
        {
          "data": {
            "text/plain": [
              "AgeCategory\n",
              "80 or older    5448\n",
              "70-74          4847\n",
              "65-69          4101\n",
              "75-79          4049\n",
              "60-64          3327\n",
              "55-59          2202\n",
              "50-54          1383\n",
              "45-49           744\n",
              "40-44           486\n",
              "35-39           296\n",
              "30-34           226\n",
              "25-29           133\n",
              "18-24           130\n",
              "Name: count, dtype: int64"
            ]
          },
          "execution_count": 31,
          "metadata": {},
          "output_type": "execute_result"
        }
      ],
      "source": [
        "df_balanced[df_balanced[\"HeartDisease\"]==\"Yes\"][\"AgeCategory\"].value_counts()"
      ]
    },
    {
      "cell_type": "markdown",
      "id": "4beac524-4fb0-4e97-a434-beeaaa082fd0",
      "metadata": {
        "id": "4beac524-4fb0-4e97-a434-beeaaa082fd0"
      },
      "source": [
        "\n",
        "\n",
        "### Insights\n",
        "\n",
        "#### **1. Older adults have the highest risk**\n",
        "\n",
        "* The **\"80 or older\"** group has the highest number of heart disease cases (**5,448**).\n",
        "* **70-74** and **65-69** follow closely with **4,847** and **4,101** cases.\n",
        "\n",
        "#### **2. Risk increases after age 60**\n",
        "\n",
        "* People aged **60+** account for **\\~70%** of all heart disease cases.\n",
        "* From **18 to 50**, heart disease cases remain **relatively low**.\n",
        "\n",
        "#### **3. Younger adults are at much lower risk**\n",
        "\n",
        "* Only **130 cases** in the **18-24** category → **<1%** of total cases.\n",
        "* This suggests **age is one of the strongest predictors** for heart disease.\n",
        "\n",
        "---\n",
        "\n",
        "###  Analytical Conclusion\n",
        "\n",
        "* **Age is a strong risk factor** for heart disease.\n",
        "* Most cases occur in people **aged 60+**.\n",
        "* Very **few cases** exist in people **under 40**.\n",
        "* Any predictive model should **treat age as a key feature**.\n",
        "\n",
        "---"
      ]
    },
    {
      "cell_type": "code",
      "execution_count": null,
      "id": "59983390-f79e-4b3c-a2e4-e9f83c9d1196",
      "metadata": {
        "id": "59983390-f79e-4b3c-a2e4-e9f83c9d1196"
      },
      "outputs": [],
      "source": [
        "# Mark Elderly People\n",
        "df.loc[df[\"AgeCategory\"].isin([\"50-54\",\"60-64\",\"55-59\",\"65-69\",\"70-74\",\"75-79\", \"80 or older\"]), \"Elderly\"] = \"Yes\"\n",
        "df.loc[~df[\"AgeCategory\"].isin([\"50-54\",\"60-64\",\"55-59\",\"65-69\",\"70-74\",\"75-79\", \"80 or older\"]), \"Elderly\"] = \"No\"\n",
        "df.head()"
      ]
    },
    {
      "cell_type": "code",
      "execution_count": null,
      "id": "eab61ab6-d33e-4575-acb3-66f46a35b445",
      "metadata": {
        "id": "eab61ab6-d33e-4575-acb3-66f46a35b445"
      },
      "outputs": [],
      "source": [
        "df[\"Elderly\"] = np.where(df[\"AgeCategory\"].isin([\"50-54\",\"60-64\",\"55-59\",\"65-69\",\"70-74\",\"75-79\", \"80 or older\"]),\"Yes\" , \"NO\" )"
      ]
    },
    {
      "cell_type": "code",
      "execution_count": null,
      "id": "e172c76e-13e8-45b2-b361-06c1c138a0d1",
      "metadata": {
        "id": "e172c76e-13e8-45b2-b361-06c1c138a0d1",
        "outputId": "e49d8fc9-5157-49e0-fc47-398ad328de93"
      },
      "outputs": [
        {
          "data": {
            "text/html": [
              "<div>\n",
              "<style scoped>\n",
              "    .dataframe tbody tr th:only-of-type {\n",
              "        vertical-align: middle;\n",
              "    }\n",
              "\n",
              "    .dataframe tbody tr th {\n",
              "        vertical-align: top;\n",
              "    }\n",
              "\n",
              "    .dataframe thead th {\n",
              "        text-align: right;\n",
              "    }\n",
              "</style>\n",
              "<table border=\"1\" class=\"dataframe\">\n",
              "  <thead>\n",
              "    <tr style=\"text-align: right;\">\n",
              "      <th></th>\n",
              "      <th>HeartDisease</th>\n",
              "      <th>BMI</th>\n",
              "      <th>Smoking</th>\n",
              "      <th>AlcoholDrinking</th>\n",
              "      <th>Stroke</th>\n",
              "      <th>PhysicalHealth</th>\n",
              "      <th>MentalHealth</th>\n",
              "      <th>DiffWalking</th>\n",
              "      <th>Sex</th>\n",
              "      <th>AgeCategory</th>\n",
              "      <th>Race</th>\n",
              "      <th>Diabetic</th>\n",
              "      <th>PhysicalActivity</th>\n",
              "      <th>GenHealth</th>\n",
              "      <th>SleepTime</th>\n",
              "      <th>Asthma</th>\n",
              "      <th>KidneyDisease</th>\n",
              "      <th>SkinCancer</th>\n",
              "      <th>Elderly</th>\n",
              "    </tr>\n",
              "  </thead>\n",
              "  <tbody>\n",
              "    <tr>\n",
              "      <th>0</th>\n",
              "      <td>No</td>\n",
              "      <td>16.60</td>\n",
              "      <td>Yes</td>\n",
              "      <td>No</td>\n",
              "      <td>No</td>\n",
              "      <td>3</td>\n",
              "      <td>30</td>\n",
              "      <td>No</td>\n",
              "      <td>Female</td>\n",
              "      <td>55-59</td>\n",
              "      <td>White</td>\n",
              "      <td>Yes</td>\n",
              "      <td>Yes</td>\n",
              "      <td>Very good</td>\n",
              "      <td>5.0</td>\n",
              "      <td>Yes</td>\n",
              "      <td>No</td>\n",
              "      <td>Yes</td>\n",
              "      <td>Yes</td>\n",
              "    </tr>\n",
              "    <tr>\n",
              "      <th>1</th>\n",
              "      <td>No</td>\n",
              "      <td>20.34</td>\n",
              "      <td>No</td>\n",
              "      <td>No</td>\n",
              "      <td>Yes</td>\n",
              "      <td>0</td>\n",
              "      <td>0</td>\n",
              "      <td>No</td>\n",
              "      <td>Female</td>\n",
              "      <td>80 or older</td>\n",
              "      <td>White</td>\n",
              "      <td>No</td>\n",
              "      <td>Yes</td>\n",
              "      <td>Very good</td>\n",
              "      <td>7.0</td>\n",
              "      <td>No</td>\n",
              "      <td>No</td>\n",
              "      <td>NaN</td>\n",
              "      <td>Yes</td>\n",
              "    </tr>\n",
              "    <tr>\n",
              "      <th>2</th>\n",
              "      <td>No</td>\n",
              "      <td>NaN</td>\n",
              "      <td>Yes</td>\n",
              "      <td>No</td>\n",
              "      <td>No</td>\n",
              "      <td>20</td>\n",
              "      <td>30</td>\n",
              "      <td>No</td>\n",
              "      <td>Male</td>\n",
              "      <td>65-69</td>\n",
              "      <td>White</td>\n",
              "      <td>Yes</td>\n",
              "      <td>Yes</td>\n",
              "      <td>Fair</td>\n",
              "      <td>8.0</td>\n",
              "      <td>Yes</td>\n",
              "      <td>No</td>\n",
              "      <td>No</td>\n",
              "      <td>Yes</td>\n",
              "    </tr>\n",
              "    <tr>\n",
              "      <th>3</th>\n",
              "      <td>No</td>\n",
              "      <td>24.21</td>\n",
              "      <td>No</td>\n",
              "      <td>No</td>\n",
              "      <td>No</td>\n",
              "      <td>0</td>\n",
              "      <td>0</td>\n",
              "      <td>No</td>\n",
              "      <td>Female</td>\n",
              "      <td>75-79</td>\n",
              "      <td>White</td>\n",
              "      <td>No</td>\n",
              "      <td>No</td>\n",
              "      <td>Good</td>\n",
              "      <td>6.0</td>\n",
              "      <td>No</td>\n",
              "      <td>No</td>\n",
              "      <td>Yes</td>\n",
              "      <td>Yes</td>\n",
              "    </tr>\n",
              "    <tr>\n",
              "      <th>4</th>\n",
              "      <td>No</td>\n",
              "      <td>23.71</td>\n",
              "      <td>No</td>\n",
              "      <td>No</td>\n",
              "      <td>No</td>\n",
              "      <td>28</td>\n",
              "      <td>0</td>\n",
              "      <td>Yes</td>\n",
              "      <td>Female</td>\n",
              "      <td>40-44</td>\n",
              "      <td>White</td>\n",
              "      <td>No</td>\n",
              "      <td>Yes</td>\n",
              "      <td>Very good</td>\n",
              "      <td>8.0</td>\n",
              "      <td>No</td>\n",
              "      <td>No</td>\n",
              "      <td>No</td>\n",
              "      <td>NO</td>\n",
              "    </tr>\n",
              "    <tr>\n",
              "      <th>...</th>\n",
              "      <td>...</td>\n",
              "      <td>...</td>\n",
              "      <td>...</td>\n",
              "      <td>...</td>\n",
              "      <td>...</td>\n",
              "      <td>...</td>\n",
              "      <td>...</td>\n",
              "      <td>...</td>\n",
              "      <td>...</td>\n",
              "      <td>...</td>\n",
              "      <td>...</td>\n",
              "      <td>...</td>\n",
              "      <td>...</td>\n",
              "      <td>...</td>\n",
              "      <td>...</td>\n",
              "      <td>...</td>\n",
              "      <td>...</td>\n",
              "      <td>...</td>\n",
              "      <td>...</td>\n",
              "    </tr>\n",
              "    <tr>\n",
              "      <th>319789</th>\n",
              "      <td>Yes</td>\n",
              "      <td>27.41</td>\n",
              "      <td>Yes</td>\n",
              "      <td>No</td>\n",
              "      <td>No</td>\n",
              "      <td>7</td>\n",
              "      <td>0</td>\n",
              "      <td>Yes</td>\n",
              "      <td>Male</td>\n",
              "      <td>60-64</td>\n",
              "      <td>Hispanic</td>\n",
              "      <td>Yes</td>\n",
              "      <td>No</td>\n",
              "      <td>Fair</td>\n",
              "      <td>6.0</td>\n",
              "      <td>Yes</td>\n",
              "      <td>No</td>\n",
              "      <td>No</td>\n",
              "      <td>Yes</td>\n",
              "    </tr>\n",
              "    <tr>\n",
              "      <th>319790</th>\n",
              "      <td>No</td>\n",
              "      <td>29.84</td>\n",
              "      <td>Yes</td>\n",
              "      <td>No</td>\n",
              "      <td>No</td>\n",
              "      <td>0</td>\n",
              "      <td>0</td>\n",
              "      <td>No</td>\n",
              "      <td>Male</td>\n",
              "      <td>35-39</td>\n",
              "      <td>Hispanic</td>\n",
              "      <td>No</td>\n",
              "      <td>Yes</td>\n",
              "      <td>Very good</td>\n",
              "      <td>5.0</td>\n",
              "      <td>Yes</td>\n",
              "      <td>No</td>\n",
              "      <td>No</td>\n",
              "      <td>NO</td>\n",
              "    </tr>\n",
              "    <tr>\n",
              "      <th>319791</th>\n",
              "      <td>No</td>\n",
              "      <td>24.24</td>\n",
              "      <td>No</td>\n",
              "      <td>No</td>\n",
              "      <td>No</td>\n",
              "      <td>0</td>\n",
              "      <td>0</td>\n",
              "      <td>No</td>\n",
              "      <td>Female</td>\n",
              "      <td>45-49</td>\n",
              "      <td>Hispanic</td>\n",
              "      <td>No</td>\n",
              "      <td>Yes</td>\n",
              "      <td>Good</td>\n",
              "      <td>6.0</td>\n",
              "      <td>No</td>\n",
              "      <td>No</td>\n",
              "      <td>No</td>\n",
              "      <td>NO</td>\n",
              "    </tr>\n",
              "    <tr>\n",
              "      <th>319792</th>\n",
              "      <td>No</td>\n",
              "      <td>32.81</td>\n",
              "      <td>No</td>\n",
              "      <td>No</td>\n",
              "      <td>No</td>\n",
              "      <td>0</td>\n",
              "      <td>0</td>\n",
              "      <td>No</td>\n",
              "      <td>Female</td>\n",
              "      <td>25-29</td>\n",
              "      <td>Hispanic</td>\n",
              "      <td>No</td>\n",
              "      <td>No</td>\n",
              "      <td>Good</td>\n",
              "      <td>12.0</td>\n",
              "      <td>No</td>\n",
              "      <td>No</td>\n",
              "      <td>No</td>\n",
              "      <td>NO</td>\n",
              "    </tr>\n",
              "    <tr>\n",
              "      <th>319793</th>\n",
              "      <td>No</td>\n",
              "      <td>NaN</td>\n",
              "      <td>No</td>\n",
              "      <td>No</td>\n",
              "      <td>No</td>\n",
              "      <td>0</td>\n",
              "      <td>0</td>\n",
              "      <td>No</td>\n",
              "      <td>Female</td>\n",
              "      <td>80 or older</td>\n",
              "      <td>Hispanic</td>\n",
              "      <td>No</td>\n",
              "      <td>Yes</td>\n",
              "      <td>Good</td>\n",
              "      <td>8.0</td>\n",
              "      <td>No</td>\n",
              "      <td>No</td>\n",
              "      <td>No</td>\n",
              "      <td>Yes</td>\n",
              "    </tr>\n",
              "  </tbody>\n",
              "</table>\n",
              "<p>319794 rows × 19 columns</p>\n",
              "</div>"
            ],
            "text/plain": [
              "       HeartDisease    BMI Smoking AlcoholDrinking Stroke  PhysicalHealth  \\\n",
              "0                No  16.60     Yes              No     No               3   \n",
              "1                No  20.34      No              No    Yes               0   \n",
              "2                No    NaN     Yes              No     No              20   \n",
              "3                No  24.21      No              No     No               0   \n",
              "4                No  23.71      No              No     No              28   \n",
              "...             ...    ...     ...             ...    ...             ...   \n",
              "319789          Yes  27.41     Yes              No     No               7   \n",
              "319790           No  29.84     Yes              No     No               0   \n",
              "319791           No  24.24      No              No     No               0   \n",
              "319792           No  32.81      No              No     No               0   \n",
              "319793           No    NaN      No              No     No               0   \n",
              "\n",
              "        MentalHealth DiffWalking     Sex  AgeCategory      Race Diabetic  \\\n",
              "0                 30          No  Female        55-59     White      Yes   \n",
              "1                  0          No  Female  80 or older     White       No   \n",
              "2                 30          No    Male        65-69     White      Yes   \n",
              "3                  0          No  Female        75-79     White       No   \n",
              "4                  0         Yes  Female        40-44     White       No   \n",
              "...              ...         ...     ...          ...       ...      ...   \n",
              "319789             0         Yes    Male        60-64  Hispanic      Yes   \n",
              "319790             0          No    Male        35-39  Hispanic       No   \n",
              "319791             0          No  Female        45-49  Hispanic       No   \n",
              "319792             0          No  Female        25-29  Hispanic       No   \n",
              "319793             0          No  Female  80 or older  Hispanic       No   \n",
              "\n",
              "       PhysicalActivity  GenHealth  SleepTime Asthma KidneyDisease SkinCancer  \\\n",
              "0                   Yes  Very good        5.0    Yes            No        Yes   \n",
              "1                   Yes  Very good        7.0     No            No        NaN   \n",
              "2                   Yes       Fair        8.0    Yes            No         No   \n",
              "3                    No       Good        6.0     No            No        Yes   \n",
              "4                   Yes  Very good        8.0     No            No         No   \n",
              "...                 ...        ...        ...    ...           ...        ...   \n",
              "319789               No       Fair        6.0    Yes            No         No   \n",
              "319790              Yes  Very good        5.0    Yes            No         No   \n",
              "319791              Yes       Good        6.0     No            No         No   \n",
              "319792               No       Good       12.0     No            No         No   \n",
              "319793              Yes       Good        8.0     No            No         No   \n",
              "\n",
              "       Elderly  \n",
              "0          Yes  \n",
              "1          Yes  \n",
              "2          Yes  \n",
              "3          Yes  \n",
              "4           NO  \n",
              "...        ...  \n",
              "319789     Yes  \n",
              "319790      NO  \n",
              "319791      NO  \n",
              "319792      NO  \n",
              "319793     Yes  \n",
              "\n",
              "[319794 rows x 19 columns]"
            ]
          },
          "execution_count": 33,
          "metadata": {},
          "output_type": "execute_result"
        }
      ],
      "source": [
        "df"
      ]
    },
    {
      "cell_type": "markdown",
      "id": "d2ad75f1",
      "metadata": {
        "id": "d2ad75f1"
      },
      "source": [
        "### **🔹 Analytical Question**\n",
        "\n",
        "> **\"How does BMI\\_Status affect the likelihood of heart disease?\"**\n",
        "> We want to check whether people who are **Normal** or **Overweight** have a higher risk of **HeartDisease**.\n"
      ]
    },
    {
      "cell_type": "code",
      "execution_count": null,
      "id": "cb4795e6",
      "metadata": {
        "scrolled": true,
        "id": "cb4795e6",
        "outputId": "6763ce4d-d60f-4af8-8882-d0bfe5dfaca2"
      },
      "outputs": [
        {
          "data": {
            "text/html": [
              "<div>\n",
              "<style scoped>\n",
              "    .dataframe tbody tr th:only-of-type {\n",
              "        vertical-align: middle;\n",
              "    }\n",
              "\n",
              "    .dataframe tbody tr th {\n",
              "        vertical-align: top;\n",
              "    }\n",
              "\n",
              "    .dataframe thead th {\n",
              "        text-align: right;\n",
              "    }\n",
              "</style>\n",
              "<table border=\"1\" class=\"dataframe\">\n",
              "  <thead>\n",
              "    <tr style=\"text-align: right;\">\n",
              "      <th></th>\n",
              "      <th>HeartDisease</th>\n",
              "      <th>BMI</th>\n",
              "      <th>Smoking</th>\n",
              "      <th>AlcoholDrinking</th>\n",
              "      <th>Stroke</th>\n",
              "      <th>PhysicalHealth</th>\n",
              "      <th>MentalHealth</th>\n",
              "      <th>DiffWalking</th>\n",
              "      <th>Sex</th>\n",
              "      <th>AgeCategory</th>\n",
              "      <th>Race</th>\n",
              "      <th>Diabetic</th>\n",
              "      <th>PhysicalActivity</th>\n",
              "      <th>GenHealth</th>\n",
              "      <th>SleepTime</th>\n",
              "      <th>Asthma</th>\n",
              "      <th>KidneyDisease</th>\n",
              "      <th>SkinCancer</th>\n",
              "      <th>BMI_Status</th>\n",
              "    </tr>\n",
              "  </thead>\n",
              "  <tbody>\n",
              "    <tr>\n",
              "      <th>0</th>\n",
              "      <td>No</td>\n",
              "      <td>19.67</td>\n",
              "      <td>No</td>\n",
              "      <td>No</td>\n",
              "      <td>No</td>\n",
              "      <td>0</td>\n",
              "      <td>0</td>\n",
              "      <td>No</td>\n",
              "      <td>Female</td>\n",
              "      <td>40-44</td>\n",
              "      <td>White</td>\n",
              "      <td>No</td>\n",
              "      <td>Yes</td>\n",
              "      <td>Excellent</td>\n",
              "      <td>8.0</td>\n",
              "      <td>No</td>\n",
              "      <td>No</td>\n",
              "      <td>No</td>\n",
              "      <td>Normal</td>\n",
              "    </tr>\n",
              "    <tr>\n",
              "      <th>1</th>\n",
              "      <td>No</td>\n",
              "      <td>23.44</td>\n",
              "      <td>No</td>\n",
              "      <td>No</td>\n",
              "      <td>No</td>\n",
              "      <td>0</td>\n",
              "      <td>0</td>\n",
              "      <td>No</td>\n",
              "      <td>Female</td>\n",
              "      <td>50-54</td>\n",
              "      <td>White</td>\n",
              "      <td>No</td>\n",
              "      <td>Yes</td>\n",
              "      <td>Very good</td>\n",
              "      <td>8.0</td>\n",
              "      <td>Yes</td>\n",
              "      <td>No</td>\n",
              "      <td>No</td>\n",
              "      <td>Normal</td>\n",
              "    </tr>\n",
              "    <tr>\n",
              "      <th>2</th>\n",
              "      <td>No</td>\n",
              "      <td>25.83</td>\n",
              "      <td>Yes</td>\n",
              "      <td>No</td>\n",
              "      <td>No</td>\n",
              "      <td>0</td>\n",
              "      <td>0</td>\n",
              "      <td>No</td>\n",
              "      <td>Male</td>\n",
              "      <td>80 or older</td>\n",
              "      <td>White</td>\n",
              "      <td>No</td>\n",
              "      <td>Yes</td>\n",
              "      <td>Very good</td>\n",
              "      <td>8.0</td>\n",
              "      <td>No</td>\n",
              "      <td>No</td>\n",
              "      <td>No</td>\n",
              "      <td>Overweight</td>\n",
              "    </tr>\n",
              "    <tr>\n",
              "      <th>3</th>\n",
              "      <td>Yes</td>\n",
              "      <td>33.33</td>\n",
              "      <td>No</td>\n",
              "      <td>No</td>\n",
              "      <td>No</td>\n",
              "      <td>10</td>\n",
              "      <td>0</td>\n",
              "      <td>Yes</td>\n",
              "      <td>Female</td>\n",
              "      <td>80 or older</td>\n",
              "      <td>White</td>\n",
              "      <td>No</td>\n",
              "      <td>No</td>\n",
              "      <td>Fair</td>\n",
              "      <td>8.0</td>\n",
              "      <td>No</td>\n",
              "      <td>No</td>\n",
              "      <td>Yes</td>\n",
              "      <td>Overweight</td>\n",
              "    </tr>\n",
              "    <tr>\n",
              "      <th>4</th>\n",
              "      <td>Yes</td>\n",
              "      <td>25.75</td>\n",
              "      <td>No</td>\n",
              "      <td>No</td>\n",
              "      <td>No</td>\n",
              "      <td>0</td>\n",
              "      <td>30</td>\n",
              "      <td>No</td>\n",
              "      <td>Female</td>\n",
              "      <td>60-64</td>\n",
              "      <td>Hispanic</td>\n",
              "      <td>No</td>\n",
              "      <td>No</td>\n",
              "      <td>Fair</td>\n",
              "      <td>3.0</td>\n",
              "      <td>No</td>\n",
              "      <td>No</td>\n",
              "      <td>No</td>\n",
              "      <td>Overweight</td>\n",
              "    </tr>\n",
              "    <tr>\n",
              "      <th>...</th>\n",
              "      <td>...</td>\n",
              "      <td>...</td>\n",
              "      <td>...</td>\n",
              "      <td>...</td>\n",
              "      <td>...</td>\n",
              "      <td>...</td>\n",
              "      <td>...</td>\n",
              "      <td>...</td>\n",
              "      <td>...</td>\n",
              "      <td>...</td>\n",
              "      <td>...</td>\n",
              "      <td>...</td>\n",
              "      <td>...</td>\n",
              "      <td>...</td>\n",
              "      <td>...</td>\n",
              "      <td>...</td>\n",
              "      <td>...</td>\n",
              "      <td>...</td>\n",
              "      <td>...</td>\n",
              "    </tr>\n",
              "    <tr>\n",
              "      <th>54739</th>\n",
              "      <td>No</td>\n",
              "      <td>25.09</td>\n",
              "      <td>No</td>\n",
              "      <td>No</td>\n",
              "      <td>No</td>\n",
              "      <td>0</td>\n",
              "      <td>0</td>\n",
              "      <td>No</td>\n",
              "      <td>Female</td>\n",
              "      <td>55-59</td>\n",
              "      <td>White</td>\n",
              "      <td>Yes</td>\n",
              "      <td>Yes</td>\n",
              "      <td>Good</td>\n",
              "      <td>8.0</td>\n",
              "      <td>Yes</td>\n",
              "      <td>No</td>\n",
              "      <td>No</td>\n",
              "      <td>Overweight</td>\n",
              "    </tr>\n",
              "    <tr>\n",
              "      <th>54740</th>\n",
              "      <td>No</td>\n",
              "      <td>37.12</td>\n",
              "      <td>Yes</td>\n",
              "      <td>No</td>\n",
              "      <td>No</td>\n",
              "      <td>7</td>\n",
              "      <td>7</td>\n",
              "      <td>Yes</td>\n",
              "      <td>Female</td>\n",
              "      <td>70-74</td>\n",
              "      <td>White</td>\n",
              "      <td>Yes</td>\n",
              "      <td>No</td>\n",
              "      <td>Good</td>\n",
              "      <td>8.0</td>\n",
              "      <td>No</td>\n",
              "      <td>No</td>\n",
              "      <td>No</td>\n",
              "      <td>Overweight</td>\n",
              "    </tr>\n",
              "    <tr>\n",
              "      <th>54741</th>\n",
              "      <td>No</td>\n",
              "      <td>43.58</td>\n",
              "      <td>Yes</td>\n",
              "      <td>No</td>\n",
              "      <td>No</td>\n",
              "      <td>6</td>\n",
              "      <td>15</td>\n",
              "      <td>No</td>\n",
              "      <td>Female</td>\n",
              "      <td>40-44</td>\n",
              "      <td>White</td>\n",
              "      <td>No</td>\n",
              "      <td>Yes</td>\n",
              "      <td>Good</td>\n",
              "      <td>7.0</td>\n",
              "      <td>Yes</td>\n",
              "      <td>No</td>\n",
              "      <td>No</td>\n",
              "      <td>Overweight</td>\n",
              "    </tr>\n",
              "    <tr>\n",
              "      <th>54742</th>\n",
              "      <td>Yes</td>\n",
              "      <td>27.46</td>\n",
              "      <td>No</td>\n",
              "      <td>No</td>\n",
              "      <td>No</td>\n",
              "      <td>0</td>\n",
              "      <td>20</td>\n",
              "      <td>No</td>\n",
              "      <td>Female</td>\n",
              "      <td>80 or older</td>\n",
              "      <td>White</td>\n",
              "      <td>No</td>\n",
              "      <td>Yes</td>\n",
              "      <td>Fair</td>\n",
              "      <td>6.0</td>\n",
              "      <td>No</td>\n",
              "      <td>No</td>\n",
              "      <td>Yes</td>\n",
              "      <td>Overweight</td>\n",
              "    </tr>\n",
              "    <tr>\n",
              "      <th>54743</th>\n",
              "      <td>Yes</td>\n",
              "      <td>30.90</td>\n",
              "      <td>No</td>\n",
              "      <td>No</td>\n",
              "      <td>No</td>\n",
              "      <td>29</td>\n",
              "      <td>28</td>\n",
              "      <td>Yes</td>\n",
              "      <td>Female</td>\n",
              "      <td>75-79</td>\n",
              "      <td>White</td>\n",
              "      <td>Yes</td>\n",
              "      <td>No</td>\n",
              "      <td>Fair</td>\n",
              "      <td>8.0</td>\n",
              "      <td>No</td>\n",
              "      <td>No</td>\n",
              "      <td>NaN</td>\n",
              "      <td>Overweight</td>\n",
              "    </tr>\n",
              "  </tbody>\n",
              "</table>\n",
              "<p>54744 rows × 19 columns</p>\n",
              "</div>"
            ],
            "text/plain": [
              "      HeartDisease    BMI Smoking AlcoholDrinking Stroke  PhysicalHealth  \\\n",
              "0               No  19.67      No              No     No               0   \n",
              "1               No  23.44      No              No     No               0   \n",
              "2               No  25.83     Yes              No     No               0   \n",
              "3              Yes  33.33      No              No     No              10   \n",
              "4              Yes  25.75      No              No     No               0   \n",
              "...            ...    ...     ...             ...    ...             ...   \n",
              "54739           No  25.09      No              No     No               0   \n",
              "54740           No  37.12     Yes              No     No               7   \n",
              "54741           No  43.58     Yes              No     No               6   \n",
              "54742          Yes  27.46      No              No     No               0   \n",
              "54743          Yes  30.90      No              No     No              29   \n",
              "\n",
              "       MentalHealth DiffWalking     Sex  AgeCategory      Race Diabetic  \\\n",
              "0                 0          No  Female        40-44     White       No   \n",
              "1                 0          No  Female        50-54     White       No   \n",
              "2                 0          No    Male  80 or older     White       No   \n",
              "3                 0         Yes  Female  80 or older     White       No   \n",
              "4                30          No  Female        60-64  Hispanic       No   \n",
              "...             ...         ...     ...          ...       ...      ...   \n",
              "54739             0          No  Female        55-59     White      Yes   \n",
              "54740             7         Yes  Female        70-74     White      Yes   \n",
              "54741            15          No  Female        40-44     White       No   \n",
              "54742            20          No  Female  80 or older     White       No   \n",
              "54743            28         Yes  Female        75-79     White      Yes   \n",
              "\n",
              "      PhysicalActivity  GenHealth  SleepTime Asthma KidneyDisease SkinCancer  \\\n",
              "0                  Yes  Excellent        8.0     No            No         No   \n",
              "1                  Yes  Very good        8.0    Yes            No         No   \n",
              "2                  Yes  Very good        8.0     No            No         No   \n",
              "3                   No       Fair        8.0     No            No        Yes   \n",
              "4                   No       Fair        3.0     No            No         No   \n",
              "...                ...        ...        ...    ...           ...        ...   \n",
              "54739              Yes       Good        8.0    Yes            No         No   \n",
              "54740               No       Good        8.0     No            No         No   \n",
              "54741              Yes       Good        7.0    Yes            No         No   \n",
              "54742              Yes       Fair        6.0     No            No        Yes   \n",
              "54743               No       Fair        8.0     No            No        NaN   \n",
              "\n",
              "       BMI_Status  \n",
              "0          Normal  \n",
              "1          Normal  \n",
              "2      Overweight  \n",
              "3      Overweight  \n",
              "4      Overweight  \n",
              "...           ...  \n",
              "54739  Overweight  \n",
              "54740  Overweight  \n",
              "54741  Overweight  \n",
              "54742  Overweight  \n",
              "54743  Overweight  \n",
              "\n",
              "[54744 rows x 19 columns]"
            ]
          },
          "execution_count": 34,
          "metadata": {},
          "output_type": "execute_result"
        }
      ],
      "source": [
        "# Add BMI Status Column\n",
        "df_balanced[\"BMI_Status\"] = np.where(df_balanced[\"BMI\"] >= 25, \"Overweight\", \"Normal\")\n",
        "df_balanced"
      ]
    },
    {
      "cell_type": "code",
      "execution_count": null,
      "id": "bb905126-a7ff-401d-a89b-600f7545e3fc",
      "metadata": {
        "id": "bb905126-a7ff-401d-a89b-600f7545e3fc",
        "outputId": "8756d4e2-3005-4ede-baa2-1811f96b0c5d"
      },
      "outputs": [
        {
          "data": {
            "text/html": [
              "<div>\n",
              "<style scoped>\n",
              "    .dataframe tbody tr th:only-of-type {\n",
              "        vertical-align: middle;\n",
              "    }\n",
              "\n",
              "    .dataframe tbody tr th {\n",
              "        vertical-align: top;\n",
              "    }\n",
              "\n",
              "    .dataframe thead th {\n",
              "        text-align: right;\n",
              "    }\n",
              "</style>\n",
              "<table border=\"1\" class=\"dataframe\">\n",
              "  <thead>\n",
              "    <tr style=\"text-align: right;\">\n",
              "      <th>HeartDisease</th>\n",
              "      <th>No</th>\n",
              "      <th>Yes</th>\n",
              "    </tr>\n",
              "    <tr>\n",
              "      <th>BMI_Status</th>\n",
              "      <th></th>\n",
              "      <th></th>\n",
              "    </tr>\n",
              "  </thead>\n",
              "  <tbody>\n",
              "    <tr>\n",
              "      <th>Normal</th>\n",
              "      <td>10721</td>\n",
              "      <td>8766</td>\n",
              "    </tr>\n",
              "    <tr>\n",
              "      <th>Overweight</th>\n",
              "      <td>16651</td>\n",
              "      <td>18606</td>\n",
              "    </tr>\n",
              "  </tbody>\n",
              "</table>\n",
              "</div>"
            ],
            "text/plain": [
              "HeartDisease     No    Yes\n",
              "BMI_Status                \n",
              "Normal        10721   8766\n",
              "Overweight    16651  18606"
            ]
          },
          "execution_count": 37,
          "metadata": {},
          "output_type": "execute_result"
        }
      ],
      "source": [
        "df_balanced.groupby([\"BMI_Status\", \"HeartDisease\"]).size().unstack()"
      ]
    },
    {
      "cell_type": "code",
      "execution_count": null,
      "id": "faa598e2-1087-4e1e-8837-6ff592313e56",
      "metadata": {
        "id": "faa598e2-1087-4e1e-8837-6ff592313e56",
        "outputId": "715ca0a6-5842-45d5-fd5c-f9c808b67d94"
      },
      "outputs": [
        {
          "data": {
            "text/html": [
              "<div>\n",
              "<style scoped>\n",
              "    .dataframe tbody tr th:only-of-type {\n",
              "        vertical-align: middle;\n",
              "    }\n",
              "\n",
              "    .dataframe tbody tr th {\n",
              "        vertical-align: top;\n",
              "    }\n",
              "\n",
              "    .dataframe thead th {\n",
              "        text-align: right;\n",
              "    }\n",
              "</style>\n",
              "<table border=\"1\" class=\"dataframe\">\n",
              "  <thead>\n",
              "    <tr style=\"text-align: right;\">\n",
              "      <th>HeartDisease</th>\n",
              "      <th>No</th>\n",
              "      <th>Yes</th>\n",
              "    </tr>\n",
              "    <tr>\n",
              "      <th>BMI_Status</th>\n",
              "      <th></th>\n",
              "      <th></th>\n",
              "    </tr>\n",
              "  </thead>\n",
              "  <tbody>\n",
              "    <tr>\n",
              "      <th>Normal</th>\n",
              "      <td>55.016165</td>\n",
              "      <td>44.983835</td>\n",
              "    </tr>\n",
              "    <tr>\n",
              "      <th>Overweight</th>\n",
              "      <td>47.227501</td>\n",
              "      <td>52.772499</td>\n",
              "    </tr>\n",
              "  </tbody>\n",
              "</table>\n",
              "</div>"
            ],
            "text/plain": [
              "HeartDisease         No        Yes\n",
              "BMI_Status                        \n",
              "Normal        55.016165  44.983835\n",
              "Overweight    47.227501  52.772499"
            ]
          },
          "execution_count": 38,
          "metadata": {},
          "output_type": "execute_result"
        }
      ],
      "source": [
        "pd.crosstab(df_balanced[\"BMI_Status\"], df_balanced[\"HeartDisease\"], normalize=\"index\") * 100"
      ]
    },
    {
      "cell_type": "markdown",
      "id": "c69b9fb4-cb7b-4adf-b329-cd6ee7cafe74",
      "metadata": {
        "id": "c69b9fb4-cb7b-4adf-b329-cd6ee7cafe74"
      },
      "source": [
        "###  Insights\n",
        "\n",
        "#### **1. Overweight people are at higher risk**\n",
        "\n",
        "* **53%** of overweight individuals have **HeartDisease**.\n",
        "* Only **45%** of normal-weight individuals have **HeartDisease**.\n",
        "\n",
        "#### **2. BMI is an important predictor**\n",
        "\n",
        "* There's a **clear link** between higher BMI and **heart disease prevalence**.\n",
        "* Overweight individuals **dominate heart disease cases** (18,606 vs 8,766 for normal).\n",
        "\n",
        "#### **3. Healthy weight lowers risk**\n",
        "\n",
        "* Maintaining a **normal BMI** **reduces heart disease risk** by roughly **8%** compared to overweight individuals.\n",
        "\n"
      ]
    },
    {
      "cell_type": "code",
      "execution_count": null,
      "id": "c53bcd3d-bca5-409c-80ef-a683b956c103",
      "metadata": {
        "id": "c53bcd3d-bca5-409c-80ef-a683b956c103"
      },
      "outputs": [],
      "source": []
    },
    {
      "cell_type": "code",
      "execution_count": null,
      "id": "06d7034e-8c19-4ca9-9bc8-7337c483096e",
      "metadata": {
        "id": "06d7034e-8c19-4ca9-9bc8-7337c483096e"
      },
      "outputs": [],
      "source": []
    },
    {
      "cell_type": "code",
      "execution_count": null,
      "id": "be602b44-48e5-4b16-9486-1fefb45e4da8",
      "metadata": {
        "id": "be602b44-48e5-4b16-9486-1fefb45e4da8"
      },
      "outputs": [],
      "source": []
    },
    {
      "cell_type": "markdown",
      "id": "ecf0803b-9f2b-4483-8104-e74302cf2fbb",
      "metadata": {
        "id": "ecf0803b-9f2b-4483-8104-e74302cf2fbb"
      },
      "source": [
        "\n",
        "### **🔹 Analytical Question**\n",
        "\n",
        "> **\"Does sleeping more than 7 hours reduce the risk of Heart Disease?\"**\n",
        "\n",
        "We want to see if people who sleep **more than 7 hours** (“Perfect”) have fewer **HeartDisease** cases than those who sleep less or equal to 7 hours (“Not Perfect”).\n",
        "\n",
        "---\n"
      ]
    },
    {
      "cell_type": "code",
      "execution_count": null,
      "id": "84fce14c-344e-4aa9-b2d0-2d4e367a7863",
      "metadata": {
        "id": "84fce14c-344e-4aa9-b2d0-2d4e367a7863"
      },
      "outputs": [],
      "source": []
    },
    {
      "cell_type": "code",
      "execution_count": null,
      "id": "9fb2075e-9fa2-452d-952e-3a5501a7aa21",
      "metadata": {
        "id": "9fb2075e-9fa2-452d-952e-3a5501a7aa21"
      },
      "outputs": [],
      "source": [
        "df_balanced[\"HighSleep\"] = np.where(df_balanced[\"SleepTime\"] > 7 , \"Perfect\", \"Not Perfect\")"
      ]
    },
    {
      "cell_type": "code",
      "execution_count": null,
      "id": "5c9cdad6-32d6-4441-8f52-f5cb498883b3",
      "metadata": {
        "id": "5c9cdad6-32d6-4441-8f52-f5cb498883b3",
        "outputId": "bbb7159b-0e81-480f-df61-961f920767e0"
      },
      "outputs": [
        {
          "data": {
            "text/html": [
              "<div>\n",
              "<style scoped>\n",
              "    .dataframe tbody tr th:only-of-type {\n",
              "        vertical-align: middle;\n",
              "    }\n",
              "\n",
              "    .dataframe tbody tr th {\n",
              "        vertical-align: top;\n",
              "    }\n",
              "\n",
              "    .dataframe thead th {\n",
              "        text-align: right;\n",
              "    }\n",
              "</style>\n",
              "<table border=\"1\" class=\"dataframe\">\n",
              "  <thead>\n",
              "    <tr style=\"text-align: right;\">\n",
              "      <th></th>\n",
              "      <th>HeartDisease</th>\n",
              "      <th>BMI</th>\n",
              "      <th>Smoking</th>\n",
              "      <th>AlcoholDrinking</th>\n",
              "      <th>Stroke</th>\n",
              "      <th>PhysicalHealth</th>\n",
              "      <th>MentalHealth</th>\n",
              "      <th>DiffWalking</th>\n",
              "      <th>Sex</th>\n",
              "      <th>AgeCategory</th>\n",
              "      <th>Race</th>\n",
              "      <th>Diabetic</th>\n",
              "      <th>PhysicalActivity</th>\n",
              "      <th>GenHealth</th>\n",
              "      <th>SleepTime</th>\n",
              "      <th>Asthma</th>\n",
              "      <th>KidneyDisease</th>\n",
              "      <th>SkinCancer</th>\n",
              "      <th>BMI_Status</th>\n",
              "      <th>HighSleep</th>\n",
              "    </tr>\n",
              "  </thead>\n",
              "  <tbody>\n",
              "    <tr>\n",
              "      <th>0</th>\n",
              "      <td>No</td>\n",
              "      <td>19.67</td>\n",
              "      <td>No</td>\n",
              "      <td>No</td>\n",
              "      <td>No</td>\n",
              "      <td>0</td>\n",
              "      <td>0</td>\n",
              "      <td>No</td>\n",
              "      <td>Female</td>\n",
              "      <td>40-44</td>\n",
              "      <td>White</td>\n",
              "      <td>No</td>\n",
              "      <td>Yes</td>\n",
              "      <td>Excellent</td>\n",
              "      <td>8.0</td>\n",
              "      <td>No</td>\n",
              "      <td>No</td>\n",
              "      <td>No</td>\n",
              "      <td>Normal</td>\n",
              "      <td>Perfect</td>\n",
              "    </tr>\n",
              "  </tbody>\n",
              "</table>\n",
              "</div>"
            ],
            "text/plain": [
              "  HeartDisease    BMI Smoking AlcoholDrinking Stroke  PhysicalHealth  \\\n",
              "0           No  19.67      No              No     No               0   \n",
              "\n",
              "   MentalHealth DiffWalking     Sex AgeCategory   Race Diabetic  \\\n",
              "0             0          No  Female       40-44  White       No   \n",
              "\n",
              "  PhysicalActivity  GenHealth  SleepTime Asthma KidneyDisease SkinCancer  \\\n",
              "0              Yes  Excellent        8.0     No            No         No   \n",
              "\n",
              "  BMI_Status HighSleep  \n",
              "0     Normal   Perfect  "
            ]
          },
          "execution_count": 41,
          "metadata": {},
          "output_type": "execute_result"
        }
      ],
      "source": [
        "df_balanced.head(1)"
      ]
    },
    {
      "cell_type": "code",
      "execution_count": null,
      "id": "cefddba7-0352-4b65-be1d-b17dd5ecc028",
      "metadata": {
        "scrolled": true,
        "id": "cefddba7-0352-4b65-be1d-b17dd5ecc028",
        "outputId": "5f030017-ac89-42b5-c3c5-9efb63040bce"
      },
      "outputs": [
        {
          "data": {
            "text/html": [
              "<div>\n",
              "<style scoped>\n",
              "    .dataframe tbody tr th:only-of-type {\n",
              "        vertical-align: middle;\n",
              "    }\n",
              "\n",
              "    .dataframe tbody tr th {\n",
              "        vertical-align: top;\n",
              "    }\n",
              "\n",
              "    .dataframe thead th {\n",
              "        text-align: right;\n",
              "    }\n",
              "</style>\n",
              "<table border=\"1\" class=\"dataframe\">\n",
              "  <thead>\n",
              "    <tr style=\"text-align: right;\">\n",
              "      <th>HeartDisease</th>\n",
              "      <th>No</th>\n",
              "      <th>Yes</th>\n",
              "    </tr>\n",
              "    <tr>\n",
              "      <th>HighSleep</th>\n",
              "      <th></th>\n",
              "      <th></th>\n",
              "    </tr>\n",
              "  </thead>\n",
              "  <tbody>\n",
              "    <tr>\n",
              "      <th>Not Perfect</th>\n",
              "      <td>17137</td>\n",
              "      <td>15860</td>\n",
              "    </tr>\n",
              "    <tr>\n",
              "      <th>Perfect</th>\n",
              "      <td>10235</td>\n",
              "      <td>11512</td>\n",
              "    </tr>\n",
              "  </tbody>\n",
              "</table>\n",
              "</div>"
            ],
            "text/plain": [
              "HeartDisease     No    Yes\n",
              "HighSleep                 \n",
              "Not Perfect   17137  15860\n",
              "Perfect       10235  11512"
            ]
          },
          "execution_count": 42,
          "metadata": {},
          "output_type": "execute_result"
        }
      ],
      "source": [
        "df_balanced.groupby([\"HighSleep\",\"HeartDisease\"]).size().unstack(fill_value=0)"
      ]
    },
    {
      "cell_type": "markdown",
      "id": "3226eee6-9d2c-494c-b2b5-b33f9db1aba3",
      "metadata": {
        "id": "3226eee6-9d2c-494c-b2b5-b33f9db1aba3"
      },
      "source": [
        "\n",
        "#### **Step 3 — Calculate Percentages**"
      ]
    },
    {
      "cell_type": "code",
      "execution_count": null,
      "id": "d85b25de-cfd8-408c-a0cf-cf99efff952c",
      "metadata": {
        "scrolled": true,
        "id": "d85b25de-cfd8-408c-a0cf-cf99efff952c",
        "outputId": "eed66d4b-f705-423b-a9cb-c1375aa2695a"
      },
      "outputs": [
        {
          "data": {
            "text/html": [
              "<div>\n",
              "<style scoped>\n",
              "    .dataframe tbody tr th:only-of-type {\n",
              "        vertical-align: middle;\n",
              "    }\n",
              "\n",
              "    .dataframe tbody tr th {\n",
              "        vertical-align: top;\n",
              "    }\n",
              "\n",
              "    .dataframe thead th {\n",
              "        text-align: right;\n",
              "    }\n",
              "</style>\n",
              "<table border=\"1\" class=\"dataframe\">\n",
              "  <thead>\n",
              "    <tr style=\"text-align: right;\">\n",
              "      <th>HeartDisease</th>\n",
              "      <th>No</th>\n",
              "      <th>Yes</th>\n",
              "    </tr>\n",
              "    <tr>\n",
              "      <th>HighSleep</th>\n",
              "      <th></th>\n",
              "      <th></th>\n",
              "    </tr>\n",
              "  </thead>\n",
              "  <tbody>\n",
              "    <tr>\n",
              "      <th>Not Perfect</th>\n",
              "      <td>51.935024</td>\n",
              "      <td>48.064976</td>\n",
              "    </tr>\n",
              "    <tr>\n",
              "      <th>Perfect</th>\n",
              "      <td>47.063963</td>\n",
              "      <td>52.936037</td>\n",
              "    </tr>\n",
              "  </tbody>\n",
              "</table>\n",
              "</div>"
            ],
            "text/plain": [
              "HeartDisease         No        Yes\n",
              "HighSleep                         \n",
              "Not Perfect   51.935024  48.064976\n",
              "Perfect       47.063963  52.936037"
            ]
          },
          "execution_count": 43,
          "metadata": {},
          "output_type": "execute_result"
        }
      ],
      "source": [
        "pd.crosstab(df_balanced[\"HighSleep\"], df_balanced[\"HeartDisease\"], normalize=\"index\") * 100"
      ]
    },
    {
      "cell_type": "markdown",
      "id": "56955525-7000-4916-a4b5-a90a1f3ab609",
      "metadata": {
        "id": "56955525-7000-4916-a4b5-a90a1f3ab609"
      },
      "source": [
        "#### Insights**\n",
        "* People who **sleep more than 7 hours** actually **show slightly higher heart disease cases**.\n",
        "* Sleep **duration alone** isn’t a strong predictor — we need to analyze it alongside other features.\n"
      ]
    },
    {
      "cell_type": "code",
      "execution_count": null,
      "id": "ca2516a0-7f96-4d83-8e08-ff3604004199",
      "metadata": {
        "id": "ca2516a0-7f96-4d83-8e08-ff3604004199"
      },
      "outputs": [],
      "source": []
    },
    {
      "cell_type": "code",
      "execution_count": null,
      "id": "29d5ed54-2602-48b6-8c67-de2011fec657",
      "metadata": {
        "id": "29d5ed54-2602-48b6-8c67-de2011fec657"
      },
      "outputs": [],
      "source": [
        "df_balanced"
      ]
    },
    {
      "cell_type": "code",
      "execution_count": null,
      "id": "4d28999b-3549-4c7d-8980-21fad636768c",
      "metadata": {
        "id": "4d28999b-3549-4c7d-8980-21fad636768c"
      },
      "outputs": [],
      "source": [
        "df_balanced[\"SleepCategory\"] = pd.cut(df_balanced[\"SleepTime\"],\n",
        "                             bins=[0,6,8,24],\n",
        "                             labels=[\"Short\",\"Normal\",\"Long\"])"
      ]
    },
    {
      "cell_type": "code",
      "execution_count": null,
      "id": "e9150120-024c-4e8d-9ac5-13906e15e324",
      "metadata": {
        "id": "e9150120-024c-4e8d-9ac5-13906e15e324"
      },
      "outputs": [],
      "source": [
        "def categorize_sleep(sleep):\n",
        "    if sleep < 6:\n",
        "        return \"Short\"\n",
        "    elif sleep <= 8:\n",
        "        return \"Normal\"\n",
        "    else:\n",
        "        return \"Long\"\n",
        "\n",
        "df_balanced[\"SleepCategory\"] = df_balanced[\"SleepTime\"].apply(categorize_sleep)"
      ]
    },
    {
      "cell_type": "code",
      "execution_count": null,
      "id": "f6c1d0f0-fcfa-46c7-abd1-598469a12741",
      "metadata": {
        "id": "f6c1d0f0-fcfa-46c7-abd1-598469a12741",
        "outputId": "2ff9cb4d-c9aa-4664-f679-60667760dd32"
      },
      "outputs": [
        {
          "data": {
            "text/html": [
              "<div>\n",
              "<style scoped>\n",
              "    .dataframe tbody tr th:only-of-type {\n",
              "        vertical-align: middle;\n",
              "    }\n",
              "\n",
              "    .dataframe tbody tr th {\n",
              "        vertical-align: top;\n",
              "    }\n",
              "\n",
              "    .dataframe thead th {\n",
              "        text-align: right;\n",
              "    }\n",
              "</style>\n",
              "<table border=\"1\" class=\"dataframe\">\n",
              "  <thead>\n",
              "    <tr style=\"text-align: right;\">\n",
              "      <th></th>\n",
              "      <th>SleepTime</th>\n",
              "      <th>SleepCategory</th>\n",
              "    </tr>\n",
              "  </thead>\n",
              "  <tbody>\n",
              "    <tr>\n",
              "      <th>0</th>\n",
              "      <td>8.0</td>\n",
              "      <td>Normal</td>\n",
              "    </tr>\n",
              "    <tr>\n",
              "      <th>1</th>\n",
              "      <td>8.0</td>\n",
              "      <td>Normal</td>\n",
              "    </tr>\n",
              "    <tr>\n",
              "      <th>2</th>\n",
              "      <td>8.0</td>\n",
              "      <td>Normal</td>\n",
              "    </tr>\n",
              "    <tr>\n",
              "      <th>3</th>\n",
              "      <td>8.0</td>\n",
              "      <td>Normal</td>\n",
              "    </tr>\n",
              "    <tr>\n",
              "      <th>4</th>\n",
              "      <td>3.0</td>\n",
              "      <td>Short</td>\n",
              "    </tr>\n",
              "  </tbody>\n",
              "</table>\n",
              "</div>"
            ],
            "text/plain": [
              "   SleepTime SleepCategory\n",
              "0        8.0        Normal\n",
              "1        8.0        Normal\n",
              "2        8.0        Normal\n",
              "3        8.0        Normal\n",
              "4        3.0         Short"
            ]
          },
          "execution_count": 46,
          "metadata": {},
          "output_type": "execute_result"
        }
      ],
      "source": [
        "df_balanced[[\"SleepTime\", \"SleepCategory\"]].head()"
      ]
    },
    {
      "cell_type": "code",
      "execution_count": null,
      "id": "0d503a7f-99f7-476a-b2e9-d19fd7f4db03",
      "metadata": {
        "scrolled": true,
        "id": "0d503a7f-99f7-476a-b2e9-d19fd7f4db03",
        "outputId": "689e36b9-0274-4968-90e2-550ce1814122"
      },
      "outputs": [
        {
          "data": {
            "text/html": [
              "<div>\n",
              "<style scoped>\n",
              "    .dataframe tbody tr th:only-of-type {\n",
              "        vertical-align: middle;\n",
              "    }\n",
              "\n",
              "    .dataframe tbody tr th {\n",
              "        vertical-align: top;\n",
              "    }\n",
              "\n",
              "    .dataframe thead th {\n",
              "        text-align: right;\n",
              "    }\n",
              "</style>\n",
              "<table border=\"1\" class=\"dataframe\">\n",
              "  <thead>\n",
              "    <tr style=\"text-align: right;\">\n",
              "      <th>HeartDisease</th>\n",
              "      <th>No</th>\n",
              "      <th>Yes</th>\n",
              "    </tr>\n",
              "    <tr>\n",
              "      <th>SleepCategory</th>\n",
              "      <th></th>\n",
              "      <th></th>\n",
              "    </tr>\n",
              "  </thead>\n",
              "  <tbody>\n",
              "    <tr>\n",
              "      <th>Long</th>\n",
              "      <td>2983</td>\n",
              "      <td>4263</td>\n",
              "    </tr>\n",
              "    <tr>\n",
              "      <th>Normal</th>\n",
              "      <td>22000</td>\n",
              "      <td>19468</td>\n",
              "    </tr>\n",
              "    <tr>\n",
              "      <th>Short</th>\n",
              "      <td>2389</td>\n",
              "      <td>3641</td>\n",
              "    </tr>\n",
              "  </tbody>\n",
              "</table>\n",
              "</div>"
            ],
            "text/plain": [
              "HeartDisease      No    Yes\n",
              "SleepCategory              \n",
              "Long            2983   4263\n",
              "Normal         22000  19468\n",
              "Short           2389   3641"
            ]
          },
          "execution_count": 47,
          "metadata": {},
          "output_type": "execute_result"
        }
      ],
      "source": [
        "df_balanced.groupby([\"SleepCategory\",\"HeartDisease\"]).size().unstack(fill_value=0) # fill_value if any cat include nan return 0"
      ]
    },
    {
      "cell_type": "code",
      "execution_count": null,
      "id": "367563d9-f55d-4ad5-a9d3-73179b4eb8ec",
      "metadata": {
        "id": "367563d9-f55d-4ad5-a9d3-73179b4eb8ec",
        "outputId": "06ccd279-cf75-4b2d-d2b5-6fc5b6f7a3f7"
      },
      "outputs": [
        {
          "data": {
            "text/html": [
              "<div>\n",
              "<style scoped>\n",
              "    .dataframe tbody tr th:only-of-type {\n",
              "        vertical-align: middle;\n",
              "    }\n",
              "\n",
              "    .dataframe tbody tr th {\n",
              "        vertical-align: top;\n",
              "    }\n",
              "\n",
              "    .dataframe thead th {\n",
              "        text-align: right;\n",
              "    }\n",
              "</style>\n",
              "<table border=\"1\" class=\"dataframe\">\n",
              "  <thead>\n",
              "    <tr style=\"text-align: right;\">\n",
              "      <th>HeartDisease</th>\n",
              "      <th>No</th>\n",
              "      <th>Yes</th>\n",
              "    </tr>\n",
              "    <tr>\n",
              "      <th>SleepCategory</th>\n",
              "      <th></th>\n",
              "      <th></th>\n",
              "    </tr>\n",
              "  </thead>\n",
              "  <tbody>\n",
              "    <tr>\n",
              "      <th>Long</th>\n",
              "      <td>41.167541</td>\n",
              "      <td>58.832459</td>\n",
              "    </tr>\n",
              "    <tr>\n",
              "      <th>Normal</th>\n",
              "      <td>53.052956</td>\n",
              "      <td>46.947044</td>\n",
              "    </tr>\n",
              "    <tr>\n",
              "      <th>Short</th>\n",
              "      <td>39.618574</td>\n",
              "      <td>60.381426</td>\n",
              "    </tr>\n",
              "  </tbody>\n",
              "</table>\n",
              "</div>"
            ],
            "text/plain": [
              "HeartDisease          No        Yes\n",
              "SleepCategory                      \n",
              "Long           41.167541  58.832459\n",
              "Normal         53.052956  46.947044\n",
              "Short          39.618574  60.381426"
            ]
          },
          "execution_count": 48,
          "metadata": {},
          "output_type": "execute_result"
        }
      ],
      "source": [
        "pd.crosstab(df_balanced[\"SleepCategory\"], df_balanced[\"HeartDisease\"], normalize=\"index\") * 100"
      ]
    },
    {
      "cell_type": "code",
      "execution_count": null,
      "id": "8de23b3d-45c4-45fd-ac8d-9b4580c38a97",
      "metadata": {
        "id": "8de23b3d-45c4-45fd-ac8d-9b4580c38a97",
        "outputId": "b1393cf1-8ba7-4b3c-8c7f-520e5d3da74f"
      },
      "outputs": [
        {
          "data": {
            "text/plain": [
              "SleepCategory\n",
              "Normal    75.748941\n",
              "Long      13.236154\n",
              "Short     11.014906\n",
              "Name: proportion, dtype: float64"
            ]
          },
          "execution_count": 49,
          "metadata": {},
          "output_type": "execute_result"
        }
      ],
      "source": [
        "df_balanced[\"SleepCategory\"].value_counts(normalize=True) * 100"
      ]
    },
    {
      "cell_type": "code",
      "execution_count": null,
      "id": "abe13766-1c5a-488c-b778-e44800576cbc",
      "metadata": {
        "id": "abe13766-1c5a-488c-b778-e44800576cbc"
      },
      "outputs": [],
      "source": []
    },
    {
      "cell_type": "code",
      "execution_count": null,
      "id": "6dcd4fb6-838f-4fbe-8a30-553039485fcd",
      "metadata": {
        "id": "6dcd4fb6-838f-4fbe-8a30-553039485fcd"
      },
      "outputs": [],
      "source": [
        "df_balanced.groupby([\"GenHealth\",\"HeartDisease\"]).size().unstack(fill_value=0) # fill_value if any cat include nan return 0"
      ]
    },
    {
      "cell_type": "code",
      "execution_count": null,
      "id": "0b538aed-1109-48cf-9fa9-afe1ef72af03",
      "metadata": {
        "id": "0b538aed-1109-48cf-9fa9-afe1ef72af03"
      },
      "outputs": [],
      "source": [
        "df_balanced[\"GenHealth\"].value_counts(normalize=True) * 100"
      ]
    },
    {
      "cell_type": "markdown",
      "id": "5f2c5e0a-f6f6-4927-8961-66075e8dbbd0",
      "metadata": {
        "id": "5f2c5e0a-f6f6-4927-8961-66075e8dbbd0"
      },
      "source": [
        "### **Insights**\n",
        "\n",
        "#### **Strong correlation between GenHealth & HeartDisease**\n",
        "\n",
        "* People with **Poor** health → **85% have heart disease** ✅ **(highest risk group)**.\n",
        "* People with **Fair** health → **74% have heart disease**.\n",
        "* People with **Good** health → **55% have heart disease**.\n",
        "* People with **Very good** health → **35% have heart disease**.\n",
        "* People with **Excellent** health → **only 20% have heart disease** ✅ **(lowest risk group)**.\n"
      ]
    },
    {
      "cell_type": "markdown",
      "id": "44eae196-0e43-43a6-bf82-abb1a786d2d5",
      "metadata": {
        "id": "44eae196-0e43-43a6-bf82-abb1a786d2d5"
      },
      "source": [
        "---\n",
        "### **🔹 Analytical Question**\n",
        "\n",
        "> **\"Does smoking significantly increase the risk of heart disease?\"**\n",
        "\n",
        "We want to analyze if **smokers** have a higher chance of getting **heart disease** compared to **non-smokers**.\n"
      ]
    },
    {
      "cell_type": "code",
      "execution_count": null,
      "id": "655b51fb-dc93-443c-96d4-81fd6b02d9e7",
      "metadata": {
        "id": "655b51fb-dc93-443c-96d4-81fd6b02d9e7",
        "outputId": "7b58f5d4-c074-4bc9-eaef-10e2ec2de743"
      },
      "outputs": [
        {
          "data": {
            "text/html": [
              "<div>\n",
              "<style scoped>\n",
              "    .dataframe tbody tr th:only-of-type {\n",
              "        vertical-align: middle;\n",
              "    }\n",
              "\n",
              "    .dataframe tbody tr th {\n",
              "        vertical-align: top;\n",
              "    }\n",
              "\n",
              "    .dataframe thead th {\n",
              "        text-align: right;\n",
              "    }\n",
              "</style>\n",
              "<table border=\"1\" class=\"dataframe\">\n",
              "  <thead>\n",
              "    <tr style=\"text-align: right;\">\n",
              "      <th>HeartDisease</th>\n",
              "      <th>No</th>\n",
              "      <th>Yes</th>\n",
              "    </tr>\n",
              "    <tr>\n",
              "      <th>Smoking</th>\n",
              "      <th></th>\n",
              "      <th></th>\n",
              "    </tr>\n",
              "  </thead>\n",
              "  <tbody>\n",
              "    <tr>\n",
              "      <th>No</th>\n",
              "      <td>16526</td>\n",
              "      <td>11335</td>\n",
              "    </tr>\n",
              "    <tr>\n",
              "      <th>Yes</th>\n",
              "      <td>10846</td>\n",
              "      <td>16037</td>\n",
              "    </tr>\n",
              "  </tbody>\n",
              "</table>\n",
              "</div>"
            ],
            "text/plain": [
              "HeartDisease     No    Yes\n",
              "Smoking                   \n",
              "No            16526  11335\n",
              "Yes           10846  16037"
            ]
          },
          "execution_count": 50,
          "metadata": {},
          "output_type": "execute_result"
        }
      ],
      "source": [
        "df_balanced.groupby([\"Smoking\", \"HeartDisease\"]).size().unstack(fill_value=0)"
      ]
    },
    {
      "cell_type": "code",
      "execution_count": null,
      "id": "78a1b1a5-100d-45bb-bc9d-05f970e45b07",
      "metadata": {
        "id": "78a1b1a5-100d-45bb-bc9d-05f970e45b07",
        "outputId": "81e581b3-d351-4b21-cc45-5f6d94951872"
      },
      "outputs": [
        {
          "data": {
            "text/plain": [
              "Smoking\n",
              "Yes    58.589069\n",
              "No     41.410931\n",
              "Name: proportion, dtype: float64"
            ]
          },
          "execution_count": 51,
          "metadata": {},
          "output_type": "execute_result"
        }
      ],
      "source": [
        "heart_patients = df_balanced[df_balanced[\"HeartDisease\"] == \"Yes\"]\n",
        "heart_patients[\"Smoking\"].value_counts(normalize=True) * 100"
      ]
    },
    {
      "cell_type": "code",
      "execution_count": null,
      "id": "5fe0e3d0-8704-41c0-b071-28211b5e787f",
      "metadata": {
        "id": "5fe0e3d0-8704-41c0-b071-28211b5e787f"
      },
      "outputs": [],
      "source": [
        "smoking_comparison = pd.crosstab(df_balanced[\"Smoking\"], df_balanced[\"HeartDisease\"], normalize=\"index\") * 100\n",
        "smoking_comparison"
      ]
    },
    {
      "cell_type": "code",
      "execution_count": null,
      "id": "40b2f6f1-d861-469d-98d2-e1d8adbb884d",
      "metadata": {
        "id": "40b2f6f1-d861-469d-98d2-e1d8adbb884d"
      },
      "outputs": [],
      "source": []
    },
    {
      "cell_type": "markdown",
      "id": "3d22c24e-d955-423c-858d-652eb33f2496",
      "metadata": {
        "id": "3d22c24e-d955-423c-858d-652eb33f2496"
      },
      "source": [
        "\n",
        "### **Insights**\n",
        "\n",
        "#### **Smoking strongly increases heart disease risk**\n",
        "\n",
        "* Among **smokers**, **59.65%** have heart disease.\n",
        "* Among **non-smokers**, only **40.68%** have heart disease.\n",
        "* **Conclusion → Smokers are \\~1.5 times more likely** to suffer from heart disease.\n",
        "\n",
        "#### **Analytical Conclusion**\n",
        "\n",
        "* Smoking **significantly increases** the risk of heart disease.\n",
        "* People who smoke are **\\~50% more likely** to develop heart disease compared to non-smokers.\n",
        "* This makes **smoking** one of the **most important lifestyle risk factors** in our dataset."
      ]
    },
    {
      "cell_type": "code",
      "execution_count": null,
      "id": "b49d9adc-60db-4b2d-ab67-d4178f2e0cea",
      "metadata": {
        "id": "b49d9adc-60db-4b2d-ab67-d4178f2e0cea"
      },
      "outputs": [],
      "source": []
    },
    {
      "cell_type": "code",
      "execution_count": null,
      "id": "61f2a2a6-4255-4a5f-abaa-bbd443994dd3",
      "metadata": {
        "id": "61f2a2a6-4255-4a5f-abaa-bbd443994dd3",
        "outputId": "8605918c-f279-4ed3-e3dc-a9f3dd78b89e"
      },
      "outputs": [
        {
          "data": {
            "text/html": [
              "<div>\n",
              "<style scoped>\n",
              "    .dataframe tbody tr th:only-of-type {\n",
              "        vertical-align: middle;\n",
              "    }\n",
              "\n",
              "    .dataframe tbody tr th {\n",
              "        vertical-align: top;\n",
              "    }\n",
              "\n",
              "    .dataframe thead th {\n",
              "        text-align: right;\n",
              "    }\n",
              "</style>\n",
              "<table border=\"1\" class=\"dataframe\">\n",
              "  <thead>\n",
              "    <tr style=\"text-align: right;\">\n",
              "      <th></th>\n",
              "      <th>HeartDisease</th>\n",
              "      <th>BMI</th>\n",
              "      <th>Smoking</th>\n",
              "      <th>AlcoholDrinking</th>\n",
              "      <th>Stroke</th>\n",
              "      <th>PhysicalHealth</th>\n",
              "      <th>MentalHealth</th>\n",
              "      <th>DiffWalking</th>\n",
              "      <th>Sex</th>\n",
              "      <th>AgeCategory</th>\n",
              "      <th>Race</th>\n",
              "      <th>Diabetic</th>\n",
              "      <th>PhysicalActivity</th>\n",
              "      <th>GenHealth</th>\n",
              "      <th>SleepTime</th>\n",
              "      <th>Asthma</th>\n",
              "      <th>KidneyDisease</th>\n",
              "      <th>SkinCancer</th>\n",
              "      <th>Elderly</th>\n",
              "    </tr>\n",
              "  </thead>\n",
              "  <tbody>\n",
              "    <tr>\n",
              "      <th>2</th>\n",
              "      <td>No</td>\n",
              "      <td>NaN</td>\n",
              "      <td>Yes</td>\n",
              "      <td>No</td>\n",
              "      <td>No</td>\n",
              "      <td>20</td>\n",
              "      <td>30</td>\n",
              "      <td>No</td>\n",
              "      <td>Male</td>\n",
              "      <td>65-69</td>\n",
              "      <td>White</td>\n",
              "      <td>Yes</td>\n",
              "      <td>Yes</td>\n",
              "      <td>Fair</td>\n",
              "      <td>8.0</td>\n",
              "      <td>Yes</td>\n",
              "      <td>No</td>\n",
              "      <td>No</td>\n",
              "      <td>Yes</td>\n",
              "    </tr>\n",
              "    <tr>\n",
              "      <th>11</th>\n",
              "      <td>No</td>\n",
              "      <td>NaN</td>\n",
              "      <td>Yes</td>\n",
              "      <td>No</td>\n",
              "      <td>No</td>\n",
              "      <td>0</td>\n",
              "      <td>0</td>\n",
              "      <td>No</td>\n",
              "      <td>Female</td>\n",
              "      <td>55-59</td>\n",
              "      <td>White</td>\n",
              "      <td>No</td>\n",
              "      <td>Yes</td>\n",
              "      <td>Very good</td>\n",
              "      <td>5.0</td>\n",
              "      <td>No</td>\n",
              "      <td>No</td>\n",
              "      <td>No</td>\n",
              "      <td>Yes</td>\n",
              "    </tr>\n",
              "    <tr>\n",
              "      <th>13</th>\n",
              "      <td>No</td>\n",
              "      <td>NaN</td>\n",
              "      <td>No</td>\n",
              "      <td>No</td>\n",
              "      <td>No</td>\n",
              "      <td>7</td>\n",
              "      <td>0</td>\n",
              "      <td>Yes</td>\n",
              "      <td>Female</td>\n",
              "      <td>80 or older</td>\n",
              "      <td>White</td>\n",
              "      <td>No</td>\n",
              "      <td>No</td>\n",
              "      <td>Good</td>\n",
              "      <td>7.0</td>\n",
              "      <td>No</td>\n",
              "      <td>No</td>\n",
              "      <td>No</td>\n",
              "      <td>Yes</td>\n",
              "    </tr>\n",
              "    <tr>\n",
              "      <th>14</th>\n",
              "      <td>No</td>\n",
              "      <td>NaN</td>\n",
              "      <td>Yes</td>\n",
              "      <td>No</td>\n",
              "      <td>No</td>\n",
              "      <td>0</td>\n",
              "      <td>30</td>\n",
              "      <td>Yes</td>\n",
              "      <td>Female</td>\n",
              "      <td>60-64</td>\n",
              "      <td>White</td>\n",
              "      <td>No</td>\n",
              "      <td>No</td>\n",
              "      <td>Good</td>\n",
              "      <td>5.0</td>\n",
              "      <td>No</td>\n",
              "      <td>No</td>\n",
              "      <td>No</td>\n",
              "      <td>Yes</td>\n",
              "    </tr>\n",
              "    <tr>\n",
              "      <th>19</th>\n",
              "      <td>No</td>\n",
              "      <td>NaN</td>\n",
              "      <td>No</td>\n",
              "      <td>No</td>\n",
              "      <td>No</td>\n",
              "      <td>0</td>\n",
              "      <td>0</td>\n",
              "      <td>No</td>\n",
              "      <td>Male</td>\n",
              "      <td>80 or older</td>\n",
              "      <td>White</td>\n",
              "      <td>No</td>\n",
              "      <td>Yes</td>\n",
              "      <td>Excellent</td>\n",
              "      <td>8.0</td>\n",
              "      <td>No</td>\n",
              "      <td>No</td>\n",
              "      <td>Yes</td>\n",
              "      <td>Yes</td>\n",
              "    </tr>\n",
              "    <tr>\n",
              "      <th>...</th>\n",
              "      <td>...</td>\n",
              "      <td>...</td>\n",
              "      <td>...</td>\n",
              "      <td>...</td>\n",
              "      <td>...</td>\n",
              "      <td>...</td>\n",
              "      <td>...</td>\n",
              "      <td>...</td>\n",
              "      <td>...</td>\n",
              "      <td>...</td>\n",
              "      <td>...</td>\n",
              "      <td>...</td>\n",
              "      <td>...</td>\n",
              "      <td>...</td>\n",
              "      <td>...</td>\n",
              "      <td>...</td>\n",
              "      <td>...</td>\n",
              "      <td>...</td>\n",
              "      <td>...</td>\n",
              "    </tr>\n",
              "    <tr>\n",
              "      <th>319768</th>\n",
              "      <td>No</td>\n",
              "      <td>NaN</td>\n",
              "      <td>No</td>\n",
              "      <td>No</td>\n",
              "      <td>No</td>\n",
              "      <td>0</td>\n",
              "      <td>0</td>\n",
              "      <td>No</td>\n",
              "      <td>Male</td>\n",
              "      <td>65-69</td>\n",
              "      <td>Hispanic</td>\n",
              "      <td>Yes</td>\n",
              "      <td>Yes</td>\n",
              "      <td>Good</td>\n",
              "      <td>7.0</td>\n",
              "      <td>No</td>\n",
              "      <td>No</td>\n",
              "      <td>No</td>\n",
              "      <td>Yes</td>\n",
              "    </tr>\n",
              "    <tr>\n",
              "      <th>319769</th>\n",
              "      <td>No</td>\n",
              "      <td>NaN</td>\n",
              "      <td>No</td>\n",
              "      <td>No</td>\n",
              "      <td>No</td>\n",
              "      <td>0</td>\n",
              "      <td>0</td>\n",
              "      <td>No</td>\n",
              "      <td>Female</td>\n",
              "      <td>45-49</td>\n",
              "      <td>Hispanic</td>\n",
              "      <td>No</td>\n",
              "      <td>No</td>\n",
              "      <td>Very good</td>\n",
              "      <td>6.0</td>\n",
              "      <td>No</td>\n",
              "      <td>No</td>\n",
              "      <td>No</td>\n",
              "      <td>NO</td>\n",
              "    </tr>\n",
              "    <tr>\n",
              "      <th>319777</th>\n",
              "      <td>No</td>\n",
              "      <td>NaN</td>\n",
              "      <td>No</td>\n",
              "      <td>No</td>\n",
              "      <td>No</td>\n",
              "      <td>0</td>\n",
              "      <td>0</td>\n",
              "      <td>No</td>\n",
              "      <td>Female</td>\n",
              "      <td>25-29</td>\n",
              "      <td>Hispanic</td>\n",
              "      <td>No</td>\n",
              "      <td>No</td>\n",
              "      <td>Very good</td>\n",
              "      <td>8.0</td>\n",
              "      <td>No</td>\n",
              "      <td>No</td>\n",
              "      <td>No</td>\n",
              "      <td>NO</td>\n",
              "    </tr>\n",
              "    <tr>\n",
              "      <th>319780</th>\n",
              "      <td>Yes</td>\n",
              "      <td>NaN</td>\n",
              "      <td>Yes</td>\n",
              "      <td>No</td>\n",
              "      <td>No</td>\n",
              "      <td>0</td>\n",
              "      <td>0</td>\n",
              "      <td>No</td>\n",
              "      <td>Male</td>\n",
              "      <td>35-39</td>\n",
              "      <td>Hispanic</td>\n",
              "      <td>No</td>\n",
              "      <td>Yes</td>\n",
              "      <td>Very good</td>\n",
              "      <td>7.0</td>\n",
              "      <td>No</td>\n",
              "      <td>No</td>\n",
              "      <td>No</td>\n",
              "      <td>NO</td>\n",
              "    </tr>\n",
              "    <tr>\n",
              "      <th>319793</th>\n",
              "      <td>No</td>\n",
              "      <td>NaN</td>\n",
              "      <td>No</td>\n",
              "      <td>No</td>\n",
              "      <td>No</td>\n",
              "      <td>0</td>\n",
              "      <td>0</td>\n",
              "      <td>No</td>\n",
              "      <td>Female</td>\n",
              "      <td>80 or older</td>\n",
              "      <td>Hispanic</td>\n",
              "      <td>No</td>\n",
              "      <td>Yes</td>\n",
              "      <td>Good</td>\n",
              "      <td>8.0</td>\n",
              "      <td>No</td>\n",
              "      <td>No</td>\n",
              "      <td>No</td>\n",
              "      <td>Yes</td>\n",
              "    </tr>\n",
              "  </tbody>\n",
              "</table>\n",
              "<p>31979 rows × 19 columns</p>\n",
              "</div>"
            ],
            "text/plain": [
              "       HeartDisease  BMI Smoking AlcoholDrinking Stroke  PhysicalHealth  \\\n",
              "2                No  NaN     Yes              No     No              20   \n",
              "11               No  NaN     Yes              No     No               0   \n",
              "13               No  NaN      No              No     No               7   \n",
              "14               No  NaN     Yes              No     No               0   \n",
              "19               No  NaN      No              No     No               0   \n",
              "...             ...  ...     ...             ...    ...             ...   \n",
              "319768           No  NaN      No              No     No               0   \n",
              "319769           No  NaN      No              No     No               0   \n",
              "319777           No  NaN      No              No     No               0   \n",
              "319780          Yes  NaN     Yes              No     No               0   \n",
              "319793           No  NaN      No              No     No               0   \n",
              "\n",
              "        MentalHealth DiffWalking     Sex  AgeCategory      Race Diabetic  \\\n",
              "2                 30          No    Male        65-69     White      Yes   \n",
              "11                 0          No  Female        55-59     White       No   \n",
              "13                 0         Yes  Female  80 or older     White       No   \n",
              "14                30         Yes  Female        60-64     White       No   \n",
              "19                 0          No    Male  80 or older     White       No   \n",
              "...              ...         ...     ...          ...       ...      ...   \n",
              "319768             0          No    Male        65-69  Hispanic      Yes   \n",
              "319769             0          No  Female        45-49  Hispanic       No   \n",
              "319777             0          No  Female        25-29  Hispanic       No   \n",
              "319780             0          No    Male        35-39  Hispanic       No   \n",
              "319793             0          No  Female  80 or older  Hispanic       No   \n",
              "\n",
              "       PhysicalActivity  GenHealth  SleepTime Asthma KidneyDisease SkinCancer  \\\n",
              "2                   Yes       Fair        8.0    Yes            No         No   \n",
              "11                  Yes  Very good        5.0     No            No         No   \n",
              "13                   No       Good        7.0     No            No         No   \n",
              "14                   No       Good        5.0     No            No         No   \n",
              "19                  Yes  Excellent        8.0     No            No        Yes   \n",
              "...                 ...        ...        ...    ...           ...        ...   \n",
              "319768              Yes       Good        7.0     No            No         No   \n",
              "319769               No  Very good        6.0     No            No         No   \n",
              "319777               No  Very good        8.0     No            No         No   \n",
              "319780              Yes  Very good        7.0     No            No         No   \n",
              "319793              Yes       Good        8.0     No            No         No   \n",
              "\n",
              "       Elderly  \n",
              "2          Yes  \n",
              "11         Yes  \n",
              "13         Yes  \n",
              "14         Yes  \n",
              "19         Yes  \n",
              "...        ...  \n",
              "319768     Yes  \n",
              "319769      NO  \n",
              "319777      NO  \n",
              "319780      NO  \n",
              "319793     Yes  \n",
              "\n",
              "[31979 rows x 19 columns]"
            ]
          },
          "execution_count": 52,
          "metadata": {},
          "output_type": "execute_result"
        }
      ],
      "source": [
        "df[df[\"BMI\"].isnull()]"
      ]
    },
    {
      "cell_type": "code",
      "execution_count": null,
      "id": "0c8b102f-cf66-4cc8-992d-4079f4f03a37",
      "metadata": {
        "id": "0c8b102f-cf66-4cc8-992d-4079f4f03a37",
        "outputId": "8d815b51-80d3-49ba-ee2f-032083cf69ba"
      },
      "outputs": [
        {
          "data": {
            "text/plain": [
              "np.int64(0)"
            ]
          },
          "execution_count": 59,
          "metadata": {},
          "output_type": "execute_result"
        }
      ],
      "source": [
        "df_balanced[\"BMI\"].isnull().sum()"
      ]
    },
    {
      "cell_type": "code",
      "execution_count": null,
      "id": "e1d49b9c-a9bd-48c2-aa4e-24aa3a4e6337",
      "metadata": {
        "id": "e1d49b9c-a9bd-48c2-aa4e-24aa3a4e6337",
        "outputId": "d3930136-0373-4a3a-be42-1dfba97e1c9d"
      },
      "outputs": [
        {
          "name": "stderr",
          "output_type": "stream",
          "text": [
            "C:\\Users\\Nima\\AppData\\Local\\Temp\\ipykernel_19352\\2479094655.py:1: FutureWarning: A value is trying to be set on a copy of a DataFrame or Series through chained assignment using an inplace method.\n",
            "The behavior will change in pandas 3.0. This inplace method will never work because the intermediate object on which we are setting values always behaves as a copy.\n",
            "\n",
            "For example, when doing 'df[col].method(value, inplace=True)', try using 'df.method({col: value}, inplace=True)' or df[col] = df[col].method(value) instead, to perform the operation inplace on the original object.\n",
            "\n",
            "\n",
            "  df[\"BMI\"].fillna(df[\"BMI\"].mean(), inplace=True)\n"
          ]
        }
      ],
      "source": [
        "df[\"BMI\"].fillna(df[\"BMI\"].mean(), inplace=True)"
      ]
    },
    {
      "cell_type": "code",
      "execution_count": null,
      "id": "1e78a5e2-8f5c-42b9-82ed-c9c1ec26c22a",
      "metadata": {
        "id": "1e78a5e2-8f5c-42b9-82ed-c9c1ec26c22a",
        "outputId": "c1b2cee6-c4c7-4c8e-ce43-85d6a523b3d0"
      },
      "outputs": [
        {
          "data": {
            "text/plain": [
              "np.int64(0)"
            ]
          },
          "execution_count": 55,
          "metadata": {},
          "output_type": "execute_result"
        }
      ],
      "source": [
        "df[\"BMI\"].isnull().sum()"
      ]
    },
    {
      "cell_type": "code",
      "execution_count": null,
      "id": "8299e6ce-c66e-431a-bd51-c07d52e2524f",
      "metadata": {
        "id": "8299e6ce-c66e-431a-bd51-c07d52e2524f"
      },
      "outputs": [],
      "source": [
        "df_balanced['BMI'] = df_balanced['BMI'].fillna(df_balanced.groupby('HeartDisease')['BMI'].transform('mean'))"
      ]
    },
    {
      "cell_type": "code",
      "execution_count": null,
      "id": "3282e5a1-0859-41f6-b473-ba2c28b8037c",
      "metadata": {
        "id": "3282e5a1-0859-41f6-b473-ba2c28b8037c"
      },
      "outputs": [],
      "source": [
        "df['BMI'] = df['BMI'].fillna(df.groupby('HeartDisease')['BMI'].transform('median'))\n",
        "df['BMI'] = df['BMI'].fillna(df['BMI'].median())"
      ]
    },
    {
      "cell_type": "code",
      "execution_count": null,
      "id": "88834922-6e4f-4785-b792-a8a47765de7e",
      "metadata": {
        "id": "88834922-6e4f-4785-b792-a8a47765de7e",
        "outputId": "f7941938-9809-494b-c052-c18683eb4df5"
      },
      "outputs": [
        {
          "name": "stderr",
          "output_type": "stream",
          "text": [
            "C:\\Users\\Nima\\AppData\\Local\\Temp\\ipykernel_19352\\748691372.py:2: FutureWarning: A value is trying to be set on a copy of a DataFrame or Series through chained assignment using an inplace method.\n",
            "The behavior will change in pandas 3.0. This inplace method will never work because the intermediate object on which we are setting values always behaves as a copy.\n",
            "\n",
            "For example, when doing 'df[col].method(value, inplace=True)', try using 'df.method({col: value}, inplace=True)' or df[col] = df[col].method(value) instead, to perform the operation inplace on the original object.\n",
            "\n",
            "\n",
            "  df[\"SkinCancer\"].fillna(df[\"SkinCancer\"].mode()[0], inplace=True)\n"
          ]
        }
      ],
      "source": [
        "# Fill NaNs in SkinCancer with the most frequent value (mode)\n",
        "df_balanced[\"SkinCancer\"].fillna(df_balanced[\"SkinCancer\"].mode()[0], inplace=True)"
      ]
    },
    {
      "cell_type": "code",
      "execution_count": null,
      "id": "d63c76c5-28c2-461d-ae92-1a55f96aef1b",
      "metadata": {
        "id": "d63c76c5-28c2-461d-ae92-1a55f96aef1b",
        "outputId": "54b04299-f438-488d-c4d7-af7b1902ede0"
      },
      "outputs": [
        {
          "name": "stdout",
          "output_type": "stream",
          "text": [
            "3891\n",
            "SkinCancer\n",
            "No     44018\n",
            "Yes     6835\n",
            "Name: count, dtype: int64\n"
          ]
        }
      ],
      "source": [
        "print(df_balanced[\"SkinCancer\"].isnull().sum())\n",
        "print(df_balanced[\"SkinCancer\"].value_counts())"
      ]
    },
    {
      "cell_type": "code",
      "execution_count": null,
      "id": "c2835e89-27dc-490d-9878-20bd3b3d612b",
      "metadata": {
        "id": "c2835e89-27dc-490d-9878-20bd3b3d612b"
      },
      "outputs": [],
      "source": [
        "df_balanced[\"SkinCancer\"] = df_balanced.groupby(\"HeartDisease\")[\"SkinCancer\"].transform(\n",
        "    lambda x: x.fillna(x.mode()[0]))"
      ]
    },
    {
      "cell_type": "code",
      "execution_count": null,
      "id": "1931e8a0-cec7-45cf-a8c7-adfb8c27e493",
      "metadata": {
        "id": "1931e8a0-cec7-45cf-a8c7-adfb8c27e493",
        "outputId": "16ed4418-5eac-47e2-b508-dba26f0f0da1"
      },
      "outputs": [
        {
          "name": "stdout",
          "output_type": "stream",
          "text": [
            "0\n"
          ]
        }
      ],
      "source": [
        "print(df_balanced[\"SkinCancer\"].isnull().sum())"
      ]
    },
    {
      "cell_type": "markdown",
      "id": "86dd7f2e-0fee-4ad6-bbc9-bb2619c9e1e8",
      "metadata": {
        "id": "86dd7f2e-0fee-4ad6-bbc9-bb2619c9e1e8"
      },
      "source": [
        "<div style=\"background-color:#28a745; padding:15px; border-radius:10px; text-align:center; display:flex; justify-content:center; align-items:center; gap:12px;\">\n",
        "    <img src=\"attachment:3f91443c-7322-410d-98ba-257cc58c136c.jpg\" alt=\"Evergreen Logo\" style=\"width:70px; height:70px; border-radius:50%;\">\n",
        "    <h1 style=\"color:white; font-size:40px; font-weight:bold; margin:0;\">\n",
        "        Evergreen.ai\n",
        "    </h1>\n",
        "\n",
        "<div style=\"margin-left:auto; padding-right:10px;\">\n",
        "        <h2 style=\"color:white; font-size:30px; font-weight:600; margin:0;\">\n",
        "            Eng / Mahmoud Talaat ->\n",
        "            Thanks\n",
        "        </h2>\n",
        "        <h2 style=\"color:white; font-size:30px; font-weight:600; margin:0;\">\n",
        "            01146544662\n",
        "        </h2>\n",
        "</div>\n",
        "</div>\n"
      ]
    },
    {
      "cell_type": "code",
      "execution_count": null,
      "id": "8ee6e0bc-0f2a-4d13-bba7-9730e252e07f",
      "metadata": {
        "id": "8ee6e0bc-0f2a-4d13-bba7-9730e252e07f"
      },
      "outputs": [],
      "source": []
    }
  ],
  "metadata": {
    "kernelspec": {
      "display_name": "Python 3 (ipykernel)",
      "language": "python",
      "name": "python3"
    },
    "language_info": {
      "codemirror_mode": {
        "name": "ipython",
        "version": 3
      },
      "file_extension": ".py",
      "mimetype": "text/x-python",
      "name": "python",
      "nbconvert_exporter": "python",
      "pygments_lexer": "ipython3",
      "version": "3.13.5"
    },
    "colab": {
      "provenance": [],
      "include_colab_link": true
    }
  },
  "nbformat": 4,
  "nbformat_minor": 5
}