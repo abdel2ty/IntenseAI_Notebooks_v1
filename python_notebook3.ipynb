{
  "cells": [
    {
      "cell_type": "markdown",
      "metadata": {
        "id": "view-in-github",
        "colab_type": "text"
      },
      "source": [
        "<a href=\"https://colab.research.google.com/github/abdel2ty/IntenseAI_Notebooks_v1/blob/main/python_notebook3.ipynb\" target=\"_parent\"><img src=\"https://colab.research.google.com/assets/colab-badge.svg\" alt=\"Open In Colab\"/></a>"
      ]
    },
    {
      "cell_type": "markdown",
      "id": "e1aa6fd3",
      "metadata": {
        "id": "e1aa6fd3"
      },
      "source": [
        "# Python Sessions"
      ]
    },
    {
      "cell_type": "markdown",
      "id": "c551e8c8",
      "metadata": {
        "id": "c551e8c8"
      },
      "source": [
        "### Defining a Function"
      ]
    },
    {
      "cell_type": "code",
      "execution_count": null,
      "id": "cec5ef10-03fa-4398-9cec-68057f8222d2",
      "metadata": {
        "tags": [],
        "id": "cec5ef10-03fa-4398-9cec-68057f8222d2",
        "outputId": "8d3339e7-bce1-4950-f369-337b4349845f"
      },
      "outputs": [
        {
          "name": "stdout",
          "output_type": "stream",
          "text": [
            "100\n"
          ]
        }
      ],
      "source": [
        "print(100)"
      ]
    },
    {
      "cell_type": "markdown",
      "id": "28781363-cca1-4782-804f-383152ef6db2",
      "metadata": {
        "id": "28781363-cca1-4782-804f-383152ef6db2"
      },
      "source": [
        "![image.png](attachment:3117dbda-c816-4a6f-9df8-d7ff8fc16c2d.png)"
      ]
    },
    {
      "cell_type": "code",
      "execution_count": null,
      "id": "be51f265",
      "metadata": {
        "tags": [],
        "id": "be51f265"
      },
      "outputs": [],
      "source": [
        "# function definition.\n",
        "def say_Hello():\n",
        "   print(\"Hello!\")\n",
        "   print(\"Hello!\")\n",
        "   print(\"Hello!\")"
      ]
    },
    {
      "cell_type": "code",
      "execution_count": null,
      "id": "fd156fd4-444f-4e1c-97bb-00962d78204a",
      "metadata": {
        "id": "fd156fd4-444f-4e1c-97bb-00962d78204a",
        "outputId": "89ddb334-ee07-4304-ed7e-459d8aa476a0"
      },
      "outputs": [
        {
          "name": "stdout",
          "output_type": "stream",
          "text": [
            "Hello!\n",
            "Hello!\n",
            "Hello!\n"
          ]
        }
      ],
      "source": [
        "# function call\n",
        "say_Hello()"
      ]
    },
    {
      "cell_type": "code",
      "execution_count": null,
      "id": "adba1f18",
      "metadata": {
        "tags": [],
        "id": "adba1f18"
      },
      "outputs": [],
      "source": [
        "# Passing Information to a Function\n",
        "def say_Hello(username):\n",
        "   \"\"\"Display a simple greeting.\"\"\"\n",
        "   print(f\"Hello, {username.title()}!\")"
      ]
    },
    {
      "cell_type": "code",
      "execution_count": null,
      "id": "1c94204b-7174-4c3f-9a86-af64f84a0165",
      "metadata": {
        "id": "1c94204b-7174-4c3f-9a86-af64f84a0165",
        "outputId": "3f30b3eb-bcde-4f41-bf1a-6836ccd11489"
      },
      "outputs": [
        {
          "name": "stdout",
          "output_type": "stream",
          "text": [
            "Hello, Ahmed!\n"
          ]
        }
      ],
      "source": [
        "say_Hello('ahmed')"
      ]
    },
    {
      "cell_type": "markdown",
      "id": "f2a10661",
      "metadata": {
        "id": "f2a10661"
      },
      "source": [
        "### Arguments and Parameters\n",
        "The variable username in the definition of say_Hello() is an example of a\n",
        "**parameter**, a piece of information the function needs to do its job.\n",
        "The **value 'ahmed' in say_Hello('ahmed') is an example of an argument**.\n",
        "An argument is a piece of information that’s passed from a function call to a function.\n"
      ]
    },
    {
      "cell_type": "code",
      "execution_count": null,
      "id": "d16d0e83",
      "metadata": {
        "tags": [],
        "id": "d16d0e83"
      },
      "outputs": [],
      "source": [
        "# Positional Arguments\n",
        "\n",
        "def describe_pet(animal_type, pet_name):\n",
        "\n",
        "   print(f\"\\nI have a {animal_type}.\")\n",
        "   print(f\"My {animal_type}'s name is {pet_name.title()}.\")\n"
      ]
    },
    {
      "cell_type": "code",
      "execution_count": null,
      "id": "64d80ee6-dee7-47c5-bd90-b216197bdcc3",
      "metadata": {
        "id": "64d80ee6-dee7-47c5-bd90-b216197bdcc3",
        "outputId": "4fd14101-175e-465c-da3e-1989b6d5afdc"
      },
      "outputs": [
        {
          "name": "stdout",
          "output_type": "stream",
          "text": [
            "\n",
            "I have a harry.\n",
            "My harry's name is Dog.\n"
          ]
        }
      ],
      "source": [
        "describe_pet('dog', 'harry')"
      ]
    },
    {
      "cell_type": "code",
      "execution_count": null,
      "id": "cc27acaf",
      "metadata": {
        "tags": [],
        "id": "cc27acaf",
        "outputId": "4e251030-8f87-4aa9-e10f-b0643194dd03"
      },
      "outputs": [
        {
          "name": "stdout",
          "output_type": "stream",
          "text": [
            "\n",
            "I have a dog.\n",
            "My dog's name is Harry.\n",
            "\n",
            "I have a cat.\n",
            "My cat's name is Lilly.\n",
            "\n",
            "I have a dog.\n",
            "My dog's name is Max.\n"
          ]
        }
      ],
      "source": [
        "# Multiple Function Calls\n",
        "\n",
        "describe_pet('dog', 'harry')\n",
        "describe_pet('cat', 'lilly')\n",
        "describe_pet('dog', 'max')"
      ]
    },
    {
      "cell_type": "code",
      "execution_count": null,
      "id": "f464ff7c",
      "metadata": {
        "tags": [],
        "id": "f464ff7c",
        "outputId": "892f5c1e-2383-4726-b0d0-c629b621c28e"
      },
      "outputs": [
        {
          "name": "stdout",
          "output_type": "stream",
          "text": [
            "\n",
            "I have a max.\n",
            "My max's name is Dog.\n"
          ]
        }
      ],
      "source": [
        "#Order Matters in Positional Arguments\n",
        "describe_pet('max','dog')\n"
      ]
    },
    {
      "cell_type": "code",
      "execution_count": null,
      "id": "20f75bb2",
      "metadata": {
        "tags": [],
        "id": "20f75bb2"
      },
      "outputs": [],
      "source": [
        "# Keyword Arguments\n",
        "def describe_pet(animal_type, pet_name):\n",
        "   \"\"\"Display information about a pet.\"\"\"\n",
        "   print(f\"\\nI have a {animal_type}.\")\n",
        "   print(f\"My {animal_type}'s name is {pet_name.title()}.\")\n",
        "\n",
        "\n"
      ]
    },
    {
      "cell_type": "code",
      "execution_count": null,
      "id": "ee095035-c2d0-4986-9ce1-458fef8dc2d8",
      "metadata": {
        "id": "ee095035-c2d0-4986-9ce1-458fef8dc2d8"
      },
      "outputs": [],
      "source": [
        "describe_pet('max','dog')"
      ]
    },
    {
      "cell_type": "code",
      "execution_count": null,
      "id": "be4082cc-714f-48de-af13-98718e347220",
      "metadata": {
        "id": "be4082cc-714f-48de-af13-98718e347220",
        "outputId": "ecf38be5-d404-4513-ea4e-83cfe197d4fb"
      },
      "outputs": [
        {
          "name": "stdout",
          "output_type": "stream",
          "text": [
            "\n",
            "I have a dog.\n",
            "My dog's name is Max.\n"
          ]
        }
      ],
      "source": [
        "# describe_pet(animal_type='dog', pet_name='max')\n",
        "# # or\n",
        "describe_pet( pet_name='max', animal_type='dog')"
      ]
    },
    {
      "cell_type": "code",
      "execution_count": null,
      "id": "cf5850fe",
      "metadata": {
        "tags": [],
        "id": "cf5850fe"
      },
      "outputs": [],
      "source": [
        "# Quiz\n",
        "def about_user(user_name, phone, age, address):\n",
        "   print(f\"\\nyour name is: {user_name.title()}.\")\n",
        "   print(f\"phone : {phone}\")\n",
        "   print(f\"Age : {age}\")\n",
        "   print(f\"Address : {address.title()}\")"
      ]
    },
    {
      "cell_type": "code",
      "execution_count": null,
      "id": "22fdd9d9-ce59-447c-b034-f7c50e21f99c",
      "metadata": {
        "id": "22fdd9d9-ce59-447c-b034-f7c50e21f99c",
        "outputId": "95dc74b8-b811-49ab-feb3-d67feea6d562"
      },
      "outputs": [
        {
          "name": "stdout",
          "output_type": "stream",
          "text": [
            "\n",
            "your name is: 2515151.\n",
            "phone : mahmoud talaat\n",
            "Age : 20\n",
            "Address : Egypt\n"
          ]
        }
      ],
      "source": [
        "about_user('2515151', 'mahmoud talaat',20,'egypt' )"
      ]
    },
    {
      "cell_type": "code",
      "execution_count": null,
      "id": "af5ebe6e-2cd7-4cca-9da7-0adc0fa27fa6",
      "metadata": {
        "id": "af5ebe6e-2cd7-4cca-9da7-0adc0fa27fa6",
        "outputId": "3c869ff6-990c-46f9-b08b-a9df9210daea"
      },
      "outputs": [
        {
          "name": "stdout",
          "output_type": "stream",
          "text": [
            "\n",
            "your name is: Mahmoud Hassan.\n",
            "phone : 2515151\n",
            "Age : 20\n",
            "Address : Egypt\n"
          ]
        }
      ],
      "source": [
        "about_user( phone='2515151',user_name='mahmoud hassan', age=20, address='egypt' )"
      ]
    },
    {
      "cell_type": "code",
      "execution_count": null,
      "id": "12715b78",
      "metadata": {
        "tags": [],
        "id": "12715b78"
      },
      "outputs": [],
      "source": [
        "# Default Values\n",
        "def about_user(user_name, phone,age = \"30\" ,address='Egypt'):\n",
        "   print(f\"\\nyour name is: {user_name.title()}.\")\n",
        "   print(f\"phone : {phone}\")\n",
        "   print(f\"Age : {age}\")\n",
        "   print(f\"Address : {address.title()}\")"
      ]
    },
    {
      "cell_type": "code",
      "execution_count": null,
      "id": "b3508f9a-589e-4ef3-980c-67b7afc52ff6",
      "metadata": {
        "id": "b3508f9a-589e-4ef3-980c-67b7afc52ff6",
        "outputId": "ca9c7283-519f-4b72-c92b-7cc60a3a0f12"
      },
      "outputs": [
        {
          "name": "stdout",
          "output_type": "stream",
          "text": [
            "\n",
            "your name is: Mahmoud Hassan.\n",
            "phone : 01054488544155\n",
            "Age : 20\n",
            "Address : Usa\n"
          ]
        }
      ],
      "source": [
        "about_user(user_name='mahmoud hassan', phone='01054488544155', age=20, address=\"USA\")"
      ]
    },
    {
      "cell_type": "code",
      "execution_count": null,
      "id": "0a2c2c92",
      "metadata": {
        "tags": [],
        "id": "0a2c2c92",
        "outputId": "03d72c32-b276-46bb-d21e-f285391c0949"
      },
      "outputs": [
        {
          "name": "stdout",
          "output_type": "stream",
          "text": [
            "\n",
            "your name is: Mahmoud.\n",
            "phone : 6516516\n",
            "Age : 20\n",
            "Address : Egypt\n"
          ]
        }
      ],
      "source": [
        "#OR\n",
        "\n",
        "def about_user(user_name, phone='6516516',age=20,address='Egypt'):\n",
        "   \"\"\"Display information about a pet.\"\"\"\n",
        "   print(f\"\\nyour name is: {user_name.title()}.\")\n",
        "   print(f\"phone : {phone}\")\n",
        "   print(f\"Age : {age}\")\n",
        "   print(f\"Address : {address.title()}\")\n",
        "\n",
        "about_user('mahmoud')\n"
      ]
    },
    {
      "cell_type": "code",
      "execution_count": null,
      "id": "198c7db8-efb9-4dd2-b025-392e03f5be1d",
      "metadata": {
        "tags": [],
        "id": "198c7db8-efb9-4dd2-b025-392e03f5be1d",
        "outputId": "aa68ec42-7400-4ca4-d6e1-c23111a32ed1"
      },
      "outputs": [
        {
          "name": "stdout",
          "output_type": "stream",
          "text": [
            "Ali Hassan\n",
            "None\n"
          ]
        }
      ],
      "source": [
        "def get_name(first_name, last_name):\n",
        "\n",
        "   full_name = f\"{first_name} {last_name}\"\n",
        "\n",
        "   print(full_name.title())\n",
        "\n",
        "x = get_name('ali', 'hassan')\n",
        "print(x)"
      ]
    },
    {
      "cell_type": "code",
      "execution_count": null,
      "id": "36e68982-9e2e-4c83-91f1-63ae9ff1ce3d",
      "metadata": {
        "id": "36e68982-9e2e-4c83-91f1-63ae9ff1ce3d",
        "outputId": "00bbf19e-a25d-4238-efd1-27a1736ef5e9"
      },
      "outputs": [
        {
          "name": "stdout",
          "output_type": "stream",
          "text": [
            "Ali Hassan\n"
          ]
        }
      ],
      "source": [
        " get_name('ali', 'hassan')\n"
      ]
    },
    {
      "cell_type": "code",
      "execution_count": null,
      "id": "c911e100",
      "metadata": {
        "tags": [],
        "id": "c911e100"
      },
      "outputs": [],
      "source": [
        "# Return Values\n",
        "\n",
        "def get_name(first_name, last_name):\n",
        "\n",
        "   full_name = f\"{first_name} {last_name}\"\n",
        "\n",
        "   return full_name.title()"
      ]
    },
    {
      "cell_type": "code",
      "execution_count": null,
      "id": "5e1d8f25-97a8-4a67-92a5-676f6e4c1d42",
      "metadata": {
        "id": "5e1d8f25-97a8-4a67-92a5-676f6e4c1d42",
        "outputId": "d8971bba-0cb4-42f6-99ad-921ea9656e6d"
      },
      "outputs": [
        {
          "name": "stdout",
          "output_type": "stream",
          "text": [
            "Ali Hassan\n"
          ]
        }
      ],
      "source": [
        "name_from_function = get_name('ali', 'hassan')\n",
        "print(name_from_function)"
      ]
    },
    {
      "cell_type": "code",
      "execution_count": null,
      "id": "7de1c96f-5c56-412f-92cd-e4b94c25dfc2",
      "metadata": {
        "id": "7de1c96f-5c56-412f-92cd-e4b94c25dfc2",
        "outputId": "dec7b09a-7d0e-4c53-ff7b-3c6aca16870a"
      },
      "outputs": [
        {
          "name": "stdout",
          "output_type": "stream",
          "text": [
            "Ali Hassan\n",
            "Ola Hassan\n"
          ]
        }
      ],
      "source": [
        "print(name_from_function)\n",
        "print(name_from_function_2)"
      ]
    },
    {
      "cell_type": "code",
      "execution_count": null,
      "id": "ecb24abe",
      "metadata": {
        "tags": [],
        "id": "ecb24abe",
        "outputId": "211e4899-6d8d-468f-ac38-1a3d46667893"
      },
      "outputs": [
        {
          "data": {
            "text/plain": [
              "'Ola Hassan'"
            ]
          },
          "execution_count": 51,
          "metadata": {},
          "output_type": "execute_result"
        }
      ],
      "source": [
        "name_from_function_2 = get_name('ola', 'hassan')\n",
        "name_from_function_2"
      ]
    },
    {
      "cell_type": "code",
      "execution_count": null,
      "id": "7cc56ba5-1d64-4c41-adec-d24f07e3bbea",
      "metadata": {
        "id": "7cc56ba5-1d64-4c41-adec-d24f07e3bbea"
      },
      "outputs": [],
      "source": [
        "def evenodd(num):\n",
        "    if num % 2 == 0:\n",
        "        print(\"Even Number\")\n",
        "    else:\n",
        "        print(\"Odd Number\")"
      ]
    },
    {
      "cell_type": "code",
      "execution_count": null,
      "id": "cd40a388-1f8f-487a-8be6-de5a3505bdcc",
      "metadata": {
        "id": "cd40a388-1f8f-487a-8be6-de5a3505bdcc",
        "outputId": "632d7c5f-9dd7-48bf-9c94-b6159e2269c4"
      },
      "outputs": [
        {
          "name": "stdout",
          "output_type": "stream",
          "text": [
            "Even Number\n"
          ]
        }
      ],
      "source": [
        "evenodd(4)"
      ]
    },
    {
      "cell_type": "code",
      "execution_count": null,
      "id": "8dd3bf04-e494-4d39-8fe1-d4a705ec8f65",
      "metadata": {
        "id": "8dd3bf04-e494-4d39-8fe1-d4a705ec8f65"
      },
      "outputs": [],
      "source": []
    },
    {
      "cell_type": "code",
      "execution_count": null,
      "id": "343b5f98-3084-42b3-ac55-7e7ec2e13296",
      "metadata": {
        "id": "343b5f98-3084-42b3-ac55-7e7ec2e13296"
      },
      "outputs": [],
      "source": []
    },
    {
      "cell_type": "code",
      "execution_count": null,
      "id": "394ab25c-befd-4462-86a3-6995f86f51ef",
      "metadata": {
        "id": "394ab25c-befd-4462-86a3-6995f86f51ef"
      },
      "outputs": [],
      "source": []
    },
    {
      "cell_type": "code",
      "execution_count": null,
      "id": "951a7ab9",
      "metadata": {
        "tags": [],
        "id": "951a7ab9",
        "outputId": "2208c911-6998-4ab1-9968-4b0b2f8f0c50"
      },
      "outputs": [
        {
          "name": "stdout",
          "output_type": "stream",
          "text": [
            "30\n"
          ]
        }
      ],
      "source": [
        "def abc(num1, num2):\n",
        "    number = num1 + num2\n",
        "    #print(number)\n",
        "    return number\n",
        "\n",
        "\n",
        "a = abc(10, 20)\n",
        "print(a)"
      ]
    },
    {
      "cell_type": "code",
      "execution_count": null,
      "id": "b16e71f8",
      "metadata": {
        "collapsed": true,
        "jupyter": {
          "outputs_hidden": true
        },
        "id": "b16e71f8"
      },
      "outputs": [],
      "source": []
    },
    {
      "cell_type": "markdown",
      "id": "2d668d1b",
      "metadata": {
        "jp-MarkdownHeadingCollapsed": true,
        "id": "2d668d1b"
      },
      "source": [
        "### Quiz\n",
        "Passing a List\n",
        "\n",
        "\n",
        "Print this output by passing a list of names to a function called say_hello_username()\n",
        "\n",
        "\n",
        "Hello, Ali!\n",
        "\n",
        "Hello, Samy!\n",
        "    \n",
        "Hello, Mahmoud!\n"
      ]
    },
    {
      "cell_type": "code",
      "execution_count": null,
      "id": "6055adcf",
      "metadata": {
        "collapsed": true,
        "jupyter": {
          "outputs_hidden": true
        },
        "id": "6055adcf"
      },
      "outputs": [],
      "source": []
    },
    {
      "cell_type": "code",
      "execution_count": null,
      "id": "d89fd665",
      "metadata": {
        "tags": [],
        "id": "d89fd665",
        "outputId": "c13a624c-4fb6-49ba-b2ea-9f6f5abba07e"
      },
      "outputs": [
        {
          "name": "stdout",
          "output_type": "stream",
          "text": [
            "Hello, Ali!\n",
            "Hello, Samy!\n",
            "Hello, Mahmoud!\n"
          ]
        }
      ],
      "source": [
        "#solution\n",
        "def say_hello_username(names):\n",
        "   \"\"\"Print a simple greeting to each user in the list.\"\"\"\n",
        "   for name in names:\n",
        "       msg = f\"Hello, {name.title()}!\"\n",
        "       print(msg)\n",
        "\n",
        "usernames = ['ali', 'samy', 'mahmoud']\n",
        "say_hello_username(usernames)\n"
      ]
    },
    {
      "cell_type": "code",
      "execution_count": null,
      "id": "5ac04153",
      "metadata": {
        "collapsed": true,
        "jupyter": {
          "outputs_hidden": true
        },
        "id": "5ac04153"
      },
      "outputs": [],
      "source": [
        "# Storing Your Functions in Modules\n",
        "# test.py\n",
        "\n",
        "def say_hello_username(names):\n",
        "   \"\"\"Print a simple greeting to each user in the list.\"\"\"\n",
        "   for name in names:\n",
        "       msg = f\"Hello, {name.title()}!\"\n",
        "       print(msg)"
      ]
    },
    {
      "cell_type": "code",
      "execution_count": null,
      "id": "b42dea2c",
      "metadata": {
        "id": "b42dea2c"
      },
      "outputs": [],
      "source": [
        "# say.py\n",
        "\n",
        "import test\n",
        "usernames = ['max', 'samy', 'mahmoud']\n",
        "test.say_hello_username(usernames)\n"
      ]
    },
    {
      "cell_type": "code",
      "execution_count": null,
      "id": "681bc50a",
      "metadata": {
        "tags": [],
        "id": "681bc50a"
      },
      "outputs": [],
      "source": [
        "with open('data.txt', 'r') as f:\n",
        "    data = f.read()"
      ]
    },
    {
      "cell_type": "markdown",
      "id": "7bdefd73",
      "metadata": {
        "id": "7bdefd73"
      },
      "source": [
        "open() takes a filename and a mode as its arguments. r opens the file in read only mode. To write data to a file, pass in w as an argument instead:\n"
      ]
    },
    {
      "cell_type": "code",
      "execution_count": null,
      "id": "14dee1c1",
      "metadata": {
        "tags": [],
        "id": "14dee1c1"
      },
      "outputs": [],
      "source": [
        "with open('data.txt', 'w') as f:\n",
        "    data = 'some data to be written to the file'\n",
        "    f.write(data)"
      ]
    },
    {
      "cell_type": "code",
      "execution_count": null,
      "id": "155348ab-36a9-446c-a538-36e7b1eb5196",
      "metadata": {
        "id": "155348ab-36a9-446c-a538-36e7b1eb5196"
      },
      "outputs": [],
      "source": []
    },
    {
      "cell_type": "markdown",
      "id": "b5c666c0",
      "metadata": {
        "id": "b5c666c0"
      },
      "source": [
        "# Great job!!"
      ]
    },
    {
      "cell_type": "code",
      "execution_count": null,
      "id": "9e2f045a",
      "metadata": {
        "id": "9e2f045a"
      },
      "outputs": [],
      "source": [
        "\n",
        "def myfunc1():\n",
        "    var2 = 10 # Variable with Local scope\n",
        "    print(var2)\n",
        "\n",
        "\n",
        "def myfunc2():\n",
        "    print(var2) # This will throw error because var2 has a local scope. Var2 is o\n",
        "\n"
      ]
    },
    {
      "cell_type": "code",
      "execution_count": null,
      "id": "e9eee5c0-eed4-4eb5-aaed-763ef2d71419",
      "metadata": {
        "id": "e9eee5c0-eed4-4eb5-aaed-763ef2d71419",
        "outputId": "70c38cd9-6067-48b0-fb73-727e4bba8a69"
      },
      "outputs": [
        {
          "name": "stdout",
          "output_type": "stream",
          "text": [
            "10\n"
          ]
        }
      ],
      "source": [
        "myfunc1()\n"
      ]
    },
    {
      "cell_type": "code",
      "execution_count": null,
      "id": "73f18c10-ebb1-48eb-8040-92a6b5245ed4",
      "metadata": {
        "id": "73f18c10-ebb1-48eb-8040-92a6b5245ed4",
        "outputId": "c757515c-417e-4d89-8002-565c370db695"
      },
      "outputs": [
        {
          "name": "stdout",
          "output_type": "stream",
          "text": [
            "10\n"
          ]
        }
      ],
      "source": [
        "myfunc2()"
      ]
    },
    {
      "cell_type": "code",
      "execution_count": null,
      "id": "1b488853-37a2-4505-996d-b04ab77878a6",
      "metadata": {
        "id": "1b488853-37a2-4505-996d-b04ab77878a6",
        "outputId": "f9787da7-6326-4167-90fd-501dc9152089"
      },
      "outputs": [
        {
          "name": "stdout",
          "output_type": "stream",
          "text": [
            "100\n",
            "100\n"
          ]
        }
      ],
      "source": [
        "var1 = 100 # Variable with Global scope.\n",
        "def myfunc():\n",
        " var1 = 99 # Local scope\n",
        " print(var1)\n",
        "\n",
        "myfunc()\n",
        "print(var1)"
      ]
    },
    {
      "cell_type": "code",
      "execution_count": null,
      "id": "fdce66f8-1e6b-4065-800d-98d05d7171b8",
      "metadata": {
        "id": "fdce66f8-1e6b-4065-800d-98d05d7171b8",
        "outputId": "e1c3c594-ff88-44b8-d922-86941b53f3ee"
      },
      "outputs": [
        {
          "name": "stdout",
          "output_type": "stream",
          "text": [
            "\"List1\" before calling the function:-  [11, 22, 33, 44, 55]\n",
            "\"List1\" after calling the function:-  [22, 33, 44, 55]\n"
          ]
        }
      ],
      "source": [
        "list1 = [11,22,33,44,55]\n",
        "def myfunc(list1):\n",
        " del list1[0]\n",
        "print('\"List1\" before calling the function:- ',list1)\n",
        "myfunc(list1) # Pass by reference (Any change in the parameter within the functi\n",
        "print('\"List1\" after calling the function:- ',list1)\n"
      ]
    },
    {
      "cell_type": "code",
      "execution_count": null,
      "id": "df0f9439-b887-4715-a329-cbdbf46a63fd",
      "metadata": {
        "id": "df0f9439-b887-4715-a329-cbdbf46a63fd",
        "outputId": "c4e9ed97-0d92-411e-a20b-6376db1f73fe"
      },
      "outputs": [
        {
          "name": "stdout",
          "output_type": "stream",
          "text": [
            "\"List1\" before calling the function:-  [11, 22, 33, 44, 55]\n",
            "\"List1\" after calling the function:-  [11, 22, 33, 44, 55, 100]\n"
          ]
        }
      ],
      "source": [
        "list1 = [11,22,33,44,55]\n",
        "def myfunc(list1):\n",
        " list1.append(100)\n",
        "print('\"List1\" before calling the function:- ',list1)\n",
        "myfunc(list1) # Pass by reference (Any change in the parameter within the functi\n",
        "print('\"List1\" after calling the function:- ',list1)\n"
      ]
    },
    {
      "cell_type": "code",
      "execution_count": null,
      "id": "ee591390-327f-4364-be08-72a8672a827b",
      "metadata": {
        "id": "ee591390-327f-4364-be08-72a8672a827b"
      },
      "outputs": [],
      "source": []
    },
    {
      "cell_type": "code",
      "execution_count": null,
      "id": "1ab93e10-b083-4c4a-b3af-316aff31720b",
      "metadata": {
        "id": "1ab93e10-b083-4c4a-b3af-316aff31720b",
        "outputId": "191db62a-4965-4f6f-ca73-dbe8e3606a0e"
      },
      "outputs": [
        {
          "data": {
            "text/plain": [
              "120"
            ]
          },
          "execution_count": 75,
          "metadata": {},
          "output_type": "execute_result"
        }
      ],
      "source": [
        "def factorial(num): # Calculate factorial of a number using recursive function\n",
        "     if num <=1 : # 4\n",
        "         return 1  # 4 * 3 * 2 * 1\n",
        "     else:\n",
        "         return num * factorial(num-1)\n",
        "\n",
        "factorial(5)"
      ]
    },
    {
      "cell_type": "code",
      "execution_count": null,
      "id": "c74675d8-2141-4207-b208-418c4875af59",
      "metadata": {
        "id": "c74675d8-2141-4207-b208-418c4875af59"
      },
      "outputs": [],
      "source": []
    }
  ],
  "metadata": {
    "kernelspec": {
      "display_name": "Python 3 (ipykernel)",
      "language": "python",
      "name": "python3"
    },
    "language_info": {
      "codemirror_mode": {
        "name": "ipython",
        "version": 3
      },
      "file_extension": ".py",
      "mimetype": "text/x-python",
      "name": "python",
      "nbconvert_exporter": "python",
      "pygments_lexer": "ipython3",
      "version": "3.13.5"
    },
    "colab": {
      "provenance": [],
      "include_colab_link": true
    }
  },
  "nbformat": 4,
  "nbformat_minor": 5
}