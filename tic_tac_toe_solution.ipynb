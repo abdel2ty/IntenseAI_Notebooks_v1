{
  "nbformat": 4,
  "nbformat_minor": 0,
  "metadata": {
    "colab": {
      "provenance": [],
      "include_colab_link": true
    },
    "kernelspec": {
      "name": "python3",
      "display_name": "Python 3"
    },
    "language_info": {
      "name": "python"
    }
  },
  "cells": [
    {
      "cell_type": "markdown",
      "metadata": {
        "id": "view-in-github",
        "colab_type": "text"
      },
      "source": [
        "<a href=\"https://colab.research.google.com/github/abdel2ty/IntenseAI_Notebooks_v1/blob/main/tic_tac_toe_solution.ipynb\" target=\"_parent\"><img src=\"https://colab.research.google.com/assets/colab-badge.svg\" alt=\"Open In Colab\"/></a>"
      ]
    },
    {
      "cell_type": "markdown",
      "source": [
        "\n",
        "<a href=\"https://www.zero-grad.com/\">\n",
        "         <img alt=\"Zero Grad\" src=\"https://lh3.googleusercontent.com/oEMY-qk_B2HW_Fponz1a3u1fLfo3NpO0VFjQKnVW8fH0v93NAWala5Kgp0nN2ubiyZdEMpwhv3Ynv7bXsB0RZ28YfEd_ZlRum75OHEu0-z7XwHfcD3sin7_SORLzg1gz52MsxD3b1WbxQWX1RdR4HP3jpbJTOuCiddl92UBcQH_x-Llx7_XuZuwb9ekN9vYnKsw6U1yL2df4IVrJEDySttzab9qlHvMO7sSekgS64jPVAmATjqXqlvrwM026dhrad-7nX-hfr2uKlUGPuo9xKzVo4EhbUP1-pKBQNPNHO6P0KcReg3NxbtKmWXRyg9LPX0xO-wwXWt9GhCcPXFV_BoY5eQXabCjR3mlr9SO01VgWplas-XF4337_JOm-bVkiaQjQca_N4Gg0hy26TvIGRnHEMIPSgudYPqhMnatoN4xAC715rP82r1svC0_qadXMZHu6D40YqWnY9ZE-iujr2p1_CetxmG-uY94UATy7o-SnxuPchG4QfZkiUgRMr8xNg86bQMuBxbCS_lOyVMwfqwbt2IunlDcZ8yyN_3SJFzFHuFOOjQolgGQrytI0mP1oTwba7je0RtBtCuTck1UCMMsZvMnJhCtWgMmuLoYTkSCzxMXbz0T3L2AClDouA_3dwM7z1gdm8Gq4v06T1KWFUs1adGNH5fuj-pUHEfW4drzzXgolPH5SehqhaNsqdMttCPUzNPIIEjwfULyQi7nlP-w-qydK82mdhdmjQhrprfoGtsPckJkI1Tur60uZI7nLkES5cE3tQrGualSNArRkkU8KN4tStZ0CkmqZNkAlMbfAJSYBD7tDxhGSg922AdLevSLJMTUyg6KuHoY30r7zH1Z8fE0R8aFZL2LJl54OU_tkXEdlFlSnZTOdB-PVTj-yagpt99SetLnQIX5SS_Vxc0BNPKjUZG0oEHYbIxkbZN1O7Rg78xe-thytngS0byfuaeP2X4NYjg29FIffnn72bAUs9Ii0N2mOpABLg1uQMN4MyAa1Mbd_=w1300-h200-no?authuser=1\" >\n",
        "      </a>"
      ],
      "metadata": {
        "id": "hMV-7TpxbEDG"
      }
    },
    {
      "cell_type": "markdown",
      "source": [
        "# Tic Tac Toe Project Description"
      ],
      "metadata": {
        "id": "PhpgbWHJhJOW"
      }
    },
    {
      "cell_type": "markdown",
      "source": [
        " **`(1) Create Empty board (3x3):`**\n",
        "\n",
        "  `1  2  3`\n",
        "\n",
        "  `4 5 6`\n",
        "\n",
        "  `7 8 9`\n",
        "\n",
        " **`(2) Show Board`**\n",
        "\n",
        " **`(3) Set Players Randomly ('X', 'O')`**\n",
        "\n",
        " **`(4) Take Input from Player`**\n",
        "\n",
        " **`(5) Check Full Board >> Draw`**\n",
        "\n",
        " **`(6) Check if Someone wins >> Finish`**"
      ],
      "metadata": {
        "id": "9XJyp9xehPBl"
      }
    },
    {
      "cell_type": "markdown",
      "source": [
        "# Solution"
      ],
      "metadata": {
        "id": "m2nflmTioFy_"
      }
    },
    {
      "cell_type": "markdown",
      "source": [
        "## Empty Board"
      ],
      "metadata": {
        "id": "GsE-z7Son-xm"
      }
    },
    {
      "cell_type": "code",
      "source": [
        "def create_empty_board():\n",
        "  board = [[1,2,3],\n",
        "           [4,5,6],\n",
        "           [7,8,9]]\n",
        "  for row in board:\n",
        "    for col in row:\n",
        "      print(col, end='\\t')\n",
        "    print('\\n')"
      ],
      "metadata": {
        "id": "YueCJNtPnndY"
      },
      "execution_count": null,
      "outputs": []
    },
    {
      "cell_type": "code",
      "source": [
        "create_empty_board()"
      ],
      "metadata": {
        "colab": {
          "base_uri": "https://localhost:8080/"
        },
        "id": "RMlzPMyHRIq7",
        "outputId": "beda709c-9c9d-4af5-dcb0-b452a6000739"
      },
      "execution_count": null,
      "outputs": [
        {
          "output_type": "stream",
          "name": "stdout",
          "text": [
            "1\t2\t3\t\n",
            "\n",
            "4\t5\t6\t\n",
            "\n",
            "7\t8\t9\t\n",
            "\n"
          ]
        }
      ]
    },
    {
      "cell_type": "code",
      "source": [
        "board = [[1,2,3],\n",
        "           [4,5,6],\n",
        "           [7,8,9]]  # position  6  > board[1][2]\n",
        "for row in board:\n",
        "    for col in row:\n",
        "        print(col, end='\\t')\n",
        "    print('\\n')"
      ],
      "metadata": {
        "colab": {
          "base_uri": "https://localhost:8080/"
        },
        "id": "onJIMjzLMR2e",
        "outputId": "3b76f062-2739-4565-874d-62f36f86314f"
      },
      "execution_count": null,
      "outputs": [
        {
          "output_type": "stream",
          "name": "stdout",
          "text": [
            "1\t2\t3\t\n",
            "\n",
            "4\t5\t6\t\n",
            "\n",
            "7\t8\t9\t\n",
            "\n"
          ]
        }
      ]
    },
    {
      "cell_type": "markdown",
      "source": [
        "## Show Board"
      ],
      "metadata": {
        "id": "qjKBWyq4f3Fr"
      }
    },
    {
      "cell_type": "code",
      "source": [
        "def show_board(board):\n",
        "  for row in board:\n",
        "    for col in row:\n",
        "      print(col, end='\\t')\n",
        "    print('\\n')"
      ],
      "metadata": {
        "id": "Bn6VqZo_Xze5"
      },
      "execution_count": null,
      "outputs": []
    },
    {
      "cell_type": "code",
      "source": [
        "board = [[1,2,3],[4,'X',6],[7,8,9]]\n",
        "show_board(board)"
      ],
      "metadata": {
        "colab": {
          "base_uri": "https://localhost:8080/"
        },
        "id": "Z7lIOpFfX3dU",
        "outputId": "4dae7f6e-3981-4283-88cd-119d8467677f"
      },
      "execution_count": null,
      "outputs": [
        {
          "output_type": "stream",
          "name": "stdout",
          "text": [
            "1\t2\t3\t\n",
            "\n",
            "4\tX\t6\t\n",
            "\n",
            "7\t8\t9\t\n",
            "\n"
          ]
        }
      ]
    },
    {
      "cell_type": "markdown",
      "source": [
        "## Set Players"
      ],
      "metadata": {
        "id": "ZaIwkooboJ5p"
      }
    },
    {
      "cell_type": "code",
      "source": [
        "def set_players():\n",
        "  from random import choice\n",
        "  player1 = choice(['X','O'])\n",
        "  if player1 == 'O':\n",
        "    player2 = 'X'\n",
        "  else:\n",
        "    player2 ='O'\n",
        "  return player1, player2"
      ],
      "metadata": {
        "id": "we7UkC6AhFwy"
      },
      "execution_count": null,
      "outputs": []
    },
    {
      "cell_type": "code",
      "source": [
        "set_players()"
      ],
      "metadata": {
        "colab": {
          "base_uri": "https://localhost:8080/"
        },
        "id": "3A_FDAHLWxNF",
        "outputId": "75cd6362-feea-4eff-ede8-a9b4aad62f89"
      },
      "execution_count": null,
      "outputs": [
        {
          "output_type": "execute_result",
          "data": {
            "text/plain": [
              "('O', 'X')"
            ]
          },
          "metadata": {},
          "execution_count": 14
        }
      ]
    },
    {
      "cell_type": "markdown",
      "source": [
        "## Take Input"
      ],
      "metadata": {
        "id": "VNl11PuZgDjc"
      }
    },
    {
      "cell_type": "code",
      "source": [
        "def take_input(board, player):\n",
        "  while True:\n",
        "    player_input = input('Please Enter a number between 1,9 represents an empty position:     ')\n",
        "    if player_input == '1' and board[0][0].isdigit() :\n",
        "      board[0][0] = player\n",
        "      break\n",
        "    elif player_input == '2' and board[0][1].isdigit():\n",
        "      board[0][1] = player\n",
        "      break\n",
        "    elif player_input == '3' and board[0][2].isdigit():\n",
        "      board[0][2] = player\n",
        "      break\n",
        "    elif player_input == '4' and board[1][0].isdigit():\n",
        "      board[1][0] = player\n",
        "      break\n",
        "    elif player_input == '5' and board[1][1].isdigit():\n",
        "      board[1][1] = player\n",
        "      break\n",
        "    elif player_input == '6' and board[1][2].isdigit():\n",
        "      board[1][2] = player\n",
        "      break\n",
        "    elif player_input == '7' and board[2][0].isdigit():\n",
        "      board[2][0] = player\n",
        "      break\n",
        "    elif player_input == '8' and board[2][1].isdigit():\n",
        "      board[2][1] = player\n",
        "      break\n",
        "    elif player_input == '9' and board[2][2].isdigit():\n",
        "      board[2][2] = player\n",
        "      break\n",
        "    else:\n",
        "      print('Invalid Choice')\n",
        "      continue\n",
        "  show_board(board)"
      ],
      "metadata": {
        "id": "pZAd299MY2fw"
      },
      "execution_count": null,
      "outputs": []
    },
    {
      "cell_type": "code",
      "source": [
        "board = [['1','2','3'],['4','X','6'],['7','8','9']]\n",
        "player ='O'\n",
        "\n",
        "take_input(board, player)\n"
      ],
      "metadata": {
        "colab": {
          "base_uri": "https://localhost:8080/"
        },
        "id": "bH2UI4GEcAVp",
        "outputId": "fd133c95-5a7d-42d6-bb6b-e66ddb8cf25d"
      },
      "execution_count": null,
      "outputs": [
        {
          "output_type": "stream",
          "name": "stdout",
          "text": [
            "Please Enter a number between 1,9 represents an empty position:     5\n",
            "Invalid Choice\n",
            "Please Enter a number between 1,9 represents an empty position:     4\n",
            "1\t2\t3\t\n",
            "\n",
            "O\tX\t6\t\n",
            "\n",
            "7\t8\t9\t\n",
            "\n"
          ]
        }
      ]
    },
    {
      "cell_type": "markdown",
      "source": [
        "## Check Full Board"
      ],
      "metadata": {
        "id": "mgCFF48jgVq7"
      }
    },
    {
      "cell_type": "code",
      "source": [
        "def check_full_board(board):\n",
        "  for row in board:\n",
        "    for col in row:\n",
        "      if col.isdigit():\n",
        "        return False\n",
        "  return True"
      ],
      "metadata": {
        "id": "obxUdjg_ThZi"
      },
      "execution_count": null,
      "outputs": []
    },
    {
      "cell_type": "code",
      "source": [
        "board = [['o','x','x'],['4','X','o'],['x','o','x']]\n",
        "check_full_board(board)"
      ],
      "metadata": {
        "colab": {
          "base_uri": "https://localhost:8080/"
        },
        "id": "TcLZt1PqS_9i",
        "outputId": "f6de8f6b-f947-4cfa-dd1c-31c3f34dab6c"
      },
      "execution_count": null,
      "outputs": [
        {
          "output_type": "execute_result",
          "data": {
            "text/plain": [
              "False"
            ]
          },
          "metadata": {},
          "execution_count": 20
        }
      ]
    },
    {
      "cell_type": "code",
      "source": [
        "board = [['o','x','x'],['4','X','o'],['x','o','x']]\n",
        "check_full_board(board)"
      ],
      "metadata": {
        "colab": {
          "base_uri": "https://localhost:8080/"
        },
        "id": "s475eihMkEqL",
        "outputId": "b75d126e-dc1b-4788-d3b2-bbe777f2ab67"
      },
      "execution_count": null,
      "outputs": [
        {
          "output_type": "execute_result",
          "data": {
            "text/plain": [
              "False"
            ]
          },
          "metadata": {},
          "execution_count": 90
        }
      ]
    },
    {
      "cell_type": "markdown",
      "source": [
        "## Check Win\n"
      ],
      "metadata": {
        "id": "OjfyXPCeoQM4"
      }
    },
    {
      "cell_type": "code",
      "source": [
        "def check_win(board):\n",
        "  return board[0][0] == board[0][1] == board[0][2] or \\\n",
        "         board[1][0] == board[1][1] == board[1][2] or \\\n",
        "         board[2][0] == board[2][1] == board[2][2] or \\\n",
        "         board[0][0] == board[1][0] == board[2][0] or \\\n",
        "         board[0][1] == board[1][1] == board[2][1] or \\\n",
        "         board[0][2] == board[1][2] == board[2][2] or \\\n",
        "         board[0][0] == board[1][1] == board[2][2] or \\\n",
        "         board[0][2] == board[1][1] == board[2][0]"
      ],
      "metadata": {
        "id": "NTxJ1qsJmhoG"
      },
      "execution_count": null,
      "outputs": []
    },
    {
      "cell_type": "code",
      "source": [
        "board = [['o','x','x'],['o','o','x'],['x','o','9']]\n",
        "show_board(board)\n",
        "check_win(board)"
      ],
      "metadata": {
        "colab": {
          "base_uri": "https://localhost:8080/"
        },
        "id": "E-mETiZEfZqp",
        "outputId": "470e84f5-8314-452b-ea78-a6f34d176023"
      },
      "execution_count": null,
      "outputs": [
        {
          "output_type": "stream",
          "name": "stdout",
          "text": [
            "o\tx\tx\t\n",
            "\n",
            "o\to\tx\t\n",
            "\n",
            "x\to\t9\t\n",
            "\n"
          ]
        },
        {
          "output_type": "execute_result",
          "data": {
            "text/plain": [
              "False"
            ]
          },
          "metadata": {},
          "execution_count": 24
        }
      ]
    },
    {
      "cell_type": "code",
      "source": [
        "board = [['o','x','o'],['o','o','x'],['x','o','x']]\n",
        "show_board(board)\n",
        "check_win(board)"
      ],
      "metadata": {
        "colab": {
          "base_uri": "https://localhost:8080/"
        },
        "id": "CmlQlsjZkIut",
        "outputId": "2d81b488-ba7e-43d5-aafc-4c498c60af89"
      },
      "execution_count": null,
      "outputs": [
        {
          "output_type": "stream",
          "name": "stdout",
          "text": [
            "o\tx\to\t\n",
            "\n",
            "o\to\tx\t\n",
            "\n",
            "x\to\tx\t\n",
            "\n"
          ]
        },
        {
          "output_type": "execute_result",
          "data": {
            "text/plain": [
              "False"
            ]
          },
          "metadata": {},
          "execution_count": 93
        }
      ]
    },
    {
      "cell_type": "markdown",
      "source": [
        "## Let's Play"
      ],
      "metadata": {
        "id": "uI9u-XGV2S7P"
      }
    },
    {
      "cell_type": "code",
      "source": [
        "def play():\n",
        "  player1, player2 = set_players()\n",
        "  print(\"Player1 :  \", player1)\n",
        "  print(\"Player2 :  \", player2, '\\n')\n",
        "  board = [['1','2','3'],['4','5','6'],['7','8','9']]\n",
        "  show_board(board)\n",
        "  while True:\n",
        "    for player in [player1, player2]:\n",
        "      print(f\"{player} turn\")\n",
        "      take_input(board, player)\n",
        "      if check_win(board):\n",
        "        print(f\"{player} wins\")\n",
        "        return\n",
        "      if check_full_board(board):\n",
        "        print('Game Finished. Draw!')\n",
        "        return"
      ],
      "metadata": {
        "id": "4nIAPOhSpksM"
      },
      "execution_count": null,
      "outputs": []
    },
    {
      "cell_type": "code",
      "source": [
        "play()"
      ],
      "metadata": {
        "colab": {
          "base_uri": "https://localhost:8080/"
        },
        "id": "7m9ENdZp1Ffg",
        "outputId": "3bda2592-e5e4-4149-8b8f-a42fc88c18e9"
      },
      "execution_count": null,
      "outputs": [
        {
          "output_type": "stream",
          "name": "stdout",
          "text": [
            "Player1 :   O\n",
            "Player2 :   X \n",
            "\n",
            "1\t2\t3\t\n",
            "\n",
            "4\t5\t6\t\n",
            "\n",
            "7\t8\t9\t\n",
            "\n",
            "O turn\n",
            "Please Enter a number between 1,9 represents an empty position:     1\n",
            "O\t2\t3\t\n",
            "\n",
            "4\t5\t6\t\n",
            "\n",
            "7\t8\t9\t\n",
            "\n",
            "X turn\n",
            "Please Enter a number between 1,9 represents an empty position:     2\n",
            "O\tX\t3\t\n",
            "\n",
            "4\t5\t6\t\n",
            "\n",
            "7\t8\t9\t\n",
            "\n",
            "O turn\n",
            "Please Enter a number between 1,9 represents an empty position:     3\n",
            "O\tX\tO\t\n",
            "\n",
            "4\t5\t6\t\n",
            "\n",
            "7\t8\t9\t\n",
            "\n",
            "X turn\n",
            "Please Enter a number between 1,9 represents an empty position:     4\n",
            "O\tX\tO\t\n",
            "\n",
            "X\t5\t6\t\n",
            "\n",
            "7\t8\t9\t\n",
            "\n",
            "O turn\n",
            "Please Enter a number between 1,9 represents an empty position:     5\n",
            "O\tX\tO\t\n",
            "\n",
            "X\tO\t6\t\n",
            "\n",
            "7\t8\t9\t\n",
            "\n",
            "X turn\n",
            "Please Enter a number between 1,9 represents an empty position:     6\n",
            "O\tX\tO\t\n",
            "\n",
            "X\tO\tX\t\n",
            "\n",
            "7\t8\t9\t\n",
            "\n",
            "O turn\n",
            "Please Enter a number between 1,9 represents an empty position:     8\n",
            "O\tX\tO\t\n",
            "\n",
            "X\tO\tX\t\n",
            "\n",
            "7\tO\t9\t\n",
            "\n",
            "X turn\n",
            "Please Enter a number between 1,9 represents an empty position:     7\n",
            "O\tX\tO\t\n",
            "\n",
            "X\tO\tX\t\n",
            "\n",
            "X\tO\t9\t\n",
            "\n",
            "O turn\n",
            "Please Enter a number between 1,9 represents an empty position:     88\n",
            "Invalid Choice\n",
            "Please Enter a number between 1,9 represents an empty position:     g\n",
            "Invalid Choice\n",
            "Please Enter a number between 1,9 represents an empty position:     6\n",
            "Invalid Choice\n",
            "Please Enter a number between 1,9 represents an empty position:     9\n",
            "O\tX\tO\t\n",
            "\n",
            "X\tO\tX\t\n",
            "\n",
            "X\tO\tO\t\n",
            "\n",
            "O wins\n"
          ]
        }
      ]
    },
    {
      "cell_type": "code",
      "source": [
        "def play():\n",
        "    player1, player2 = set_players()\n",
        "    print(\"Player 1:\", player1)\n",
        "    print(\"Player 2:\", player2, '\\n')\n",
        "\n",
        "    board = [['1','2','3'], ['4','5','6'], ['7','8','9']]\n",
        "    show_board(board)\n",
        "\n",
        "    for _ in range(9):  # At most 9 moves in Tic-Tac-Toe\n",
        "        for player in [player1, player2]:\n",
        "            print(f\"{player}'s turn\")\n",
        "            take_input(board, player)\n",
        "\n",
        "            if check_win(board):\n",
        "                print(f\"{player} wins!\")\n",
        "                return  # End the game\n",
        "\n",
        "            if check_full_board(board):\n",
        "                print(\"Game finished. It's a draw!\")\n",
        "                return  # End the game\n"
      ],
      "metadata": {
        "id": "O911u9mL3Akr"
      },
      "execution_count": null,
      "outputs": []
    }
  ]
}