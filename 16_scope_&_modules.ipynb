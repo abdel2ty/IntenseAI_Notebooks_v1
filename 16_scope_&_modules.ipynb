{
  "nbformat": 4,
  "nbformat_minor": 0,
  "metadata": {
    "colab": {
      "provenance": [],
      "include_colab_link": true
    },
    "kernelspec": {
      "name": "python3",
      "display_name": "Python 3"
    },
    "language_info": {
      "name": "python"
    }
  },
  "cells": [
    {
      "cell_type": "markdown",
      "metadata": {
        "id": "view-in-github",
        "colab_type": "text"
      },
      "source": [
        "<a href=\"https://colab.research.google.com/github/abdel2ty/IntenseAI_Notebooks_v1/blob/main/16_scope_%26_modules.ipynb\" target=\"_parent\"><img src=\"https://colab.research.google.com/assets/colab-badge.svg\" alt=\"Open In Colab\"/></a>"
      ]
    },
    {
      "cell_type": "markdown",
      "source": [
        "\n",
        "<a href=\"https://www.zero-grad.com/\">\n",
        "         <img alt=\"Zero Grad\" src=\"https://lh3.googleusercontent.com/oEMY-qk_B2HW_Fponz1a3u1fLfo3NpO0VFjQKnVW8fH0v93NAWala5Kgp0nN2ubiyZdEMpwhv3Ynv7bXsB0RZ28YfEd_ZlRum75OHEu0-z7XwHfcD3sin7_SORLzg1gz52MsxD3b1WbxQWX1RdR4HP3jpbJTOuCiddl92UBcQH_x-Llx7_XuZuwb9ekN9vYnKsw6U1yL2df4IVrJEDySttzab9qlHvMO7sSekgS64jPVAmATjqXqlvrwM026dhrad-7nX-hfr2uKlUGPuo9xKzVo4EhbUP1-pKBQNPNHO6P0KcReg3NxbtKmWXRyg9LPX0xO-wwXWt9GhCcPXFV_BoY5eQXabCjR3mlr9SO01VgWplas-XF4337_JOm-bVkiaQjQca_N4Gg0hy26TvIGRnHEMIPSgudYPqhMnatoN4xAC715rP82r1svC0_qadXMZHu6D40YqWnY9ZE-iujr2p1_CetxmG-uY94UATy7o-SnxuPchG4QfZkiUgRMr8xNg86bQMuBxbCS_lOyVMwfqwbt2IunlDcZ8yyN_3SJFzFHuFOOjQolgGQrytI0mP1oTwba7je0RtBtCuTck1UCMMsZvMnJhCtWgMmuLoYTkSCzxMXbz0T3L2AClDouA_3dwM7z1gdm8Gq4v06T1KWFUs1adGNH5fuj-pUHEfW4drzzXgolPH5SehqhaNsqdMttCPUzNPIIEjwfULyQi7nlP-w-qydK82mdhdmjQhrprfoGtsPckJkI1Tur60uZI7nLkES5cE3tQrGualSNArRkkU8KN4tStZ0CkmqZNkAlMbfAJSYBD7tDxhGSg922AdLevSLJMTUyg6KuHoY30r7zH1Z8fE0R8aFZL2LJl54OU_tkXEdlFlSnZTOdB-PVTj-yagpt99SetLnQIX5SS_Vxc0BNPKjUZG0oEHYbIxkbZN1O7Rg78xe-thytngS0byfuaeP2X4NYjg29FIffnn72bAUs9Ii0N2mOpABLg1uQMN4MyAa1Mbd_=w1300-h200-no?authuser=1\" >\n",
        "      </a>"
      ],
      "metadata": {
        "id": "hMV-7TpxbEDG"
      }
    },
    {
      "cell_type": "markdown",
      "metadata": {
        "id": "2ET_u9K9-frJ"
      },
      "source": [
        "# Part (3): Functions and Modules"
      ]
    },
    {
      "cell_type": "markdown",
      "metadata": {
        "id": "uwifsydNNfxU"
      },
      "source": [
        "### Scope"
      ]
    },
    {
      "cell_type": "code",
      "execution_count": null,
      "metadata": {
        "id": "Yt4MWW1FKOl5"
      },
      "outputs": [],
      "source": [
        "v=5\n",
        "\n",
        "def No_change_v(n):\n",
        "    v =n    # Local Change\n",
        "    return v"
      ]
    },
    {
      "cell_type": "code",
      "execution_count": null,
      "metadata": {
        "id": "b9CzvgS6PX9G",
        "outputId": "15fe0337-bac7-4d16-8b0a-6a7f63bda8ac"
      },
      "outputs": [
        {
          "data": {
            "text/plain": [
              "50"
            ]
          },
          "execution_count": 31,
          "metadata": {},
          "output_type": "execute_result"
        }
      ],
      "source": [
        "No_change_v(50)"
      ]
    },
    {
      "cell_type": "code",
      "execution_count": null,
      "metadata": {
        "id": "9Xc9xuR6PZ93",
        "outputId": "85bd04e9-a452-46ed-e79f-46a8f46fd659"
      },
      "outputs": [
        {
          "data": {
            "text/plain": [
              "5"
            ]
          },
          "execution_count": 32,
          "metadata": {},
          "output_type": "execute_result"
        }
      ],
      "source": [
        "v"
      ]
    },
    {
      "cell_type": "code",
      "execution_count": null,
      "metadata": {
        "id": "d5oQ-ccXPao1"
      },
      "outputs": [],
      "source": [
        "def change_v(n):\n",
        "    global v\n",
        "    v =n     # Global Change\n",
        "    return v"
      ]
    },
    {
      "cell_type": "code",
      "execution_count": null,
      "metadata": {
        "id": "RSZxAK_RQYGh",
        "outputId": "10e74b7e-e0a1-4d10-ce8c-3f3b314e4ea6"
      },
      "outputs": [
        {
          "data": {
            "text/plain": [
              "50"
            ]
          },
          "execution_count": 34,
          "metadata": {},
          "output_type": "execute_result"
        }
      ],
      "source": [
        "change_v(50)"
      ]
    },
    {
      "cell_type": "code",
      "execution_count": null,
      "metadata": {
        "id": "SP54yRSoQZjH",
        "outputId": "80c9e4ad-f40f-4428-bd64-569c20ada1d8"
      },
      "outputs": [
        {
          "data": {
            "text/plain": [
              "50"
            ]
          },
          "execution_count": 35,
          "metadata": {},
          "output_type": "execute_result"
        }
      ],
      "source": [
        "v"
      ]
    },
    {
      "cell_type": "code",
      "execution_count": null,
      "metadata": {
        "id": "zIcfyRLsQa3I",
        "outputId": "59d3b851-058a-4007-c40b-bd1305c49946"
      },
      "outputs": [
        {
          "name": "stdout",
          "output_type": "stream",
          "text": [
            "local x: 10\n",
            "global x: 5\n"
          ]
        }
      ],
      "source": [
        "x = 5\n",
        "\n",
        "def foo():\n",
        "\n",
        "    x = 10\n",
        "    print(\"local x:\", x)\n",
        "\n",
        "\n",
        "foo()\n",
        "print(\"global x:\", x)"
      ]
    },
    {
      "cell_type": "markdown",
      "metadata": {
        "id": "djmJkEZO6KpH"
      },
      "source": [
        "### Modules"
      ]
    },
    {
      "cell_type": "markdown",
      "metadata": {
        "id": "XXCVDUuCl3_b"
      },
      "source": [
        "My Module"
      ]
    },
    {
      "cell_type": "code",
      "execution_count": null,
      "metadata": {
        "id": "-GkSrqPSl5wp"
      },
      "outputs": [],
      "source": [
        "# My_Module.py\n",
        "def f1():\n",
        "    pass\n",
        "def f2():\n",
        "    pass\n",
        "def f3():\n",
        "    pass"
      ]
    },
    {
      "cell_type": "code",
      "execution_count": null,
      "metadata": {
        "id": "oD1IZUPnmG7C"
      },
      "outputs": [],
      "source": [
        "import My_Module"
      ]
    },
    {
      "cell_type": "code",
      "execution_count": null,
      "metadata": {
        "id": "OiVqSO8GmW2L"
      },
      "outputs": [],
      "source": [
        "from My_Module import f1, f3"
      ]
    },
    {
      "cell_type": "code",
      "execution_count": null,
      "metadata": {
        "id": "f6XtBC866NQk"
      },
      "outputs": [],
      "source": [
        "import math"
      ]
    },
    {
      "cell_type": "code",
      "execution_count": null,
      "metadata": {
        "id": "iVfjkhCa6OfQ"
      },
      "outputs": [],
      "source": [
        "math.sqrt(9)"
      ]
    },
    {
      "cell_type": "code",
      "execution_count": null,
      "metadata": {
        "id": "LY-0nMNc6Oiu"
      },
      "outputs": [],
      "source": [
        "math.pi"
      ]
    },
    {
      "cell_type": "code",
      "execution_count": null,
      "metadata": {
        "id": "jTYHJKrM6OlK"
      },
      "outputs": [],
      "source": [
        "math.e"
      ]
    },
    {
      "cell_type": "code",
      "execution_count": null,
      "metadata": {
        "id": "EP7rUxKhHorH"
      },
      "outputs": [],
      "source": [
        "math.\n"
      ]
    },
    {
      "cell_type": "markdown",
      "metadata": {
        "id": "5BNhghQkmvDc"
      },
      "source": [
        "## Congratulations Again and Again!\n"
      ]
    },
    {
      "cell_type": "markdown",
      "metadata": {
        "id": "0zzLsC3bmvDc"
      },
      "source": [
        "> ### By the end of Part (3), you have learnt:\n",
        "### (1) Built-in Functions\n",
        "### (2) Methods\n",
        "### (3) User-defined Function\n",
        "### (4) Args & **Kwargs\n",
        "### (3) Scope\n",
        "### (5) Modules"
      ]
    }
  ]
}