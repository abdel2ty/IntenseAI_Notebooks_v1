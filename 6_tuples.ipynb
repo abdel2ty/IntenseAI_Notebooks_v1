{
  "nbformat": 4,
  "nbformat_minor": 0,
  "metadata": {
    "colab": {
      "provenance": [],
      "include_colab_link": true
    },
    "kernelspec": {
      "name": "python3",
      "display_name": "Python 3"
    },
    "language_info": {
      "name": "python"
    }
  },
  "cells": [
    {
      "cell_type": "markdown",
      "metadata": {
        "id": "view-in-github",
        "colab_type": "text"
      },
      "source": [
        "<a href=\"https://colab.research.google.com/github/abdel2ty/IntenseAI_Notebooks_v1/blob/main/6_tuples.ipynb\" target=\"_parent\"><img src=\"https://colab.research.google.com/assets/colab-badge.svg\" alt=\"Open In Colab\"/></a>"
      ]
    },
    {
      "cell_type": "markdown",
      "source": [
        "\n",
        "<a href=\"https://www.zero-grad.com/\">\n",
        "         <img alt=\"Zero Grad\" src=\"https://lh3.googleusercontent.com/oEMY-qk_B2HW_Fponz1a3u1fLfo3NpO0VFjQKnVW8fH0v93NAWala5Kgp0nN2ubiyZdEMpwhv3Ynv7bXsB0RZ28YfEd_ZlRum75OHEu0-z7XwHfcD3sin7_SORLzg1gz52MsxD3b1WbxQWX1RdR4HP3jpbJTOuCiddl92UBcQH_x-Llx7_XuZuwb9ekN9vYnKsw6U1yL2df4IVrJEDySttzab9qlHvMO7sSekgS64jPVAmATjqXqlvrwM026dhrad-7nX-hfr2uKlUGPuo9xKzVo4EhbUP1-pKBQNPNHO6P0KcReg3NxbtKmWXRyg9LPX0xO-wwXWt9GhCcPXFV_BoY5eQXabCjR3mlr9SO01VgWplas-XF4337_JOm-bVkiaQjQca_N4Gg0hy26TvIGRnHEMIPSgudYPqhMnatoN4xAC715rP82r1svC0_qadXMZHu6D40YqWnY9ZE-iujr2p1_CetxmG-uY94UATy7o-SnxuPchG4QfZkiUgRMr8xNg86bQMuBxbCS_lOyVMwfqwbt2IunlDcZ8yyN_3SJFzFHuFOOjQolgGQrytI0mP1oTwba7je0RtBtCuTck1UCMMsZvMnJhCtWgMmuLoYTkSCzxMXbz0T3L2AClDouA_3dwM7z1gdm8Gq4v06T1KWFUs1adGNH5fuj-pUHEfW4drzzXgolPH5SehqhaNsqdMttCPUzNPIIEjwfULyQi7nlP-w-qydK82mdhdmjQhrprfoGtsPckJkI1Tur60uZI7nLkES5cE3tQrGualSNArRkkU8KN4tStZ0CkmqZNkAlMbfAJSYBD7tDxhGSg922AdLevSLJMTUyg6KuHoY30r7zH1Z8fE0R8aFZL2LJl54OU_tkXEdlFlSnZTOdB-PVTj-yagpt99SetLnQIX5SS_Vxc0BNPKjUZG0oEHYbIxkbZN1O7Rg78xe-thytngS0byfuaeP2X4NYjg29FIffnn72bAUs9Ii0N2mOpABLg1uQMN4MyAa1Mbd_=w1300-h200-no?authuser=1\" >\n",
        "      </a>"
      ],
      "metadata": {
        "id": "hMV-7TpxbEDG"
      }
    },
    {
      "cell_type": "markdown",
      "source": [
        "## (6) Tuples\n"
      ],
      "metadata": {
        "id": "aZ8_lbIwAe4u"
      }
    },
    {
      "cell_type": "markdown",
      "source": [
        "  >* an ordered sequence of elements, can mix element types\n",
        "  \n",
        "* represented with parentheses ()\n",
        "* very similar to lists, however, unlike lists they are __*immutable*__ .\n",
        "* You would use tuples to present things that shouldn't be changed, such as days of the week, or dates on a calendar."
      ],
      "metadata": {
        "id": "nTILOQqED5j7"
      }
    },
    {
      "cell_type": "code",
      "source": [
        "t=(1,2,3)"
      ],
      "metadata": {
        "id": "2dN-Fcl7D5Mu"
      },
      "execution_count": null,
      "outputs": []
    },
    {
      "cell_type": "code",
      "execution_count": null,
      "metadata": {
        "id": "S2Ga9SI3_URv",
        "colab": {
          "base_uri": "https://localhost:8080/",
          "height": 165
        },
        "outputId": "a32efac3-b650-4371-adc3-1b6d83f6c4f7"
      },
      "outputs": [
        {
          "output_type": "error",
          "ename": "AttributeError",
          "evalue": "ignored",
          "traceback": [
            "\u001b[0;31m---------------------------------------------------------------------------\u001b[0m",
            "\u001b[0;31mAttributeError\u001b[0m                            Traceback (most recent call last)",
            "\u001b[0;32m<ipython-input-2-1b86797e75d8>\u001b[0m in \u001b[0;36m<module>\u001b[0;34m\u001b[0m\n\u001b[0;32m----> 1\u001b[0;31m \u001b[0mt\u001b[0m\u001b[0;34m.\u001b[0m\u001b[0mappend\u001b[0m\u001b[0;34m(\u001b[0m\u001b[0;36m2\u001b[0m\u001b[0;34m)\u001b[0m\u001b[0;34m\u001b[0m\u001b[0;34m\u001b[0m\u001b[0m\n\u001b[0m",
            "\u001b[0;31mAttributeError\u001b[0m: 'tuple' object has no attribute 'append'"
          ]
        }
      ],
      "source": [
        "t.append(2)"
      ]
    },
    {
      "cell_type": "code",
      "source": [
        "tuple(range(2,20))"
      ],
      "metadata": {
        "id": "vJGuNzRkAhnw",
        "colab": {
          "base_uri": "https://localhost:8080/"
        },
        "outputId": "f865ebec-b87d-4130-b76e-596ce8f01486"
      },
      "execution_count": null,
      "outputs": [
        {
          "output_type": "execute_result",
          "data": {
            "text/plain": [
              "(2, 3, 4, 5, 6, 7, 8, 9, 10, 11, 12, 13, 14, 15, 16, 17, 18, 19)"
            ]
          },
          "metadata": {},
          "execution_count": 3
        }
      ]
    },
    {
      "cell_type": "code",
      "source": [
        "# Indexing\n",
        "t[2]"
      ],
      "metadata": {
        "colab": {
          "base_uri": "https://localhost:8080/"
        },
        "id": "QQrB11PdeQ-z",
        "outputId": "b833d2aa-ab41-4ea8-d71b-0c7c362d5ed6"
      },
      "execution_count": null,
      "outputs": [
        {
          "output_type": "execute_result",
          "data": {
            "text/plain": [
              "3"
            ]
          },
          "metadata": {},
          "execution_count": 4
        }
      ]
    },
    {
      "cell_type": "code",
      "source": [
        "len(t)"
      ],
      "metadata": {
        "colab": {
          "base_uri": "https://localhost:8080/"
        },
        "id": "M3KIQ6InAjI5",
        "outputId": "17695d96-eb57-495c-c956-15168c4dd97e"
      },
      "execution_count": null,
      "outputs": [
        {
          "output_type": "execute_result",
          "data": {
            "text/plain": [
              "3"
            ]
          },
          "metadata": {},
          "execution_count": 5
        }
      ]
    },
    {
      "cell_type": "code",
      "source": [
        "t[1]= 7"
      ],
      "metadata": {
        "colab": {
          "base_uri": "https://localhost:8080/",
          "height": 165
        },
        "id": "3iNT3CqREGgs",
        "outputId": "15569818-7174-459c-e5b6-4281ab39b072"
      },
      "execution_count": null,
      "outputs": [
        {
          "output_type": "error",
          "ename": "TypeError",
          "evalue": "ignored",
          "traceback": [
            "\u001b[0;31m---------------------------------------------------------------------------\u001b[0m",
            "\u001b[0;31mTypeError\u001b[0m                                 Traceback (most recent call last)",
            "\u001b[0;32m<ipython-input-6-7bc6894b4d47>\u001b[0m in \u001b[0;36m<module>\u001b[0;34m\u001b[0m\n\u001b[0;32m----> 1\u001b[0;31m \u001b[0mt\u001b[0m\u001b[0;34m[\u001b[0m\u001b[0;36m1\u001b[0m\u001b[0;34m]\u001b[0m\u001b[0;34m=\u001b[0m \u001b[0;36m7\u001b[0m\u001b[0;34m\u001b[0m\u001b[0;34m\u001b[0m\u001b[0m\n\u001b[0m",
            "\u001b[0;31mTypeError\u001b[0m: 'tuple' object does not support item assignment"
          ]
        }
      ]
    },
    {
      "cell_type": "code",
      "source": [
        "t + (4,)"
      ],
      "metadata": {
        "colab": {
          "base_uri": "https://localhost:8080/"
        },
        "id": "6MeZqWTcEIN3",
        "outputId": "aa1b5739-a9d4-4767-8fde-3dcdf7c32292"
      },
      "execution_count": null,
      "outputs": [
        {
          "output_type": "execute_result",
          "data": {
            "text/plain": [
              "(1, 2, 3, 4)"
            ]
          },
          "metadata": {},
          "execution_count": 7
        }
      ]
    },
    {
      "cell_type": "code",
      "source": [
        "t"
      ],
      "metadata": {
        "id": "BLaj88wuEIQy",
        "colab": {
          "base_uri": "https://localhost:8080/"
        },
        "outputId": "77b52687-b43b-4d39-ec56-1d8251634664"
      },
      "execution_count": null,
      "outputs": [
        {
          "output_type": "execute_result",
          "data": {
            "text/plain": [
              "(1, 2, 3)"
            ]
          },
          "metadata": {},
          "execution_count": 8
        }
      ]
    },
    {
      "cell_type": "code",
      "source": [
        "t += (4,)\n",
        "t"
      ],
      "metadata": {
        "colab": {
          "base_uri": "https://localhost:8080/"
        },
        "id": "NjcNgkNIegE6",
        "outputId": "0bb60120-45c9-4aff-81ba-38c75a1332f0"
      },
      "execution_count": null,
      "outputs": [
        {
          "output_type": "execute_result",
          "data": {
            "text/plain": [
              "(1, 2, 3, 4)"
            ]
          },
          "metadata": {},
          "execution_count": 9
        }
      ]
    },
    {
      "cell_type": "code",
      "source": [
        "x,y,z= (3,4,5)"
      ],
      "metadata": {
        "id": "x8cEY1Oxef7k"
      },
      "execution_count": null,
      "outputs": []
    },
    {
      "cell_type": "code",
      "source": [
        "x"
      ],
      "metadata": {
        "colab": {
          "base_uri": "https://localhost:8080/"
        },
        "id": "_5jrDR8ief1k",
        "outputId": "8da61d1a-7979-41d6-8e34-72fe867ef062"
      },
      "execution_count": null,
      "outputs": [
        {
          "output_type": "execute_result",
          "data": {
            "text/plain": [
              "3"
            ]
          },
          "metadata": {},
          "execution_count": 11
        }
      ]
    },
    {
      "cell_type": "code",
      "source": [
        "y"
      ],
      "metadata": {
        "colab": {
          "base_uri": "https://localhost:8080/"
        },
        "id": "Vn6GOLvYelIq",
        "outputId": "245b1a9d-17cd-4376-efed-e703e5ecba67"
      },
      "execution_count": null,
      "outputs": [
        {
          "output_type": "execute_result",
          "data": {
            "text/plain": [
              "4"
            ]
          },
          "metadata": {},
          "execution_count": 12
        }
      ]
    },
    {
      "cell_type": "code",
      "source": [
        "z"
      ],
      "metadata": {
        "colab": {
          "base_uri": "https://localhost:8080/"
        },
        "id": "9qd7Dyg4elFk",
        "outputId": "423541f9-5201-483d-abbf-807b3f475b6e"
      },
      "execution_count": null,
      "outputs": [
        {
          "output_type": "execute_result",
          "data": {
            "text/plain": [
              "5"
            ]
          },
          "metadata": {},
          "execution_count": 13
        }
      ]
    },
    {
      "cell_type": "code",
      "source": [
        "y,x=x,y   # very easy swaping ( no need for temp variable)"
      ],
      "metadata": {
        "id": "E3CRijeFepbI"
      },
      "execution_count": null,
      "outputs": []
    },
    {
      "cell_type": "code",
      "source": [
        "x"
      ],
      "metadata": {
        "colab": {
          "base_uri": "https://localhost:8080/"
        },
        "id": "8hebUhmImVtC",
        "outputId": "37d56117-aa4a-4901-bff9-52de7befedb4"
      },
      "execution_count": null,
      "outputs": [
        {
          "output_type": "execute_result",
          "data": {
            "text/plain": [
              "4"
            ]
          },
          "metadata": {},
          "execution_count": 16
        }
      ]
    },
    {
      "cell_type": "code",
      "source": [
        "y"
      ],
      "metadata": {
        "colab": {
          "base_uri": "https://localhost:8080/"
        },
        "id": "2MU3HnA4mXRN",
        "outputId": "0b006555-f6e3-4b46-95b7-b534e25ca9c3"
      },
      "execution_count": null,
      "outputs": [
        {
          "output_type": "execute_result",
          "data": {
            "text/plain": [
              "3"
            ]
          },
          "metadata": {},
          "execution_count": 17
        }
      ]
    },
    {
      "cell_type": "code",
      "source": [],
      "metadata": {
        "id": "vloM56r0mXvt"
      },
      "execution_count": null,
      "outputs": []
    }
  ]
}